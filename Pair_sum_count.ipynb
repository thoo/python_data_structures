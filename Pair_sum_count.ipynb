{
 "cells": [
  {
   "cell_type": "code",
   "execution_count": 1,
   "metadata": {
    "ExecuteTime": {
     "end_time": "2018-08-22T15:12:29.324384Z",
     "start_time": "2018-08-22T15:12:29.320851Z"
    }
   },
   "outputs": [],
   "source": [
    "import random as rd"
   ]
  },
  {
   "cell_type": "code",
   "execution_count": 7,
   "metadata": {
    "ExecuteTime": {
     "end_time": "2018-08-22T15:16:08.581596Z",
     "start_time": "2018-08-22T15:16:08.579014Z"
    }
   },
   "outputs": [],
   "source": [
    "arr=rd.sample(range(20),10)"
   ]
  },
  {
   "cell_type": "code",
   "execution_count": 51,
   "metadata": {
    "ExecuteTime": {
     "end_time": "2018-08-22T19:01:12.941430Z",
     "start_time": "2018-08-22T19:01:12.938590Z"
    }
   },
   "outputs": [],
   "source": [
    "def getPairsCount1(arr,total):\n",
    "    count =0\n",
    "    aset=set(arr)\n",
    "    for i in arr:\n",
    "        if (total-i) in aset:\n",
    "            count +=1\n",
    "    return int(count/2)"
   ]
  },
  {
   "cell_type": "code",
   "execution_count": 52,
   "metadata": {
    "ExecuteTime": {
     "end_time": "2018-08-22T19:01:13.751276Z",
     "start_time": "2018-08-22T19:01:13.747993Z"
    }
   },
   "outputs": [
    {
     "data": {
      "text/plain": [
       "3"
      ]
     },
     "execution_count": 52,
     "metadata": {},
     "output_type": "execute_result"
    }
   ],
   "source": [
    "getPairsCount1(arr,9)"
   ]
  },
  {
   "cell_type": "code",
   "execution_count": 36,
   "metadata": {
    "ExecuteTime": {
     "end_time": "2018-08-22T18:51:42.693746Z",
     "start_time": "2018-08-22T18:51:42.689787Z"
    }
   },
   "outputs": [],
   "source": [
    "# Python 3 implementation of simple method\n",
    "# to find count of pairs with given sum.\n",
    "import sys\n",
    " \n",
    "# Returns number of pairs in arr[0..n-1] \n",
    "# with sum equal to 'sum'\n",
    "def getPairsCount2(arr,sum):\n",
    "    n=len(arr) \n",
    "    m = [0] * 1000\n",
    "     \n",
    "    # Store counts of all elements in map m\n",
    "    for i in range(0, n):\n",
    "        m[arr[i]]\n",
    "        m[arr[i]] += 1\n",
    " \n",
    "    twice_count = 0\n",
    " \n",
    "    # Iterate through each element and increment\n",
    "    # the count (Notice that every pair is \n",
    "    # counted twice)\n",
    "    for i in range(0, n):\n",
    "     \n",
    "        twice_count += m[sum - arr[i]] \n",
    " \n",
    "        # if (arr[i], arr[i]) pair satisfies the\n",
    "        # condition, then we need to ensure that\n",
    "        # the count is  decreased by one such \n",
    "        # that the (arr[i], arr[i]) pair is not\n",
    "        # considered\n",
    "        if (sum - arr[i] == arr[i]):\n",
    "            twice_count -= 1\n",
    "     \n",
    "    # return the half of twice_count\n",
    "    return int(twice_count / 2) "
   ]
  },
  {
   "cell_type": "code",
   "execution_count": 53,
   "metadata": {
    "ExecuteTime": {
     "end_time": "2018-08-22T19:01:30.270531Z",
     "start_time": "2018-08-22T19:01:23.643328Z"
    }
   },
   "outputs": [
    {
     "name": "stdout",
     "output_type": "stream",
     "text": [
      "81.7 µs ± 639 ns per loop (mean ± std. dev. of 7 runs, 10000 loops each)\n"
     ]
    }
   ],
   "source": [
    "%timeit getPairsCount1(list(range(1000)),100)"
   ]
  },
  {
   "cell_type": "code",
   "execution_count": 38,
   "metadata": {
    "ExecuteTime": {
     "end_time": "2018-08-22T18:51:55.990796Z",
     "start_time": "2018-08-22T18:51:53.229601Z"
    }
   },
   "outputs": [
    {
     "name": "stdout",
     "output_type": "stream",
     "text": [
      "338 µs ± 4.13 µs per loop (mean ± std. dev. of 7 runs, 1000 loops each)\n"
     ]
    }
   ],
   "source": [
    "%timeit getPairsCount2(list(range(1000)),100)"
   ]
  },
  {
   "cell_type": "code",
   "execution_count": 39,
   "metadata": {
    "ExecuteTime": {
     "end_time": "2018-08-22T18:52:08.519396Z",
     "start_time": "2018-08-22T18:52:08.506050Z"
    }
   },
   "outputs": [],
   "source": [
    "%load_ext line_profiler"
   ]
  },
  {
   "cell_type": "code",
   "execution_count": 54,
   "metadata": {
    "ExecuteTime": {
     "end_time": "2018-08-22T19:44:23.198709Z",
     "start_time": "2018-08-22T19:44:23.192540Z"
    }
   },
   "outputs": [],
   "source": [
    "%lprun -f getPairsCount1 getPairsCount1(list(range(1000)),100) "
   ]
  },
  {
   "cell_type": "code",
   "execution_count": 47,
   "metadata": {
    "ExecuteTime": {
     "end_time": "2018-08-22T18:54:14.225350Z",
     "start_time": "2018-08-22T18:54:14.217804Z"
    }
   },
   "outputs": [],
   "source": [
    "%lprun -f getPairsCount2 getPairsCount2(list(range(1000)),100) "
   ]
  },
  {
   "cell_type": "code",
   "execution_count": null,
   "metadata": {},
   "outputs": [],
   "source": []
  }
 ],
 "metadata": {
  "kernelspec": {
   "display_name": "Python 3",
   "language": "python",
   "name": "python3"
  },
  "language_info": {
   "codemirror_mode": {
    "name": "ipython",
    "version": 3
   },
   "file_extension": ".py",
   "mimetype": "text/x-python",
   "name": "python",
   "nbconvert_exporter": "python",
   "pygments_lexer": "ipython3",
   "version": "3.6.4"
  },
  "toc": {
   "colors": {
    "hover_highlight": "#DAA520",
    "navigate_num": "#000000",
    "navigate_text": "#333333",
    "running_highlight": "#FF0000",
    "selected_highlight": "#FFD700",
    "sidebar_border": "#EEEEEE",
    "wrapper_background": "#FFFFFF"
   },
   "moveMenuLeft": true,
   "nav_menu": {
    "height": "4px",
    "width": "254px"
   },
   "navigate_menu": true,
   "number_sections": true,
   "sideBar": true,
   "threshold": 4,
   "toc_cell": false,
   "toc_section_display": "block",
   "toc_window_display": false,
   "widenNotebook": false
  }
 },
 "nbformat": 4,
 "nbformat_minor": 2
}
