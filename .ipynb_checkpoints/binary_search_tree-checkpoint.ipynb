{
 "cells": [
  {
   "cell_type": "code",
   "execution_count": 1,
   "metadata": {
    "ExecuteTime": {
     "end_time": "2018-08-28T17:47:02.719610Z",
     "start_time": "2018-08-28T17:47:02.715627Z"
    }
   },
   "outputs": [],
   "source": [
    "def bin_convert(n):\n",
    "    a=''\n",
    "    while n >=2:\n",
    "        a =str(n%2)+a\n",
    "        n = n//2\n",
    "    a=str(n)+a\n",
    "    return a"
   ]
  },
  {
   "cell_type": "code",
   "execution_count": 2,
   "metadata": {
    "ExecuteTime": {
     "end_time": "2018-08-28T17:47:07.366743Z",
     "start_time": "2018-08-28T17:47:07.362508Z"
    }
   },
   "outputs": [
    {
     "data": {
      "text/plain": [
       "'100'"
      ]
     },
     "execution_count": 2,
     "metadata": {},
     "output_type": "execute_result"
    }
   ],
   "source": [
    "bin_convert(4)"
   ]
  },
  {
   "cell_type": "code",
   "execution_count": 3,
   "metadata": {
    "ExecuteTime": {
     "end_time": "2018-08-28T17:47:20.486937Z",
     "start_time": "2018-08-28T17:47:20.483439Z"
    }
   },
   "outputs": [
    {
     "data": {
      "text/plain": [
       "'0b100'"
      ]
     },
     "execution_count": 3,
     "metadata": {},
     "output_type": "execute_result"
    }
   ],
   "source": [
    "bin(4)"
   ]
  },
  {
   "cell_type": "code",
   "execution_count": 4,
   "metadata": {
    "ExecuteTime": {
     "end_time": "2018-08-28T17:47:26.846311Z",
     "start_time": "2018-08-28T17:47:26.843261Z"
    }
   },
   "outputs": [
    {
     "data": {
      "text/plain": [
       "'0b1100100'"
      ]
     },
     "execution_count": 4,
     "metadata": {},
     "output_type": "execute_result"
    }
   ],
   "source": [
    "bin(100)"
   ]
  },
  {
   "cell_type": "code",
   "execution_count": 5,
   "metadata": {
    "ExecuteTime": {
     "end_time": "2018-08-28T17:47:34.142954Z",
     "start_time": "2018-08-28T17:47:34.139575Z"
    }
   },
   "outputs": [
    {
     "data": {
      "text/plain": [
       "'1100100'"
      ]
     },
     "execution_count": 5,
     "metadata": {},
     "output_type": "execute_result"
    }
   ],
   "source": [
    "bin_convert(100)"
   ]
  },
  {
   "cell_type": "code",
   "execution_count": 12,
   "metadata": {
    "ExecuteTime": {
     "end_time": "2018-08-28T17:53:37.333302Z",
     "start_time": "2018-08-28T17:53:37.330612Z"
    }
   },
   "outputs": [],
   "source": [
    "def bin_rec(n):\n",
    "    if n >= 2:\n",
    "        return str(bin_rec(n//2))+str(n%2)\n",
    "    else:\n",
    "        return n\n",
    "        "
   ]
  },
  {
   "cell_type": "code",
   "execution_count": 13,
   "metadata": {
    "ExecuteTime": {
     "end_time": "2018-08-28T17:53:37.919928Z",
     "start_time": "2018-08-28T17:53:37.916277Z"
    }
   },
   "outputs": [
    {
     "data": {
      "text/plain": [
       "'100'"
      ]
     },
     "execution_count": 13,
     "metadata": {},
     "output_type": "execute_result"
    }
   ],
   "source": [
    "bin_rec(4)"
   ]
  },
  {
   "cell_type": "code",
   "execution_count": 18,
   "metadata": {
    "ExecuteTime": {
     "end_time": "2018-08-28T17:54:39.518923Z",
     "start_time": "2018-08-28T17:54:35.858545Z"
    }
   },
   "outputs": [
    {
     "name": "stdout",
     "output_type": "stream",
     "text": [
      "4.51 µs ± 39.8 ns per loop (mean ± std. dev. of 7 runs, 100000 loops each)\n"
     ]
    }
   ],
   "source": [
    "%%timeit\n",
    "bin_rec(900)"
   ]
  },
  {
   "cell_type": "code",
   "execution_count": 17,
   "metadata": {
    "ExecuteTime": {
     "end_time": "2018-08-28T17:54:34.067674Z",
     "start_time": "2018-08-28T17:54:31.521880Z"
    }
   },
   "outputs": [
    {
     "name": "stdout",
     "output_type": "stream",
     "text": [
      "3.13 µs ± 75.8 ns per loop (mean ± std. dev. of 7 runs, 100000 loops each)\n"
     ]
    }
   ],
   "source": [
    "%%timeit\n",
    "bin_convert(900)"
   ]
  },
  {
   "cell_type": "code",
   "execution_count": 341,
   "metadata": {
    "ExecuteTime": {
     "end_time": "2018-09-06T19:14:05.320416Z",
     "start_time": "2018-09-06T19:14:05.304448Z"
    }
   },
   "outputs": [],
   "source": [
    "class Node:\n",
    "    def __init__(self,data):\n",
    "        self.data=data\n",
    "        self.left=None\n",
    "        self.right=None\n",
    "class bst:\n",
    "    def __init__(self,root=None):\n",
    "        self.root=root\n",
    "        \n",
    "        \n",
    "    def insert(self,data):\n",
    "        if self.root is None:\n",
    "            self.root=Node(data)\n",
    "            \n",
    "        else:\n",
    "            self._insert(self.root,data)\n",
    "            \n",
    "    def _insert(self,currentnode,data):\n",
    "        \n",
    "        if currentnode is None:\n",
    "            currentnode=Node(data)\n",
    "            \n",
    "        elif data <= currentnode.data:\n",
    "            if currentnode.left:\n",
    "                self._insert(currentnode.left,data)\n",
    "            else:\n",
    "                currentnode.left=Node(data)\n",
    "        else:\n",
    "            if currentnode.right:\n",
    "                self._insert(currentnode.right,data)\n",
    "            else:\n",
    "                currentnode.right=Node(data)\n",
    "    \n",
    "    def find(self,data):\n",
    "        if not self.root:\n",
    "            print(\"tree is empty\")\n",
    "            return None\n",
    "        else:\n",
    "            return self._find(self.root,data)\n",
    "    def _find(self,node,data):\n",
    "        while node:\n",
    "            if node.data == data:\n",
    "                return node\n",
    "            elif data < node.data:\n",
    "                node=node.left\n",
    "            else:\n",
    "                node=node.right\n",
    "        return None\n",
    "    \n",
    "    def findR(self,data):\n",
    "        if not self.root:\n",
    "            print(\"tree is Empty\")\n",
    "            return None\n",
    "        else:\n",
    "            return self._findR(self.root,data)\n",
    "        \n",
    "    def _findR(self,node,data):\n",
    "        if not node:\n",
    "            return None\n",
    "        elif data == node.data:\n",
    "            return node\n",
    "        elif data < node.data:\n",
    "            return self._findR(node.left,data)\n",
    "        else:\n",
    "            return self._findR(node.right,data)\n",
    "        \n",
    "    def delete(self,data):\n",
    "        if not self.root:\n",
    "            print('Tree is empty.')\n",
    "        else: \n",
    "            return self._delete(self.root,data)\n",
    "        \n",
    "    def findMinNode(self,node):\n",
    "        while node:\n",
    "            if node.left:\n",
    "                node=node.left\n",
    "            else:\n",
    "                return node\n",
    "    def _delete(self,node,data):\n",
    "#         while node:\n",
    "#             if data < node.data:\n",
    "#                 node=node.left\n",
    "#             if data > node.data:\n",
    "#                 node = node.right\n",
    "                \n",
    "#             else:\n",
    "#                 if not node.left:\n",
    "#                     temp=node.right\n",
    "#                     node=None\n",
    "#                     return temp\n",
    "#                 elif not node.right:\n",
    "#                     temp=node.left\n",
    "#                     node=None\n",
    "#                     return temp\n",
    "#                 temp = self.findMinNode(node.right)\n",
    "#                 node.data=temp.data\n",
    "#                 node = node.right\n",
    "#         return node          \n",
    "        if data < node.data:\n",
    "                node.left=self._delete(node.left,data)\n",
    "        elif data > node.data:\n",
    "                node.right=self._delete(node.right,data)\n",
    "                    \n",
    "        else:\n",
    "            if not node.left:\n",
    "                temp=node.right\n",
    "                node=None \n",
    "                return temp\n",
    "            elif not node.right:\n",
    "                temp=node.left\n",
    "                node=None\n",
    "                return temp\n",
    "                    \n",
    "            temp=self.findMinNode(node.right)\n",
    "            node.data=temp.data\n",
    "                    \n",
    "            node.right=self._delete(node.right,temp.data)\n",
    "                    \n",
    "        return node\n",
    "                \n",
    "                    \n",
    "                    \n",
    "            "
   ]
  },
  {
   "cell_type": "code",
   "execution_count": 342,
   "metadata": {
    "ExecuteTime": {
     "end_time": "2018-09-06T19:14:06.461020Z",
     "start_time": "2018-09-06T19:14:06.458645Z"
    }
   },
   "outputs": [],
   "source": [
    "test=bst()"
   ]
  },
  {
   "cell_type": "code",
   "execution_count": 137,
   "metadata": {
    "ExecuteTime": {
     "end_time": "2018-09-05T17:39:22.399093Z",
     "start_time": "2018-09-05T17:39:22.387905Z"
    }
   },
   "outputs": [
    {
     "name": "stdout",
     "output_type": "stream",
     "text": [
      "[4, 2, 5, 3, 10, 1, 8, 9]\n"
     ]
    }
   ],
   "source": [
    "import random as rd\n",
    "alist=rd.sample(range(1,11),8)\n",
    "print(alist)"
   ]
  },
  {
   "cell_type": "code",
   "execution_count": 343,
   "metadata": {
    "ExecuteTime": {
     "end_time": "2018-09-06T19:14:07.949482Z",
     "start_time": "2018-09-06T19:14:07.947120Z"
    }
   },
   "outputs": [],
   "source": [
    "for  i in alist:\n",
    "    test.insert(i)"
   ]
  },
  {
   "cell_type": "code",
   "execution_count": 344,
   "metadata": {
    "ExecuteTime": {
     "end_time": "2018-09-06T19:14:09.015092Z",
     "start_time": "2018-09-06T19:14:09.011868Z"
    }
   },
   "outputs": [
    {
     "data": {
      "text/plain": [
       "<__main__.Node at 0x151da40048>"
      ]
     },
     "execution_count": 344,
     "metadata": {},
     "output_type": "execute_result"
    }
   ],
   "source": [
    "test.find(4)"
   ]
  },
  {
   "cell_type": "code",
   "execution_count": 318,
   "metadata": {
    "ExecuteTime": {
     "end_time": "2018-09-06T17:47:41.631895Z",
     "start_time": "2018-09-06T17:47:41.628610Z"
    }
   },
   "outputs": [
    {
     "data": {
      "text/plain": [
       "<__main__.Node at 0x151da48cc0>"
      ]
     },
     "execution_count": 318,
     "metadata": {},
     "output_type": "execute_result"
    }
   ],
   "source": [
    "test.find(10)"
   ]
  },
  {
   "cell_type": "code",
   "execution_count": 319,
   "metadata": {
    "ExecuteTime": {
     "end_time": "2018-09-06T17:47:42.654911Z",
     "start_time": "2018-09-06T17:47:42.651553Z"
    }
   },
   "outputs": [
    {
     "data": {
      "text/plain": [
       "<__main__.Node at 0x151da48ef0>"
      ]
     },
     "execution_count": 319,
     "metadata": {},
     "output_type": "execute_result"
    }
   ],
   "source": [
    "test.findR(1)"
   ]
  },
  {
   "cell_type": "code",
   "execution_count": 345,
   "metadata": {
    "ExecuteTime": {
     "end_time": "2018-09-06T19:14:11.375420Z",
     "start_time": "2018-09-06T19:14:11.373069Z"
    }
   },
   "outputs": [],
   "source": [
    "test.find(11)"
   ]
  },
  {
   "cell_type": "code",
   "execution_count": 346,
   "metadata": {
    "ExecuteTime": {
     "end_time": "2018-09-06T19:14:11.985815Z",
     "start_time": "2018-09-06T19:14:11.982476Z"
    }
   },
   "outputs": [
    {
     "data": {
      "text/plain": [
       "<__main__.Node at 0x151da40048>"
      ]
     },
     "execution_count": 346,
     "metadata": {},
     "output_type": "execute_result"
    }
   ],
   "source": [
    "test.delete(1)"
   ]
  },
  {
   "cell_type": "code",
   "execution_count": 347,
   "metadata": {
    "ExecuteTime": {
     "end_time": "2018-09-06T19:14:13.775937Z",
     "start_time": "2018-09-06T19:14:13.772437Z"
    }
   },
   "outputs": [
    {
     "name": "stdout",
     "output_type": "stream",
     "text": [
      "4 2 3 5 10 8 9 "
     ]
    }
   ],
   "source": [
    "PerOrder(test.root)"
   ]
  },
  {
   "cell_type": "code",
   "execution_count": 306,
   "metadata": {
    "ExecuteTime": {
     "end_time": "2018-09-06T17:41:03.359066Z",
     "start_time": "2018-09-06T17:41:03.353612Z"
    }
   },
   "outputs": [
    {
     "data": {
      "text/plain": [
       "<__main__.Node at 0x151da1e710>"
      ]
     },
     "execution_count": 306,
     "metadata": {},
     "output_type": "execute_result"
    }
   ],
   "source": [
    "a"
   ]
  },
  {
   "cell_type": "code",
   "execution_count": null,
   "metadata": {
    "ExecuteTime": {
     "end_time": "2018-09-05T16:18:41.378101Z",
     "start_time": "2018-09-05T16:18:41.375664Z"
    }
   },
   "outputs": [],
   "source": []
  },
  {
   "cell_type": "code",
   "execution_count": 284,
   "metadata": {
    "ExecuteTime": {
     "end_time": "2018-09-06T16:36:07.616185Z",
     "start_time": "2018-09-06T16:36:07.610685Z"
    }
   },
   "outputs": [],
   "source": [
    "def PerOrder(root):\n",
    "    if root:\n",
    "        print(root.data,end=\" \")\n",
    "        PerOrder(root.left)\n",
    "        PerOrder(root.right)"
   ]
  },
  {
   "cell_type": "code",
   "execution_count": 151,
   "metadata": {
    "ExecuteTime": {
     "end_time": "2018-09-05T19:00:14.986818Z",
     "start_time": "2018-09-05T19:00:14.979594Z"
    }
   },
   "outputs": [
    {
     "name": "stdout",
     "output_type": "stream",
     "text": [
      "4 2 1 3 5 10 8 9 "
     ]
    }
   ],
   "source": [
    "PerOrder(test.root)"
   ]
  },
  {
   "cell_type": "code",
   "execution_count": 24,
   "metadata": {
    "ExecuteTime": {
     "end_time": "2018-09-05T15:45:09.670488Z",
     "start_time": "2018-09-05T15:45:09.668438Z"
    }
   },
   "outputs": [],
   "source": [
    "a.left"
   ]
  },
  {
   "cell_type": "code",
   "execution_count": 47,
   "metadata": {
    "ExecuteTime": {
     "end_time": "2018-09-05T15:59:38.819199Z",
     "start_time": "2018-09-05T15:59:38.815996Z"
    }
   },
   "outputs": [
    {
     "data": {
      "text/plain": [
       "6"
      ]
     },
     "execution_count": 47,
     "metadata": {},
     "output_type": "execute_result"
    }
   ],
   "source": [
    "test.root.data"
   ]
  },
  {
   "cell_type": "code",
   "execution_count": 49,
   "metadata": {
    "ExecuteTime": {
     "end_time": "2018-09-05T15:59:53.835183Z",
     "start_time": "2018-09-05T15:59:53.832858Z"
    }
   },
   "outputs": [],
   "source": [
    "test.root.left"
   ]
  },
  {
   "cell_type": "code",
   "execution_count": 141,
   "metadata": {
    "ExecuteTime": {
     "end_time": "2018-09-05T17:50:14.558912Z",
     "start_time": "2018-09-05T17:50:14.553656Z"
    }
   },
   "outputs": [],
   "source": [
    "def InOrder(root):\n",
    "    if root:\n",
    "        InOrder(root.left)\n",
    "        print(root.data,end=\" \")\n",
    "        InOrder(root.right)"
   ]
  },
  {
   "cell_type": "code",
   "execution_count": 142,
   "metadata": {
    "ExecuteTime": {
     "end_time": "2018-09-05T17:50:24.557090Z",
     "start_time": "2018-09-05T17:50:24.553112Z"
    }
   },
   "outputs": [
    {
     "name": "stdout",
     "output_type": "stream",
     "text": [
      "1 2 3 4 5 8 9 10 "
     ]
    }
   ],
   "source": [
    "InOrder(test.root)"
   ]
  },
  {
   "cell_type": "code",
   "execution_count": 143,
   "metadata": {
    "ExecuteTime": {
     "end_time": "2018-09-05T18:02:29.886223Z",
     "start_time": "2018-09-05T18:02:29.882254Z"
    }
   },
   "outputs": [],
   "source": [
    "def PostOrder(root):\n",
    "    if root:\n",
    "        PostOrder(root.left)\n",
    "        PostOrder(root.right)\n",
    "        print(root.data,end=\" \")"
   ]
  },
  {
   "cell_type": "code",
   "execution_count": 144,
   "metadata": {
    "ExecuteTime": {
     "end_time": "2018-09-05T18:02:37.301728Z",
     "start_time": "2018-09-05T18:02:37.297411Z"
    }
   },
   "outputs": [
    {
     "name": "stdout",
     "output_type": "stream",
     "text": [
      "1 3 2 9 8 10 5 4 "
     ]
    }
   ],
   "source": [
    "PostOrder(test.root)"
   ]
  },
  {
   "cell_type": "code",
   "execution_count": 190,
   "metadata": {
    "ExecuteTime": {
     "end_time": "2018-09-06T00:54:13.035858Z",
     "start_time": "2018-09-06T00:54:13.031213Z"
    }
   },
   "outputs": [
    {
     "name": "stdout",
     "output_type": "stream",
     "text": [
      "right\n",
      "right\n",
      "True\n"
     ]
    }
   ],
   "source": [
    "test.find(10)"
   ]
  },
  {
   "cell_type": "code",
   "execution_count": 195,
   "metadata": {
    "ExecuteTime": {
     "end_time": "2018-09-06T00:56:34.499323Z",
     "start_time": "2018-09-06T00:56:34.486234Z"
    }
   },
   "outputs": [
    {
     "name": "stdout",
     "output_type": "stream",
     "text": [
      "True\n"
     ]
    },
    {
     "ename": "NameError",
     "evalue": "name 'root' is not defined",
     "output_type": "error",
     "traceback": [
      "\u001b[0;31m---------------------------------------------------------------------------\u001b[0m",
      "\u001b[0;31mNameError\u001b[0m                                 Traceback (most recent call last)",
      "\u001b[0;32m<ipython-input-195-a91a1b5790f3>\u001b[0m in \u001b[0;36m<module>\u001b[0;34m()\u001b[0m\n\u001b[0;32m----> 1\u001b[0;31m \u001b[0mtest\u001b[0m\u001b[0;34m.\u001b[0m\u001b[0mfind\u001b[0m\u001b[0;34m(\u001b[0m\u001b[0;36m4\u001b[0m\u001b[0;34m)\u001b[0m\u001b[0;34m\u001b[0m\u001b[0m\n\u001b[0m",
      "\u001b[0;32m<ipython-input-192-1740b5f5dbfc>\u001b[0m in \u001b[0;36mfind\u001b[0;34m(self, data)\u001b[0m\n\u001b[1;32m     38\u001b[0m         \u001b[0;32melif\u001b[0m \u001b[0mself\u001b[0m\u001b[0;34m.\u001b[0m\u001b[0mroot\u001b[0m\u001b[0;34m.\u001b[0m\u001b[0mdata\u001b[0m \u001b[0;34m==\u001b[0m \u001b[0mdata\u001b[0m\u001b[0;34m:\u001b[0m\u001b[0;34m\u001b[0m\u001b[0m\n\u001b[1;32m     39\u001b[0m             \u001b[0mprint\u001b[0m\u001b[0;34m(\u001b[0m\u001b[0;34m\"True\"\u001b[0m\u001b[0;34m)\u001b[0m\u001b[0;34m\u001b[0m\u001b[0m\n\u001b[0;32m---> 40\u001b[0;31m             \u001b[0;32mreturn\u001b[0m \u001b[0mroot\u001b[0m\u001b[0;34m\u001b[0m\u001b[0m\n\u001b[0m\u001b[1;32m     41\u001b[0m         \u001b[0;32melse\u001b[0m\u001b[0;34m:\u001b[0m\u001b[0;34m\u001b[0m\u001b[0m\n\u001b[1;32m     42\u001b[0m             \u001b[0;32mreturn\u001b[0m \u001b[0mself\u001b[0m\u001b[0;34m.\u001b[0m\u001b[0m_find\u001b[0m\u001b[0;34m(\u001b[0m\u001b[0mself\u001b[0m\u001b[0;34m.\u001b[0m\u001b[0mroot\u001b[0m\u001b[0;34m,\u001b[0m\u001b[0mdata\u001b[0m\u001b[0;34m)\u001b[0m\u001b[0;34m\u001b[0m\u001b[0m\n",
      "\u001b[0;31mNameError\u001b[0m: name 'root' is not defined"
     ]
    }
   ],
   "source": [
    "test.find(4)"
   ]
  },
  {
   "cell_type": "code",
   "execution_count": null,
   "metadata": {},
   "outputs": [],
   "source": []
  }
 ],
 "metadata": {
  "kernelspec": {
   "display_name": "Python 3",
   "language": "python",
   "name": "python3"
  },
  "language_info": {
   "codemirror_mode": {
    "name": "ipython",
    "version": 3
   },
   "file_extension": ".py",
   "mimetype": "text/x-python",
   "name": "python",
   "nbconvert_exporter": "python",
   "pygments_lexer": "ipython3",
   "version": "3.6.4"
  },
  "toc": {
   "colors": {
    "hover_highlight": "#DAA520",
    "navigate_num": "#000000",
    "navigate_text": "#333333",
    "running_highlight": "#FF0000",
    "selected_highlight": "#FFD700",
    "sidebar_border": "#EEEEEE",
    "wrapper_background": "#FFFFFF"
   },
   "moveMenuLeft": true,
   "nav_menu": {
    "height": "4px",
    "width": "254px"
   },
   "navigate_menu": true,
   "number_sections": true,
   "sideBar": true,
   "threshold": 4,
   "toc_cell": false,
   "toc_section_display": "block",
   "toc_window_display": false,
   "widenNotebook": false
  }
 },
 "nbformat": 4,
 "nbformat_minor": 2
}
