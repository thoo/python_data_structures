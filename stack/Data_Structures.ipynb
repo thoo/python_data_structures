{
 "cells": [
  {
   "cell_type": "markdown",
   "metadata": {},
   "source": [
    "# Stack "
   ]
  },
  {
   "cell_type": "code",
   "execution_count": 1,
   "metadata": {
    "ExecuteTime": {
     "end_time": "2018-08-07T03:44:47.652855Z",
     "start_time": "2018-08-07T03:44:47.646142Z"
    }
   },
   "outputs": [],
   "source": [
    "class stack():\n",
    "    def __init__(self):\n",
    "        self.items=[]\n",
    "        \n",
    "    def isEmpty(self):\n",
    "        return self.items == []\n",
    "    \n",
    "    def push(self,item):\n",
    "        return self.items.append(item)\n",
    "    \n",
    "    def pop(self):\n",
    "        return self.items.pop()\n",
    "    \n",
    "    def peek(self):\n",
    "        return self.items[-1]\n",
    "    \n",
    "    def size(self):\n",
    "        return len(self.items)\n",
    "    \n",
    "    \n",
    "        "
   ]
  },
  {
   "cell_type": "code",
   "execution_count": 2,
   "metadata": {
    "ExecuteTime": {
     "end_time": "2018-08-07T03:45:10.614438Z",
     "start_time": "2018-08-07T03:45:10.612336Z"
    }
   },
   "outputs": [],
   "source": [
    "test=stack()"
   ]
  },
  {
   "cell_type": "code",
   "execution_count": 3,
   "metadata": {
    "ExecuteTime": {
     "end_time": "2018-08-07T03:45:23.511728Z",
     "start_time": "2018-08-07T03:45:23.509351Z"
    }
   },
   "outputs": [],
   "source": [
    "test.push([1,3])"
   ]
  },
  {
   "cell_type": "code",
   "execution_count": 4,
   "metadata": {
    "ExecuteTime": {
     "end_time": "2018-08-07T03:45:31.387277Z",
     "start_time": "2018-08-07T03:45:31.384303Z"
    }
   },
   "outputs": [
    {
     "name": "stdout",
     "output_type": "stream",
     "text": [
      "<__main__.stack object at 0x151791eda0>\n"
     ]
    }
   ],
   "source": [
    "print(test)"
   ]
  },
  {
   "cell_type": "code",
   "execution_count": 5,
   "metadata": {
    "ExecuteTime": {
     "end_time": "2018-08-07T03:45:49.209878Z",
     "start_time": "2018-08-07T03:45:49.205813Z"
    }
   },
   "outputs": [
    {
     "data": {
      "text/plain": [
       "[1, 3]"
      ]
     },
     "execution_count": 5,
     "metadata": {},
     "output_type": "execute_result"
    }
   ],
   "source": [
    "test.peek()"
   ]
  },
  {
   "cell_type": "code",
   "execution_count": 6,
   "metadata": {
    "ExecuteTime": {
     "end_time": "2018-08-07T03:46:19.084720Z",
     "start_time": "2018-08-07T03:46:19.082208Z"
    }
   },
   "outputs": [],
   "source": [
    "test.push(4)\n",
    "test.push(10)\n"
   ]
  },
  {
   "cell_type": "code",
   "execution_count": 7,
   "metadata": {
    "ExecuteTime": {
     "end_time": "2018-08-07T03:46:25.474600Z",
     "start_time": "2018-08-07T03:46:25.471010Z"
    }
   },
   "outputs": [
    {
     "data": {
      "text/plain": [
       "10"
      ]
     },
     "execution_count": 7,
     "metadata": {},
     "output_type": "execute_result"
    }
   ],
   "source": [
    "test.pop()"
   ]
  },
  {
   "cell_type": "code",
   "execution_count": 8,
   "metadata": {
    "ExecuteTime": {
     "end_time": "2018-08-07T03:46:37.408679Z",
     "start_time": "2018-08-07T03:46:37.406391Z"
    }
   },
   "outputs": [],
   "source": [
    "test.push(1000)"
   ]
  },
  {
   "cell_type": "code",
   "execution_count": 9,
   "metadata": {
    "ExecuteTime": {
     "end_time": "2018-08-07T03:46:43.289845Z",
     "start_time": "2018-08-07T03:46:43.286724Z"
    }
   },
   "outputs": [
    {
     "data": {
      "text/plain": [
       "1000"
      ]
     },
     "execution_count": 9,
     "metadata": {},
     "output_type": "execute_result"
    }
   ],
   "source": [
    "test.peek()"
   ]
  },
  {
   "cell_type": "code",
   "execution_count": 10,
   "metadata": {
    "ExecuteTime": {
     "end_time": "2018-08-07T03:46:49.636367Z",
     "start_time": "2018-08-07T03:46:49.632982Z"
    }
   },
   "outputs": [
    {
     "data": {
      "text/plain": [
       "3"
      ]
     },
     "execution_count": 10,
     "metadata": {},
     "output_type": "execute_result"
    }
   ],
   "source": [
    "test.size()"
   ]
  },
  {
   "cell_type": "code",
   "execution_count": 11,
   "metadata": {
    "ExecuteTime": {
     "end_time": "2018-08-07T14:28:36.682790Z",
     "start_time": "2018-08-07T14:28:36.680475Z"
    }
   },
   "outputs": [],
   "source": [
    "a=['1','3','test']"
   ]
  },
  {
   "cell_type": "code",
   "execution_count": 12,
   "metadata": {
    "ExecuteTime": {
     "end_time": "2018-08-07T14:28:45.340850Z",
     "start_time": "2018-08-07T14:28:45.337522Z"
    }
   },
   "outputs": [
    {
     "data": {
      "text/plain": [
       "['test', '3', '1']"
      ]
     },
     "execution_count": 12,
     "metadata": {},
     "output_type": "execute_result"
    }
   ],
   "source": [
    "a[::-1]"
   ]
  },
  {
   "cell_type": "code",
   "execution_count": 13,
   "metadata": {
    "ExecuteTime": {
     "end_time": "2018-08-07T14:37:11.082939Z",
     "start_time": "2018-08-07T14:37:11.080524Z"
    }
   },
   "outputs": [],
   "source": [
    "b=['1','5','t','3']"
   ]
  },
  {
   "cell_type": "code",
   "execution_count": 14,
   "metadata": {
    "ExecuteTime": {
     "end_time": "2018-08-07T14:37:24.956732Z",
     "start_time": "2018-08-07T14:37:24.953263Z"
    }
   },
   "outputs": [
    {
     "data": {
      "text/plain": [
       "{'1', '3'}"
      ]
     },
     "execution_count": 14,
     "metadata": {},
     "output_type": "execute_result"
    }
   ],
   "source": [
    "set(a) & set(b)"
   ]
  },
  {
   "cell_type": "code",
   "execution_count": 17,
   "metadata": {
    "ExecuteTime": {
     "end_time": "2018-08-07T14:40:21.446629Z",
     "start_time": "2018-08-07T14:40:21.444436Z"
    }
   },
   "outputs": [],
   "source": [
    "k=set(a)- set(b)"
   ]
  },
  {
   "cell_type": "code",
   "execution_count": 19,
   "metadata": {
    "ExecuteTime": {
     "end_time": "2018-08-07T14:40:33.710515Z",
     "start_time": "2018-08-07T14:40:33.707107Z"
    }
   },
   "outputs": [
    {
     "data": {
      "text/plain": [
       "{'test'}"
      ]
     },
     "execution_count": 19,
     "metadata": {},
     "output_type": "execute_result"
    }
   ],
   "source": [
    "k"
   ]
  },
  {
   "cell_type": "code",
   "execution_count": 20,
   "metadata": {
    "ExecuteTime": {
     "end_time": "2018-08-07T14:40:42.245486Z",
     "start_time": "2018-08-07T14:40:42.242199Z"
    }
   },
   "outputs": [
    {
     "data": {
      "text/plain": [
       "set"
      ]
     },
     "execution_count": 20,
     "metadata": {},
     "output_type": "execute_result"
    }
   ],
   "source": [
    "type(k)"
   ]
  },
  {
   "cell_type": "code",
   "execution_count": 21,
   "metadata": {
    "ExecuteTime": {
     "end_time": "2018-08-07T14:41:08.855645Z",
     "start_time": "2018-08-07T14:41:08.852324Z"
    }
   },
   "outputs": [
    {
     "data": {
      "text/plain": [
       "['test']"
      ]
     },
     "execution_count": 21,
     "metadata": {},
     "output_type": "execute_result"
    }
   ],
   "source": [
    "list(k)"
   ]
  },
  {
   "cell_type": "code",
   "execution_count": 22,
   "metadata": {
    "ExecuteTime": {
     "end_time": "2018-08-07T14:41:16.726290Z",
     "start_time": "2018-08-07T14:41:16.722960Z"
    }
   },
   "outputs": [
    {
     "data": {
      "text/plain": [
       "'test'"
      ]
     },
     "execution_count": 22,
     "metadata": {},
     "output_type": "execute_result"
    }
   ],
   "source": [
    "list(k)[0]"
   ]
  },
  {
   "cell_type": "code",
   "execution_count": 42,
   "metadata": {
    "ExecuteTime": {
     "end_time": "2018-08-07T14:57:38.453571Z",
     "start_time": "2018-08-07T14:57:38.448684Z"
    }
   },
   "outputs": [
    {
     "name": "stdout",
     "output_type": "stream",
     "text": [
      "8\n",
      "0\n",
      "4\n",
      "0\n",
      "2\n",
      "0\n",
      "1\n",
      "0\n"
     ]
    }
   ],
   "source": [
    "a=16\n",
    "list1=[]\n",
    "\n",
    "while a >=2:\n",
    "    print(a//2)\n",
    "    print(a%2)\n",
    "    list1.insert(0,str(int(a%2)))\n",
    "    \n",
    "    a = a//2\n",
    "list1.insert(0,str(a))"
   ]
  },
  {
   "cell_type": "code",
   "execution_count": 104,
   "metadata": {
    "ExecuteTime": {
     "end_time": "2018-08-07T16:30:58.333113Z",
     "start_time": "2018-08-07T16:30:58.330526Z"
    }
   },
   "outputs": [],
   "source": [
    "a=[[1,3,2],[0,3,4]]"
   ]
  },
  {
   "cell_type": "code",
   "execution_count": 106,
   "metadata": {
    "ExecuteTime": {
     "end_time": "2018-08-07T16:33:06.503918Z",
     "start_time": "2018-08-07T16:33:06.500788Z"
    }
   },
   "outputs": [
    {
     "name": "stdout",
     "output_type": "stream",
     "text": [
      "[[0, 0, 1], [1, 0, 0]]\n"
     ]
    }
   ],
   "source": [
    "a=[[1,0,0],[0,0,1]]\n",
    "print(a[::-1])"
   ]
  },
  {
   "cell_type": "code",
   "execution_count": 110,
   "metadata": {
    "ExecuteTime": {
     "end_time": "2018-08-07T16:35:41.782396Z",
     "start_time": "2018-08-07T16:35:41.778810Z"
    }
   },
   "outputs": [
    {
     "name": "stdout",
     "output_type": "stream",
     "text": [
      "[[1, 2, 3], [4, 5, 6], [7, 8, 9]]\n",
      "[[7, 8, 9], [4, 5, 6], [1, 2, 3]]\n"
     ]
    }
   ],
   "source": [
    "b=[[1,2,3],[4,5,6],[7,8,9]]\n",
    "print(b)\n",
    "b=b[::-1]\n",
    "print(b)"
   ]
  },
  {
   "cell_type": "code",
   "execution_count": 91,
   "metadata": {
    "ExecuteTime": {
     "end_time": "2018-08-07T15:59:01.570850Z",
     "start_time": "2018-08-07T15:59:01.567409Z"
    }
   },
   "outputs": [],
   "source": [
    "def duplicate_items(list_numbers):\n",
    "    list_numbers.sort()\n",
    "    print(list_numbers)\n",
    "    dup_list=['dummy']\n",
    "    prev=list_numbers[0]\n",
    "    for i in range(len(list_numbers)-1):\n",
    "        if list_numbers[i] == list_numbers[i+1] and list_numbers[i] != dup_list[-1]:\n",
    "            print('yes')\n",
    "            dup_list.append(list_numbers[i])\n",
    "    \n",
    "    print(dup_list)\n",
    "    if dup_list[1:]:\n",
    "        return dup_list[1:]\n",
    "    else: \n",
    "        return []\n",
    "        "
   ]
  },
  {
   "cell_type": "code",
   "execution_count": 126,
   "metadata": {
    "ExecuteTime": {
     "end_time": "2018-08-07T17:30:53.946490Z",
     "start_time": "2018-08-07T17:30:53.943126Z"
    }
   },
   "outputs": [
    {
     "data": {
      "text/plain": [
       "[[7, 8, 9], [4, 5, 6], [1, 2, 3]]"
      ]
     },
     "execution_count": 126,
     "metadata": {},
     "output_type": "execute_result"
    }
   ],
   "source": [
    "b"
   ]
  },
  {
   "cell_type": "code",
   "execution_count": 129,
   "metadata": {
    "ExecuteTime": {
     "end_time": "2018-08-07T17:35:26.297505Z",
     "start_time": "2018-08-07T17:35:26.294418Z"
    }
   },
   "outputs": [],
   "source": [
    "a='test'\n",
    "def is_palindrome(a):\n",
    "    outer_list=[]\n",
    "    for i in range(len(a)/2):\n",
    "        inner_list=[]\n",
    "        for j in range(len(a[1])):\n",
    "            inner_list.append(a[i][j])\n",
    "        outer_list.append(inner_list)\n",
    "    return outer_list "
   ]
  },
  {
   "cell_type": "code",
   "execution_count": 122,
   "metadata": {
    "ExecuteTime": {
     "end_time": "2018-08-07T17:18:51.794659Z",
     "start_time": "2018-08-07T17:18:51.791406Z"
    }
   },
   "outputs": [],
   "source": [
    "\n",
    "def flip_vertical_axis(matrix):\n",
    "    a=matrix\n",
    "    outer_list=[]\n",
    "    for i in range(len(a[0])):\n",
    "        inner_list=[]\n",
    "        for j in range(len(a)):\n",
    "            inner_list.append(a[j][i])\n",
    "        outer_list.append(inner_list)\n",
    "    matrix=outer_list\n",
    "    \n",
    "    return matrix"
   ]
  },
  {
   "cell_type": "code",
   "execution_count": 150,
   "metadata": {
    "ExecuteTime": {
     "end_time": "2018-08-07T17:48:01.001801Z",
     "start_time": "2018-08-07T17:48:00.998526Z"
    }
   },
   "outputs": [],
   "source": [
    "def transpose_matrix(matrix):\n",
    "    print(a)\n",
    "    for i in range(len(a[0])-1):\n",
    "        for j in range(i+1,len(a)):\n",
    "                temp=a[j][i]\n",
    "                a[j][i]=a[i][j]\n",
    "                a[i][j]=temp\n",
    "     return a"
   ]
  },
  {
   "cell_type": "code",
   "execution_count": 151,
   "metadata": {
    "ExecuteTime": {
     "end_time": "2018-08-07T17:48:01.859824Z",
     "start_time": "2018-08-07T17:48:01.855116Z"
    }
   },
   "outputs": [
    {
     "name": "stdout",
     "output_type": "stream",
     "text": [
      "[[7, 4, 9], [8, 5, 2], [1, 6, 3]]\n",
      "[[7, 8, 1], [4, 5, 2], [9, 6, 3]]\n",
      "[[7, 8, 1], [4, 5, 6], [9, 2, 3]]\n"
     ]
    },
    {
     "data": {
      "text/plain": [
       "[[7, 8, 1], [4, 5, 6], [9, 2, 3]]"
      ]
     },
     "execution_count": 151,
     "metadata": {},
     "output_type": "execute_result"
    }
   ],
   "source": [
    "transpose_matrix(b)"
   ]
  },
  {
   "cell_type": "code",
   "execution_count": 142,
   "metadata": {
    "ExecuteTime": {
     "end_time": "2018-08-07T17:41:30.153185Z",
     "start_time": "2018-08-07T17:41:30.148461Z"
    }
   },
   "outputs": [
    {
     "name": "stdout",
     "output_type": "stream",
     "text": [
      "[[1, 2, 3], [4, 5, 6], [7, 8, 9]]\n",
      "[[1, 4, 7], [2, 5, 6], [3, 8, 9]]\n",
      "[[1, 2, 7], [4, 5, 8], [3, 6, 9]]\n",
      "[[1, 2, 3], [4, 5, 6], [7, 8, 9]]\n"
     ]
    },
    {
     "data": {
      "text/plain": [
       "[[1, 2, 3], [4, 5, 6], [7, 8, 9]]"
      ]
     },
     "execution_count": 142,
     "metadata": {},
     "output_type": "execute_result"
    }
   ],
   "source": [
    "c=[[1,2,3], [4,5,6], [7,8,9]]\n",
    "transpose_matrix(c)"
   ]
  },
  {
   "cell_type": "code",
   "execution_count": 101,
   "metadata": {
    "ExecuteTime": {
     "end_time": "2018-08-07T16:08:28.225695Z",
     "start_time": "2018-08-07T16:08:28.222818Z"
    }
   },
   "outputs": [],
   "source": [
    "def is_palindrome(input_string):\n",
    "    test=list(input_string)\n",
    "    for i in range(len(test)//2):\n",
    "        test[i],test[-i-1]=test[-i-1],test[i]\n",
    "        \n",
    "    return input_string == \"\".join(test)  "
   ]
  },
  {
   "cell_type": "code",
   "execution_count": 103,
   "metadata": {
    "ExecuteTime": {
     "end_time": "2018-08-07T16:08:43.914084Z",
     "start_time": "2018-08-07T16:08:43.910763Z"
    }
   },
   "outputs": [
    {
     "data": {
      "text/plain": [
       "True"
      ]
     },
     "execution_count": 103,
     "metadata": {},
     "output_type": "execute_result"
    }
   ],
   "source": [
    "is_palindrome('bccb')"
   ]
  },
  {
   "cell_type": "code",
   "execution_count": 152,
   "metadata": {
    "ExecuteTime": {
     "end_time": "2018-08-07T17:53:24.481952Z",
     "start_time": "2018-08-07T17:53:24.478644Z"
    }
   },
   "outputs": [
    {
     "data": {
      "text/plain": [
       "'test'"
      ]
     },
     "execution_count": 152,
     "metadata": {},
     "output_type": "execute_result"
    }
   ],
   "source": [
    "a"
   ]
  },
  {
   "cell_type": "code",
   "execution_count": 153,
   "metadata": {
    "ExecuteTime": {
     "end_time": "2018-08-07T17:53:27.777459Z",
     "start_time": "2018-08-07T17:53:27.774031Z"
    }
   },
   "outputs": [
    {
     "data": {
      "text/plain": [
       "[[7, 8, 1], [4, 5, 6], [9, 2, 3]]"
      ]
     },
     "execution_count": 153,
     "metadata": {},
     "output_type": "execute_result"
    }
   ],
   "source": [
    "b"
   ]
  },
  {
   "cell_type": "code",
   "execution_count": 154,
   "metadata": {
    "ExecuteTime": {
     "end_time": "2018-08-07T17:53:36.218785Z",
     "start_time": "2018-08-07T17:53:36.214339Z"
    }
   },
   "outputs": [
    {
     "name": "stdout",
     "output_type": "stream",
     "text": [
      "[7, 8, 1] [4, 5, 6] [9, 2, 3]\n"
     ]
    }
   ],
   "source": [
    "print(*b)"
   ]
  },
  {
   "cell_type": "code",
   "execution_count": 157,
   "metadata": {
    "ExecuteTime": {
     "end_time": "2018-08-07T17:55:06.088101Z",
     "start_time": "2018-08-07T17:55:06.084753Z"
    }
   },
   "outputs": [
    {
     "data": {
      "text/plain": [
       "[(7, 4, 9), (8, 5, 2), (1, 6, 3)]"
      ]
     },
     "execution_count": 157,
     "metadata": {},
     "output_type": "execute_result"
    }
   ],
   "source": [
    "list(zip(*b))"
   ]
  },
  {
   "cell_type": "code",
   "execution_count": null,
   "metadata": {},
   "outputs": [],
   "source": []
  }
 ],
 "metadata": {
  "kernelspec": {
   "display_name": "Python 3",
   "language": "python",
   "name": "python3"
  },
  "language_info": {
   "codemirror_mode": {
    "name": "ipython",
    "version": 3
   },
   "file_extension": ".py",
   "mimetype": "text/x-python",
   "name": "python",
   "nbconvert_exporter": "python",
   "pygments_lexer": "ipython3",
   "version": "3.6.4"
  },
  "toc": {
   "colors": {
    "hover_highlight": "#DAA520",
    "navigate_num": "#000000",
    "navigate_text": "#333333",
    "running_highlight": "#FF0000",
    "selected_highlight": "#FFD700",
    "sidebar_border": "#EEEEEE",
    "wrapper_background": "#FFFFFF"
   },
   "moveMenuLeft": true,
   "nav_menu": {
    "height": "4px",
    "width": "254px"
   },
   "navigate_menu": true,
   "number_sections": true,
   "sideBar": true,
   "threshold": 4,
   "toc_cell": false,
   "toc_section_display": "block",
   "toc_window_display": false,
   "widenNotebook": false
  }
 },
 "nbformat": 4,
 "nbformat_minor": 2
}
