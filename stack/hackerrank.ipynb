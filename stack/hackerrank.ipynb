{
 "cells": [
  {
   "cell_type": "code",
   "execution_count": 6,
   "metadata": {
    "ExecuteTime": {
     "end_time": "2018-08-11T18:28:43.988270Z",
     "start_time": "2018-08-11T18:28:43.985832Z"
    }
   },
   "outputs": [],
   "source": [
    "import numpy as np\n",
    "a=[-4, 3, -9, 0, 4, 1  ]"
   ]
  },
  {
   "cell_type": "code",
   "execution_count": 7,
   "metadata": {
    "ExecuteTime": {
     "end_time": "2018-08-11T18:28:45.596887Z",
     "start_time": "2018-08-11T18:28:45.593621Z"
    }
   },
   "outputs": [
    {
     "data": {
      "text/plain": [
       "[-4, 3, -9, 0, 4, 1]"
      ]
     },
     "execution_count": 7,
     "metadata": {},
     "output_type": "execute_result"
    }
   ],
   "source": [
    "a"
   ]
  },
  {
   "cell_type": "code",
   "execution_count": 18,
   "metadata": {
    "ExecuteTime": {
     "end_time": "2018-08-11T21:28:44.979062Z",
     "start_time": "2018-08-11T21:28:44.976089Z"
    }
   },
   "outputs": [],
   "source": [
    "def fun(arr):\n",
    "    p=0\n",
    "    n=0\n",
    "    z=0\n",
    "    for i in arr:\n",
    "        if i ==0:\n",
    "            z +=1\n",
    "        elif i >0:\n",
    "            p +=1\n",
    "        elif i < 0:\n",
    "            n +=1\n",
    "    print(\"{:5f}\".format(p/len(arr)))\n",
    "    print(\"{:5f}\".format(n/len(arr))) \n",
    "    print(\"{:5f}\".format(z/len(arr)))"
   ]
  },
  {
   "cell_type": "code",
   "execution_count": 19,
   "metadata": {
    "ExecuteTime": {
     "end_time": "2018-08-11T21:28:45.648873Z",
     "start_time": "2018-08-11T21:28:45.644856Z"
    }
   },
   "outputs": [
    {
     "name": "stdout",
     "output_type": "stream",
     "text": [
      "0.500000\n",
      "0.333333\n",
      "0.166667\n"
     ]
    }
   ],
   "source": [
    "fun([-4,3,-9,0,4,1])"
   ]
  },
  {
   "cell_type": "code",
   "execution_count": 20,
   "metadata": {
    "ExecuteTime": {
     "end_time": "2018-08-11T22:08:36.510909Z",
     "start_time": "2018-08-11T22:08:36.507637Z"
    }
   },
   "outputs": [
    {
     "data": {
      "text/plain": [
       "'      '"
      ]
     },
     "execution_count": 20,
     "metadata": {},
     "output_type": "execute_result"
    }
   ],
   "source": [
    "\" \"*6"
   ]
  },
  {
   "cell_type": "code",
   "execution_count": 22,
   "metadata": {
    "ExecuteTime": {
     "end_time": "2018-08-11T22:16:19.674639Z",
     "start_time": "2018-08-11T22:16:19.669517Z"
    }
   },
   "outputs": [
    {
     "name": "stdout",
     "output_type": "stream",
     "text": [
      "   #\n",
      "  ##\n",
      " ###\n",
      "####\n"
     ]
    },
    {
     "data": {
      "text/plain": [
       "[None, None, None, None]"
      ]
     },
     "execution_count": 22,
     "metadata": {},
     "output_type": "execute_result"
    }
   ],
   "source": [
    "[print(\" \"*(4-i)+\"#\"*(i)) for i in range(1,5)]"
   ]
  },
  {
   "cell_type": "code",
   "execution_count": 23,
   "metadata": {
    "ExecuteTime": {
     "end_time": "2018-08-11T22:40:39.725065Z",
     "start_time": "2018-08-11T22:40:39.722840Z"
    }
   },
   "outputs": [],
   "source": [
    "a=[-4,3,-9,0,4,1]"
   ]
  },
  {
   "cell_type": "code",
   "execution_count": 25,
   "metadata": {
    "ExecuteTime": {
     "end_time": "2018-08-11T22:41:18.223621Z",
     "start_time": "2018-08-11T22:41:18.217386Z"
    }
   },
   "outputs": [
    {
     "data": {
      "text/plain": [
       "[-9, -4, 0, 1, 3, 4]"
      ]
     },
     "execution_count": 25,
     "metadata": {},
     "output_type": "execute_result"
    }
   ],
   "source": [
    "sorted(a)"
   ]
  },
  {
   "cell_type": "code",
   "execution_count": null,
   "metadata": {},
   "outputs": [],
   "source": []
  }
 ],
 "metadata": {
  "kernelspec": {
   "display_name": "Python 3",
   "language": "python",
   "name": "python3"
  },
  "language_info": {
   "codemirror_mode": {
    "name": "ipython",
    "version": 3
   },
   "file_extension": ".py",
   "mimetype": "text/x-python",
   "name": "python",
   "nbconvert_exporter": "python",
   "pygments_lexer": "ipython3",
   "version": "3.6.4"
  },
  "toc": {
   "colors": {
    "hover_highlight": "#DAA520",
    "navigate_num": "#000000",
    "navigate_text": "#333333",
    "running_highlight": "#FF0000",
    "selected_highlight": "#FFD700",
    "sidebar_border": "#EEEEEE",
    "wrapper_background": "#FFFFFF"
   },
   "moveMenuLeft": true,
   "nav_menu": {
    "height": "4px",
    "width": "254px"
   },
   "navigate_menu": true,
   "number_sections": true,
   "sideBar": true,
   "threshold": 4,
   "toc_cell": false,
   "toc_section_display": "block",
   "toc_window_display": false,
   "widenNotebook": false
  }
 },
 "nbformat": 4,
 "nbformat_minor": 2
}
