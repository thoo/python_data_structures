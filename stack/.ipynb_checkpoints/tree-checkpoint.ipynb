{
 "cells": [
  {
   "cell_type": "code",
   "execution_count": 1,
   "metadata": {
    "ExecuteTime": {
     "end_time": "2018-08-10T18:15:04.109314Z",
     "start_time": "2018-08-10T18:15:04.105665Z"
    }
   },
   "outputs": [],
   "source": [
    "def BinaryTree(r):\n",
    "    return [r,[],[]]"
   ]
  },
  {
   "cell_type": "code",
   "execution_count": 81,
   "metadata": {
    "ExecuteTime": {
     "end_time": "2018-08-10T19:21:46.613472Z",
     "start_time": "2018-08-10T19:21:46.607250Z"
    }
   },
   "outputs": [],
   "source": [
    "def insertLeft(root,newbranch):\n",
    "    t=root.pop(1)\n",
    "    if len(t)>0:\n",
    "        root.insert(1,[newbranch,t,[]])\n",
    "    else:\n",
    "        root.insert(1,[newbranch,[],[]])\n",
    "    return root\n",
    "\n",
    "def insertRight(root,newbranch):\n",
    "    t=root.pop(2)\n",
    "    if len(t) >1:\n",
    "        root.insert(2,[newbranch,[],t])\n",
    "    else:\n",
    "        root.insert(2,[newbranch,[],[]])\n",
    "    return root\n",
    "\n",
    "def getRootVal(root):\n",
    "    return root[0]\n",
    "\n",
    "def setRootVal(root,val):\n",
    "     root[0] = val\n",
    "def getLeftChild(root):\n",
    "    return root[1]\n",
    "def getRightChild(root):\n",
    "    return root[2]"
   ]
  },
  {
   "cell_type": "code",
   "execution_count": 86,
   "metadata": {
    "ExecuteTime": {
     "end_time": "2018-08-10T19:28:59.221532Z",
     "start_time": "2018-08-10T19:28:59.218205Z"
    }
   },
   "outputs": [],
   "source": [
    "myTree = ['a',   #root\n",
    "      ['b',  #left subtree\n",
    "       ['d', [], []],\n",
    "       ['e', [], []] ],\n",
    "      ['c',  #right subtree\n",
    "       ['f', [], []],\n",
    "       [] ]\n",
    "     ]"
   ]
  },
  {
   "cell_type": "code",
   "execution_count": 82,
   "metadata": {
    "ExecuteTime": {
     "end_time": "2018-08-10T19:21:59.296902Z",
     "start_time": "2018-08-10T19:21:59.293029Z"
    }
   },
   "outputs": [
    {
     "data": {
      "text/plain": [
       "['a', ['b', [], []], ['c', [], []]]"
      ]
     },
     "execution_count": 82,
     "metadata": {},
     "output_type": "execute_result"
    }
   ],
   "source": [
    "x = BinaryTree('a')\n",
    "insertLeft(x,'b')\n",
    "insertRight(x,'c')"
   ]
  },
  {
   "cell_type": "code",
   "execution_count": 83,
   "metadata": {
    "ExecuteTime": {
     "end_time": "2018-08-10T19:22:01.410860Z",
     "start_time": "2018-08-10T19:22:01.407673Z"
    }
   },
   "outputs": [
    {
     "data": {
      "text/plain": [
       "['a', ['b', [], []], ['c', [], []]]"
      ]
     },
     "execution_count": 83,
     "metadata": {},
     "output_type": "execute_result"
    }
   ],
   "source": [
    "x"
   ]
  },
  {
   "cell_type": "code",
   "execution_count": 84,
   "metadata": {
    "ExecuteTime": {
     "end_time": "2018-08-10T19:22:03.525452Z",
     "start_time": "2018-08-10T19:22:03.521826Z"
    }
   },
   "outputs": [
    {
     "data": {
      "text/plain": [
       "['c', [], ['d', [], []]]"
      ]
     },
     "execution_count": 84,
     "metadata": {},
     "output_type": "execute_result"
    }
   ],
   "source": [
    "insertRight(getRightChild(x),'d')"
   ]
  },
  {
   "cell_type": "code",
   "execution_count": 85,
   "metadata": {
    "ExecuteTime": {
     "end_time": "2018-08-10T19:22:23.130301Z",
     "start_time": "2018-08-10T19:22:23.126936Z"
    }
   },
   "outputs": [
    {
     "data": {
      "text/plain": [
       "['a', ['b', [], []], ['c', [], ['d', [], []]]]"
      ]
     },
     "execution_count": 85,
     "metadata": {},
     "output_type": "execute_result"
    }
   ],
   "source": [
    "x"
   ]
  },
  {
   "cell_type": "code",
   "execution_count": null,
   "metadata": {
    "ExecuteTime": {
     "end_time": "2018-08-10T18:44:25.386197Z",
     "start_time": "2018-08-10T18:44:25.376960Z"
    }
   },
   "outputs": [],
   "source": [
    "[\n",
    "    a,\n",
    " [b,[],[]], #Left\n",
    "[c,[],[d,[e,[],[]],[]]] #Right\n",
    "]"
   ]
  },
  {
   "cell_type": "code",
   "execution_count": 99,
   "metadata": {
    "ExecuteTime": {
     "end_time": "2018-08-10T19:56:07.016982Z",
     "start_time": "2018-08-10T19:56:07.014044Z"
    }
   },
   "outputs": [],
   "source": [
    "def buildTree():\n",
    "    x=BinaryTree('a')\n",
    "    insertLeft(x,'b')\n",
    "    insertRight(x,'c')\n",
    "    insertRight(getLeftChild(x),'d')\n",
    "    insertLeft(getRightChild(x),'e')\n",
    "    insertRight(getRightChild(x),'f')\n",
    "    \n",
    "    return x\n",
    "    \n",
    "    "
   ]
  },
  {
   "cell_type": "code",
   "execution_count": 100,
   "metadata": {
    "ExecuteTime": {
     "end_time": "2018-08-10T19:56:07.761147Z",
     "start_time": "2018-08-10T19:56:07.758371Z"
    }
   },
   "outputs": [],
   "source": [
    "#from test import testEqual\n",
    "\n",
    "ttree = buildTree()\n",
    "assert getRootVal(getRightChild(ttree))=='c'\n",
    "assert getRootVal(getRightChild(getLeftChild(ttree)))=='d'\n",
    "assert getRootVal(getRightChild(getRightChild(ttree)))== 'f'\n"
   ]
  },
  {
   "cell_type": "code",
   "execution_count": 95,
   "metadata": {
    "ExecuteTime": {
     "end_time": "2018-08-10T19:53:04.934854Z",
     "start_time": "2018-08-10T19:53:04.930651Z"
    }
   },
   "outputs": [
    {
     "data": {
      "text/plain": [
       "'c'"
      ]
     },
     "execution_count": 95,
     "metadata": {},
     "output_type": "execute_result"
    }
   ],
   "source": [
    "getRootVal(getRightChild(ttree))"
   ]
  },
  {
   "cell_type": "code",
   "execution_count": 107,
   "metadata": {
    "ExecuteTime": {
     "end_time": "2018-08-10T20:02:24.185705Z",
     "start_time": "2018-08-10T20:02:24.183261Z"
    }
   },
   "outputs": [],
   "source": [
    "myTree = ['a', ['b', ['d',[],[]], ['e',[],[]] ],\\\n",
    "          ['c', ['f',[],[]], []] ]"
   ]
  },
  {
   "cell_type": "code",
   "execution_count": 104,
   "metadata": {
    "ExecuteTime": {
     "end_time": "2018-08-10T20:00:58.633387Z",
     "start_time": "2018-08-10T20:00:58.629676Z"
    }
   },
   "outputs": [
    {
     "data": {
      "text/plain": [
       "['b', ['d', [], []], ['e', [], []]]"
      ]
     },
     "execution_count": 104,
     "metadata": {},
     "output_type": "execute_result"
    }
   ],
   "source": [
    "myTree.pop(1)"
   ]
  },
  {
   "cell_type": "code",
   "execution_count": 106,
   "metadata": {
    "ExecuteTime": {
     "end_time": "2018-08-10T20:01:55.740815Z",
     "start_time": "2018-08-10T20:01:55.737618Z"
    }
   },
   "outputs": [
    {
     "data": {
      "text/plain": [
       "['a', ['b', ['d', [], []], ['e', [], []]], []]"
      ]
     },
     "execution_count": 106,
     "metadata": {},
     "output_type": "execute_result"
    }
   ],
   "source": [
    "['a',myTree.pop(1),[]]"
   ]
  },
  {
   "cell_type": "code",
   "execution_count": 108,
   "metadata": {
    "ExecuteTime": {
     "end_time": "2018-08-10T20:02:50.580327Z",
     "start_time": "2018-08-10T20:02:50.577199Z"
    }
   },
   "outputs": [
    {
     "name": "stdout",
     "output_type": "stream",
     "text": [
      "['a', ['a', ['b', ['d', [], []], ['e', [], []]], []], ['c', ['f', [], []], []]]\n"
     ]
    }
   ],
   "source": [
    "insertLeft(myTree,'a')\n",
    "print(myTree)"
   ]
  },
  {
   "cell_type": "code",
   "execution_count": null,
   "metadata": {
    "ExecuteTime": {
     "end_time": "2018-08-10T18:45:57.282655Z",
     "start_time": "2018-08-10T18:45:57.279061Z"
    }
   },
   "outputs": [],
   "source": []
  },
  {
   "cell_type": "code",
   "execution_count": null,
   "metadata": {
    "ExecuteTime": {
     "end_time": "2018-08-10T18:46:12.816098Z",
     "start_time": "2018-08-10T18:46:12.812269Z"
    }
   },
   "outputs": [],
   "source": []
  },
  {
   "cell_type": "code",
   "execution_count": null,
   "metadata": {
    "ExecuteTime": {
     "end_time": "2018-08-10T18:51:12.229133Z",
     "start_time": "2018-08-10T18:51:12.224792Z"
    }
   },
   "outputs": [],
   "source": []
  },
  {
   "cell_type": "code",
   "execution_count": null,
   "metadata": {
    "ExecuteTime": {
     "end_time": "2018-08-10T18:57:00.229915Z",
     "start_time": "2018-08-10T18:57:00.227702Z"
    }
   },
   "outputs": [],
   "source": []
  },
  {
   "cell_type": "code",
   "execution_count": null,
   "metadata": {
    "ExecuteTime": {
     "end_time": "2018-08-10T19:03:28.443942Z",
     "start_time": "2018-08-10T19:03:28.441358Z"
    }
   },
   "outputs": [],
   "source": []
  },
  {
   "cell_type": "code",
   "execution_count": null,
   "metadata": {
    "ExecuteTime": {
     "end_time": "2018-08-10T19:07:03.784082Z",
     "start_time": "2018-08-10T19:07:03.772915Z"
    }
   },
   "outputs": [],
   "source": []
  },
  {
   "cell_type": "code",
   "execution_count": null,
   "metadata": {
    "ExecuteTime": {
     "end_time": "2018-08-10T19:02:10.830614Z",
     "start_time": "2018-08-10T19:02:10.828189Z"
    }
   },
   "outputs": [],
   "source": []
  },
  {
   "cell_type": "code",
   "execution_count": null,
   "metadata": {
    "ExecuteTime": {
     "end_time": "2018-08-10T19:05:12.441620Z",
     "start_time": "2018-08-10T19:05:12.438401Z"
    }
   },
   "outputs": [],
   "source": []
  },
  {
   "cell_type": "code",
   "execution_count": null,
   "metadata": {
    "ExecuteTime": {
     "end_time": "2018-08-10T19:06:06.090637Z",
     "start_time": "2018-08-10T19:06:06.077358Z"
    }
   },
   "outputs": [],
   "source": []
  },
  {
   "cell_type": "code",
   "execution_count": null,
   "metadata": {},
   "outputs": [],
   "source": []
  }
 ],
 "metadata": {
  "kernelspec": {
   "display_name": "Python 3",
   "language": "python",
   "name": "python3"
  },
  "language_info": {
   "codemirror_mode": {
    "name": "ipython",
    "version": 3
   },
   "file_extension": ".py",
   "mimetype": "text/x-python",
   "name": "python",
   "nbconvert_exporter": "python",
   "pygments_lexer": "ipython3",
   "version": "3.6.4"
  },
  "toc": {
   "colors": {
    "hover_highlight": "#DAA520",
    "navigate_num": "#000000",
    "navigate_text": "#333333",
    "running_highlight": "#FF0000",
    "selected_highlight": "#FFD700",
    "sidebar_border": "#EEEEEE",
    "wrapper_background": "#FFFFFF"
   },
   "moveMenuLeft": true,
   "nav_menu": {
    "height": "4px",
    "width": "254px"
   },
   "navigate_menu": true,
   "number_sections": true,
   "sideBar": true,
   "threshold": 4,
   "toc_cell": false,
   "toc_section_display": "block",
   "toc_window_display": false,
   "widenNotebook": false
  }
 },
 "nbformat": 4,
 "nbformat_minor": 2
}
