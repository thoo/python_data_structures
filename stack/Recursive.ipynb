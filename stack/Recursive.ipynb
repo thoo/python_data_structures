{
 "cells": [
  {
   "cell_type": "code",
   "execution_count": 1,
   "metadata": {
    "ExecuteTime": {
     "end_time": "2018-08-09T15:33:37.534123Z",
     "start_time": "2018-08-09T15:33:37.530184Z"
    }
   },
   "outputs": [],
   "source": [
    "def listsum(alist):\n",
    "    if len(alist) == 1:\n",
    "        return alist[0]\n",
    "    else:\n",
    "        return alist[0]+listsum(alist[1:])"
   ]
  },
  {
   "cell_type": "code",
   "execution_count": 2,
   "metadata": {
    "ExecuteTime": {
     "end_time": "2018-08-09T15:33:53.349798Z",
     "start_time": "2018-08-09T15:33:53.347438Z"
    }
   },
   "outputs": [],
   "source": [
    "a=[1,2,3,4,5,6,7,8,9,10]"
   ]
  },
  {
   "cell_type": "code",
   "execution_count": 3,
   "metadata": {
    "ExecuteTime": {
     "end_time": "2018-08-09T15:33:58.148075Z",
     "start_time": "2018-08-09T15:33:58.143878Z"
    }
   },
   "outputs": [
    {
     "data": {
      "text/plain": [
       "55"
      ]
     },
     "execution_count": 3,
     "metadata": {},
     "output_type": "execute_result"
    }
   ],
   "source": [
    "listsum(a)"
   ]
  },
  {
   "cell_type": "code",
   "execution_count": 11,
   "metadata": {
    "ExecuteTime": {
     "end_time": "2018-08-09T15:47:28.252256Z",
     "start_time": "2018-08-09T15:47:28.249478Z"
    }
   },
   "outputs": [],
   "source": [
    "def toStr(n,base):\n",
    "    str_val='0123456789ABCDEF'\n",
    "    if n < base:\n",
    "        return str_val[n]\n",
    "    else:\n",
    "        return toStr(n//base,base)+str_val[n%base]"
   ]
  },
  {
   "cell_type": "code",
   "execution_count": 13,
   "metadata": {
    "ExecuteTime": {
     "end_time": "2018-08-09T15:47:54.555567Z",
     "start_time": "2018-08-09T15:47:54.552197Z"
    }
   },
   "outputs": [
    {
     "data": {
      "text/plain": [
       "'10'"
      ]
     },
     "execution_count": 13,
     "metadata": {},
     "output_type": "execute_result"
    }
   ],
   "source": [
    "toStr(2,2)"
   ]
  },
  {
   "cell_type": "code",
   "execution_count": 14,
   "metadata": {
    "ExecuteTime": {
     "end_time": "2018-08-09T15:48:33.634613Z",
     "start_time": "2018-08-09T15:48:33.631174Z"
    }
   },
   "outputs": [
    {
     "data": {
      "text/plain": [
       "'11'"
      ]
     },
     "execution_count": 14,
     "metadata": {},
     "output_type": "execute_result"
    }
   ],
   "source": [
    "toStr(3,2)"
   ]
  },
  {
   "cell_type": "code",
   "execution_count": 19,
   "metadata": {
    "ExecuteTime": {
     "end_time": "2018-08-09T15:53:23.451818Z",
     "start_time": "2018-08-09T15:53:23.449121Z"
    }
   },
   "outputs": [],
   "source": [
    "def revStr(astring):\n",
    "    if len(astring) ==1:\n",
    "        return astring\n",
    "    else:\n",
    "        return astring[-1]+revStr(astring[:-1])"
   ]
  },
  {
   "cell_type": "code",
   "execution_count": 20,
   "metadata": {
    "ExecuteTime": {
     "end_time": "2018-08-09T15:53:23.970545Z",
     "start_time": "2018-08-09T15:53:23.968477Z"
    }
   },
   "outputs": [],
   "source": [
    "a='test'"
   ]
  },
  {
   "cell_type": "code",
   "execution_count": 21,
   "metadata": {
    "ExecuteTime": {
     "end_time": "2018-08-09T15:53:24.926915Z",
     "start_time": "2018-08-09T15:53:24.919910Z"
    }
   },
   "outputs": [
    {
     "data": {
      "text/plain": [
       "'tes'"
      ]
     },
     "execution_count": 21,
     "metadata": {},
     "output_type": "execute_result"
    }
   ],
   "source": [
    "a[:-1]"
   ]
  },
  {
   "cell_type": "code",
   "execution_count": null,
   "metadata": {},
   "outputs": [],
   "source": []
  },
  {
   "cell_type": "code",
   "execution_count": 22,
   "metadata": {
    "ExecuteTime": {
     "end_time": "2018-08-09T15:53:26.931953Z",
     "start_time": "2018-08-09T15:53:26.928134Z"
    }
   },
   "outputs": [
    {
     "data": {
      "text/plain": [
       "'tset'"
      ]
     },
     "execution_count": 22,
     "metadata": {},
     "output_type": "execute_result"
    }
   ],
   "source": [
    "revStr('test')"
   ]
  },
  {
   "cell_type": "code",
   "execution_count": 23,
   "metadata": {
    "ExecuteTime": {
     "end_time": "2018-08-09T15:53:46.018967Z",
     "start_time": "2018-08-09T15:53:46.015580Z"
    }
   },
   "outputs": [
    {
     "data": {
      "text/plain": [
       "'sihT'"
      ]
     },
     "execution_count": 23,
     "metadata": {},
     "output_type": "execute_result"
    }
   ],
   "source": [
    "revStr(\"This\")"
   ]
  },
  {
   "cell_type": "code",
   "execution_count": 47,
   "metadata": {
    "ExecuteTime": {
     "end_time": "2018-08-09T16:15:41.317787Z",
     "start_time": "2018-08-09T16:15:41.314931Z"
    }
   },
   "outputs": [],
   "source": [
    "import string,re\n",
    "def check_palin(astring):\n",
    "    caseless_str=re.sub(r'[^\\w\\s]','',astring) \n",
    "    caseless_str=caseless_str.casefold()\n",
    "    if caseless_str == revStr(caseless_str):\n",
    "        print(\"This is palindrome.\")\n",
    "    else:\n",
    "        print(\"This is not palindrome.\")"
   ]
  },
  {
   "cell_type": "code",
   "execution_count": 48,
   "metadata": {
    "ExecuteTime": {
     "end_time": "2018-08-09T16:15:43.357142Z",
     "start_time": "2018-08-09T16:15:43.353783Z"
    }
   },
   "outputs": [
    {
     "name": "stdout",
     "output_type": "stream",
     "text": [
      "This is palindrome.\n"
     ]
    }
   ],
   "source": [
    "check_palin('kayaK')"
   ]
  },
  {
   "cell_type": "code",
   "execution_count": 49,
   "metadata": {
    "ExecuteTime": {
     "end_time": "2018-08-09T16:15:46.512633Z",
     "start_time": "2018-08-09T16:15:46.509338Z"
    }
   },
   "outputs": [
    {
     "name": "stdout",
     "output_type": "stream",
     "text": [
      "This is not palindrome.\n"
     ]
    }
   ],
   "source": [
    "\n",
    "check_palin('Test')"
   ]
  },
  {
   "cell_type": "code",
   "execution_count": 50,
   "metadata": {
    "ExecuteTime": {
     "end_time": "2018-08-09T16:15:47.619679Z",
     "start_time": "2018-08-09T16:15:47.616701Z"
    }
   },
   "outputs": [
    {
     "name": "stdout",
     "output_type": "stream",
     "text": [
      "This is not palindrome.\n"
     ]
    }
   ],
   "source": [
    "check_palin('reviled did I live')"
   ]
  },
  {
   "cell_type": "code",
   "execution_count": 51,
   "metadata": {
    "ExecuteTime": {
     "end_time": "2018-08-09T16:15:49.960120Z",
     "start_time": "2018-08-09T16:15:49.957004Z"
    }
   },
   "outputs": [
    {
     "data": {
      "text/plain": [
       "'test'"
      ]
     },
     "execution_count": 51,
     "metadata": {},
     "output_type": "execute_result"
    }
   ],
   "source": [
    "\"Test\".casefold()"
   ]
  },
  {
   "cell_type": "code",
   "execution_count": 53,
   "metadata": {
    "ExecuteTime": {
     "end_time": "2018-08-09T16:19:35.311691Z",
     "start_time": "2018-08-09T16:19:35.308135Z"
    }
   },
   "outputs": [],
   "source": [
    "class stack():\n",
    "    def __init__(self):\n",
    "        self.items=[]\n",
    "        \n",
    "    def isEmpty(self):\n",
    "        return self.items == []\n",
    "    \n",
    "    def push(self,item):\n",
    "        return self.items.append(item)\n",
    "    \n",
    "    def pop(self):\n",
    "        return self.items.pop()\n",
    "    \n",
    "    def peek(self):\n",
    "        return self.items[-1]\n",
    "    \n",
    "    def size(self):\n",
    "        return len(self.items)\n",
    "    def __repr__(self):\n",
    "        return str(self.items)# return str(list(map(str,self.items)))"
   ]
  },
  {
   "cell_type": "code",
   "execution_count": 54,
   "metadata": {
    "ExecuteTime": {
     "end_time": "2018-08-09T16:19:56.398502Z",
     "start_time": "2018-08-09T16:19:56.396065Z"
    }
   },
   "outputs": [],
   "source": [
    "mystack=stack()"
   ]
  },
  {
   "cell_type": "code",
   "execution_count": 56,
   "metadata": {
    "ExecuteTime": {
     "end_time": "2018-08-09T16:26:57.787230Z",
     "start_time": "2018-08-09T16:26:57.784142Z"
    }
   },
   "outputs": [],
   "source": [
    "def toStr(n,base):\n",
    "    convertString = \"0123456789ABCDEF\"\n",
    "    while n>= base:\n",
    "        mystack.push(convertString[n%base])\n",
    "        n = n//base\n",
    "    if n>0:\n",
    "        mystack.push(convertString[n])\n",
    "    re=\"\"\n",
    "    while not mystack.isEmpty():\n",
    "        re=re+str(mystack.pop())\n",
    "    return re"
   ]
  },
  {
   "cell_type": "code",
   "execution_count": 57,
   "metadata": {
    "ExecuteTime": {
     "end_time": "2018-08-09T16:27:06.459158Z",
     "start_time": "2018-08-09T16:27:06.455903Z"
    }
   },
   "outputs": [
    {
     "data": {
      "text/plain": [
       "'10010001'"
      ]
     },
     "execution_count": 57,
     "metadata": {},
     "output_type": "execute_result"
    }
   ],
   "source": [
    "toStr(145,2)"
   ]
  },
  {
   "cell_type": "code",
   "execution_count": 58,
   "metadata": {
    "ExecuteTime": {
     "end_time": "2018-08-09T16:27:16.989852Z",
     "start_time": "2018-08-09T16:27:16.986628Z"
    }
   },
   "outputs": [
    {
     "data": {
      "text/plain": [
       "'100'"
      ]
     },
     "execution_count": 58,
     "metadata": {},
     "output_type": "execute_result"
    }
   ],
   "source": [
    "toStr(4,2)"
   ]
  },
  {
   "cell_type": "code",
   "execution_count": 59,
   "metadata": {
    "ExecuteTime": {
     "end_time": "2018-08-09T16:28:51.791475Z",
     "start_time": "2018-08-09T16:28:51.787922Z"
    }
   },
   "outputs": [
    {
     "name": "stdout",
     "output_type": "stream",
     "text": [
      "5AD\n"
     ]
    }
   ],
   "source": [
    "print(toStr(1453,16))"
   ]
  },
  {
   "cell_type": "code",
   "execution_count": 60,
   "metadata": {
    "ExecuteTime": {
     "end_time": "2018-08-09T17:16:07.298565Z",
     "start_time": "2018-08-09T17:15:38.555198Z"
    }
   },
   "outputs": [],
   "source": [
    "import turtle\n",
    "\n",
    "myTurtle = turtle.Turtle()\n",
    "myWin = turtle.Screen()\n",
    "\n",
    "def drawSpiral(myTurtle, lineLen):\n",
    "    if lineLen > 0:\n",
    "        myTurtle.forward(lineLen)\n",
    "        myTurtle.right(90)\n",
    "        drawSpiral(myTurtle,lineLen-5)\n",
    "\n",
    "drawSpiral(myTurtle,100)\n",
    "myWin.exitonclick()"
   ]
  },
  {
   "cell_type": "code",
   "execution_count": 77,
   "metadata": {
    "ExecuteTime": {
     "end_time": "2018-08-09T20:01:12.920907Z",
     "start_time": "2018-08-09T20:01:12.916692Z"
    }
   },
   "outputs": [],
   "source": [
    "def dp(arr,total,i,mem):\n",
    "    key=str(total)+\":\"+str(i)\n",
    "    print(\"key\",key)\n",
    "    if key in mem:\n",
    "        return mem[key]\n",
    "    if total == 0:\n",
    "        return 1\n",
    "    elif total < 0:\n",
    "        return 0\n",
    "    elif i < 0:\n",
    "        return 0\n",
    "    elif total < arr[i]:\n",
    "        print(mem)\n",
    "        to_return=dp(arr,total,i-1,mem)\n",
    "        print(to_return)\n",
    "        \n",
    "    else:\n",
    "        print(mem)\n",
    "        to_return=(dp(arr,total-arr[i],i-1,mem)+\\\n",
    "        dp(arr,total,i-1,mem))\n",
    "        print(to_return)\n",
    "        \n",
    "    mem[key]=to_return\n",
    "    print(to_return)\n",
    "    print(mem)\n",
    "    return to_return"
   ]
  },
  {
   "cell_type": "code",
   "execution_count": 79,
   "metadata": {
    "ExecuteTime": {
     "end_time": "2018-08-09T20:02:52.145053Z",
     "start_time": "2018-08-09T20:02:52.136934Z"
    }
   },
   "outputs": [
    {
     "name": "stdout",
     "output_type": "stream",
     "text": [
      "key 40:2\n",
      "{}\n",
      "key 40:1\n",
      "{}\n",
      "key 0:0\n",
      "key 40:0\n",
      "{}\n",
      "key 20:-1\n",
      "key 40:-1\n",
      "0\n",
      "0\n",
      "{'40:0': 0}\n",
      "1\n",
      "1\n",
      "{'40:0': 0, '40:1': 1}\n",
      "1\n",
      "1\n",
      "{'40:0': 0, '40:1': 1, '40:2': 1}\n"
     ]
    },
    {
     "data": {
      "text/plain": [
       "1"
      ]
     },
     "execution_count": 79,
     "metadata": {},
     "output_type": "execute_result"
    }
   ],
   "source": [
    "dp(np.array([20,40,60]),40,2,mem={})"
   ]
  },
  {
   "cell_type": "code",
   "execution_count": 92,
   "metadata": {
    "ExecuteTime": {
     "end_time": "2018-08-10T17:33:32.414165Z",
     "start_time": "2018-08-10T17:33:32.410303Z"
    }
   },
   "outputs": [],
   "source": [
    "glob_val=0\n",
    "\n",
    "def minCoins(coinList,change):\n",
    "    global glob_val \n",
    "    min_coin=change\n",
    "    #print(\"min_coin=\",min_coin)\n",
    "    if change in coinList:\n",
    "        return 1\n",
    "    else:\n",
    "        for i in [c for c in coinList if c<= change]:\n",
    "            #print('i=',i)\n",
    "            glob_val +=1\n",
    "            num_coin=1+minCoins(coinList,change-i)\n",
    "            #print(\"num_coin=\",num_coin)\n",
    "            if num_coin < min_coin:\n",
    "                min_coin=num_coin\n",
    "                #print(\"min_swap \")\n",
    "                \n",
    "        \n",
    "    return min_coin"
   ]
  },
  {
   "cell_type": "code",
   "execution_count": 100,
   "metadata": {
    "ExecuteTime": {
     "end_time": "2018-08-10T17:38:57.279467Z",
     "start_time": "2018-08-10T17:38:57.275737Z"
    }
   },
   "outputs": [],
   "source": [
    "glob_val=0\n",
    "\n",
    "def minCoins(coinList,change,knowResults):\n",
    "    global glob_val \n",
    "    min_coin=change\n",
    "    #print(\"min_coin=\",min_coin)\n",
    "    if change in coinList:\n",
    "        knowResults[change]=1\n",
    "        return 1\n",
    "    elif knowResults[change] > 0:\n",
    "        return knowResults[change]\n",
    "    else:\n",
    "        for i in [c for c in coinList if c<= change]:\n",
    "            #print('i=',i)\n",
    "            glob_val +=1\n",
    "            num_coin=1+minCoins(coinList,change-i,knowResults)\n",
    "            #print(\"num_coin=\",num_coin)\n",
    "            if num_coin < min_coin:\n",
    "                min_coin=num_coin\n",
    "                knowResults[change]=min_coin\n",
    "                #print(\"min_swap \")\n",
    "                \n",
    "        \n",
    "    return min_coin"
   ]
  },
  {
   "cell_type": "code",
   "execution_count": 103,
   "metadata": {
    "ExecuteTime": {
     "end_time": "2018-08-10T17:52:55.764552Z",
     "start_time": "2018-08-10T17:52:55.760100Z"
    }
   },
   "outputs": [
    {
     "data": {
      "text/plain": [
       "3"
      ]
     },
     "execution_count": 103,
     "metadata": {},
     "output_type": "execute_result"
    }
   ],
   "source": [
    "minCoins([1,5,10,21,25],63,[0]*64)"
   ]
  },
  {
   "cell_type": "code",
   "execution_count": 89,
   "metadata": {
    "ExecuteTime": {
     "end_time": "2018-08-10T17:31:37.228183Z",
     "start_time": "2018-08-10T17:31:37.221097Z"
    }
   },
   "outputs": [],
   "source": [
    "def printCoins(coinsUsed,change,i):\n",
    "    if change > coninsUsed[i]:\n",
    "        change,coinsUsed[i]=change-coinsUsed[i],\\\n",
    "        \n",
    "    "
   ]
  },
  {
   "cell_type": "code",
   "execution_count": 104,
   "metadata": {
    "ExecuteTime": {
     "end_time": "2018-08-10T17:53:03.257961Z",
     "start_time": "2018-08-10T17:53:03.254936Z"
    }
   },
   "outputs": [
    {
     "name": "stdout",
     "output_type": "stream",
     "text": [
      "481\n"
     ]
    }
   ],
   "source": [
    "print(glob_val)"
   ]
  },
  {
   "cell_type": "code",
   "execution_count": 107,
   "metadata": {
    "ExecuteTime": {
     "end_time": "2018-08-10T18:07:29.337460Z",
     "start_time": "2018-08-10T18:07:29.334387Z"
    }
   },
   "outputs": [],
   "source": [
    "def dpMakeChange(coin_list,change,minCoins):\n",
    "    for cents in range(change+1):\n",
    "        min_coins=cents\n",
    "        for j in [c for c in coin_list if c<= cents]:\n",
    "            num_coins=minCoins[cents-j]+1\n",
    "            if  num_coins < min_coins:\n",
    "                min_coins=num_coins\n",
    "        minCoins[cents]=min_coins\n",
    "    return minCoins"
   ]
  },
  {
   "cell_type": "code",
   "execution_count": 111,
   "metadata": {
    "ExecuteTime": {
     "end_time": "2018-08-10T18:09:11.500009Z",
     "start_time": "2018-08-10T18:09:11.497065Z"
    }
   },
   "outputs": [
    {
     "name": "stdout",
     "output_type": "stream",
     "text": [
      "{0: 0, 1: 1, 2: 2, 3: 3, 4: 4, 5: 1, 6: 2, 7: 3, 8: 4, 9: 5, 10: 1, 11: 2, 12: 3, 13: 4, 14: 5, 15: 2, 16: 3, 17: 4, 18: 5, 19: 6, 20: 2, 21: 1, 22: 2, 23: 3, 24: 4, 25: 1, 26: 2, 27: 3, 28: 4, 29: 5, 30: 2, 31: 2, 32: 3, 33: 4, 34: 5, 35: 2, 36: 3, 37: 4, 38: 5, 39: 6, 40: 3, 41: 3, 42: 2, 43: 3, 44: 4, 45: 3, 46: 2, 47: 3, 48: 4, 49: 5, 50: 2, 51: 3, 52: 3, 53: 4, 54: 5, 55: 3, 56: 3, 57: 4, 58: 5, 59: 6, 60: 3, 61: 4, 62: 4, 63: 3}\n"
     ]
    }
   ],
   "source": [
    "#print('.', end='')\n",
    "print(dpMakeChange([1,5,10,21,25],63,{}))"
   ]
  },
  {
   "cell_type": "code",
   "execution_count": 139,
   "metadata": {
    "ExecuteTime": {
     "end_time": "2018-08-11T13:52:11.220384Z",
     "start_time": "2018-08-11T13:52:11.218183Z"
    }
   },
   "outputs": [],
   "source": [
    "def split_cat(astring):\n",
    "    return astring[::2]+' '+astring[1::2]\n",
    "            \n",
    "        "
   ]
  },
  {
   "cell_type": "code",
   "execution_count": 143,
   "metadata": {
    "ExecuteTime": {
     "end_time": "2018-08-11T13:54:22.083950Z",
     "start_time": "2018-08-11T13:54:22.080574Z"
    }
   },
   "outputs": [
    {
     "data": {
      "text/plain": [
       "' '"
      ]
     },
     "execution_count": 143,
     "metadata": {},
     "output_type": "execute_result"
    }
   ],
   "source": [
    "a=\"\"\n",
    "split_cat(a)"
   ]
  },
  {
   "cell_type": "code",
   "execution_count": 141,
   "metadata": {
    "ExecuteTime": {
     "end_time": "2018-08-11T13:52:44.772752Z",
     "start_time": "2018-08-11T13:52:44.769499Z"
    }
   },
   "outputs": [
    {
     "data": {
      "text/plain": [
       "'Hce akr'"
      ]
     },
     "execution_count": 141,
     "metadata": {},
     "output_type": "execute_result"
    }
   ],
   "source": [
    "split_cat(\"Hacker\")"
   ]
  },
  {
   "cell_type": "code",
   "execution_count": 142,
   "metadata": {
    "ExecuteTime": {
     "end_time": "2018-08-11T13:52:52.743666Z",
     "start_time": "2018-08-11T13:52:52.737937Z"
    }
   },
   "outputs": [
    {
     "data": {
      "text/plain": [
       "'Rn ak'"
      ]
     },
     "execution_count": 142,
     "metadata": {},
     "output_type": "execute_result"
    }
   ],
   "source": [
    "split_cat(\"Rank\")"
   ]
  },
  {
   "cell_type": "code",
   "execution_count": 129,
   "metadata": {
    "ExecuteTime": {
     "end_time": "2018-08-11T13:43:27.888460Z",
     "start_time": "2018-08-11T13:43:27.883718Z"
    }
   },
   "outputs": [
    {
     "name": "stdout",
     "output_type": "stream",
     "text": [
      "0 1\n",
      "2 3\n",
      "4 5\n",
      "6 7\n",
      "8 9\n"
     ]
    }
   ],
   "source": [
    "for i,j in zip(range(0,10,2),range(1,11,2)):\n",
    "    print(i,j)"
   ]
  },
  {
   "cell_type": "code",
   "execution_count": 144,
   "metadata": {
    "ExecuteTime": {
     "end_time": "2018-08-12T04:01:19.307102Z",
     "start_time": "2018-08-12T04:01:19.250382Z"
    }
   },
   "outputs": [],
   "source": [
    "def flip_vertical_axis(matrix):\n",
    "    new_list=[]\n",
    "    for i in range(len(matrix)):\n",
    "        new_list.append(matrix[i][::-1])\n",
    "    return new_list\n",
    "    "
   ]
  },
  {
   "cell_type": "code",
   "execution_count": 145,
   "metadata": {
    "ExecuteTime": {
     "end_time": "2018-08-12T04:01:43.656281Z",
     "start_time": "2018-08-12T04:01:43.636845Z"
    }
   },
   "outputs": [],
   "source": [
    "a=[[1,2,3],[4,5,6],[7,8,9]]"
   ]
  },
  {
   "cell_type": "code",
   "execution_count": 146,
   "metadata": {
    "ExecuteTime": {
     "end_time": "2018-08-12T04:01:50.862297Z",
     "start_time": "2018-08-12T04:01:50.821430Z"
    }
   },
   "outputs": [
    {
     "data": {
      "text/plain": [
       "[[3, 2, 1], [6, 5, 4], [9, 8, 7]]"
      ]
     },
     "execution_count": 146,
     "metadata": {},
     "output_type": "execute_result"
    }
   ],
   "source": [
    "flip_vertical_axis(a)"
   ]
  },
  {
   "cell_type": "code",
   "execution_count": 152,
   "metadata": {
    "ExecuteTime": {
     "end_time": "2018-08-12T20:11:11.053633Z",
     "start_time": "2018-08-12T20:11:11.049653Z"
    }
   },
   "outputs": [],
   "source": [
    "aa=[1,5,5,1,2]"
   ]
  },
  {
   "cell_type": "code",
   "execution_count": 154,
   "metadata": {
    "ExecuteTime": {
     "end_time": "2018-08-12T20:14:35.018769Z",
     "start_time": "2018-08-12T20:14:35.013624Z"
    }
   },
   "outputs": [],
   "source": [
    "bb=list(set(aa))"
   ]
  },
  {
   "cell_type": "code",
   "execution_count": 155,
   "metadata": {
    "ExecuteTime": {
     "end_time": "2018-08-12T20:14:45.315281Z",
     "start_time": "2018-08-12T20:14:45.303926Z"
    }
   },
   "outputs": [
    {
     "data": {
      "text/plain": [
       "set()"
      ]
     },
     "execution_count": 155,
     "metadata": {},
     "output_type": "execute_result"
    }
   ],
   "source": [
    "set(aa)-set(bb)"
   ]
  },
  {
   "cell_type": "code",
   "execution_count": 156,
   "metadata": {
    "ExecuteTime": {
     "end_time": "2018-08-12T20:23:20.184997Z",
     "start_time": "2018-08-12T20:23:20.162755Z"
    }
   },
   "outputs": [],
   "source": [
    "a = [1,2,3,2,1,5,6,5,5,5]\n",
    "def dup(alist):\n",
    "    seen=set()\n",
    "    uniq=[]\n",
    "    for i in a:\n",
    "        if i not in seen:\n",
    "            seen.add(i)\n",
    "            uniq.append(i)\n",
    "            \n",
    "    return seen,uniq"
   ]
  },
  {
   "cell_type": "code",
   "execution_count": 157,
   "metadata": {
    "ExecuteTime": {
     "end_time": "2018-08-12T20:23:24.849758Z",
     "start_time": "2018-08-12T20:23:24.839563Z"
    }
   },
   "outputs": [
    {
     "data": {
      "text/plain": [
       "({1, 2, 3, 5, 6}, [1, 2, 3, 5, 6])"
      ]
     },
     "execution_count": 157,
     "metadata": {},
     "output_type": "execute_result"
    }
   ],
   "source": [
    "dup(a)"
   ]
  },
  {
   "cell_type": "code",
   "execution_count": 158,
   "metadata": {
    "ExecuteTime": {
     "end_time": "2018-08-12T20:39:31.159002Z",
     "start_time": "2018-08-12T20:39:31.149627Z"
    }
   },
   "outputs": [
    {
     "data": {
      "text/plain": [
       "[1, 1]"
      ]
     },
     "execution_count": 158,
     "metadata": {},
     "output_type": "execute_result"
    }
   ],
   "source": [
    "[1]*2"
   ]
  },
  {
   "cell_type": "code",
   "execution_count": 159,
   "metadata": {
    "ExecuteTime": {
     "end_time": "2018-08-12T20:40:20.561444Z",
     "start_time": "2018-08-12T20:40:20.557243Z"
    }
   },
   "outputs": [
    {
     "data": {
      "text/plain": [
       "[1, 2, 3, 2, 1, 5, 6, 5, 5, 5]"
      ]
     },
     "execution_count": 159,
     "metadata": {},
     "output_type": "execute_result"
    }
   ],
   "source": [
    "a"
   ]
  },
  {
   "cell_type": "code",
   "execution_count": 162,
   "metadata": {
    "ExecuteTime": {
     "end_time": "2018-08-12T20:40:57.769160Z",
     "start_time": "2018-08-12T20:40:57.764642Z"
    }
   },
   "outputs": [
    {
     "data": {
      "text/plain": [
       "[1, 2, 3, 2, 1, 5, 6, 5, 5, 5]"
      ]
     },
     "execution_count": 162,
     "metadata": {},
     "output_type": "execute_result"
    }
   ],
   "source": [
    "a[0:]"
   ]
  },
  {
   "cell_type": "code",
   "execution_count": 163,
   "metadata": {
    "ExecuteTime": {
     "end_time": "2018-08-12T20:41:47.718770Z",
     "start_time": "2018-08-12T20:41:47.708504Z"
    }
   },
   "outputs": [
    {
     "ename": "TypeError",
     "evalue": "'int' object is not iterable",
     "output_type": "error",
     "traceback": [
      "\u001b[0;31m---------------------------------------------------------------------------\u001b[0m",
      "\u001b[0;31mTypeError\u001b[0m                                 Traceback (most recent call last)",
      "\u001b[0;32m<ipython-input-163-af1162a3a70f>\u001b[0m in \u001b[0;36m<module>\u001b[0;34m()\u001b[0m\n\u001b[0;32m----> 1\u001b[0;31m \u001b[0mmap\u001b[0m\u001b[0;34m(\u001b[0m\u001b[0ma\u001b[0m\u001b[0;34m,\u001b[0m\u001b[0;36m0\u001b[0m\u001b[0;34m,\u001b[0m\u001b[0;36m4\u001b[0m\u001b[0;34m)\u001b[0m\u001b[0;34m\u001b[0m\u001b[0m\n\u001b[0m",
      "\u001b[0;31mTypeError\u001b[0m: 'int' object is not iterable"
     ]
    }
   ],
   "source": [
    "map(a,0,4)"
   ]
  },
  {
   "cell_type": "code",
   "execution_count": 164,
   "metadata": {
    "ExecuteTime": {
     "end_time": "2018-08-12T20:45:21.353444Z",
     "start_time": "2018-08-12T20:45:21.334762Z"
    }
   },
   "outputs": [],
   "source": [
    "\n",
    "class Range(object):\n",
    "    def __init__(self):\n",
    "        self.lower_bound = -1\n",
    "        self.upper_bound = -1\n",
    "    \n",
    "    def __init__(self,lower_bound,upper_bound):\n",
    "        self.lower_bound = lower_bound\n",
    "        self.upper_bound = upper_bound\n",
    " \n",
    "    def __str__(self):\n",
    "        return \"[\"+str(self.lower_bound)+\",\"+str(self.upper_bound)+\"]\""
   ]
  },
  {
   "cell_type": "code",
   "execution_count": 166,
   "metadata": {
    "ExecuteTime": {
     "end_time": "2018-08-12T20:45:41.220142Z",
     "start_time": "2018-08-12T20:45:41.217906Z"
    }
   },
   "outputs": [],
   "source": [
    "ak=Range(1,1)"
   ]
  },
  {
   "cell_type": "code",
   "execution_count": 168,
   "metadata": {
    "ExecuteTime": {
     "end_time": "2018-08-12T20:45:50.639358Z",
     "start_time": "2018-08-12T20:45:50.625560Z"
    }
   },
   "outputs": [
    {
     "name": "stdout",
     "output_type": "stream",
     "text": [
      "[1,1]\n"
     ]
    }
   ],
   "source": [
    "print(ak)"
   ]
  },
  {
   "cell_type": "code",
   "execution_count": 169,
   "metadata": {
    "ExecuteTime": {
     "end_time": "2018-08-12T20:52:10.025621Z",
     "start_time": "2018-08-12T20:52:10.019659Z"
    }
   },
   "outputs": [
    {
     "name": "stdout",
     "output_type": "stream",
     "text": [
      "0 1\n",
      "1 2\n",
      "2 3\n",
      "3 2\n",
      "4 1\n",
      "5 5\n",
      "6 6\n",
      "7 5\n",
      "8 5\n",
      "9 5\n"
     ]
    }
   ],
   "source": [
    "for i,j in enumerate(a):\n",
    "    print(i,j)"
   ]
  },
  {
   "cell_type": "code",
   "execution_count": null,
   "metadata": {},
   "outputs": [],
   "source": []
  }
 ],
 "metadata": {
  "kernelspec": {
   "display_name": "Python 3",
   "language": "python",
   "name": "python3"
  },
  "language_info": {
   "codemirror_mode": {
    "name": "ipython",
    "version": 3
   },
   "file_extension": ".py",
   "mimetype": "text/x-python",
   "name": "python",
   "nbconvert_exporter": "python",
   "pygments_lexer": "ipython3",
   "version": "3.6.4"
  },
  "toc": {
   "colors": {
    "hover_highlight": "#DAA520",
    "navigate_num": "#000000",
    "navigate_text": "#333333",
    "running_highlight": "#FF0000",
    "selected_highlight": "#FFD700",
    "sidebar_border": "#EEEEEE",
    "wrapper_background": "#FFFFFF"
   },
   "moveMenuLeft": true,
   "nav_menu": {
    "height": "4px",
    "width": "254px"
   },
   "navigate_menu": true,
   "number_sections": true,
   "sideBar": true,
   "threshold": 4,
   "toc_cell": false,
   "toc_section_display": "block",
   "toc_window_display": false,
   "widenNotebook": false
  }
 },
 "nbformat": 4,
 "nbformat_minor": 2
}
