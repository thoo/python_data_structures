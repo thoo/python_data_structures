{
 "cells": [
  {
   "cell_type": "code",
   "execution_count": 1,
   "metadata": {
    "ExecuteTime": {
     "end_time": "2018-08-10T18:15:04.109314Z",
     "start_time": "2018-08-10T18:15:04.105665Z"
    }
   },
   "outputs": [],
   "source": [
    "def BinaryTree(r):\n",
    "    return [r,[],[]]"
   ]
  },
  {
   "cell_type": "code",
   "execution_count": 81,
   "metadata": {
    "ExecuteTime": {
     "end_time": "2018-08-10T19:21:46.613472Z",
     "start_time": "2018-08-10T19:21:46.607250Z"
    }
   },
   "outputs": [],
   "source": [
    "def insertLeft(root,newbranch):\n",
    "    t=root.pop(1)\n",
    "    if len(t)>0:\n",
    "        root.insert(1,[newbranch,t,[]])\n",
    "    else:\n",
    "        root.insert(1,[newbranch,[],[]])\n",
    "    return root\n",
    "\n",
    "def insertRight(root,newbranch):\n",
    "    t=root.pop(2)\n",
    "    if len(t) >1:\n",
    "        root.insert(2,[newbranch,[],t])\n",
    "    else:\n",
    "        root.insert(2,[newbranch,[],[]])\n",
    "    return root\n",
    "\n",
    "def getRootVal(root):\n",
    "    return root[0]\n",
    "\n",
    "def setRootVal(root,val):\n",
    "     root[0] = val\n",
    "def getLeftChild(root):\n",
    "    return root[1]\n",
    "def getRightChild(root):\n",
    "    return root[2]"
   ]
  },
  {
   "cell_type": "code",
   "execution_count": 86,
   "metadata": {
    "ExecuteTime": {
     "end_time": "2018-08-10T19:28:59.221532Z",
     "start_time": "2018-08-10T19:28:59.218205Z"
    }
   },
   "outputs": [],
   "source": [
    "myTree = ['a',   #root\n",
    "      ['b',  #left subtree\n",
    "       ['d', [], []],\n",
    "       ['e', [], []] ],\n",
    "      ['c',  #right subtree\n",
    "       ['f', [], []],\n",
    "       [] ]\n",
    "     ]"
   ]
  },
  {
   "cell_type": "code",
   "execution_count": 82,
   "metadata": {
    "ExecuteTime": {
     "end_time": "2018-08-10T19:21:59.296902Z",
     "start_time": "2018-08-10T19:21:59.293029Z"
    }
   },
   "outputs": [
    {
     "data": {
      "text/plain": [
       "['a', ['b', [], []], ['c', [], []]]"
      ]
     },
     "execution_count": 82,
     "metadata": {},
     "output_type": "execute_result"
    }
   ],
   "source": [
    "x = BinaryTree('a')\n",
    "insertLeft(x,'b')\n",
    "insertRight(x,'c')"
   ]
  },
  {
   "cell_type": "code",
   "execution_count": 83,
   "metadata": {
    "ExecuteTime": {
     "end_time": "2018-08-10T19:22:01.410860Z",
     "start_time": "2018-08-10T19:22:01.407673Z"
    }
   },
   "outputs": [
    {
     "data": {
      "text/plain": [
       "['a', ['b', [], []], ['c', [], []]]"
      ]
     },
     "execution_count": 83,
     "metadata": {},
     "output_type": "execute_result"
    }
   ],
   "source": [
    "x"
   ]
  },
  {
   "cell_type": "code",
   "execution_count": 84,
   "metadata": {
    "ExecuteTime": {
     "end_time": "2018-08-10T19:22:03.525452Z",
     "start_time": "2018-08-10T19:22:03.521826Z"
    }
   },
   "outputs": [
    {
     "data": {
      "text/plain": [
       "['c', [], ['d', [], []]]"
      ]
     },
     "execution_count": 84,
     "metadata": {},
     "output_type": "execute_result"
    }
   ],
   "source": [
    "insertRight(getRightChild(x),'d')"
   ]
  },
  {
   "cell_type": "code",
   "execution_count": 85,
   "metadata": {
    "ExecuteTime": {
     "end_time": "2018-08-10T19:22:23.130301Z",
     "start_time": "2018-08-10T19:22:23.126936Z"
    }
   },
   "outputs": [
    {
     "data": {
      "text/plain": [
       "['a', ['b', [], []], ['c', [], ['d', [], []]]]"
      ]
     },
     "execution_count": 85,
     "metadata": {},
     "output_type": "execute_result"
    }
   ],
   "source": [
    "x"
   ]
  },
  {
   "cell_type": "code",
   "execution_count": null,
   "metadata": {
    "ExecuteTime": {
     "end_time": "2018-08-10T18:44:25.386197Z",
     "start_time": "2018-08-10T18:44:25.376960Z"
    }
   },
   "outputs": [],
   "source": [
    "[\n",
    "    a,\n",
    " [b,[],[]], #Left\n",
    "[c,[],[d,[e,[],[]],[]]] #Right\n",
    "]"
   ]
  },
  {
   "cell_type": "code",
   "execution_count": 99,
   "metadata": {
    "ExecuteTime": {
     "end_time": "2018-08-10T19:56:07.016982Z",
     "start_time": "2018-08-10T19:56:07.014044Z"
    }
   },
   "outputs": [],
   "source": [
    "def buildTree():\n",
    "    x=BinaryTree('a')\n",
    "    insertLeft(x,'b')\n",
    "    insertRight(x,'c')\n",
    "    insertRight(getLeftChild(x),'d')\n",
    "    insertLeft(getRightChild(x),'e')\n",
    "    insertRight(getRightChild(x),'f')\n",
    "    \n",
    "    return x\n",
    "    \n",
    "    "
   ]
  },
  {
   "cell_type": "code",
   "execution_count": 100,
   "metadata": {
    "ExecuteTime": {
     "end_time": "2018-08-10T19:56:07.761147Z",
     "start_time": "2018-08-10T19:56:07.758371Z"
    }
   },
   "outputs": [],
   "source": [
    "#from test import testEqual\n",
    "\n",
    "ttree = buildTree()\n",
    "assert getRootVal(getRightChild(ttree))=='c'\n",
    "assert getRootVal(getRightChild(getLeftChild(ttree)))=='d'\n",
    "assert getRootVal(getRightChild(getRightChild(ttree)))== 'f'\n"
   ]
  },
  {
   "cell_type": "code",
   "execution_count": 95,
   "metadata": {
    "ExecuteTime": {
     "end_time": "2018-08-10T19:53:04.934854Z",
     "start_time": "2018-08-10T19:53:04.930651Z"
    }
   },
   "outputs": [
    {
     "data": {
      "text/plain": [
       "'c'"
      ]
     },
     "execution_count": 95,
     "metadata": {},
     "output_type": "execute_result"
    }
   ],
   "source": [
    "getRootVal(getRightChild(ttree))"
   ]
  },
  {
   "cell_type": "code",
   "execution_count": 107,
   "metadata": {
    "ExecuteTime": {
     "end_time": "2018-08-10T20:02:24.185705Z",
     "start_time": "2018-08-10T20:02:24.183261Z"
    }
   },
   "outputs": [],
   "source": [
    "myTree = ['a', ['b', ['d',[],[]], ['e',[],[]] ],\\\n",
    "          ['c', ['f',[],[]], []] ]"
   ]
  },
  {
   "cell_type": "code",
   "execution_count": 104,
   "metadata": {
    "ExecuteTime": {
     "end_time": "2018-08-10T20:00:58.633387Z",
     "start_time": "2018-08-10T20:00:58.629676Z"
    }
   },
   "outputs": [
    {
     "data": {
      "text/plain": [
       "['b', ['d', [], []], ['e', [], []]]"
      ]
     },
     "execution_count": 104,
     "metadata": {},
     "output_type": "execute_result"
    }
   ],
   "source": [
    "myTree.pop(1)"
   ]
  },
  {
   "cell_type": "code",
   "execution_count": 106,
   "metadata": {
    "ExecuteTime": {
     "end_time": "2018-08-10T20:01:55.740815Z",
     "start_time": "2018-08-10T20:01:55.737618Z"
    }
   },
   "outputs": [
    {
     "data": {
      "text/plain": [
       "['a', ['b', ['d', [], []], ['e', [], []]], []]"
      ]
     },
     "execution_count": 106,
     "metadata": {},
     "output_type": "execute_result"
    }
   ],
   "source": [
    "['a',myTree.pop(1),[]]"
   ]
  },
  {
   "cell_type": "code",
   "execution_count": 108,
   "metadata": {
    "ExecuteTime": {
     "end_time": "2018-08-10T20:02:50.580327Z",
     "start_time": "2018-08-10T20:02:50.577199Z"
    }
   },
   "outputs": [
    {
     "name": "stdout",
     "output_type": "stream",
     "text": [
      "['a', ['a', ['b', ['d', [], []], ['e', [], []]], []], ['c', ['f', [], []], []]]\n"
     ]
    }
   ],
   "source": [
    "insertLeft(myTree,'a')\n",
    "print(myTree)"
   ]
  },
  {
   "cell_type": "code",
   "execution_count": null,
   "metadata": {
    "ExecuteTime": {
     "end_time": "2018-08-10T18:45:57.282655Z",
     "start_time": "2018-08-10T18:45:57.279061Z"
    }
   },
   "outputs": [],
   "source": []
  },
  {
   "cell_type": "code",
   "execution_count": null,
   "metadata": {
    "ExecuteTime": {
     "end_time": "2018-08-10T18:46:12.816098Z",
     "start_time": "2018-08-10T18:46:12.812269Z"
    }
   },
   "outputs": [],
   "source": []
  },
  {
   "cell_type": "code",
   "execution_count": null,
   "metadata": {
    "ExecuteTime": {
     "end_time": "2018-08-10T18:51:12.229133Z",
     "start_time": "2018-08-10T18:51:12.224792Z"
    }
   },
   "outputs": [],
   "source": []
  },
  {
   "cell_type": "code",
   "execution_count": null,
   "metadata": {
    "ExecuteTime": {
     "end_time": "2018-08-10T18:57:00.229915Z",
     "start_time": "2018-08-10T18:57:00.227702Z"
    }
   },
   "outputs": [],
   "source": []
  },
  {
   "cell_type": "code",
   "execution_count": null,
   "metadata": {
    "ExecuteTime": {
     "end_time": "2018-08-10T19:03:28.443942Z",
     "start_time": "2018-08-10T19:03:28.441358Z"
    }
   },
   "outputs": [],
   "source": []
  },
  {
   "cell_type": "code",
   "execution_count": null,
   "metadata": {
    "ExecuteTime": {
     "end_time": "2018-08-10T19:07:03.784082Z",
     "start_time": "2018-08-10T19:07:03.772915Z"
    }
   },
   "outputs": [],
   "source": []
  },
  {
   "cell_type": "code",
   "execution_count": null,
   "metadata": {
    "ExecuteTime": {
     "end_time": "2018-08-10T19:02:10.830614Z",
     "start_time": "2018-08-10T19:02:10.828189Z"
    }
   },
   "outputs": [],
   "source": []
  },
  {
   "cell_type": "code",
   "execution_count": null,
   "metadata": {
    "ExecuteTime": {
     "end_time": "2018-08-10T19:05:12.441620Z",
     "start_time": "2018-08-10T19:05:12.438401Z"
    }
   },
   "outputs": [],
   "source": []
  },
  {
   "cell_type": "code",
   "execution_count": null,
   "metadata": {
    "ExecuteTime": {
     "end_time": "2018-08-10T19:06:06.090637Z",
     "start_time": "2018-08-10T19:06:06.077358Z"
    }
   },
   "outputs": [],
   "source": []
  },
  {
   "cell_type": "code",
   "execution_count": 111,
   "metadata": {
    "ExecuteTime": {
     "end_time": "2018-08-10T23:12:51.753288Z",
     "start_time": "2018-08-10T23:12:51.750524Z"
    }
   },
   "outputs": [],
   "source": [
    "def fib(n):\n",
    "    if n==0:\n",
    "        return 0\n",
    "    elif n==1:\n",
    "        return 1\n",
    "    else:\n",
    "        return fib(n-1)+fib(n-2)\n",
    "            "
   ]
  },
  {
   "cell_type": "code",
   "execution_count": 112,
   "metadata": {
    "ExecuteTime": {
     "end_time": "2018-08-10T23:12:52.480685Z",
     "start_time": "2018-08-10T23:12:52.477513Z"
    }
   },
   "outputs": [
    {
     "data": {
      "text/plain": [
       "1"
      ]
     },
     "execution_count": 112,
     "metadata": {},
     "output_type": "execute_result"
    }
   ],
   "source": [
    "fib(2)"
   ]
  },
  {
   "cell_type": "code",
   "execution_count": 113,
   "metadata": {
    "ExecuteTime": {
     "end_time": "2018-08-12T03:36:52.455591Z",
     "start_time": "2018-08-12T03:36:52.378025Z"
    }
   },
   "outputs": [],
   "source": [
    "class BinaryTree:\n",
    "    def __init__(self, root_node = None):\n",
    "            self.root = root_node\n",
    "            self.left = None\n",
    "            self.right = None\n",
    "\n",
    "    def number_of_leaves(self,root):\n",
    "        if root is None:\n",
    "            return 0\n",
    "        if(root.left == None and root.right == None):\n",
    "            return 1\n",
    "        else:\n",
    "            return number_of_leaves(root.left)+number_of_leaves(root.right)"
   ]
  },
  {
   "cell_type": "code",
   "execution_count": 114,
   "metadata": {
    "ExecuteTime": {
     "end_time": "2018-08-12T03:37:07.547959Z",
     "start_time": "2018-08-12T03:37:07.545290Z"
    }
   },
   "outputs": [],
   "source": [
    "a=BinaryTree(10)"
   ]
  },
  {
   "cell_type": "code",
   "execution_count": 115,
   "metadata": {
    "ExecuteTime": {
     "end_time": "2018-08-12T03:37:10.641566Z",
     "start_time": "2018-08-12T03:37:10.631754Z"
    }
   },
   "outputs": [
    {
     "data": {
      "text/plain": [
       "<__main__.BinaryTree at 0x1512bcc3c8>"
      ]
     },
     "execution_count": 115,
     "metadata": {},
     "output_type": "execute_result"
    }
   ],
   "source": [
    "a"
   ]
  },
  {
   "cell_type": "code",
   "execution_count": 116,
   "metadata": {
    "ExecuteTime": {
     "end_time": "2018-08-12T03:37:21.254204Z",
     "start_time": "2018-08-12T03:37:21.249918Z"
    }
   },
   "outputs": [
    {
     "data": {
      "text/plain": [
       "10"
      ]
     },
     "execution_count": 116,
     "metadata": {},
     "output_type": "execute_result"
    }
   ],
   "source": [
    "a.root"
   ]
  },
  {
   "cell_type": "code",
   "execution_count": 117,
   "metadata": {
    "ExecuteTime": {
     "end_time": "2018-08-12T03:38:09.058520Z",
     "start_time": "2018-08-12T03:38:08.960502Z"
    }
   },
   "outputs": [
    {
     "ename": "TypeError",
     "evalue": "number_of_leaves() missing 1 required positional argument: 'root'",
     "output_type": "error",
     "traceback": [
      "\u001b[0;31m---------------------------------------------------------------------------\u001b[0m",
      "\u001b[0;31mTypeError\u001b[0m                                 Traceback (most recent call last)",
      "\u001b[0;32m<ipython-input-117-075cdcb36a85>\u001b[0m in \u001b[0;36m<module>\u001b[0;34m()\u001b[0m\n\u001b[0;32m----> 1\u001b[0;31m \u001b[0ma\u001b[0m\u001b[0;34m.\u001b[0m\u001b[0mnumber_of_leaves\u001b[0m\u001b[0;34m(\u001b[0m\u001b[0;34m)\u001b[0m\u001b[0;34m\u001b[0m\u001b[0m\n\u001b[0m",
      "\u001b[0;31mTypeError\u001b[0m: number_of_leaves() missing 1 required positional argument: 'root'"
     ]
    }
   ],
   "source": [
    "a.number_of_leaves()"
   ]
  },
  {
   "cell_type": "code",
   "execution_count": 22,
   "metadata": {
    "ExecuteTime": {
     "end_time": "2018-08-30T19:18:21.080257Z",
     "start_time": "2018-08-30T19:18:21.076012Z"
    }
   },
   "outputs": [],
   "source": [
    "class Node:\n",
    "    def __init__(self,data):\n",
    "        self.data=data\n",
    "        self.right=None\n",
    "        self.left=None\n",
    "        \n",
    "class aTree:\n",
    "    def makeTree(self,alist):\n",
    "        if not alist:\n",
    "            return  \n",
    "        \n",
    "        return self._makeTree(alist,0,len(alist)-1)\n",
    "    \n",
    "    def _makeTree(self,alist,start,end):\n",
    "        if end < start:\n",
    "            return None\n",
    "        mid=(start+end)//2\n",
    "        node=Node(alist[mid])\n",
    "        node.left=self._makeTree(alist,start,mid-1)\n",
    "        node.right=self._makeTree(alist,mid+1,end)\n",
    "        \n",
    "        return node\n",
    "    \n",
    "    def traversal(self,node):\n",
    "        if not node:\n",
    "            return\n",
    "        print(node.data)\n",
    "        self.traversal(node.left)\n",
    "        self.traversal(node.right)\n",
    "        \n",
    "        "
   ]
  },
  {
   "cell_type": "code",
   "execution_count": 32,
   "metadata": {
    "ExecuteTime": {
     "end_time": "2018-08-30T22:08:26.389160Z",
     "start_time": "2018-08-30T22:08:26.386805Z"
    }
   },
   "outputs": [],
   "source": [
    "test=aTree()"
   ]
  },
  {
   "cell_type": "code",
   "execution_count": 18,
   "metadata": {
    "ExecuteTime": {
     "end_time": "2018-08-30T19:13:37.888693Z",
     "start_time": "2018-08-30T19:13:37.886520Z"
    }
   },
   "outputs": [],
   "source": [
    "alist=list(range(10))"
   ]
  },
  {
   "cell_type": "code",
   "execution_count": 30,
   "metadata": {
    "ExecuteTime": {
     "end_time": "2018-08-30T22:08:22.017572Z",
     "start_time": "2018-08-30T22:08:22.014195Z"
    }
   },
   "outputs": [],
   "source": [
    "alist =[1, 2, 3, 4, 5, 6, 7] "
   ]
  },
  {
   "cell_type": "code",
   "execution_count": 33,
   "metadata": {
    "ExecuteTime": {
     "end_time": "2018-08-30T22:08:28.653403Z",
     "start_time": "2018-08-30T22:08:28.649641Z"
    }
   },
   "outputs": [],
   "source": [
    "Tree=test.makeTree(alist)"
   ]
  },
  {
   "cell_type": "code",
   "execution_count": 34,
   "metadata": {
    "ExecuteTime": {
     "end_time": "2018-08-30T22:08:29.553550Z",
     "start_time": "2018-08-30T22:08:29.548590Z"
    }
   },
   "outputs": [
    {
     "name": "stdout",
     "output_type": "stream",
     "text": [
      "4\n",
      "2\n",
      "1\n",
      "3\n",
      "6\n",
      "5\n",
      "7\n"
     ]
    }
   ],
   "source": [
    "test.traversal(Tree)"
   ]
  },
  {
   "cell_type": "code",
   "execution_count": 12,
   "metadata": {
    "ExecuteTime": {
     "end_time": "2018-08-30T19:03:23.727939Z",
     "start_time": "2018-08-30T19:03:23.723619Z"
    }
   },
   "outputs": [],
   "source": [
    "class Node:\n",
    "    def __init__(self, d):\n",
    "        self.data = d\n",
    "        self.left = None\n",
    "        self.right = None\n",
    " \n",
    "# function to convert sorted array to a\n",
    "# balanced BST\n",
    "# input : sorted array of integers\n",
    "# output: root node of balanced BST\n",
    "def sortedArrayToBST(arr):\n",
    "     \n",
    "    if not arr:\n",
    "        return None\n",
    " \n",
    "    # find middle\n",
    "    mid = (len(arr)) // 2\n",
    "     \n",
    "    # make the middle element the root\n",
    "    root = Node(arr[mid])\n",
    "     \n",
    "    # left subtree of root has all\n",
    "    # values <arr[mid]\n",
    "    root.left = sortedArrayToBST(arr[:mid])\n",
    "     \n",
    "    # right subtree of root has all \n",
    "    # values >arr[mid]\n",
    "    root.right = sortedArrayToBST(arr[mid+1:])\n",
    "    return root\n",
    " \n",
    "# A utility function to print the preorder \n",
    "# traversal of the BST\n",
    "def preOrder(node):\n",
    "    if not node:\n",
    "        return\n",
    "     \n",
    "    print (node.data),\n",
    "    preOrder(node.left)\n",
    "    preOrder(node.right) "
   ]
  },
  {
   "cell_type": "code",
   "execution_count": 28,
   "metadata": {
    "ExecuteTime": {
     "end_time": "2018-08-30T19:19:44.534661Z",
     "start_time": "2018-08-30T19:19:44.532414Z"
    }
   },
   "outputs": [],
   "source": [
    "root=sortedArrayToBST(alist)"
   ]
  },
  {
   "cell_type": "code",
   "execution_count": 29,
   "metadata": {
    "ExecuteTime": {
     "end_time": "2018-08-30T19:19:45.072323Z",
     "start_time": "2018-08-30T19:19:45.068882Z"
    }
   },
   "outputs": [
    {
     "name": "stdout",
     "output_type": "stream",
     "text": [
      "3\n",
      "2\n",
      "1\n",
      "5\n",
      "4\n"
     ]
    }
   ],
   "source": [
    "preOrder(root)"
   ]
  },
  {
   "cell_type": "code",
   "execution_count": 81,
   "metadata": {
    "ExecuteTime": {
     "end_time": "2018-08-31T18:53:02.623660Z",
     "start_time": "2018-08-31T18:53:02.613678Z"
    }
   },
   "outputs": [],
   "source": [
    "class bst:\n",
    "    def __init__(self,root=None):\n",
    "        self.root=root\n",
    "        \n",
    "    def insert(self,data):\n",
    "        if data is None:\n",
    "            raise TypeError(\"input data can't be none\")\n",
    "            \n",
    "        elif self.root is None:\n",
    "            self.root = Node(data)\n",
    "            return self.root\n",
    "        \n",
    "        else:\n",
    "            return self._insert(self.root,data)\n",
    "    \n",
    "    def _insert(self,node,data):\n",
    "        if not node:\n",
    "            return Node(data)\n",
    "        elif data < node.data:\n",
    "            if node.left is None:\n",
    "                node.left=self._insert(node.left,data)\n",
    "                return node.left\n",
    "            else:\n",
    "                return self._insert(node.left,data)\n",
    "            \n",
    "        else:\n",
    "            if node.right is None:\n",
    "                node.right=self._insert(node.right,data)\n",
    "                return node.right\n",
    "            else:\n",
    "                return self._insert(node.right,data)\n",
    "    def traversal(self):\n",
    "        if self.root is None:\n",
    "            return\n",
    "        print(self.root.data)\n",
    "        self.traversal()\n",
    "        self.traversal()\n",
    "                \n",
    "             \n",
    "            "
   ]
  },
  {
   "cell_type": "code",
   "execution_count": 117,
   "metadata": {
    "ExecuteTime": {
     "end_time": "2018-09-01T00:44:25.840550Z",
     "start_time": "2018-09-01T00:44:25.838333Z"
    }
   },
   "outputs": [],
   "source": [
    "a=bst()"
   ]
  },
  {
   "cell_type": "code",
   "execution_count": null,
   "metadata": {
    "ExecuteTime": {
     "end_time": "2018-08-31T18:42:31.480112Z",
     "start_time": "2018-08-31T18:42:31.476736Z"
    }
   },
   "outputs": [],
   "source": []
  },
  {
   "cell_type": "code",
   "execution_count": 83,
   "metadata": {
    "ExecuteTime": {
     "end_time": "2018-08-31T18:53:04.166899Z",
     "start_time": "2018-08-31T18:53:04.164454Z"
    }
   },
   "outputs": [],
   "source": [
    "import random as rd"
   ]
  },
  {
   "cell_type": "code",
   "execution_count": 84,
   "metadata": {
    "ExecuteTime": {
     "end_time": "2018-08-31T18:53:04.829343Z",
     "start_time": "2018-08-31T18:53:04.825574Z"
    }
   },
   "outputs": [
    {
     "data": {
      "text/plain": [
       "[2, 7, 6, 4, 8, 9, 3, 5, 1, 10]"
      ]
     },
     "execution_count": 84,
     "metadata": {},
     "output_type": "execute_result"
    }
   ],
   "source": [
    "rd.sample(range(1,11),10)"
   ]
  },
  {
   "cell_type": "code",
   "execution_count": 85,
   "metadata": {
    "ExecuteTime": {
     "end_time": "2018-08-31T18:53:05.157913Z",
     "start_time": "2018-08-31T18:53:05.155511Z"
    }
   },
   "outputs": [],
   "source": [
    "alist=[3, 8, 2, 1, 4, 7, 10, 5, 6, 9]"
   ]
  },
  {
   "cell_type": "code",
   "execution_count": 124,
   "metadata": {
    "ExecuteTime": {
     "end_time": "2018-09-01T02:43:50.485728Z",
     "start_time": "2018-09-01T02:43:50.482664Z"
    }
   },
   "outputs": [],
   "source": [
    "a=bst()\n",
    "alist=[6,8,4,2,5,7,10,1,3,9]"
   ]
  },
  {
   "cell_type": "code",
   "execution_count": 125,
   "metadata": {
    "ExecuteTime": {
     "end_time": "2018-09-01T02:43:51.669782Z",
     "start_time": "2018-09-01T02:43:51.667343Z"
    }
   },
   "outputs": [],
   "source": [
    "for i in alist:\n",
    "    a.insert(i)"
   ]
  },
  {
   "cell_type": "code",
   "execution_count": 87,
   "metadata": {
    "ExecuteTime": {
     "end_time": "2018-08-31T18:53:07.344459Z",
     "start_time": "2018-08-31T18:53:07.341242Z"
    }
   },
   "outputs": [
    {
     "data": {
      "text/plain": [
       "3"
      ]
     },
     "execution_count": 87,
     "metadata": {},
     "output_type": "execute_result"
    }
   ],
   "source": [
    "a.root.data"
   ]
  },
  {
   "cell_type": "code",
   "execution_count": 88,
   "metadata": {
    "ExecuteTime": {
     "end_time": "2018-08-31T18:53:08.033598Z",
     "start_time": "2018-08-31T18:53:08.030407Z"
    }
   },
   "outputs": [
    {
     "data": {
      "text/plain": [
       "2"
      ]
     },
     "execution_count": 88,
     "metadata": {},
     "output_type": "execute_result"
    }
   ],
   "source": [
    "a.root.left.data"
   ]
  },
  {
   "cell_type": "code",
   "execution_count": 154,
   "metadata": {
    "ExecuteTime": {
     "end_time": "2018-09-01T15:05:38.470553Z",
     "start_time": "2018-09-01T15:05:38.467776Z"
    }
   },
   "outputs": [],
   "source": [
    "def preOrder(node):\n",
    "    if not node:\n",
    "        return\n",
    "     \n",
    "    print (node.data,end=\" \"),\n",
    "    preOrder(node.left)\n",
    "    preOrder(node.right) "
   ]
  },
  {
   "cell_type": "code",
   "execution_count": 155,
   "metadata": {
    "ExecuteTime": {
     "end_time": "2018-09-01T15:05:40.631131Z",
     "start_time": "2018-09-01T15:05:40.625537Z"
    }
   },
   "outputs": [
    {
     "name": "stdout",
     "output_type": "stream",
     "text": [
      "6 4 2 1 3 5 8 7 10 9 "
     ]
    }
   ],
   "source": [
    "preOrder(a.root)"
   ]
  },
  {
   "cell_type": "code",
   "execution_count": 136,
   "metadata": {
    "ExecuteTime": {
     "end_time": "2018-09-01T14:48:17.204051Z",
     "start_time": "2018-09-01T14:48:17.197315Z"
    }
   },
   "outputs": [],
   "source": [
    "def InOrder(node):\n",
    "    if node:\n",
    "        \n",
    "        InOrder(node.left)\n",
    "        print(node.data,end=\" \")\n",
    "        InOrder(node.right)"
   ]
  },
  {
   "cell_type": "code",
   "execution_count": 137,
   "metadata": {
    "ExecuteTime": {
     "end_time": "2018-09-01T14:48:28.963667Z",
     "start_time": "2018-09-01T14:48:28.959579Z"
    }
   },
   "outputs": [],
   "source": [
    "def PostOrder(node):\n",
    "    if node:\n",
    "        PostOrder(node.left)\n",
    "        PostOrder(node.right)\n",
    "        print(node.data,end=\" \")"
   ]
  },
  {
   "cell_type": "code",
   "execution_count": 168,
   "metadata": {
    "ExecuteTime": {
     "end_time": "2018-09-01T18:56:54.192484Z",
     "start_time": "2018-09-01T18:56:54.187866Z"
    }
   },
   "outputs": [
    {
     "name": "stdout",
     "output_type": "stream",
     "text": [
      "1 3 2 5 4 7 9 10 8 6 "
     ]
    }
   ],
   "source": [
    "PostOrder(a.root)"
   ]
  },
  {
   "cell_type": "code",
   "execution_count": 139,
   "metadata": {
    "ExecuteTime": {
     "end_time": "2018-09-01T14:48:52.923507Z",
     "start_time": "2018-09-01T14:48:52.919126Z"
    }
   },
   "outputs": [
    {
     "name": "stdout",
     "output_type": "stream",
     "text": [
      "1 3 2 5 4 7 9 10 8 6 "
     ]
    }
   ],
   "source": [
    "PostOrder(a.root)"
   ]
  },
  {
   "cell_type": "code",
   "execution_count": 132,
   "metadata": {
    "ExecuteTime": {
     "end_time": "2018-09-01T04:39:44.367154Z",
     "start_time": "2018-09-01T04:39:44.361781Z"
    }
   },
   "outputs": [],
   "source": [
    "def inorder(node):\n",
    "    if not node:\n",
    "        return \n",
    "    astack=[]\n",
    "    current=node\n",
    "    while True:\n",
    "        if current:\n",
    "            astack.append(current)\n",
    "            current=current.left\n",
    "        else:\n",
    "            if len(astack)>0:\n",
    "                current=astack.pop()\n",
    "                print(current.data)\n",
    "                current=current.right\n",
    "            else:\n",
    "                break;\n",
    "                \n",
    "            \n",
    "        "
   ]
  },
  {
   "cell_type": "code",
   "execution_count": 133,
   "metadata": {
    "ExecuteTime": {
     "end_time": "2018-09-01T04:39:45.273407Z",
     "start_time": "2018-09-01T04:39:45.267239Z"
    }
   },
   "outputs": [
    {
     "name": "stdout",
     "output_type": "stream",
     "text": [
      "1\n",
      "2\n",
      "3\n",
      "4\n",
      "5\n",
      "6\n",
      "7\n",
      "8\n",
      "9\n",
      "10\n"
     ]
    }
   ],
   "source": [
    "inorder(a.root)"
   ]
  },
  {
   "cell_type": "code",
   "execution_count": 128,
   "metadata": {
    "ExecuteTime": {
     "end_time": "2018-09-01T03:51:33.246351Z",
     "start_time": "2018-09-01T03:51:33.242598Z"
    }
   },
   "outputs": [],
   "source": [
    "def preorder(node):\n",
    "    \n",
    "    if not node:\n",
    "        return \n",
    "    astack=[]\n",
    "    astack.append(node)\n",
    "    while len(astack)>0:\n",
    "        current=astack.pop()\n",
    "        print(current.data)\n",
    "        if current.right:\n",
    "            astack.append(current.right)\n",
    "        if current.left:\n",
    "            astack.append(current.left)\n",
    "            \n",
    "    \n",
    "    "
   ]
  },
  {
   "cell_type": "code",
   "execution_count": 129,
   "metadata": {
    "ExecuteTime": {
     "end_time": "2018-09-01T03:51:45.840925Z",
     "start_time": "2018-09-01T03:51:45.836217Z"
    }
   },
   "outputs": [
    {
     "name": "stdout",
     "output_type": "stream",
     "text": [
      "6\n",
      "4\n",
      "2\n",
      "1\n",
      "3\n",
      "5\n",
      "8\n",
      "7\n",
      "10\n",
      "9\n"
     ]
    }
   ],
   "source": [
    "preorder(a.root)"
   ]
  },
  {
   "cell_type": "code",
   "execution_count": 114,
   "metadata": {
    "ExecuteTime": {
     "end_time": "2018-08-31T20:14:00.108710Z",
     "start_time": "2018-08-31T20:14:00.106258Z"
    }
   },
   "outputs": [],
   "source": [
    "stack=[]\n",
    "stack.append(a.root)"
   ]
  },
  {
   "cell_type": "code",
   "execution_count": 116,
   "metadata": {
    "ExecuteTime": {
     "end_time": "2018-08-31T20:14:15.632314Z",
     "start_time": "2018-08-31T20:14:15.624546Z"
    }
   },
   "outputs": [
    {
     "ename": "IndexError",
     "evalue": "pop from empty list",
     "output_type": "error",
     "traceback": [
      "\u001b[0;31m---------------------------------------------------------------------------\u001b[0m",
      "\u001b[0;31mIndexError\u001b[0m                                Traceback (most recent call last)",
      "\u001b[0;32m<ipython-input-116-22feab6f66e2>\u001b[0m in \u001b[0;36m<module>\u001b[0;34m()\u001b[0m\n\u001b[0;32m----> 1\u001b[0;31m \u001b[0ma\u001b[0m\u001b[0;34m=\u001b[0m\u001b[0mstack\u001b[0m\u001b[0;34m.\u001b[0m\u001b[0mpop\u001b[0m\u001b[0;34m(\u001b[0m\u001b[0;34m)\u001b[0m\u001b[0;34m\u001b[0m\u001b[0m\n\u001b[0m\u001b[1;32m      2\u001b[0m \u001b[0ma\u001b[0m\u001b[0;34m.\u001b[0m\u001b[0mdata\u001b[0m\u001b[0;34m\u001b[0m\u001b[0m\n",
      "\u001b[0;31mIndexError\u001b[0m: pop from empty list"
     ]
    }
   ],
   "source": [
    "a=stack.pop()\n",
    "a.data"
   ]
  },
  {
   "cell_type": "code",
   "execution_count": 171,
   "metadata": {
    "ExecuteTime": {
     "end_time": "2018-09-01T19:30:48.392605Z",
     "start_time": "2018-09-01T19:30:48.389152Z"
    }
   },
   "outputs": [],
   "source": [
    "def porder(node):\n",
    "    astack=[]\n",
    "    #current=node\n",
    "    astack.append(node)\n",
    "    while astack:\n",
    "        current=astack.pop()\n",
    "        if current:\n",
    "            print(current.data,end=\" \")\n",
    "            astack.append(current.right)\n",
    "            astack.append(current.left)\n",
    "            "
   ]
  },
  {
   "cell_type": "code",
   "execution_count": 149,
   "metadata": {
    "ExecuteTime": {
     "end_time": "2018-09-01T15:04:54.820138Z",
     "start_time": "2018-09-01T15:04:54.817085Z"
    }
   },
   "outputs": [
    {
     "data": {
      "text/plain": [
       "<__main__.Node at 0x1181fe668>"
      ]
     },
     "execution_count": 149,
     "metadata": {},
     "output_type": "execute_result"
    }
   ],
   "source": [
    "a.root"
   ]
  },
  {
   "cell_type": "code",
   "execution_count": 172,
   "metadata": {
    "ExecuteTime": {
     "end_time": "2018-09-01T19:30:51.328373Z",
     "start_time": "2018-09-01T19:30:51.324299Z"
    }
   },
   "outputs": [
    {
     "name": "stdout",
     "output_type": "stream",
     "text": [
      "6 4 2 1 3 5 8 7 10 9 "
     ]
    }
   ],
   "source": [
    "porder(a.root)"
   ]
  },
  {
   "cell_type": "code",
   "execution_count": 151,
   "metadata": {
    "ExecuteTime": {
     "end_time": "2018-09-01T15:04:56.478336Z",
     "start_time": "2018-09-01T15:04:56.472639Z"
    }
   },
   "outputs": [
    {
     "name": "stdout",
     "output_type": "stream",
     "text": [
      "6 4 2 1 3 5 8 7 10 9 "
     ]
    }
   ],
   "source": [
    "porder(a.root)"
   ]
  },
  {
   "cell_type": "code",
   "execution_count": 156,
   "metadata": {
    "ExecuteTime": {
     "end_time": "2018-09-01T15:05:45.054627Z",
     "start_time": "2018-09-01T15:05:45.049567Z"
    }
   },
   "outputs": [
    {
     "name": "stdout",
     "output_type": "stream",
     "text": [
      "6 4 2 1 3 5 8 7 10 9 "
     ]
    }
   ],
   "source": [
    "preOrder(a.root)"
   ]
  },
  {
   "cell_type": "code",
   "execution_count": 169,
   "metadata": {
    "ExecuteTime": {
     "end_time": "2018-09-01T19:24:12.650192Z",
     "start_time": "2018-09-01T19:24:12.647254Z"
    }
   },
   "outputs": [],
   "source": [
    "def iorder(node):\n",
    "    astack=[]\n",
    "    current=node\n",
    "    \n",
    "    while astack or current:\n",
    "        if current:\n",
    "            astack.append(current)\n",
    "            current=current.left\n",
    "        else:\n",
    "            current=astack.pop()\n",
    "            print(current.data,end=\" \")\n",
    "            current=current.right\n",
    "            \n",
    "        "
   ]
  },
  {
   "cell_type": "code",
   "execution_count": 170,
   "metadata": {
    "ExecuteTime": {
     "end_time": "2018-09-01T19:24:13.802167Z",
     "start_time": "2018-09-01T19:24:13.798154Z"
    }
   },
   "outputs": [
    {
     "name": "stdout",
     "output_type": "stream",
     "text": [
      "1 2 3 4 5 6 7 8 9 10 "
     ]
    }
   ],
   "source": [
    "iorder(a.root)"
   ]
  },
  {
   "cell_type": "code",
   "execution_count": 173,
   "metadata": {
    "ExecuteTime": {
     "end_time": "2018-09-01T20:03:42.293478Z",
     "start_time": "2018-09-01T20:03:42.287588Z"
    }
   },
   "outputs": [],
   "source": [
    "def poorder(node):\n",
    "    astack=[(node,False)]\n",
    "    \n",
    "    while astack:\n",
    "        current,visited=astack.pop()\n",
    "        if current:\n",
    "            if visited:\n",
    "                print(current.data,end=\" \")\n",
    "\n",
    "            else:\n",
    "                astack.append((current,True))\n",
    "                astack.append((current.right,False))\n",
    "                astack.append((current.left,False))\n",
    "                \n",
    "            "
   ]
  },
  {
   "cell_type": "code",
   "execution_count": 174,
   "metadata": {
    "ExecuteTime": {
     "end_time": "2018-09-01T20:03:43.603855Z",
     "start_time": "2018-09-01T20:03:43.599614Z"
    }
   },
   "outputs": [
    {
     "name": "stdout",
     "output_type": "stream",
     "text": [
      "1 3 2 5 4 7 9 10 8 6 "
     ]
    }
   ],
   "source": [
    "poorder(a.root)"
   ]
  },
  {
   "cell_type": "code",
   "execution_count": 181,
   "metadata": {
    "ExecuteTime": {
     "end_time": "2018-09-01T21:12:56.506455Z",
     "start_time": "2018-09-01T21:12:56.503079Z"
    }
   },
   "outputs": [],
   "source": [
    "def poorder(node):\n",
    "    astack=[node]\n",
    "    temp=[]\n",
    "    while astack:\n",
    "        current=astack.pop()\n",
    "        if current:\n",
    "            temp.append(current.data)\n",
    "            astack.append(current.left)\n",
    "            astack.append(current.right)\n",
    "    \n",
    "    return temp[::-1]\n",
    "        "
   ]
  },
  {
   "cell_type": "code",
   "execution_count": 182,
   "metadata": {
    "ExecuteTime": {
     "end_time": "2018-09-01T21:12:57.227513Z",
     "start_time": "2018-09-01T21:12:57.223652Z"
    }
   },
   "outputs": [
    {
     "data": {
      "text/plain": [
       "[1, 3, 2, 5, 4, 7, 9, 10, 8, 6]"
      ]
     },
     "execution_count": 182,
     "metadata": {},
     "output_type": "execute_result"
    }
   ],
   "source": [
    "poorder(a.root)"
   ]
  },
  {
   "cell_type": "code",
   "execution_count": 185,
   "metadata": {
    "ExecuteTime": {
     "end_time": "2018-09-02T03:59:29.377688Z",
     "start_time": "2018-09-02T03:59:29.374494Z"
    }
   },
   "outputs": [],
   "source": [
    "def breadth_first(node):\n",
    "    aqueue=[node]\n",
    "    while aqueue:\n",
    "        current = aqueue.pop(0)\n",
    "        if current:\n",
    "            print(current.data,end=\" \")\n",
    "            aqueue.append(current.left)\n",
    "            aqueue.append(current.right)\n",
    "        \n",
    "        \n",
    "    "
   ]
  },
  {
   "cell_type": "code",
   "execution_count": 186,
   "metadata": {
    "ExecuteTime": {
     "end_time": "2018-09-02T03:59:30.188882Z",
     "start_time": "2018-09-02T03:59:30.184325Z"
    }
   },
   "outputs": [
    {
     "name": "stdout",
     "output_type": "stream",
     "text": [
      "6 4 8 2 5 7 10 1 3 9 "
     ]
    }
   ],
   "source": [
    "breadth_first(a.root)"
   ]
  },
  {
   "cell_type": "code",
   "execution_count": null,
   "metadata": {},
   "outputs": [],
   "source": []
  }
 ],
 "metadata": {
  "kernelspec": {
   "display_name": "Python 3",
   "language": "python",
   "name": "python3"
  },
  "language_info": {
   "codemirror_mode": {
    "name": "ipython",
    "version": 3
   },
   "file_extension": ".py",
   "mimetype": "text/x-python",
   "name": "python",
   "nbconvert_exporter": "python",
   "pygments_lexer": "ipython3",
   "version": "3.6.4"
  },
  "toc": {
   "colors": {
    "hover_highlight": "#DAA520",
    "navigate_num": "#000000",
    "navigate_text": "#333333",
    "running_highlight": "#FF0000",
    "selected_highlight": "#FFD700",
    "sidebar_border": "#EEEEEE",
    "wrapper_background": "#FFFFFF"
   },
   "moveMenuLeft": true,
   "nav_menu": {
    "height": "4px",
    "width": "254px"
   },
   "navigate_menu": true,
   "number_sections": true,
   "sideBar": true,
   "threshold": 4,
   "toc_cell": false,
   "toc_section_display": "block",
   "toc_window_display": false,
   "widenNotebook": false
  }
 },
 "nbformat": 4,
 "nbformat_minor": 2
}
