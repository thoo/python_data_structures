{
 "cells": [
  {
   "cell_type": "markdown",
   "metadata": {
    "ExecuteTime": {
     "end_time": "2018-08-14T03:18:57.922347Z",
     "start_time": "2018-08-14T03:18:57.774317Z"
    }
   },
   "source": [
    "## Set up a random experiment to test the difference between a sequential search and a binary search on a list of integers.\n"
   ]
  },
  {
   "cell_type": "code",
   "execution_count": 12,
   "metadata": {
    "ExecuteTime": {
     "end_time": "2018-08-14T03:28:31.699904Z",
     "start_time": "2018-08-14T03:28:31.697512Z"
    }
   },
   "outputs": [],
   "source": [
    "def seq_search(alist,item):\n",
    "    for i in alist:\n",
    "        if i == item:\n",
    "            return True\n",
    "            #break\n",
    "    return False"
   ]
  },
  {
   "cell_type": "code",
   "execution_count": 13,
   "metadata": {
    "ExecuteTime": {
     "end_time": "2018-08-14T03:28:32.318020Z",
     "start_time": "2018-08-14T03:28:32.315015Z"
    }
   },
   "outputs": [
    {
     "name": "stdout",
     "output_type": "stream",
     "text": [
      "True\n"
     ]
    }
   ],
   "source": [
    "testlist = [1, 2, 32, 8, 17, 19, 42, 13, 0]\n",
    "#print(seq_search(testlist, 3))\n",
    "print(seq_search(testlist, 1))"
   ]
  },
  {
   "cell_type": "code",
   "execution_count": 20,
   "metadata": {
    "ExecuteTime": {
     "end_time": "2018-08-14T14:32:38.964684Z",
     "start_time": "2018-08-14T14:32:38.961369Z"
    }
   },
   "outputs": [],
   "source": [
    "def bin_search(alist,item):\n",
    "    if len(alist) ==0:\n",
    "        return False\n",
    "    else:\n",
    "        mid=len(alist)//2\n",
    "        if alist[mid] == item:\n",
    "            return True\n",
    "        elif item < alist[mid]:\n",
    "                return bin_search(alist[:mid],item)\n",
    "        else:\n",
    "            return bin_search(alist[mid+1:],item)\n",
    "            "
   ]
  },
  {
   "cell_type": "code",
   "execution_count": 21,
   "metadata": {
    "ExecuteTime": {
     "end_time": "2018-08-14T14:32:42.004649Z",
     "start_time": "2018-08-14T14:32:42.002105Z"
    }
   },
   "outputs": [],
   "source": [
    "testlist = [0, 1, 2, 8, 13, 17, 19, 32, 42,]"
   ]
  },
  {
   "cell_type": "code",
   "execution_count": 22,
   "metadata": {
    "ExecuteTime": {
     "end_time": "2018-08-14T14:33:08.393637Z",
     "start_time": "2018-08-14T14:33:08.388429Z"
    }
   },
   "outputs": [
    {
     "data": {
      "text/plain": [
       "True"
      ]
     },
     "execution_count": 22,
     "metadata": {},
     "output_type": "execute_result"
    }
   ],
   "source": [
    "bin_search(testlist,8)"
   ]
  },
  {
   "cell_type": "code",
   "execution_count": 25,
   "metadata": {
    "ExecuteTime": {
     "end_time": "2018-08-14T14:41:34.136292Z",
     "start_time": "2018-08-14T14:41:34.132584Z"
    }
   },
   "outputs": [
    {
     "name": "stdout",
     "output_type": "stream",
     "text": [
      "True\n",
      "True\n",
      "False\n"
     ]
    }
   ],
   "source": [
    "print(bin_search(testlist,8))\n",
    "print(bin_search(testlist,17))\n",
    "print(bin_search(testlist,12))"
   ]
  },
  {
   "cell_type": "code",
   "execution_count": null,
   "metadata": {},
   "outputs": [],
   "source": []
  }
 ],
 "metadata": {
  "kernelspec": {
   "display_name": "Python 3",
   "language": "python",
   "name": "python3"
  },
  "language_info": {
   "codemirror_mode": {
    "name": "ipython",
    "version": 3
   },
   "file_extension": ".py",
   "mimetype": "text/x-python",
   "name": "python",
   "nbconvert_exporter": "python",
   "pygments_lexer": "ipython3",
   "version": "3.6.4"
  },
  "toc": {
   "colors": {
    "hover_highlight": "#DAA520",
    "navigate_num": "#000000",
    "navigate_text": "#333333",
    "running_highlight": "#FF0000",
    "selected_highlight": "#FFD700",
    "sidebar_border": "#EEEEEE",
    "wrapper_background": "#FFFFFF"
   },
   "moveMenuLeft": true,
   "nav_menu": {
    "height": "31px",
    "width": "254px"
   },
   "navigate_menu": true,
   "number_sections": true,
   "sideBar": true,
   "threshold": 4,
   "toc_cell": false,
   "toc_section_display": "block",
   "toc_window_display": false,
   "widenNotebook": false
  }
 },
 "nbformat": 4,
 "nbformat_minor": 2
}
