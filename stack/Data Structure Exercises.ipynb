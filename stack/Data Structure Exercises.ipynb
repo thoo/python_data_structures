{
 "cells": [
  {
   "cell_type": "code",
   "execution_count": 2,
   "metadata": {
    "ExecuteTime": {
     "end_time": "2018-08-13T14:45:41.144369Z",
     "start_time": "2018-08-13T14:45:41.140498Z"
    }
   },
   "outputs": [],
   "source": [
    "class stack:\n",
    "    def __init__(self):\n",
    "        self.items=[]\n",
    "    def isEmpty(self):\n",
    "        return self.items == []\n",
    "    def push(self,item):\n",
    "        return self.items.append(item)\n",
    "    def pop(self):\n",
    "        return self.items.pop()\n",
    "    def peek(self):\n",
    "        return self.items[-1]\n",
    "    def size(self):\n",
    "        return len(self.items)\n",
    "    def __str__(self):\n",
    "        return str(self.items)\n",
    "    "
   ]
  },
  {
   "cell_type": "markdown",
   "metadata": {},
   "source": [
    "## Modify the infix-to-postfix algorithm so that it can handle errors.\n",
    "\n"
   ]
  },
  {
   "cell_type": "code",
   "execution_count": 65,
   "metadata": {
    "ExecuteTime": {
     "end_time": "2018-08-14T02:11:27.033117Z",
     "start_time": "2018-08-14T02:11:27.027614Z"
    }
   },
   "outputs": [],
   "source": [
    "def infixToPostfix(infixexpr):\n",
    "    prec={}\n",
    "    prec[\"*\"]=3\n",
    "    prec[\"/\"]=3\n",
    "    prec[\"+\"]=2\n",
    "    prec[\"-\"]=2\n",
    "    prec[\"(\"]=1\n",
    "    \n",
    "    opstack=stack()\n",
    "    postfixlist=[]\n",
    "    tokenlist=infixexpr.split()\n",
    "    err_status=False\n",
    "    for token in tokenlist:\n",
    "        if token in \"ABCDEFGHIJKLMNOPQRSTUVWXYZ\" or \\\n",
    "        token in \"0123456789\" or len(token) >1:\n",
    "            postfixlist.append(token)\n",
    "        \n",
    "        elif token in \"^,%$&@!\":\n",
    "            print(\"This \\\"{}\\\" might be a typo.\".format(token))\n",
    "            err_status = True\n",
    "            break\n",
    "            \n",
    "        \n",
    "        elif token == \"(\":\n",
    "            opstack.push(token)\n",
    "            \n",
    "        elif token == \")\":\n",
    "            topToken=opstack.pop()\n",
    "            while topToken != \"(\":\n",
    "                postfixlist.append(topToken)\n",
    "                topToken = opstack.pop()\n",
    "        else:\n",
    "            while (not opstack.isEmpty()) and \\\n",
    "            (prec[opstack.peek()] >= prec[token]):\n",
    "                postfixlist.append(opstack.pop())\n",
    "                \n",
    "            opstack.push(token)\n",
    "        \n",
    "    if err_status == False:\n",
    "        while not opstack.isEmpty():\n",
    "            postfixlist.append(opstack.pop())\n",
    "        return \" \".join(postfixlist)\n",
    "    \n",
    "            "
   ]
  },
  {
   "cell_type": "code",
   "execution_count": 66,
   "metadata": {
    "ExecuteTime": {
     "end_time": "2018-08-14T02:11:27.654663Z",
     "start_time": "2018-08-14T02:11:27.651410Z"
    }
   },
   "outputs": [
    {
     "name": "stdout",
     "output_type": "stream",
     "text": [
      "This \"%\" might be a typo.\n",
      "None\n",
      "A B + C * D E - F G + * -\n"
     ]
    }
   ],
   "source": [
    "print(infixToPostfix(\"A * B % C * D\"))\n",
    "print(infixToPostfix(\"( A + B ) * C - ( D - E ) * ( F + G )\"))\n"
   ]
  },
  {
   "cell_type": "code",
   "execution_count": 67,
   "metadata": {
    "ExecuteTime": {
     "end_time": "2018-08-14T02:11:28.200251Z",
     "start_time": "2018-08-14T02:11:28.194385Z"
    }
   },
   "outputs": [
    {
     "data": {
      "text/plain": [
       "'A B + C 99 + *'"
      ]
     },
     "execution_count": 67,
     "metadata": {},
     "output_type": "execute_result"
    }
   ],
   "source": [
    "infixToPostfix(\"( A + B ) * ( C + 99 )\")"
   ]
  },
  {
   "cell_type": "markdown",
   "metadata": {},
   "source": [
    "## Modify the postfix evaluation algorithm so that it can handle errors."
   ]
  },
  {
   "cell_type": "code",
   "execution_count": 54,
   "metadata": {
    "ExecuteTime": {
     "end_time": "2018-08-14T02:08:24.064355Z",
     "start_time": "2018-08-14T02:08:24.060175Z"
    }
   },
   "outputs": [],
   "source": [
    "def postfixEval(postfixExpr):\n",
    "    opr_stack=stack()\n",
    "    tokenlist=postfixExpr.split()\n",
    "    #print(tokenlist)\n",
    "    for token in tokenlist:\n",
    "        #print(token)\n",
    "        if token in \"^,%$&@!\":\n",
    "            ##print(\"This \\\"{}\\\" might be a typo.\".format(token))\n",
    "            err_status = True\n",
    "            break\n",
    "        elif token in '0123456789' or len(token) > 1:\n",
    "            opr_stack.push(int(token))\n",
    "            ##print(\"token =\",opr_stack)\n",
    "        else:\n",
    "            opr2=opr_stack.pop()\n",
    "            opr1=opr_stack.pop()\n",
    "            result=doMath(token,opr1,opr2)\n",
    "            opr_stack.push(result)\n",
    "    return opr_stack.pop()\n",
    "\n",
    "def doMath(token,op1,op2):\n",
    "    if token == \"*\":\n",
    "        return op1*op2\n",
    "    if token == \"/\":\n",
    "        return op1/op2\n",
    "    if token == \"+\":\n",
    "        return op1+op2\n",
    "    if token == \"-\":\n",
    "        return op1-op2"
   ]
  },
  {
   "cell_type": "code",
   "execution_count": 55,
   "metadata": {
    "ExecuteTime": {
     "end_time": "2018-08-14T02:08:25.515340Z",
     "start_time": "2018-08-14T02:08:25.512469Z"
    }
   },
   "outputs": [
    {
     "name": "stdout",
     "output_type": "stream",
     "text": [
      "3.0\n"
     ]
    }
   ],
   "source": [
    "print(postfixEval('7 8 + 3 2 + /'))"
   ]
  },
  {
   "cell_type": "code",
   "execution_count": 68,
   "metadata": {
    "ExecuteTime": {
     "end_time": "2018-08-14T02:12:23.423652Z",
     "start_time": "2018-08-14T02:12:23.420090Z"
    }
   },
   "outputs": [
    {
     "name": "stdout",
     "output_type": "stream",
     "text": [
      "9.0\n"
     ]
    }
   ],
   "source": [
    "print(postfixEval('17 10 + 3 * 9 /'))"
   ]
  },
  {
   "cell_type": "markdown",
   "metadata": {},
   "source": [
    "## Implement a direct infix evaluator that combines the functionality of infix-to-postfix conversion and the postfix evaluation algorithm. Your evaluator should process infix tokens from left to right and use two stacks, one for operators and one for operands, to perform the evaluation."
   ]
  },
  {
   "cell_type": "code",
   "execution_count": null,
   "metadata": {},
   "outputs": [],
   "source": []
  }
 ],
 "metadata": {
  "kernelspec": {
   "display_name": "Python 3",
   "language": "python",
   "name": "python3"
  },
  "language_info": {
   "codemirror_mode": {
    "name": "ipython",
    "version": 3
   },
   "file_extension": ".py",
   "mimetype": "text/x-python",
   "name": "python",
   "nbconvert_exporter": "python",
   "pygments_lexer": "ipython3",
   "version": "3.6.4"
  },
  "toc": {
   "colors": {
    "hover_highlight": "#DAA520",
    "navigate_num": "#000000",
    "navigate_text": "#333333",
    "running_highlight": "#FF0000",
    "selected_highlight": "#FFD700",
    "sidebar_border": "#EEEEEE",
    "wrapper_background": "#FFFFFF"
   },
   "moveMenuLeft": true,
   "nav_menu": {
    "height": "67px",
    "width": "254px"
   },
   "navigate_menu": true,
   "number_sections": true,
   "sideBar": true,
   "threshold": 4,
   "toc_cell": false,
   "toc_section_display": "block",
   "toc_window_display": false,
   "widenNotebook": false
  }
 },
 "nbformat": 4,
 "nbformat_minor": 2
}
