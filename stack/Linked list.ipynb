{
 "cells": [
  {
   "cell_type": "code",
   "execution_count": 69,
   "metadata": {
    "ExecuteTime": {
     "end_time": "2018-08-12T02:34:00.890943Z",
     "start_time": "2018-08-12T02:34:00.887113Z"
    }
   },
   "outputs": [],
   "source": [
    "class Node:\n",
    "    def __init__(self,data):\n",
    "        self.data=data\n",
    "        self.next=None\n",
    "    def getData(self):\n",
    "        return self.data\n",
    "class LinkedList:\n",
    "    def __init__(self):\n",
    "        self.head = None\n",
    "    \n",
    "    def push_begin(self,new_data):\n",
    "        temp=Node(new_data)\n",
    "        temp.next=self.head\n",
    "        self.head=temp\n",
    "        \n",
    "    def push_at_node(self,new_data):\n",
    "        temp=Node(new_data)\n",
    "        last = self.head\n",
    "        while(last.next):\n",
    "            last=last.next\n",
    "        last.next=temp\n",
    "        \n",
    "        \n",
    "        \n",
    "    "
   ]
  },
  {
   "cell_type": "code",
   "execution_count": 70,
   "metadata": {
    "ExecuteTime": {
     "end_time": "2018-08-12T02:34:02.053461Z",
     "start_time": "2018-08-12T02:34:02.050791Z"
    }
   },
   "outputs": [],
   "source": [
    "linkedlist=LinkedList()"
   ]
  },
  {
   "cell_type": "code",
   "execution_count": 71,
   "metadata": {
    "ExecuteTime": {
     "end_time": "2018-08-12T02:34:02.587024Z",
     "start_time": "2018-08-12T02:34:02.584489Z"
    }
   },
   "outputs": [],
   "source": [
    "linkedlist.push_begin(2)\n",
    "linkedlist.push_begin(3)\n",
    "linkedlist.push_begin(4)\n",
    "linkedlist.push_begin(6)\n"
   ]
  },
  {
   "cell_type": "code",
   "execution_count": 72,
   "metadata": {
    "ExecuteTime": {
     "end_time": "2018-08-12T02:34:03.724472Z",
     "start_time": "2018-08-12T02:34:03.721506Z"
    }
   },
   "outputs": [
    {
     "name": "stdout",
     "output_type": "stream",
     "text": [
      "<__main__.LinkedList object at 0x1519c34668>\n"
     ]
    }
   ],
   "source": [
    "print(linkedlist)"
   ]
  },
  {
   "cell_type": "code",
   "execution_count": 77,
   "metadata": {
    "ExecuteTime": {
     "end_time": "2018-08-12T02:34:26.009856Z",
     "start_time": "2018-08-12T02:34:26.005802Z"
    }
   },
   "outputs": [
    {
     "name": "stdout",
     "output_type": "stream",
     "text": [
      "6\n",
      "4\n",
      "3\n",
      "2\n",
      "6\n"
     ]
    }
   ],
   "source": [
    "node=linkedlist.head\n",
    "while node:\n",
    "    print(node.data)\n",
    "    node=node.next"
   ]
  },
  {
   "cell_type": "code",
   "execution_count": 59,
   "metadata": {
    "ExecuteTime": {
     "end_time": "2018-08-12T02:30:37.883097Z",
     "start_time": "2018-08-12T02:30:37.879950Z"
    }
   },
   "outputs": [
    {
     "data": {
      "text/plain": [
       "<__main__.LinkedList at 0x1519c02400>"
      ]
     },
     "execution_count": 59,
     "metadata": {},
     "output_type": "execute_result"
    }
   ],
   "source": [
    "linkedlist"
   ]
  },
  {
   "cell_type": "code",
   "execution_count": 74,
   "metadata": {
    "ExecuteTime": {
     "end_time": "2018-08-12T02:34:09.106849Z",
     "start_time": "2018-08-12T02:34:09.104620Z"
    }
   },
   "outputs": [],
   "source": [
    "a=Node(6)"
   ]
  },
  {
   "cell_type": "code",
   "execution_count": 33,
   "metadata": {
    "ExecuteTime": {
     "end_time": "2018-08-12T02:21:09.926412Z",
     "start_time": "2018-08-12T02:21:09.924170Z"
    }
   },
   "outputs": [],
   "source": [
    "a.next=linkedlist.head"
   ]
  },
  {
   "cell_type": "code",
   "execution_count": 34,
   "metadata": {
    "ExecuteTime": {
     "end_time": "2018-08-12T02:21:22.855518Z",
     "start_time": "2018-08-12T02:21:22.853123Z"
    }
   },
   "outputs": [],
   "source": [
    "linkedlist.head=a"
   ]
  },
  {
   "cell_type": "code",
   "execution_count": 36,
   "metadata": {
    "ExecuteTime": {
     "end_time": "2018-08-12T02:21:57.889458Z",
     "start_time": "2018-08-12T02:21:57.886224Z"
    }
   },
   "outputs": [
    {
     "data": {
      "text/plain": [
       "6"
      ]
     },
     "execution_count": 36,
     "metadata": {},
     "output_type": "execute_result"
    }
   ],
   "source": [
    "a.data"
   ]
  },
  {
   "cell_type": "code",
   "execution_count": 75,
   "metadata": {
    "ExecuteTime": {
     "end_time": "2018-08-12T02:34:15.417725Z",
     "start_time": "2018-08-12T02:34:15.413966Z"
    }
   },
   "outputs": [],
   "source": [
    "node1=linkedlist.head\n",
    "while node1.next:\n",
    "    node1=node1.next"
   ]
  },
  {
   "cell_type": "code",
   "execution_count": 55,
   "metadata": {
    "ExecuteTime": {
     "end_time": "2018-08-12T02:29:20.390097Z",
     "start_time": "2018-08-12T02:29:20.386947Z"
    }
   },
   "outputs": [
    {
     "data": {
      "text/plain": [
       "<__main__.Node at 0x1519ba9860>"
      ]
     },
     "execution_count": 55,
     "metadata": {},
     "output_type": "execute_result"
    }
   ],
   "source": [
    "node\n"
   ]
  },
  {
   "cell_type": "code",
   "execution_count": 76,
   "metadata": {
    "ExecuteTime": {
     "end_time": "2018-08-12T02:34:20.640290Z",
     "start_time": "2018-08-12T02:34:20.638019Z"
    }
   },
   "outputs": [],
   "source": [
    "node1.next=a"
   ]
  },
  {
   "cell_type": "code",
   "execution_count": null,
   "metadata": {},
   "outputs": [],
   "source": []
  }
 ],
 "metadata": {
  "kernelspec": {
   "display_name": "Python 3",
   "language": "python",
   "name": "python3"
  },
  "language_info": {
   "codemirror_mode": {
    "name": "ipython",
    "version": 3
   },
   "file_extension": ".py",
   "mimetype": "text/x-python",
   "name": "python",
   "nbconvert_exporter": "python",
   "pygments_lexer": "ipython3",
   "version": "3.6.4"
  },
  "toc": {
   "colors": {
    "hover_highlight": "#DAA520",
    "navigate_num": "#000000",
    "navigate_text": "#333333",
    "running_highlight": "#FF0000",
    "selected_highlight": "#FFD700",
    "sidebar_border": "#EEEEEE",
    "wrapper_background": "#FFFFFF"
   },
   "moveMenuLeft": true,
   "nav_menu": {
    "height": "4px",
    "width": "254px"
   },
   "navigate_menu": true,
   "number_sections": true,
   "sideBar": true,
   "threshold": 4,
   "toc_cell": false,
   "toc_section_display": "block",
   "toc_window_display": false,
   "widenNotebook": false
  }
 },
 "nbformat": 4,
 "nbformat_minor": 2
}
