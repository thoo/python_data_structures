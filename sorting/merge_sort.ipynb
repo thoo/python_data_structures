{
 "cells": [
  {
   "cell_type": "code",
   "execution_count": 27,
   "metadata": {
    "ExecuteTime": {
     "end_time": "2018-12-05T03:49:27.812838Z",
     "start_time": "2018-12-05T03:49:27.806238Z"
    }
   },
   "outputs": [],
   "source": [
    "def mergeSort(alist):\n",
    "    print(\"Splitting \",alist)\n",
    "    if len(alist)>1:\n",
    "        mid = len(alist) //2\n",
    "        left = alist[:mid]\n",
    "        right = alist[mid:]\n",
    "        \n",
    "        mergeSort(left)\n",
    "        mergeSort(right)\n",
    "        \n",
    "\n",
    "        cur = 0\n",
    "        R = 0\n",
    "        L = 0\n",
    "\n",
    "        while R < len(right) and L < len(left):\n",
    "            if left[L] < right[R]:\n",
    "                alist[cur]=left[L]\n",
    "                L =L+1\n",
    "            else:\n",
    "                alist[cur]= right[R]\n",
    "                R =R+1\n",
    "            cur = cur+1\n",
    "            \n",
    "        while L < len(left):\n",
    "            alist[cur] = left[L]\n",
    "            L = L+1\n",
    "            cur = cur +1\n",
    "            \n",
    "        while R < len(right):\n",
    "            alist[cur] = right[R]\n",
    "            R = R+1\n",
    "            cur = cur +1\n",
    "\n",
    "        \n",
    "    print(\"Merging \",alist)\n",
    "    "
   ]
  },
  {
   "cell_type": "code",
   "execution_count": 28,
   "metadata": {
    "ExecuteTime": {
     "end_time": "2018-12-05T03:49:28.461307Z",
     "start_time": "2018-12-05T03:49:28.458307Z"
    }
   },
   "outputs": [],
   "source": [
    "alist=[10,6,1, 4, 5,20,9]"
   ]
  },
  {
   "cell_type": "code",
   "execution_count": 29,
   "metadata": {
    "ExecuteTime": {
     "end_time": "2018-12-05T03:49:30.009008Z",
     "start_time": "2018-12-05T03:49:30.002872Z"
    }
   },
   "outputs": [
    {
     "name": "stdout",
     "output_type": "stream",
     "text": [
      "Splitting  [10, 6, 1, 4, 5, 20, 9]\n",
      "Splitting  [10, 6, 1]\n",
      "Splitting  [10]\n",
      "Merging  [10]\n",
      "Splitting  [6, 1]\n",
      "Splitting  [6]\n",
      "Merging  [6]\n",
      "Splitting  [1]\n",
      "Merging  [1]\n",
      "Merging  [1, 6]\n",
      "Merging  [1, 6, 10]\n",
      "Splitting  [4, 5, 20, 9]\n",
      "Splitting  [4, 5]\n",
      "Splitting  [4]\n",
      "Merging  [4]\n",
      "Splitting  [5]\n",
      "Merging  [5]\n",
      "Merging  [4, 5]\n",
      "Splitting  [20, 9]\n",
      "Splitting  [20]\n",
      "Merging  [20]\n",
      "Splitting  [9]\n",
      "Merging  [9]\n",
      "Merging  [9, 20]\n",
      "Merging  [4, 5, 9, 20]\n",
      "Merging  [1, 4, 5, 6, 9, 10, 20]\n"
     ]
    }
   ],
   "source": [
    "mergeSort(alist)"
   ]
  },
  {
   "cell_type": "code",
   "execution_count": null,
   "metadata": {},
   "outputs": [],
   "source": []
  }
 ],
 "metadata": {
  "kernelspec": {
   "display_name": "Python 3",
   "language": "python",
   "name": "python3"
  },
  "language_info": {
   "codemirror_mode": {
    "name": "ipython",
    "version": 3
   },
   "file_extension": ".py",
   "mimetype": "text/x-python",
   "name": "python",
   "nbconvert_exporter": "python",
   "pygments_lexer": "ipython3",
   "version": "3.6.5"
  },
  "toc": {
   "base_numbering": 1,
   "nav_menu": {
    "height": "4px",
    "width": "254px"
   },
   "number_sections": true,
   "sideBar": true,
   "skip_h1_title": false,
   "title_cell": "Table of Contents",
   "title_sidebar": "Contents",
   "toc_cell": false,
   "toc_position": {},
   "toc_section_display": "block",
   "toc_window_display": false
  }
 },
 "nbformat": 4,
 "nbformat_minor": 2
}
