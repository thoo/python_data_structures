{
 "cells": [
  {
   "cell_type": "code",
   "execution_count": 4,
   "metadata": {
    "ExecuteTime": {
     "end_time": "2018-09-23T18:29:44.047336Z",
     "start_time": "2018-09-23T18:29:44.045192Z"
    }
   },
   "outputs": [],
   "source": [
    "import random as rd"
   ]
  },
  {
   "cell_type": "code",
   "execution_count": 5,
   "metadata": {
    "ExecuteTime": {
     "end_time": "2018-09-23T18:29:45.991839Z",
     "start_time": "2018-09-23T18:29:45.988291Z"
    }
   },
   "outputs": [],
   "source": [
    "alist=rd.sample(range(100),10)"
   ]
  },
  {
   "cell_type": "code",
   "execution_count": 6,
   "metadata": {
    "ExecuteTime": {
     "end_time": "2018-09-23T18:29:46.595268Z",
     "start_time": "2018-09-23T18:29:46.590166Z"
    }
   },
   "outputs": [
    {
     "data": {
      "text/plain": [
       "[0, 78, 67, 77, 99, 26, 60, 23, 97, 7]"
      ]
     },
     "execution_count": 6,
     "metadata": {},
     "output_type": "execute_result"
    }
   ],
   "source": [
    "alist"
   ]
  },
  {
   "cell_type": "code",
   "execution_count": 29,
   "metadata": {
    "ExecuteTime": {
     "end_time": "2018-09-20T14:40:19.794134Z",
     "start_time": "2018-09-20T14:40:19.791042Z"
    }
   },
   "outputs": [],
   "source": [
    "def bubble_sort(alist):\n",
    "    n=0\n",
    "    for i in range(len(alist),-1,-1):\n",
    "        for j in range(i-1):\n",
    "            n +=1\n",
    "            if alist[j+1] > alist[j]:\n",
    "                alist[j],alist[j+1]=alist[j+1],alist[j]\n",
    "    \n",
    "    return alist,n\n",
    "        "
   ]
  },
  {
   "cell_type": "code",
   "execution_count": 39,
   "metadata": {
    "ExecuteTime": {
     "end_time": "2018-09-20T14:51:32.981098Z",
     "start_time": "2018-09-20T14:51:32.977922Z"
    }
   },
   "outputs": [
    {
     "data": {
      "text/plain": [
       "([89, 82, 48, 41, 28, 20, 18, 7, 6, 0], 45)"
      ]
     },
     "execution_count": 39,
     "metadata": {},
     "output_type": "execute_result"
    }
   ],
   "source": [
    "bubble_sort(alist)"
   ]
  },
  {
   "cell_type": "code",
   "execution_count": 64,
   "metadata": {
    "ExecuteTime": {
     "end_time": "2018-09-20T15:08:17.475853Z",
     "start_time": "2018-09-20T15:08:17.472275Z"
    }
   },
   "outputs": [],
   "source": [
    "def selection_sort(alist):\n",
    "    n=0\n",
    "    \n",
    "    for i in range(len(alist)-1,-1,-1):\n",
    "        min_pos=i\n",
    "        for j in range(i):\n",
    "            n +=1\n",
    "            if alist[j] < alist[min_pos]:\n",
    "                min_pos=j\n",
    "        print(alist[min_pos])\n",
    "        alist[i],alist[min_pos]=alist[min_pos],alist[i]\n",
    "    return alist,n\n",
    "            "
   ]
  },
  {
   "cell_type": "code",
   "execution_count": 68,
   "metadata": {
    "ExecuteTime": {
     "end_time": "2018-09-20T15:08:44.967972Z",
     "start_time": "2018-09-20T15:08:44.963310Z"
    }
   },
   "outputs": [
    {
     "name": "stdout",
     "output_type": "stream",
     "text": [
      "2\n",
      "7\n",
      "20\n",
      "31\n",
      "34\n",
      "47\n",
      "68\n",
      "69\n",
      "80\n",
      "89\n"
     ]
    },
    {
     "data": {
      "text/plain": [
       "([89, 80, 69, 68, 47, 34, 31, 20, 7, 2], 45)"
      ]
     },
     "execution_count": 68,
     "metadata": {},
     "output_type": "execute_result"
    }
   ],
   "source": [
    "selection_sort(alist)"
   ]
  },
  {
   "cell_type": "code",
   "execution_count": 1,
   "metadata": {
    "ExecuteTime": {
     "end_time": "2018-09-21T14:51:13.445231Z",
     "start_time": "2018-09-21T14:51:13.439816Z"
    }
   },
   "outputs": [
    {
     "name": "stdout",
     "output_type": "stream",
     "text": [
      "1\n",
      "2\n",
      "3\n",
      "4\n",
      "5\n",
      "6\n",
      "7\n",
      "8\n",
      "9\n"
     ]
    }
   ],
   "source": [
    "for i in range(1,10):\n",
    "    print(i)"
   ]
  },
  {
   "cell_type": "code",
   "execution_count": 11,
   "metadata": {
    "ExecuteTime": {
     "end_time": "2018-09-21T15:11:36.374754Z",
     "start_time": "2018-09-21T15:11:36.370472Z"
    }
   },
   "outputs": [
    {
     "name": "stdout",
     "output_type": "stream",
     "text": [
      "[41, 31, 60, 56, 95, 8, 36, 2, 24, 64]\n"
     ]
    }
   ],
   "source": [
    "alist=rd.sample(range(100),10)\n",
    "print(alist)\n",
    "def insertion_sort(alist):\n",
    "    n=0\n",
    "    for i in range(1,len(alist)):\n",
    "        temp=alist[i]\n",
    "        for j in range(i-1,-1,-1):\n",
    "            n +=1\n",
    "            if temp<alist[j]:\n",
    "                alist[j+1]=alist[j]\n",
    "                if j==0:\n",
    "                    alist[0]=temp\n",
    "                \n",
    "            elif temp > alist[j]:\n",
    "                alist[j+1]=temp\n",
    "                \n",
    "                break\n",
    "                \n",
    "    return alist,n\n",
    "                    "
   ]
  },
  {
   "cell_type": "code",
   "execution_count": 12,
   "metadata": {
    "ExecuteTime": {
     "end_time": "2018-09-21T15:11:37.829831Z",
     "start_time": "2018-09-21T15:11:37.826540Z"
    }
   },
   "outputs": [
    {
     "data": {
      "text/plain": [
       "([2, 8, 24, 31, 36, 41, 56, 60, 64, 95], 31)"
      ]
     },
     "execution_count": 12,
     "metadata": {},
     "output_type": "execute_result"
    }
   ],
   "source": [
    "insertion_sort(alist)"
   ]
  },
  {
   "cell_type": "code",
   "execution_count": 9,
   "metadata": {
    "ExecuteTime": {
     "end_time": "2018-09-23T20:45:42.068333Z",
     "start_time": "2018-09-23T20:45:42.064857Z"
    }
   },
   "outputs": [
    {
     "data": {
      "text/plain": [
       "[35, 24, 49, 58, 43, 29, 59, 19, 86, 77]"
      ]
     },
     "execution_count": 9,
     "metadata": {},
     "output_type": "execute_result"
    }
   ],
   "source": [
    "alist=rd.sample(range(100),10)\n",
    "alist"
   ]
  },
  {
   "cell_type": "code",
   "execution_count": 15,
   "metadata": {
    "ExecuteTime": {
     "end_time": "2018-09-21T16:20:18.866263Z",
     "start_time": "2018-09-21T16:20:18.863213Z"
    }
   },
   "outputs": [],
   "source": [
    "numWays = [[1] + 9 * [0] for j in range(len(alist) + 1)]"
   ]
  },
  {
   "cell_type": "code",
   "execution_count": 16,
   "metadata": {
    "ExecuteTime": {
     "end_time": "2018-09-21T16:20:24.169688Z",
     "start_time": "2018-09-21T16:20:24.164457Z"
    },
    "scrolled": true
   },
   "outputs": [
    {
     "data": {
      "text/plain": [
       "[[1, 0, 0, 0, 0, 0, 0, 0, 0, 0],\n",
       " [1, 0, 0, 0, 0, 0, 0, 0, 0, 0],\n",
       " [1, 0, 0, 0, 0, 0, 0, 0, 0, 0],\n",
       " [1, 0, 0, 0, 0, 0, 0, 0, 0, 0],\n",
       " [1, 0, 0, 0, 0, 0, 0, 0, 0, 0],\n",
       " [1, 0, 0, 0, 0, 0, 0, 0, 0, 0],\n",
       " [1, 0, 0, 0, 0, 0, 0, 0, 0, 0],\n",
       " [1, 0, 0, 0, 0, 0, 0, 0, 0, 0],\n",
       " [1, 0, 0, 0, 0, 0, 0, 0, 0, 0],\n",
       " [1, 0, 0, 0, 0, 0, 0, 0, 0, 0],\n",
       " [1, 0, 0, 0, 0, 0, 0, 0, 0, 0]]"
      ]
     },
     "execution_count": 16,
     "metadata": {},
     "output_type": "execute_result"
    }
   ],
   "source": [
    "numWays"
   ]
  },
  {
   "cell_type": "code",
   "execution_count": 20,
   "metadata": {
    "ExecuteTime": {
     "end_time": "2018-09-21T16:23:25.574990Z",
     "start_time": "2018-09-21T16:23:25.568300Z"
    }
   },
   "outputs": [
    {
     "data": {
      "text/plain": [
       "array([[0., 0., 0., 0., 0., 0., 0., 0., 0., 0.],\n",
       "       [0., 0., 0., 0., 0., 0., 0., 0., 0., 0.],\n",
       "       [0., 0., 0., 0., 0., 0., 0., 0., 0., 0.],\n",
       "       [0., 0., 0., 0., 0., 0., 0., 0., 0., 0.],\n",
       "       [0., 0., 0., 0., 0., 0., 0., 0., 0., 0.],\n",
       "       [0., 0., 0., 0., 0., 0., 0., 0., 0., 0.],\n",
       "       [0., 0., 0., 0., 0., 0., 0., 0., 0., 0.],\n",
       "       [0., 0., 0., 0., 0., 0., 0., 0., 0., 0.],\n",
       "       [0., 0., 0., 0., 0., 0., 0., 0., 0., 0.],\n",
       "       [0., 0., 0., 0., 0., 0., 0., 0., 0., 0.],\n",
       "       [0., 0., 0., 0., 0., 0., 0., 0., 0., 0.]])"
      ]
     },
     "execution_count": 20,
     "metadata": {},
     "output_type": "execute_result"
    }
   ],
   "source": [
    "np.zeros((11,10))"
   ]
  },
  {
   "cell_type": "code",
   "execution_count": 39,
   "metadata": {
    "ExecuteTime": {
     "end_time": "2018-09-21T16:52:14.982298Z",
     "start_time": "2018-09-21T16:52:14.979740Z"
    }
   },
   "outputs": [],
   "source": [
    "a=[1,2,3,4,5]"
   ]
  },
  {
   "cell_type": "code",
   "execution_count": null,
   "metadata": {},
   "outputs": [],
   "source": [
    "def getWays(n, c):\n",
    "    numWays = [[1] + n * [0] for j in range(len(c) + 1)]\n",
    "    for i in range(1, len(c) + 1):\n",
    "        for j in range(1, n + 1):\n",
    "            numWays[i][j] = numWays[i-1][j] + (numWays[i][j - c[i-1]]\n",
    "                                               if c[i-1] <= j else 0)\n",
    "    return numWays[-1][-1]"
   ]
  },
  {
   "cell_type": "code",
   "execution_count": 86,
   "metadata": {
    "ExecuteTime": {
     "end_time": "2018-09-22T00:43:09.434533Z",
     "start_time": "2018-09-22T00:43:09.431327Z"
    }
   },
   "outputs": [],
   "source": [
    "def bs(a,k):\n",
    "    n=len(a)-1\n",
    "    st= 0\n",
    "    e=n\n",
    "    stop=0\n",
    "    while st<=e:\n",
    "        mid=(st+e)//2\n",
    "        print(n,st,e)\n",
    "        if a[mid] == k:\n",
    "            return mid \n",
    "        elif k in a[st:mid]:\n",
    "            e=mid-1\n",
    "        else:\n",
    "            st=mid+1\n",
    "         \n",
    "    return False "
   ]
  },
  {
   "cell_type": "code",
   "execution_count": 94,
   "metadata": {
    "ExecuteTime": {
     "end_time": "2018-09-22T00:58:27.875808Z",
     "start_time": "2018-09-22T00:58:27.872810Z"
    }
   },
   "outputs": [
    {
     "name": "stdout",
     "output_type": "stream",
     "text": [
      "[9, 2, 6, 5, 8]\n"
     ]
    }
   ],
   "source": [
    "a=rd.sample(range(10),5)\n",
    "print(a)"
   ]
  },
  {
   "cell_type": "code",
   "execution_count": 92,
   "metadata": {
    "ExecuteTime": {
     "end_time": "2018-09-22T00:58:19.004730Z",
     "start_time": "2018-09-22T00:58:19.001937Z"
    }
   },
   "outputs": [],
   "source": [
    "def max_profit(s_price):\n",
    "    max_profit,min_price=0,s_price[0]\n",
    "    for price in s_price:\n",
    "        min_price=min(price,min_price)\n",
    "        max_profit=max(max_profit,price-min_price)\n",
    "    return max_profit\n",
    "    "
   ]
  },
  {
   "cell_type": "code",
   "execution_count": 95,
   "metadata": {
    "ExecuteTime": {
     "end_time": "2018-09-22T00:58:31.763437Z",
     "start_time": "2018-09-22T00:58:31.760275Z"
    }
   },
   "outputs": [
    {
     "data": {
      "text/plain": [
       "6"
      ]
     },
     "execution_count": 95,
     "metadata": {},
     "output_type": "execute_result"
    }
   ],
   "source": [
    "max_profit(a)"
   ]
  },
  {
   "cell_type": "code",
   "execution_count": 30,
   "metadata": {
    "ExecuteTime": {
     "end_time": "2018-09-21T16:49:09.514807Z",
     "start_time": "2018-09-21T16:49:09.512197Z"
    }
   },
   "outputs": [],
   "source": [
    "\n",
    "a=str(123)"
   ]
  },
  {
   "cell_type": "code",
   "execution_count": 31,
   "metadata": {
    "ExecuteTime": {
     "end_time": "2018-09-21T16:49:10.867610Z",
     "start_time": "2018-09-21T16:49:10.864260Z"
    }
   },
   "outputs": [
    {
     "data": {
      "text/plain": [
       "'123'"
      ]
     },
     "execution_count": 31,
     "metadata": {},
     "output_type": "execute_result"
    }
   ],
   "source": [
    "a"
   ]
  },
  {
   "cell_type": "code",
   "execution_count": 32,
   "metadata": {
    "ExecuteTime": {
     "end_time": "2018-09-21T16:49:16.233731Z",
     "start_time": "2018-09-21T16:49:16.229836Z"
    }
   },
   "outputs": [
    {
     "data": {
      "text/plain": [
       "'321'"
      ]
     },
     "execution_count": 32,
     "metadata": {},
     "output_type": "execute_result"
    }
   ],
   "source": [
    "a[::-1]"
   ]
  },
  {
   "cell_type": "code",
   "execution_count": 2,
   "metadata": {
    "ExecuteTime": {
     "end_time": "2018-09-23T18:29:35.467461Z",
     "start_time": "2018-09-23T18:29:35.460710Z"
    }
   },
   "outputs": [],
   "source": [
    "def insert_sort(alist):\n",
    "    for i in range(len(alist)):\n",
    "        temp=alist[i]\n",
    "        for j in range(i-1,-1,-1):\n",
    "            if alist[j]< temp:\n",
    "                alist[j+1]=temp\n",
    "                break\n",
    "            else:\n",
    "                alist[j+1]=alist[j]\n",
    "                if j ==0:\n",
    "                    alist[0]=temp\n",
    "    return alist"
   ]
  },
  {
   "cell_type": "code",
   "execution_count": 52,
   "metadata": {
    "ExecuteTime": {
     "end_time": "2018-09-24T00:14:04.516153Z",
     "start_time": "2018-09-24T00:14:04.512562Z"
    }
   },
   "outputs": [
    {
     "data": {
      "text/plain": [
       "[89, 61, 28, 15, 60, 67, 59, 78, 80, 39]"
      ]
     },
     "execution_count": 52,
     "metadata": {},
     "output_type": "execute_result"
    }
   ],
   "source": [
    "alist=rd.sample(range(100),10)\n",
    "alist"
   ]
  },
  {
   "cell_type": "code",
   "execution_count": 8,
   "metadata": {
    "ExecuteTime": {
     "end_time": "2018-09-23T18:30:03.335454Z",
     "start_time": "2018-09-23T18:30:03.332023Z"
    }
   },
   "outputs": [
    {
     "data": {
      "text/plain": [
       "[0, 7, 23, 26, 60, 67, 77, 78, 97, 99]"
      ]
     },
     "execution_count": 8,
     "metadata": {},
     "output_type": "execute_result"
    }
   ],
   "source": [
    "insert_sort(alist)"
   ]
  },
  {
   "cell_type": "code",
   "execution_count": 32,
   "metadata": {
    "ExecuteTime": {
     "end_time": "2018-09-23T21:00:30.529179Z",
     "start_time": "2018-09-23T21:00:30.525512Z"
    }
   },
   "outputs": [],
   "source": [
    "def shell_sort(alist):\n",
    "    gap=len(alist)//2\n",
    "    while gap > 0:\n",
    "        for i in range(gap,len(alist)):\n",
    "            temp = alist[i]\n",
    "            j = i\n",
    "            while  j >= gap and alist[j-gap] >temp:\n",
    "                alist[j] = alist[j-gap]\n",
    "                j -= gap\n",
    " \n",
    "            # put temp (the original a[i]) in its correct location\n",
    "            alist[j] = temp\n",
    "        gap //= 2\n",
    "    return alist"
   ]
  },
  {
   "cell_type": "code",
   "execution_count": 18,
   "metadata": {
    "ExecuteTime": {
     "end_time": "2018-09-23T20:51:47.385824Z",
     "start_time": "2018-09-23T20:51:47.382414Z"
    }
   },
   "outputs": [
    {
     "data": {
      "text/plain": [
       "[4, 34, 42, 51, 54, 59, 63, 82, 86, 88]"
      ]
     },
     "execution_count": 18,
     "metadata": {},
     "output_type": "execute_result"
    }
   ],
   "source": [
    "shell_sort(alist)"
   ]
  },
  {
   "cell_type": "code",
   "execution_count": 29,
   "metadata": {
    "ExecuteTime": {
     "end_time": "2018-09-23T21:00:00.627829Z",
     "start_time": "2018-09-23T21:00:00.624950Z"
    }
   },
   "outputs": [],
   "source": [
    "def insert_sort(alist):\n",
    "    for i in range(len(alist)):\n",
    "        temp=alist[i]\n",
    "        j=i-1\n",
    "        while j >=0 and alist[j] > temp:\n",
    "            alist[j+1]=alist[j]\n",
    "            j -=1\n",
    "        alist[j+1]=temp\n",
    "    return alist"
   ]
  },
  {
   "cell_type": "code",
   "execution_count": 30,
   "metadata": {
    "ExecuteTime": {
     "end_time": "2018-09-23T21:00:01.482348Z",
     "start_time": "2018-09-23T21:00:01.479146Z"
    }
   },
   "outputs": [
    {
     "data": {
      "text/plain": [
       "[12, 48, 48, 55, 55, 70, 72, 79, 79, 83]"
      ]
     },
     "execution_count": 30,
     "metadata": {},
     "output_type": "execute_result"
    }
   ],
   "source": [
    "insert_sort(alist)"
   ]
  },
  {
   "cell_type": "code",
   "execution_count": 50,
   "metadata": {
    "ExecuteTime": {
     "end_time": "2018-09-24T00:13:43.772320Z",
     "start_time": "2018-09-24T00:13:43.766130Z"
    }
   },
   "outputs": [
    {
     "name": "stdout",
     "output_type": "stream",
     "text": [
      "[44, 0, 8, 16, 65, 66, 98, 51, 30, 35]\n"
     ]
    }
   ],
   "source": [
    "alist=rd.sample(range(100),10)\n",
    "print(alist)\n",
    "\n",
    "def quick_sort(alist,first=0,last=len(alist)-1):\n",
    "    if first < last:\n",
    "        split_pt=partition(alist,first,last)\n",
    "        quick_sort(alist,first,split_pt-1)\n",
    "        quick_sort(alist,split_pt+1,last)\n",
    "    return alist\n",
    "\n",
    "def quick_sort_helper(alist,first,last):\n",
    "    if first < last:\n",
    "        split_point=partition(alist,first,last)\n",
    "        \n",
    "        quick_sort_helper(alist,first,split_point-1)\n",
    "        quick_sort_helper(alist,split_point+1,last)\n",
    "        \n",
    "def partition(alist,first,last):\n",
    "    pivot_val=alist[last]\n",
    "    leftmark=first\n",
    "    rightmark=last-1\n",
    "    \n",
    "    done =False\n",
    "    while not done:\n",
    "        while leftmark <= rightmark and alist[leftmark] <= pivot_val:\n",
    "            leftmark +=1\n",
    "        while leftmark <= rightmark and alist[rightmark] >= pivot_val:\n",
    "            rightmark -=1\n",
    "        if leftmark > rightmark:\n",
    "            done = True\n",
    "        else:\n",
    "            alist[leftmark],alist[rightmark]=alist[rightmark],alist[leftmark]\n",
    "    \n",
    "    alist[last],alist[leftmark]=alist[leftmark],alist[last]\n",
    "    \n",
    "    return leftmark\n",
    "    \n",
    "        \n",
    "        \n",
    "        \n",
    "    "
   ]
  },
  {
   "cell_type": "code",
   "execution_count": 53,
   "metadata": {
    "ExecuteTime": {
     "end_time": "2018-09-24T00:14:19.125553Z",
     "start_time": "2018-09-24T00:14:19.121929Z"
    }
   },
   "outputs": [
    {
     "data": {
      "text/plain": [
       "[15, 28, 39, 59, 60, 61, 67, 78, 80, 89]"
      ]
     },
     "execution_count": 53,
     "metadata": {},
     "output_type": "execute_result"
    }
   ],
   "source": [
    "quick_sort(alist)"
   ]
  },
  {
   "cell_type": "code",
   "execution_count": 47,
   "metadata": {
    "ExecuteTime": {
     "end_time": "2018-09-23T21:32:30.397751Z",
     "start_time": "2018-09-23T21:32:30.394512Z"
    }
   },
   "outputs": [
    {
     "data": {
      "text/plain": [
       "[8, 11, 36, 56, 59, 61, 74, 89, 91, 92]"
      ]
     },
     "execution_count": 47,
     "metadata": {},
     "output_type": "execute_result"
    }
   ],
   "source": [
    "alist"
   ]
  },
  {
   "cell_type": "code",
   "execution_count": 80,
   "metadata": {
    "ExecuteTime": {
     "end_time": "2018-09-24T04:53:45.850406Z",
     "start_time": "2018-09-24T04:53:45.845844Z"
    }
   },
   "outputs": [],
   "source": [
    "def merge_sort(alist):\n",
    "    print(\"Splitting \",alist)\n",
    "    if len(alist)>1:\n",
    "        mid=len(alist)//2\n",
    "        lefthalf=alist[:mid]\n",
    "        righthalf=alist[mid:]\n",
    "        \n",
    "        merge_sort(lefthalf)\n",
    "        merge_sort(righthalf)\n",
    "        \n",
    "        i=0\n",
    "        j=0\n",
    "        k=0\n",
    "        while i < len(lefthalf) and j < len(righthalf):\n",
    "            if lefthalf[i] < righthalf[j]:\n",
    "                alist[k]=lefthalf[i]\n",
    "                i =i+1\n",
    "            else:\n",
    "                alist[k]=righthalf[j]\n",
    "                j =j+1\n",
    "            \n",
    "            k =k+1\n",
    "            \n",
    "        while i < len(lefthalf):\n",
    "            alist[k]=lefthalf[i]\n",
    "            k =k+1\n",
    "            i =i+1\n",
    "        \n",
    "        while j < len(righthalf):\n",
    "            alist[k]=righthalf[j]\n",
    "            k= k+1\n",
    "            j=j+1\n",
    "    print(\"Merging\",alist)    \n",
    "   # return alist\n",
    "                \n",
    "    "
   ]
  },
  {
   "cell_type": "code",
   "execution_count": 81,
   "metadata": {
    "ExecuteTime": {
     "end_time": "2018-09-24T04:53:46.527356Z",
     "start_time": "2018-09-24T04:53:46.524361Z"
    }
   },
   "outputs": [
    {
     "name": "stdout",
     "output_type": "stream",
     "text": [
      "[103, 125, 145, 120, 74, 76, 95, 91, 68, 93, 60, 57]\n"
     ]
    }
   ],
   "source": [
    "alist=rd.sample(range(50,150),12)\n",
    "print(alist)"
   ]
  },
  {
   "cell_type": "code",
   "execution_count": 82,
   "metadata": {
    "ExecuteTime": {
     "end_time": "2018-09-24T04:53:46.964114Z",
     "start_time": "2018-09-24T04:53:46.958615Z"
    }
   },
   "outputs": [
    {
     "name": "stdout",
     "output_type": "stream",
     "text": [
      "Splitting  [71, 121, 137, 134, 114, 136, 64, 145, 51, 127, 50, 65]\n",
      "Splitting  [71, 121, 137, 134, 114, 136]\n",
      "Splitting  [71, 121, 137]\n",
      "Splitting  [71]\n",
      "Merging [71]\n",
      "Splitting  [121, 137]\n",
      "Splitting  [121]\n",
      "Merging [121]\n",
      "Splitting  [137]\n",
      "Merging [137]\n",
      "Merging [121, 137]\n",
      "Merging [71, 121, 137]\n",
      "Splitting  [134, 114, 136]\n",
      "Splitting  [134]\n",
      "Merging [134]\n",
      "Splitting  [114, 136]\n",
      "Splitting  [114]\n",
      "Merging [114]\n",
      "Splitting  [136]\n",
      "Merging [136]\n",
      "Merging [114, 136]\n",
      "Merging [114, 134, 136]\n",
      "Merging [71, 114, 121, 134, 136, 137]\n",
      "Splitting  [64, 145, 51, 127, 50, 65]\n",
      "Splitting  [64, 145, 51]\n",
      "Splitting  [64]\n",
      "Merging [64]\n",
      "Splitting  [145, 51]\n",
      "Splitting  [145]\n",
      "Merging [145]\n",
      "Splitting  [51]\n",
      "Merging [51]\n",
      "Merging [51, 145]\n",
      "Merging [51, 64, 145]\n",
      "Splitting  [127, 50, 65]\n",
      "Splitting  [127]\n",
      "Merging [127]\n",
      "Splitting  [50, 65]\n",
      "Splitting  [50]\n",
      "Merging [50]\n",
      "Splitting  [65]\n",
      "Merging [65]\n",
      "Merging [50, 65]\n",
      "Merging [50, 65, 127]\n",
      "Merging [50, 51, 64, 65, 127, 145]\n",
      "Merging [50, 51, 64, 65, 71, 114, 121, 127, 134, 136, 137, 145]\n"
     ]
    }
   ],
   "source": [
    "merge_sort([71, 121, 137, 134, 114, 136, 64, 145, 51, 127, 50, 65])"
   ]
  },
  {
   "cell_type": "code",
   "execution_count": 64,
   "metadata": {
    "ExecuteTime": {
     "end_time": "2018-09-24T04:34:21.623897Z",
     "start_time": "2018-09-24T04:34:21.619383Z"
    }
   },
   "outputs": [],
   "source": [
    "def mergeSort(alist):\n",
    "    print(\"Splitting \",alist)\n",
    "    if len(alist)>1:\n",
    "        mid = len(alist)//2\n",
    "        lefthalf = alist[:mid]\n",
    "        righthalf = alist[mid:]\n",
    "\n",
    "        mergeSort(lefthalf)\n",
    "        mergeSort(righthalf)\n",
    "\n",
    "        i=0\n",
    "        j=0\n",
    "        k=0\n",
    "        while i < len(lefthalf) and j < len(righthalf):\n",
    "            if lefthalf[i] < righthalf[j]:\n",
    "                alist[k]=lefthalf[i]\n",
    "                i=i+1\n",
    "            else:\n",
    "                alist[k]=righthalf[j]\n",
    "                j=j+1\n",
    "            k=k+1\n",
    "\n",
    "        while i < len(lefthalf):\n",
    "            alist[k]=lefthalf[i]\n",
    "            i=i+1\n",
    "            k=k+1\n",
    "\n",
    "        while j < len(righthalf):\n",
    "            alist[k]=righthalf[j]\n",
    "            j=j+1\n",
    "            k=k+1\n",
    "    print(\"Merging \",alist)"
   ]
  },
  {
   "cell_type": "code",
   "execution_count": 65,
   "metadata": {
    "ExecuteTime": {
     "end_time": "2018-09-24T04:34:28.945463Z",
     "start_time": "2018-09-24T04:34:28.939104Z"
    }
   },
   "outputs": [
    {
     "name": "stdout",
     "output_type": "stream",
     "text": [
      "Splitting  [71, 121, 137, 134, 114, 136, 64, 145, 51, 127, 50, 65]\n",
      "Splitting  [71, 121, 137, 134, 114, 136]\n",
      "Splitting  [71, 121, 137]\n",
      "Splitting  [71]\n",
      "Merging  [71]\n",
      "Splitting  [121, 137]\n",
      "Splitting  [121]\n",
      "Merging  [121]\n",
      "Splitting  [137]\n",
      "Merging  [137]\n",
      "Merging  [121, 137]\n",
      "Merging  [71, 121, 137]\n",
      "Splitting  [134, 114, 136]\n",
      "Splitting  [134]\n",
      "Merging  [134]\n",
      "Splitting  [114, 136]\n",
      "Splitting  [114]\n",
      "Merging  [114]\n",
      "Splitting  [136]\n",
      "Merging  [136]\n",
      "Merging  [114, 136]\n",
      "Merging  [114, 134, 136]\n",
      "Merging  [71, 114, 121, 134, 136, 137]\n",
      "Splitting  [64, 145, 51, 127, 50, 65]\n",
      "Splitting  [64, 145, 51]\n",
      "Splitting  [64]\n",
      "Merging  [64]\n",
      "Splitting  [145, 51]\n",
      "Splitting  [145]\n",
      "Merging  [145]\n",
      "Splitting  [51]\n",
      "Merging  [51]\n",
      "Merging  [51, 145]\n",
      "Merging  [51, 64, 145]\n",
      "Splitting  [127, 50, 65]\n",
      "Splitting  [127]\n",
      "Merging  [127]\n",
      "Splitting  [50, 65]\n",
      "Splitting  [50]\n",
      "Merging  [50]\n",
      "Splitting  [65]\n",
      "Merging  [65]\n",
      "Merging  [50, 65]\n",
      "Merging  [50, 65, 127]\n",
      "Merging  [50, 51, 64, 65, 127, 145]\n",
      "Merging  [50, 51, 64, 65, 71, 114, 121, 127, 134, 136, 137, 145]\n"
     ]
    }
   ],
   "source": [
    "mergeSort(alist)"
   ]
  },
  {
   "cell_type": "code",
   "execution_count": 83,
   "metadata": {
    "ExecuteTime": {
     "end_time": "2018-09-24T14:09:56.699309Z",
     "start_time": "2018-09-24T14:09:56.684947Z"
    }
   },
   "outputs": [
    {
     "data": {
      "text/plain": [
       "[103, 125, 145, 120, 74, 76, 95, 91, 68, 93, 60, 57]"
      ]
     },
     "execution_count": 83,
     "metadata": {},
     "output_type": "execute_result"
    }
   ],
   "source": [
    "alist"
   ]
  },
  {
   "cell_type": "code",
   "execution_count": 84,
   "metadata": {
    "ExecuteTime": {
     "end_time": "2018-09-24T14:10:00.709559Z",
     "start_time": "2018-09-24T14:10:00.705372Z"
    }
   },
   "outputs": [
    {
     "data": {
      "text/plain": [
       "1107"
      ]
     },
     "execution_count": 84,
     "metadata": {},
     "output_type": "execute_result"
    }
   ],
   "source": [
    "sum(alist)"
   ]
  },
  {
   "cell_type": "code",
   "execution_count": null,
   "metadata": {},
   "outputs": [],
   "source": []
  }
 ],
 "metadata": {
  "kernelspec": {
   "display_name": "Python 3",
   "language": "python",
   "name": "python3"
  },
  "language_info": {
   "codemirror_mode": {
    "name": "ipython",
    "version": 3
   },
   "file_extension": ".py",
   "mimetype": "text/x-python",
   "name": "python",
   "nbconvert_exporter": "python",
   "pygments_lexer": "ipython3",
   "version": "3.6.5"
  },
  "toc": {
   "colors": {
    "hover_highlight": "#DAA520",
    "navigate_num": "#000000",
    "navigate_text": "#333333",
    "running_highlight": "#FF0000",
    "selected_highlight": "#FFD700",
    "sidebar_border": "#EEEEEE",
    "wrapper_background": "#FFFFFF"
   },
   "moveMenuLeft": true,
   "nav_menu": {
    "height": "4px",
    "width": "254px"
   },
   "navigate_menu": true,
   "number_sections": true,
   "sideBar": true,
   "threshold": 4,
   "toc_cell": false,
   "toc_section_display": "block",
   "toc_window_display": false,
   "widenNotebook": false
  }
 },
 "nbformat": 4,
 "nbformat_minor": 2
}
