{
 "cells": [
  {
   "cell_type": "code",
   "execution_count": 1,
   "metadata": {
    "ExecuteTime": {
     "end_time": "2018-12-07T20:00:27.667510Z",
     "start_time": "2018-12-07T20:00:27.662350Z"
    }
   },
   "outputs": [],
   "source": [
    "def quickSort(alist):\n",
    "    quickSortHelper(alist,0,len(alist)-1)\n",
    "\n",
    "def quickSortHelper(alist,start,end):\n",
    "    if  start<end:\n",
    "        splitpoint = partition(alist,start,end)\n",
    "        \n",
    "        quickSortHelper(alist,start,splitpoint-1)\n",
    "        quickSortHelper(alist,splitpoint+1,end)\n",
    "        \n",
    "def partition(alist,start,end):\n",
    "    pivotvalue = alist[start]\n",
    "    \n",
    "    leftmark = start+1\n",
    "    rightmark = end\n",
    "    \n",
    "    done = False\n",
    "    while not done:\n",
    "        while pivotvalue >= alist[leftmark] and leftmark <= rightmark:\n",
    "            leftmark = leftmark + 1\n",
    "        \n",
    "        while pivotvalue <= alist[rightmark] and leftmark <= rightmark:\n",
    "            rightmark = rightmark - 1\n",
    "            \n",
    "        if rightmark < leftmark:\n",
    "            done = True\n",
    "        else:\n",
    "            alist[leftmark],alist[rightmark]=alist[rightmark],alist[leftmark]\n",
    "\n",
    "        alist[start],alist[rightmark]=alist[rightmark],alist[start]\n",
    "        return rightmark"
   ]
  },
  {
   "cell_type": "code",
   "execution_count": 2,
   "metadata": {
    "ExecuteTime": {
     "end_time": "2018-12-07T20:00:28.232034Z",
     "start_time": "2018-12-07T20:00:28.228424Z"
    }
   },
   "outputs": [
    {
     "name": "stdout",
     "output_type": "stream",
     "text": [
      "[17, 20, 26, 31, 44, 77, 55, 93, 54]\n"
     ]
    }
   ],
   "source": [
    "alist = [54,26,93,17,77,31,44,55,20]\n",
    "quickSort(alist)\n",
    "print(alist)"
   ]
  },
  {
   "cell_type": "code",
   "execution_count": null,
   "metadata": {},
   "outputs": [],
   "source": []
  },
  {
   "cell_type": "code",
   "execution_count": null,
   "metadata": {},
   "outputs": [],
   "source": []
  }
 ],
 "metadata": {
  "kernelspec": {
   "display_name": "Python 3",
   "language": "python",
   "name": "python3"
  },
  "language_info": {
   "codemirror_mode": {
    "name": "ipython",
    "version": 3
   },
   "file_extension": ".py",
   "mimetype": "text/x-python",
   "name": "python",
   "nbconvert_exporter": "python",
   "pygments_lexer": "ipython3",
   "version": "3.6.5"
  },
  "toc": {
   "base_numbering": 1,
   "nav_menu": {
    "height": "4px",
    "width": "254px"
   },
   "number_sections": true,
   "sideBar": true,
   "skip_h1_title": false,
   "title_cell": "Table of Contents",
   "title_sidebar": "Contents",
   "toc_cell": false,
   "toc_position": {},
   "toc_section_display": "block",
   "toc_window_display": false
  }
 },
 "nbformat": 4,
 "nbformat_minor": 2
}
