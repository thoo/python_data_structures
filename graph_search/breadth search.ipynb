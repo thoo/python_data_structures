{
 "cells": [
  {
   "cell_type": "code",
   "execution_count": 2,
   "metadata": {
    "ExecuteTime": {
     "end_time": "2018-10-23T03:12:09.817622Z",
     "start_time": "2018-10-23T03:12:09.807536Z"
    }
   },
   "outputs": [],
   "source": [
    "import numpy as np"
   ]
  },
  {
   "cell_type": "code",
   "execution_count": 3,
   "metadata": {
    "ExecuteTime": {
     "end_time": "2018-10-23T03:12:10.225441Z",
     "start_time": "2018-10-23T03:12:10.220588Z"
    }
   },
   "outputs": [],
   "source": [
    "import matplotlib.pyplot as plt"
   ]
  },
  {
   "cell_type": "code",
   "execution_count": 20,
   "metadata": {
    "ExecuteTime": {
     "end_time": "2018-10-23T03:37:38.386720Z",
     "start_time": "2018-10-23T03:37:38.377199Z"
    }
   },
   "outputs": [
    {
     "name": "stdout",
     "output_type": "stream",
     "text": [
      "hi\n",
      "{'graph': defaultdict(<class 'list'>, {0: [1, 2], 1: [2], 2: [0, 3], 3: [3]}), 'visit': {0: False, 1: False, 2: False, 3: False}}\n",
      "[1, 2]\n"
     ]
    }
   ],
   "source": [
    "from collections import OrderedDict,defaultdict\n",
    "\n",
    "class Graph():\n",
    "\n",
    "    def __init__(self):\n",
    "        self.graph = defaultdict(list)\n",
    "        self.visit = {}\n",
    "    #@classmethod\n",
    "    def edge_add(self, u, v):\n",
    "        self.graph[u].append(v)\n",
    "        self.visit[u] = False\n",
    "        self.visit[v] = False\n",
    "\n",
    "\n",
    "\n",
    "print(\"hi\")\n",
    "g=Graph()\n",
    "g.edge_add(0, 1)\n",
    "g.edge_add(0, 2)\n",
    "g.edge_add(1, 2)\n",
    "g.edge_add(2, 0)\n",
    "g.edge_add(2, 3)\n",
    "g.edge_add(3, 3)\n",
    "print(g.__dict__)\n",
    "print(g.graph[0])"
   ]
  },
  {
   "cell_type": "code",
   "execution_count": 50,
   "metadata": {
    "ExecuteTime": {
     "end_time": "2018-10-23T03:59:12.059291Z",
     "start_time": "2018-10-23T03:59:12.047239Z"
    }
   },
   "outputs": [
    {
     "ename": "AttributeError",
     "evalue": "'Graph' object has no attribute 'edge_add'",
     "output_type": "error",
     "traceback": [
      "\u001b[0;31m---------------------------------------------------------------------------\u001b[0m",
      "\u001b[0;31mAttributeError\u001b[0m                            Traceback (most recent call last)",
      "\u001b[0;32m<ipython-input-50-8d97ea975635>\u001b[0m in \u001b[0;36m<module>\u001b[0;34m()\u001b[0m\n\u001b[1;32m      1\u001b[0m \u001b[0mg\u001b[0m\u001b[0;34m=\u001b[0m\u001b[0mGraph\u001b[0m\u001b[0;34m(\u001b[0m\u001b[0;34m)\u001b[0m\u001b[0;34m\u001b[0m\u001b[0m\n\u001b[0;32m----> 2\u001b[0;31m \u001b[0mg\u001b[0m\u001b[0;34m.\u001b[0m\u001b[0medge_add\u001b[0m\u001b[0;34m(\u001b[0m\u001b[0;36m1\u001b[0m\u001b[0;34m,\u001b[0m \u001b[0;36m2\u001b[0m\u001b[0;34m)\u001b[0m\u001b[0;34m\u001b[0m\u001b[0m\n\u001b[0m\u001b[1;32m      3\u001b[0m \u001b[0mg\u001b[0m\u001b[0;34m.\u001b[0m\u001b[0medge_add\u001b[0m\u001b[0;34m(\u001b[0m\u001b[0;36m1\u001b[0m\u001b[0;34m,\u001b[0m \u001b[0;36m3\u001b[0m\u001b[0;34m)\u001b[0m\u001b[0;34m\u001b[0m\u001b[0m\n\u001b[1;32m      4\u001b[0m \u001b[0mg\u001b[0m\u001b[0;34m.\u001b[0m\u001b[0medge_add\u001b[0m\u001b[0;34m(\u001b[0m\u001b[0;36m2\u001b[0m\u001b[0;34m,\u001b[0m \u001b[0;36m1\u001b[0m\u001b[0;34m)\u001b[0m\u001b[0;34m\u001b[0m\u001b[0m\n\u001b[1;32m      5\u001b[0m \u001b[0mg\u001b[0m\u001b[0;34m.\u001b[0m\u001b[0medge_add\u001b[0m\u001b[0;34m(\u001b[0m\u001b[0;36m2\u001b[0m\u001b[0;34m,\u001b[0m \u001b[0;36m4\u001b[0m\u001b[0;34m)\u001b[0m\u001b[0;34m\u001b[0m\u001b[0m\n",
      "\u001b[0;31mAttributeError\u001b[0m: 'Graph' object has no attribute 'edge_add'"
     ]
    }
   ],
   "source": [
    "g=Graph()\n",
    "g.edge_add(1, 2)\n",
    "g.edge_add(1, 3)\n",
    "g.edge_add(2, 1)\n",
    "g.edge_add(2, 4)\n",
    "g.edge_add(3, 1)\n",
    "g.edge_add(3, 5)\n",
    "g.edge_add(2, 5)\n",
    "g.edge_add(6, 4)\n",
    "g.edge_add(6, 5)\n",
    "g.edge_add(4, 2)\n",
    "g.edge_add(4, 5)\n",
    "\n",
    "g.edge_add(4, 6)\n",
    "g.edge_add(5, 2)\n",
    "g.edge_add(5, 3)\n",
    "g.edge_add(5, 4)\n",
    "g.edge_add(5, 6)\n",
    "\n",
    "print(g.__dict__)"
   ]
  },
  {
   "cell_type": "code",
   "execution_count": 31,
   "metadata": {
    "ExecuteTime": {
     "end_time": "2018-10-23T03:50:56.242095Z",
     "start_time": "2018-10-23T03:50:56.236543Z"
    }
   },
   "outputs": [
    {
     "name": "stdout",
     "output_type": "stream",
     "text": [
      "[1, 2, 4, 6, 5, 3]\n"
     ]
    }
   ],
   "source": [
    "import ipdb\n",
    "def bfs(g, start_pt):\n",
    "    queue = []\n",
    "    seq = []\n",
    "\n",
    "    queue.append(start_pt)\n",
    "    g.visit[start_pt] = True\n",
    "    while queue:\n",
    "        p = queue.pop()\n",
    "        seq.append(p)\n",
    "        \n",
    "        #ipdb.set_trace()\n",
    "        while g.graph[p]:\n",
    "            p1 = g.graph[p].pop()\n",
    "            #ipdb.set_trace()\n",
    "            if not g.visit[p1]:\n",
    "                #ipdb.set_trace()\n",
    "                queue.append(p1)\n",
    "                g.visit[p1] = True\n",
    "                \n",
    "\n",
    "    return seq\n",
    "\n",
    "results=bfs(g,1)\n",
    "print(results)"
   ]
  },
  {
   "cell_type": "code",
   "execution_count": 47,
   "metadata": {
    "ExecuteTime": {
     "end_time": "2018-10-23T03:57:55.603398Z",
     "start_time": "2018-10-23T03:57:55.598796Z"
    }
   },
   "outputs": [],
   "source": [
    "def BFS(g, s):\n",
    "    queue = [s]\n",
    "    visited= [False]* len(g.graph)\n",
    "    while queue: \n",
    "        s = queue.pop(0) \n",
    "        print(s, end = \" \") \n",
    "        for i in g.graph[s]: \n",
    "            if visited[i] == False: \n",
    "                queue.append(i)\n",
    "                visited[i] = True"
   ]
  },
  {
   "cell_type": "code",
   "execution_count": 48,
   "metadata": {
    "ExecuteTime": {
     "end_time": "2018-10-23T03:57:56.376036Z",
     "start_time": "2018-10-23T03:57:56.352611Z"
    }
   },
   "outputs": [
    {
     "name": "stdout",
     "output_type": "stream",
     "text": [
      "1 2 3 1 4 "
     ]
    },
    {
     "ename": "IndexError",
     "evalue": "list index out of range",
     "output_type": "error",
     "traceback": [
      "\u001b[0;31m---------------------------------------------------------------------------\u001b[0m",
      "\u001b[0;31mIndexError\u001b[0m                                Traceback (most recent call last)",
      "\u001b[0;32m<ipython-input-48-b95408d207fe>\u001b[0m in \u001b[0;36m<module>\u001b[0;34m()\u001b[0m\n\u001b[0;32m----> 1\u001b[0;31m \u001b[0mBFS\u001b[0m\u001b[0;34m(\u001b[0m\u001b[0mg\u001b[0m\u001b[0;34m,\u001b[0m\u001b[0;36m1\u001b[0m\u001b[0;34m)\u001b[0m\u001b[0;34m\u001b[0m\u001b[0m\n\u001b[0m",
      "\u001b[0;32m<ipython-input-47-e91ab7da5b0b>\u001b[0m in \u001b[0;36mBFS\u001b[0;34m(g, s)\u001b[0m\n\u001b[1;32m      6\u001b[0m         \u001b[0mprint\u001b[0m\u001b[0;34m(\u001b[0m\u001b[0ms\u001b[0m\u001b[0;34m,\u001b[0m \u001b[0mend\u001b[0m \u001b[0;34m=\u001b[0m \u001b[0;34m\" \"\u001b[0m\u001b[0;34m)\u001b[0m\u001b[0;34m\u001b[0m\u001b[0m\n\u001b[1;32m      7\u001b[0m         \u001b[0;32mfor\u001b[0m \u001b[0mi\u001b[0m \u001b[0;32min\u001b[0m \u001b[0mg\u001b[0m\u001b[0;34m.\u001b[0m\u001b[0mgraph\u001b[0m\u001b[0;34m[\u001b[0m\u001b[0ms\u001b[0m\u001b[0;34m]\u001b[0m\u001b[0;34m:\u001b[0m\u001b[0;34m\u001b[0m\u001b[0m\n\u001b[0;32m----> 8\u001b[0;31m             \u001b[0;32mif\u001b[0m \u001b[0mvisited\u001b[0m\u001b[0;34m[\u001b[0m\u001b[0mi\u001b[0m\u001b[0;34m]\u001b[0m \u001b[0;34m==\u001b[0m \u001b[0;32mFalse\u001b[0m\u001b[0;34m:\u001b[0m\u001b[0;34m\u001b[0m\u001b[0m\n\u001b[0m\u001b[1;32m      9\u001b[0m                 \u001b[0mqueue\u001b[0m\u001b[0;34m.\u001b[0m\u001b[0mappend\u001b[0m\u001b[0;34m(\u001b[0m\u001b[0mi\u001b[0m\u001b[0;34m)\u001b[0m\u001b[0;34m\u001b[0m\u001b[0m\n\u001b[1;32m     10\u001b[0m                 \u001b[0mvisited\u001b[0m\u001b[0;34m[\u001b[0m\u001b[0mi\u001b[0m\u001b[0;34m]\u001b[0m \u001b[0;34m=\u001b[0m \u001b[0;32mTrue\u001b[0m\u001b[0;34m\u001b[0m\u001b[0m\n",
      "\u001b[0;31mIndexError\u001b[0m: list index out of range"
     ]
    }
   ],
   "source": [
    "BFS(g,1)"
   ]
  },
  {
   "cell_type": "code",
   "execution_count": 49,
   "metadata": {
    "ExecuteTime": {
     "end_time": "2018-10-23T03:59:02.431374Z",
     "start_time": "2018-10-23T03:59:02.422583Z"
    }
   },
   "outputs": [],
   "source": [
    "# Python3 Program to print BFS traversal \n",
    "# from a given source vertex. BFS(int s) \n",
    "# traverses vertices reachable from s. \n",
    "from collections import defaultdict \n",
    "  \n",
    "# This class represents a directed graph \n",
    "# using adjacency list representation \n",
    "class Graph: \n",
    "  \n",
    "    # Constructor \n",
    "    def __init__(self): \n",
    "  \n",
    "        # default dictionary to store graph \n",
    "        self.graph = defaultdict(list) \n",
    "  \n",
    "    # function to add an edge to graph \n",
    "    def addEdge(self,u,v): \n",
    "        self.graph[u].append(v) \n",
    "  \n",
    "    # Function to print a BFS of graph \n",
    "    def BFS(self, s): \n",
    "  \n",
    "        # Mark all the vertices as not visited \n",
    "        visited = [False] * (len(self.graph)) \n",
    "  \n",
    "        # Create a queue for BFS \n",
    "        queue = [] \n",
    "  \n",
    "        # Mark the source node as  \n",
    "        # visited and enqueue it \n",
    "        queue.append(s) \n",
    "        visited[s] = True\n",
    "  \n",
    "        while queue: \n",
    "  \n",
    "            # Dequeue a vertex from  \n",
    "            # queue and print it \n",
    "            s = queue.pop(0) \n",
    "            print (s, end = \" \") \n",
    "  \n",
    "            # Get all adjacent vertices of the \n",
    "            # dequeued vertex s. If a adjacent \n",
    "            # has not been visited, then mark it \n",
    "            # visited and enqueue it \n",
    "            for i in self.graph[s]: \n",
    "                if visited[i] == False: \n",
    "                    queue.append(i) \n",
    "                    visited[i] = True\n",
    "  "
   ]
  },
  {
   "cell_type": "code",
   "execution_count": 51,
   "metadata": {
    "ExecuteTime": {
     "end_time": "2018-10-23T03:59:25.697863Z",
     "start_time": "2018-10-23T03:59:25.686094Z"
    }
   },
   "outputs": [
    {
     "ename": "IndexError",
     "evalue": "list assignment index out of range",
     "output_type": "error",
     "traceback": [
      "\u001b[0;31m---------------------------------------------------------------------------\u001b[0m",
      "\u001b[0;31mIndexError\u001b[0m                                Traceback (most recent call last)",
      "\u001b[0;32m<ipython-input-51-dae4bef96720>\u001b[0m in \u001b[0;36m<module>\u001b[0;34m()\u001b[0m\n\u001b[0;32m----> 1\u001b[0;31m \u001b[0mg\u001b[0m\u001b[0;34m.\u001b[0m\u001b[0mBFS\u001b[0m\u001b[0;34m(\u001b[0m\u001b[0;36m1\u001b[0m\u001b[0;34m)\u001b[0m\u001b[0;34m\u001b[0m\u001b[0m\n\u001b[0m",
      "\u001b[0;32m<ipython-input-49-e6be2818fb73>\u001b[0m in \u001b[0;36mBFS\u001b[0;34m(self, s)\u001b[0m\n\u001b[1;32m     30\u001b[0m         \u001b[0;31m# visited and enqueue it\u001b[0m\u001b[0;34m\u001b[0m\u001b[0;34m\u001b[0m\u001b[0m\n\u001b[1;32m     31\u001b[0m         \u001b[0mqueue\u001b[0m\u001b[0;34m.\u001b[0m\u001b[0mappend\u001b[0m\u001b[0;34m(\u001b[0m\u001b[0ms\u001b[0m\u001b[0;34m)\u001b[0m\u001b[0;34m\u001b[0m\u001b[0m\n\u001b[0;32m---> 32\u001b[0;31m         \u001b[0mvisited\u001b[0m\u001b[0;34m[\u001b[0m\u001b[0ms\u001b[0m\u001b[0;34m]\u001b[0m \u001b[0;34m=\u001b[0m \u001b[0;32mTrue\u001b[0m\u001b[0;34m\u001b[0m\u001b[0m\n\u001b[0m\u001b[1;32m     33\u001b[0m \u001b[0;34m\u001b[0m\u001b[0m\n\u001b[1;32m     34\u001b[0m         \u001b[0;32mwhile\u001b[0m \u001b[0mqueue\u001b[0m\u001b[0;34m:\u001b[0m\u001b[0;34m\u001b[0m\u001b[0m\n",
      "\u001b[0;31mIndexError\u001b[0m: list assignment index out of range"
     ]
    }
   ],
   "source": [
    "g.BFS(1)"
   ]
  },
  {
   "cell_type": "code",
   "execution_count": null,
   "metadata": {},
   "outputs": [],
   "source": []
  }
 ],
 "metadata": {
  "jupytext": {
   "formats": "ipynb,py:percent",
   "text_representation": {
    "extension": ".py",
    "format_name": "percent",
    "format_version": "1.1",
    "jupytext_version": "0.8.2"
   }
  },
  "kernelspec": {
   "display_name": "Python 3",
   "language": "python",
   "name": "python3"
  },
  "language_info": {
   "codemirror_mode": {
    "name": "ipython",
    "version": 3
   },
   "file_extension": ".py",
   "mimetype": "text/x-python",
   "name": "python",
   "nbconvert_exporter": "python",
   "pygments_lexer": "ipython3",
   "version": "3.6.5"
  },
  "toc": {
   "colors": {
    "hover_highlight": "#DAA520",
    "navigate_num": "#000000",
    "navigate_text": "#333333",
    "running_highlight": "#FF0000",
    "selected_highlight": "#FFD700",
    "sidebar_border": "#EEEEEE",
    "wrapper_background": "#FFFFFF"
   },
   "moveMenuLeft": true,
   "nav_menu": {
    "height": "4px",
    "width": "254px"
   },
   "navigate_menu": true,
   "number_sections": true,
   "sideBar": true,
   "threshold": 4,
   "toc_cell": false,
   "toc_section_display": "block",
   "toc_window_display": false,
   "widenNotebook": false
  }
 },
 "nbformat": 4,
 "nbformat_minor": 2
}
