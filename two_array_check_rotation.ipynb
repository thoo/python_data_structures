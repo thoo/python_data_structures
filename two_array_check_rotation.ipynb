{
 "cells": [
  {
   "cell_type": "code",
   "execution_count": 1,
   "metadata": {
    "ExecuteTime": {
     "end_time": "2018-08-22T19:59:29.191915Z",
     "start_time": "2018-08-22T19:59:29.188377Z"
    }
   },
   "outputs": [],
   "source": [
    "A=[1,2,3,4,5,6,7,8]"
   ]
  },
  {
   "cell_type": "code",
   "execution_count": 4,
   "metadata": {
    "ExecuteTime": {
     "end_time": "2018-08-22T20:02:09.988563Z",
     "start_time": "2018-08-22T20:02:09.984076Z"
    }
   },
   "outputs": [
    {
     "data": {
      "text/plain": [
       "<map at 0x150f8c1cf8>"
      ]
     },
     "execution_count": 4,
     "metadata": {},
     "output_type": "execute_result"
    }
   ],
   "source": [
    "B=[4,5,6,7,8,1,2,3]\n",
    "map(str,A)"
   ]
  },
  {
   "cell_type": "code",
   "execution_count": 9,
   "metadata": {
    "ExecuteTime": {
     "end_time": "2018-08-22T20:04:13.040281Z",
     "start_time": "2018-08-22T20:04:13.037103Z"
    }
   },
   "outputs": [
    {
     "data": {
      "text/plain": [
       "'1234567812345678'"
      ]
     },
     "execution_count": 9,
     "metadata": {},
     "output_type": "execute_result"
    }
   ],
   "source": [
    "\"\".join(map(str,A))*2"
   ]
  },
  {
   "cell_type": "code",
   "execution_count": 10,
   "metadata": {
    "ExecuteTime": {
     "end_time": "2018-08-22T20:07:23.737973Z",
     "start_time": "2018-08-22T20:07:23.734999Z"
    }
   },
   "outputs": [],
   "source": [
    "def check_rotation(A,B):\n",
    "    if len(A) != len(B):\n",
    "        return False\n",
    "    else:\n",
    "        if \"\".join(map(str,B)) in \"\".join(map(str,A))*2:\n",
    "            return True\n",
    "        else:\n",
    "            return False"
   ]
  },
  {
   "cell_type": "code",
   "execution_count": 11,
   "metadata": {
    "ExecuteTime": {
     "end_time": "2018-08-22T20:07:33.419381Z",
     "start_time": "2018-08-22T20:07:33.416074Z"
    }
   },
   "outputs": [
    {
     "data": {
      "text/plain": [
       "True"
      ]
     },
     "execution_count": 11,
     "metadata": {},
     "output_type": "execute_result"
    }
   ],
   "source": [
    "check_rotation(A,B)"
   ]
  },
  {
   "cell_type": "code",
   "execution_count": 12,
   "metadata": {
    "ExecuteTime": {
     "end_time": "2018-08-23T13:55:19.240666Z",
     "start_time": "2018-08-23T13:55:19.233113Z"
    }
   },
   "outputs": [],
   "source": [
    "class Solution:\n",
    "    def __init__(self):\n",
    "        self.Stack=[]\n",
    "        self.Queue=[]\n",
    "    def pushCharacter(self,Char):\n",
    "        self.Stack.append(Char)\n",
    "    def enqueueCharacter(self,Char):\n",
    "        self.Queue.insert(0,Char)\n",
    "    def popCharacter(self):\n",
    "        return self.Stack.pop(-1)\n",
    "    def dequeueCharacter(self):\n",
    "        return self.Queue.pop(0)"
   ]
  },
  {
   "cell_type": "code",
   "execution_count": 13,
   "metadata": {
    "ExecuteTime": {
     "end_time": "2018-08-23T13:55:31.346526Z",
     "start_time": "2018-08-23T13:55:31.343894Z"
    }
   },
   "outputs": [],
   "source": [
    "obj=Solution()"
   ]
  },
  {
   "cell_type": "code",
   "execution_count": 14,
   "metadata": {
    "ExecuteTime": {
     "end_time": "2018-08-23T13:56:03.286192Z",
     "start_time": "2018-08-23T13:56:03.283710Z"
    }
   },
   "outputs": [],
   "source": [
    "for i in 'yes':\n",
    "    obj.pushCharacter(i)\n",
    "    obj.enqueueCharacter(i)"
   ]
  },
  {
   "cell_type": "code",
   "execution_count": 15,
   "metadata": {
    "ExecuteTime": {
     "end_time": "2018-08-23T13:56:18.700210Z",
     "start_time": "2018-08-23T13:56:18.695862Z"
    }
   },
   "outputs": [
    {
     "data": {
      "text/plain": [
       "'s'"
      ]
     },
     "execution_count": 15,
     "metadata": {},
     "output_type": "execute_result"
    }
   ],
   "source": [
    "obj.popCharacter()"
   ]
  },
  {
   "cell_type": "code",
   "execution_count": 16,
   "metadata": {
    "ExecuteTime": {
     "end_time": "2018-08-24T17:56:30.920457Z",
     "start_time": "2018-08-24T17:56:30.672812Z"
    }
   },
   "outputs": [
    {
     "ename": "TypeError",
     "evalue": "append() takes exactly one argument (2 given)",
     "output_type": "error",
     "traceback": [
      "\u001b[0;31m---------------------------------------------------------------------------\u001b[0m",
      "\u001b[0;31mTypeError\u001b[0m                                 Traceback (most recent call last)",
      "\u001b[0;32m<ipython-input-16-ed1e2eddea69>\u001b[0m in \u001b[0;36m<module>\u001b[0;34m()\u001b[0m\n\u001b[1;32m      1\u001b[0m \u001b[0ma\u001b[0m\u001b[0;34m=\u001b[0m\u001b[0;34m[\u001b[0m\u001b[0;34m]\u001b[0m\u001b[0;34m\u001b[0m\u001b[0m\n\u001b[0;32m----> 2\u001b[0;31m \u001b[0ma\u001b[0m\u001b[0;34m.\u001b[0m\u001b[0mappend\u001b[0m\u001b[0;34m(\u001b[0m\u001b[0;36m1\u001b[0m\u001b[0;34m,\u001b[0m\u001b[0;36m2\u001b[0m\u001b[0;34m)\u001b[0m\u001b[0;34m\u001b[0m\u001b[0m\n\u001b[0m",
      "\u001b[0;31mTypeError\u001b[0m: append() takes exactly one argument (2 given)"
     ]
    }
   ],
   "source": [
    "a=[]\n",
    "a.append(1,2)"
   ]
  },
  {
   "cell_type": "code",
   "execution_count": 17,
   "metadata": {
    "ExecuteTime": {
     "end_time": "2018-08-24T17:56:45.510890Z",
     "start_time": "2018-08-24T17:56:45.502650Z"
    }
   },
   "outputs": [
    {
     "ename": "AttributeError",
     "evalue": "'NoneType' object has no attribute 'append'",
     "output_type": "error",
     "traceback": [
      "\u001b[0;31m---------------------------------------------------------------------------\u001b[0m",
      "\u001b[0;31mAttributeError\u001b[0m                            Traceback (most recent call last)",
      "\u001b[0;32m<ipython-input-17-41813716c499>\u001b[0m in \u001b[0;36m<module>\u001b[0;34m()\u001b[0m\n\u001b[0;32m----> 1\u001b[0;31m \u001b[0ma\u001b[0m\u001b[0;34m.\u001b[0m\u001b[0mappend\u001b[0m\u001b[0;34m(\u001b[0m\u001b[0;36m1\u001b[0m\u001b[0;34m)\u001b[0m\u001b[0;34m.\u001b[0m\u001b[0mappend\u001b[0m\u001b[0;34m(\u001b[0m\u001b[0;36m2\u001b[0m\u001b[0;34m)\u001b[0m\u001b[0;34m\u001b[0m\u001b[0m\n\u001b[0m",
      "\u001b[0;31mAttributeError\u001b[0m: 'NoneType' object has no attribute 'append'"
     ]
    }
   ],
   "source": [
    "a.append(1).append(2)"
   ]
  },
  {
   "cell_type": "code",
   "execution_count": 18,
   "metadata": {
    "ExecuteTime": {
     "end_time": "2018-08-24T17:57:09.592893Z",
     "start_time": "2018-08-24T17:57:09.590416Z"
    }
   },
   "outputs": [],
   "source": [
    "a.extend([1,2])"
   ]
  },
  {
   "cell_type": "code",
   "execution_count": 19,
   "metadata": {
    "ExecuteTime": {
     "end_time": "2018-08-24T17:57:11.080246Z",
     "start_time": "2018-08-24T17:57:11.076055Z"
    }
   },
   "outputs": [
    {
     "data": {
      "text/plain": [
       "[1, 1, 2]"
      ]
     },
     "execution_count": 19,
     "metadata": {},
     "output_type": "execute_result"
    }
   ],
   "source": [
    "a"
   ]
  },
  {
   "cell_type": "code",
   "execution_count": 20,
   "metadata": {
    "ExecuteTime": {
     "end_time": "2018-08-24T18:43:08.415704Z",
     "start_time": "2018-08-24T18:43:08.412534Z"
    }
   },
   "outputs": [
    {
     "data": {
      "text/plain": [
       "[1, 1, 2]"
      ]
     },
     "execution_count": 20,
     "metadata": {},
     "output_type": "execute_result"
    }
   ],
   "source": [
    "a"
   ]
  },
  {
   "cell_type": "code",
   "execution_count": 21,
   "metadata": {
    "ExecuteTime": {
     "end_time": "2018-08-24T18:43:15.358174Z",
     "start_time": "2018-08-24T18:43:15.355701Z"
    }
   },
   "outputs": [],
   "source": [
    "a=[1,2,3]"
   ]
  },
  {
   "cell_type": "code",
   "execution_count": 22,
   "metadata": {
    "ExecuteTime": {
     "end_time": "2018-08-24T18:43:17.070626Z",
     "start_time": "2018-08-24T18:43:17.067197Z"
    }
   },
   "outputs": [
    {
     "data": {
      "text/plain": [
       "[1, 2, 3]"
      ]
     },
     "execution_count": 22,
     "metadata": {},
     "output_type": "execute_result"
    }
   ],
   "source": [
    "a"
   ]
  },
  {
   "cell_type": "code",
   "execution_count": 23,
   "metadata": {
    "ExecuteTime": {
     "end_time": "2018-08-24T18:43:24.478655Z",
     "start_time": "2018-08-24T18:43:24.476190Z"
    }
   },
   "outputs": [],
   "source": [
    "b=[4,4,5]"
   ]
  },
  {
   "cell_type": "code",
   "execution_count": 31,
   "metadata": {
    "ExecuteTime": {
     "end_time": "2018-08-24T18:47:03.612625Z",
     "start_time": "2018-08-24T18:47:03.610292Z"
    }
   },
   "outputs": [],
   "source": [
    "def plu(X):\n",
    "    x,y=X\n",
    "    return [x]*y"
   ]
  },
  {
   "cell_type": "code",
   "execution_count": 33,
   "metadata": {
    "ExecuteTime": {
     "end_time": "2018-08-24T18:47:20.435897Z",
     "start_time": "2018-08-24T18:47:20.432290Z"
    }
   },
   "outputs": [
    {
     "data": {
      "text/plain": [
       "[1, 1, 1, 1, 2, 2, 2, 2, 3, 3, 3, 3, 3]"
      ]
     },
     "execution_count": 33,
     "metadata": {},
     "output_type": "execute_result"
    }
   ],
   "source": [
    "sum(list(map(plu,zip(a,b))),[])"
   ]
  },
  {
   "cell_type": "code",
   "execution_count": 29,
   "metadata": {
    "ExecuteTime": {
     "end_time": "2018-08-24T18:46:31.620786Z",
     "start_time": "2018-08-24T18:46:31.618372Z"
    }
   },
   "outputs": [],
   "source": [
    "c=list(zip(a,b))"
   ]
  },
  {
   "cell_type": "code",
   "execution_count": 30,
   "metadata": {
    "ExecuteTime": {
     "end_time": "2018-08-24T18:46:40.892266Z",
     "start_time": "2018-08-24T18:46:40.888837Z"
    }
   },
   "outputs": [
    {
     "data": {
      "text/plain": [
       "(1, 4)"
      ]
     },
     "execution_count": 30,
     "metadata": {},
     "output_type": "execute_result"
    }
   ],
   "source": [
    "c[0]"
   ]
  },
  {
   "cell_type": "code",
   "execution_count": 44,
   "metadata": {
    "ExecuteTime": {
     "end_time": "2018-08-24T19:12:15.311741Z",
     "start_time": "2018-08-24T19:11:57.740445Z"
    }
   },
   "outputs": [
    {
     "name": "stdout",
     "output_type": "stream",
     "text": [
      "20\n",
      "10 40 30 50 20 10 40 30 50 20 1 2 3 4 5 6 7 8 9 10\n",
      "1 2 3 4 5 6 7 8 9 10 10 40 30 50 20 10 40 30 50 20\n",
      "5\n"
     ]
    }
   ],
   "source": [
    "_=input()\n",
    "def get_list():\n",
    "    return list(map(int,input().rstrip().split(\" \")))\n",
    "\n",
    "def plu(X):\n",
    "    x,y=X\n",
    "    return [x]*y\n",
    "\n",
    "def get_q(alist):\n",
    "    m=len(alist)\n",
    "    if m%2 ==0:\n",
    "        return (alist[m//2]+alist[m//2-1])/2\n",
    "    else:\n",
    "        return alist[m//2]\n",
    "a=get_list()\n",
    "b=get_list()\n",
    "\n",
    "\n",
    "S=sorted(sum(list(map(plu,zip(a,b))),[]))\n",
    "mid=len(S)\n",
    "\n",
    "print(get_q(S[mid//2+1:])-get_q(S[:mid//2]))"
   ]
  },
  {
   "cell_type": "code",
   "execution_count": 43,
   "metadata": {
    "ExecuteTime": {
     "end_time": "2018-08-24T19:09:27.847190Z",
     "start_time": "2018-08-24T19:09:27.843837Z"
    }
   },
   "outputs": [
    {
     "data": {
      "text/plain": [
       "[6, 6, 6, 6, 6, 8, 8, 8, 10, 10, 12, 12, 12, 12, 16, 16, 16, 16, 16, 20]"
      ]
     },
     "execution_count": 43,
     "metadata": {},
     "output_type": "execute_result"
    }
   ],
   "source": [
    "S"
   ]
  },
  {
   "cell_type": "code",
   "execution_count": 36,
   "metadata": {
    "ExecuteTime": {
     "end_time": "2018-08-24T18:59:33.589368Z",
     "start_time": "2018-08-24T18:59:33.586010Z"
    }
   },
   "outputs": [
    {
     "data": {
      "text/plain": [
       "20"
      ]
     },
     "execution_count": 36,
     "metadata": {},
     "output_type": "execute_result"
    }
   ],
   "source": [
    "len(S)"
   ]
  },
  {
   "cell_type": "code",
   "execution_count": 38,
   "metadata": {
    "ExecuteTime": {
     "end_time": "2018-08-24T19:00:41.932500Z",
     "start_time": "2018-08-24T19:00:41.929222Z"
    }
   },
   "outputs": [
    {
     "data": {
      "text/plain": [
       "16"
      ]
     },
     "execution_count": 38,
     "metadata": {},
     "output_type": "execute_result"
    }
   ],
   "source": [
    "get_q(S[mid//2+1:])"
   ]
  },
  {
   "cell_type": "code",
   "execution_count": 39,
   "metadata": {
    "ExecuteTime": {
     "end_time": "2018-08-24T19:00:54.911278Z",
     "start_time": "2018-08-24T19:00:54.907995Z"
    }
   },
   "outputs": [
    {
     "data": {
      "text/plain": [
       "9.0"
      ]
     },
     "execution_count": 39,
     "metadata": {},
     "output_type": "execute_result"
    }
   ],
   "source": [
    "get_q(S[:mid//2])"
   ]
  },
  {
   "cell_type": "code",
   "execution_count": 40,
   "metadata": {
    "ExecuteTime": {
     "end_time": "2018-08-24T19:01:14.206472Z",
     "start_time": "2018-08-24T19:01:14.203100Z"
    }
   },
   "outputs": [
    {
     "data": {
      "text/plain": [
       "[6, 6, 6, 6, 6, 12, 12, 12, 12, 8]"
      ]
     },
     "execution_count": 40,
     "metadata": {},
     "output_type": "execute_result"
    }
   ],
   "source": [
    "S[:10]"
   ]
  },
  {
   "cell_type": "code",
   "execution_count": null,
   "metadata": {},
   "outputs": [],
   "source": [
    "def median(arr):\n",
    "    N = len(arr)\n",
    "    if N%2==0:\n",
    "        return (arr[(N//2)-1]+arr[N//2])/2\n",
    "    return arr[N//2]\n",
    "\n",
    "def interquartile(arr):\n",
    "    N = len(arr)\n",
    "    Q1 = median(arr[:N//2])\n",
    "    Q2 = median(arr)\n",
    "    if N%2 == 0:\n",
    "        Q3 = median(arr[N//2:])\n",
    "    else:\n",
    "        Q3 = median(arr[(N//2)+1:])\n",
    "    return Q3 - Q1\n",
    "\n",
    "n = int(input())\n",
    "X = list(map(float,input().split()))\n",
    "F = list(map(int,input().split()))\n",
    "S = []\n",
    "\n",
    "for i in range(n):\n",
    "    S += [X[i]] * F[i]\n",
    "\n",
    "S = sorted(S)\n",
    "IQR = interquartile(S)\n",
    "\n",
    "print(round(IQR,1))"
   ]
  },
  {
   "cell_type": "code",
   "execution_count": 46,
   "metadata": {
    "ExecuteTime": {
     "end_time": "2018-08-24T19:14:08.179426Z",
     "start_time": "2018-08-24T19:13:52.122633Z"
    }
   },
   "outputs": [
    {
     "name": "stdout",
     "output_type": "stream",
     "text": [
      "20\n",
      "10 40 30 50 20 10 40 30 50 20 1 2 3 4 5 6 7 8 9 10\n",
      "1 2 3 4 5 6 7 8 9 10 10 40 30 50 20 10 40 30 50 20\n",
      "5.0\n"
     ]
    }
   ],
   "source": [
    "_=input()\n",
    "def get_list():\n",
    "    return list(map(int,input().rstrip().split(\" \")))\n",
    "\n",
    "def plu(X):\n",
    "    x,y=X\n",
    "    return [x]*y\n",
    "\n",
    "def get_q(alist):\n",
    "    m=len(alist)\n",
    "    if m%2 ==0:\n",
    "        return 1.0*(alist[m//2]+alist[m//2-1])/2\n",
    "    else:\n",
    "        return 1.0*alist[m//2]\n",
    "a=get_list()\n",
    "b=get_list()\n",
    "\n",
    "\n",
    "S=sorted(sum(list(map(plu,zip(a,b))),[]))\n",
    "mid=len(S)\n",
    "\n",
    "print(round(get_q(S[mid//2+1:])-get_q(S[:mid//2]),1))"
   ]
  },
  {
   "cell_type": "code",
   "execution_count": null,
   "metadata": {},
   "outputs": [],
   "source": []
  }
 ],
 "metadata": {
  "kernelspec": {
   "display_name": "Python 3",
   "language": "python",
   "name": "python3"
  },
  "language_info": {
   "codemirror_mode": {
    "name": "ipython",
    "version": 3
   },
   "file_extension": ".py",
   "mimetype": "text/x-python",
   "name": "python",
   "nbconvert_exporter": "python",
   "pygments_lexer": "ipython3",
   "version": "3.6.4"
  },
  "toc": {
   "colors": {
    "hover_highlight": "#DAA520",
    "navigate_num": "#000000",
    "navigate_text": "#333333",
    "running_highlight": "#FF0000",
    "selected_highlight": "#FFD700",
    "sidebar_border": "#EEEEEE",
    "wrapper_background": "#FFFFFF"
   },
   "moveMenuLeft": true,
   "nav_menu": {
    "height": "4px",
    "width": "254px"
   },
   "navigate_menu": true,
   "number_sections": true,
   "sideBar": true,
   "threshold": 4,
   "toc_cell": false,
   "toc_section_display": "block",
   "toc_window_display": false,
   "widenNotebook": false
  }
 },
 "nbformat": 4,
 "nbformat_minor": 2
}
