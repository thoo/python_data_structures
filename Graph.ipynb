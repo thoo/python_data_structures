{
 "cells": [
  {
   "cell_type": "code",
   "execution_count": 1,
   "metadata": {
    "ExecuteTime": {
     "end_time": "2018-09-04T11:04:41.274863Z",
     "start_time": "2018-09-04T11:04:41.266510Z"
    }
   },
   "outputs": [],
   "source": [
    "class Vertex:\n",
    "    def __init__(self,key):\n",
    "        self.id=key\n",
    "        self.connectedTo={}\n",
    "        \n",
    "    @property\n",
    "    def Neighbor(self,nbr):\n",
    "        return self.connectedTo[nbr]\n",
    "    \n",
    "    \n",
    "    @Neighbor.setter\n",
    "    def Neighbor(self,nbr,weight=0):\n",
    "        self.connectedTo[nbr]=weight\n",
    "        \n",
    "    def __str__(self):\n",
    "        return str(self.id)+' connected to:'\\\n",
    "    +str([x.id for x in self.connectedTo])\n",
    "    \n",
    "    def getConnection(self):\n",
    "        return self.connectedTo.keys()\n",
    "    \n",
    "    def getId(self):\n",
    "        return self.id\n",
    "    \n",
    "    \n",
    "        \n",
    "class Graph:\n",
    "    def __init__(self):\n",
    "        self.vertlist={}\n",
    "        self.numVert=0\n",
    "        \n",
    "    def addVert(self,key):\n",
    "        self.numVert +=1\n",
    "        "
   ]
  },
  {
   "cell_type": "code",
   "execution_count": 2,
   "metadata": {
    "ExecuteTime": {
     "end_time": "2018-09-04T11:05:00.355300Z",
     "start_time": "2018-09-04T11:05:00.353076Z"
    }
   },
   "outputs": [],
   "source": [
    "a=Vertex('root')"
   ]
  },
  {
   "cell_type": "code",
   "execution_count": 5,
   "metadata": {
    "ExecuteTime": {
     "end_time": "2018-09-04T11:05:18.373349Z",
     "start_time": "2018-09-04T11:05:18.369159Z"
    }
   },
   "outputs": [
    {
     "data": {
      "text/plain": [
       "'root'"
      ]
     },
     "execution_count": 5,
     "metadata": {},
     "output_type": "execute_result"
    }
   ],
   "source": [
    "a.id"
   ]
  },
  {
   "cell_type": "code",
   "execution_count": 6,
   "metadata": {
    "ExecuteTime": {
     "end_time": "2018-09-04T11:05:29.265820Z",
     "start_time": "2018-09-04T11:05:29.262754Z"
    }
   },
   "outputs": [
    {
     "name": "stdout",
     "output_type": "stream",
     "text": [
      "root connected to:[]\n"
     ]
    }
   ],
   "source": [
    "print(a)"
   ]
  },
  {
   "cell_type": "code",
   "execution_count": 7,
   "metadata": {
    "ExecuteTime": {
     "end_time": "2018-09-04T11:06:08.091004Z",
     "start_time": "2018-09-04T11:06:08.083043Z"
    }
   },
   "outputs": [
    {
     "ename": "TypeError",
     "evalue": "Neighbor() missing 1 required positional argument: 'nbr'",
     "output_type": "error",
     "traceback": [
      "\u001b[0;31m---------------------------------------------------------------------------\u001b[0m",
      "\u001b[0;31mTypeError\u001b[0m                                 Traceback (most recent call last)",
      "\u001b[0;32m<ipython-input-7-f67390e570a5>\u001b[0m in \u001b[0;36m<module>\u001b[0;34m()\u001b[0m\n\u001b[0;32m----> 1\u001b[0;31m \u001b[0ma\u001b[0m\u001b[0;34m.\u001b[0m\u001b[0mNeighbor\u001b[0m\u001b[0;34m(\u001b[0m\u001b[0;34m'b'\u001b[0m\u001b[0;34m)\u001b[0m\u001b[0;34m\u001b[0m\u001b[0m\n\u001b[0m",
      "\u001b[0;31mTypeError\u001b[0m: Neighbor() missing 1 required positional argument: 'nbr'"
     ]
    }
   ],
   "source": [
    "a.Neighbor('b')"
   ]
  },
  {
   "cell_type": "code",
   "execution_count": 13,
   "metadata": {
    "ExecuteTime": {
     "end_time": "2018-09-04T11:11:25.125117Z",
     "start_time": "2018-09-04T11:11:25.121936Z"
    }
   },
   "outputs": [],
   "source": [
    "class P:\n",
    "\n",
    "    def __init__(self,x):\n",
    "        self.set_x(x)\n",
    "\n",
    "    def get_x(self):\n",
    "        return self.__x\n",
    "\n",
    "    def set_x(self, x):\n",
    "        self.__x=2*x\n",
    "\n",
    "    x = property(get_x, set_x)"
   ]
  },
  {
   "cell_type": "code",
   "execution_count": 14,
   "metadata": {
    "ExecuteTime": {
     "end_time": "2018-09-04T11:11:26.053709Z",
     "start_time": "2018-09-04T11:11:26.051448Z"
    }
   },
   "outputs": [],
   "source": [
    "test=P(10)"
   ]
  },
  {
   "cell_type": "code",
   "execution_count": 15,
   "metadata": {
    "ExecuteTime": {
     "end_time": "2018-09-04T11:11:28.247629Z",
     "start_time": "2018-09-04T11:11:28.245308Z"
    }
   },
   "outputs": [],
   "source": [
    "test.x=2"
   ]
  },
  {
   "cell_type": "code",
   "execution_count": 16,
   "metadata": {
    "ExecuteTime": {
     "end_time": "2018-09-04T11:11:28.962510Z",
     "start_time": "2018-09-04T11:11:28.959185Z"
    }
   },
   "outputs": [
    {
     "data": {
      "text/plain": [
       "4"
      ]
     },
     "execution_count": 16,
     "metadata": {},
     "output_type": "execute_result"
    }
   ],
   "source": [
    "test.x"
   ]
  },
  {
   "cell_type": "code",
   "execution_count": null,
   "metadata": {},
   "outputs": [],
   "source": [
    "from enum import Enum\n",
    "\n",
    "class State(Enum):\n",
    "    unvisited=0\n",
    "    visitying=1\n",
    "    visited=2\n",
    "    \n",
    "class Node:\n",
    "    def __init__(self,key):\n",
    "        self.key=key\n",
    "        self.visit_state=State.unvisited\n",
    "        self.incoming_edges=0\n",
    "        self.adj_nodes ={}\n",
    "        self.adj_weights={}\n",
    "        \n",
    "    def __repr__(self):\n",
    "        return str(self.key)\n",
    "    \n",
    "    def __lt__(self,other):\n",
    "        return self.key < other.key\n",
    "    \n",
    "    def add_neighbor(self, neighbor, weight =0):\n",
    "        if neighbor is None or weight is None:\n",
    "            raise TypeError('neighbor or weight cannot be none')\n",
    "            \n",
    "        neighbor.incoming_edges +=1\n",
    "        self.adj_nodes[neighbor.key]=neighbor\n",
    "        self.adj_weights[neighbor.key]=weight\n",
    "    def remove(self,neighbor):\n",
    "        if neighbor is None:\n",
    "            raise TypeError('Neighbor cannot be None.')\n",
    "        if neighbor.key not in self.adj_nodes:\n",
    "            raise KeyError('Neighbor not found.')\n",
    "        neighbor.incoming_edges -=1\n",
    "        \n",
    "        del self.adj_nodes[neighbor.key]\n",
    "        del self.adj_weights[neighbor.key]\n",
    "        "
   ]
  }
 ],
 "metadata": {
  "kernelspec": {
   "display_name": "Python 3",
   "language": "python",
   "name": "python3"
  },
  "language_info": {
   "codemirror_mode": {
    "name": "ipython",
    "version": 3
   },
   "file_extension": ".py",
   "mimetype": "text/x-python",
   "name": "python",
   "nbconvert_exporter": "python",
   "pygments_lexer": "ipython3",
   "version": "3.6.4"
  },
  "toc": {
   "colors": {
    "hover_highlight": "#DAA520",
    "navigate_num": "#000000",
    "navigate_text": "#333333",
    "running_highlight": "#FF0000",
    "selected_highlight": "#FFD700",
    "sidebar_border": "#EEEEEE",
    "wrapper_background": "#FFFFFF"
   },
   "moveMenuLeft": true,
   "nav_menu": {
    "height": "4px",
    "width": "254px"
   },
   "navigate_menu": true,
   "number_sections": true,
   "sideBar": true,
   "threshold": 4,
   "toc_cell": false,
   "toc_section_display": "block",
   "toc_window_display": false,
   "widenNotebook": false
  }
 },
 "nbformat": 4,
 "nbformat_minor": 2
}
