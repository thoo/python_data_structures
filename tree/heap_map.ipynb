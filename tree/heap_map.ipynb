{
 "cells": [
  {
   "cell_type": "markdown",
   "metadata": {},
   "source": [
    "* its left child is located at 2*k index \n",
    "* its right child is located at 2*k+1. index \n",
    "* its parent is located at k/2 index\n"
   ]
  },
  {
   "cell_type": "code",
   "execution_count": 8,
   "metadata": {
    "ExecuteTime": {
     "end_time": "2018-12-21T18:54:13.922610Z",
     "start_time": "2018-12-21T18:54:13.919862Z"
    }
   },
   "outputs": [],
   "source": [
    "amap = [0,'A','B','C','D','E','F','G','H','I']\n"
   ]
  },
  {
   "cell_type": "code",
   "execution_count": 9,
   "metadata": {
    "ExecuteTime": {
     "end_time": "2018-12-21T18:54:15.310891Z",
     "start_time": "2018-12-21T18:54:15.306484Z"
    }
   },
   "outputs": [
    {
     "data": {
      "text/plain": [
       "7"
      ]
     },
     "execution_count": 9,
     "metadata": {},
     "output_type": "execute_result"
    }
   ],
   "source": [
    "amap.index('G')"
   ]
  },
  {
   "cell_type": "code",
   "execution_count": 10,
   "metadata": {
    "ExecuteTime": {
     "end_time": "2018-12-21T18:54:15.981193Z",
     "start_time": "2018-12-21T18:54:15.977027Z"
    }
   },
   "outputs": [
    {
     "data": {
      "text/plain": [
       "'G'"
      ]
     },
     "execution_count": 10,
     "metadata": {},
     "output_type": "execute_result"
    }
   ],
   "source": [
    "amap[7]"
   ]
  },
  {
   "cell_type": "code",
   "execution_count": 11,
   "metadata": {
    "ExecuteTime": {
     "end_time": "2018-12-21T18:54:16.476264Z",
     "start_time": "2018-12-21T18:54:16.469994Z"
    }
   },
   "outputs": [
    {
     "data": {
      "text/plain": [
       "'F'"
      ]
     },
     "execution_count": 11,
     "metadata": {},
     "output_type": "execute_result"
    }
   ],
   "source": [
    "amap[7//2*2]"
   ]
  },
  {
   "cell_type": "code",
   "execution_count": 13,
   "metadata": {
    "ExecuteTime": {
     "end_time": "2018-12-21T19:03:14.818178Z",
     "start_time": "2018-12-21T19:03:14.768532Z"
    }
   },
   "outputs": [
    {
     "data": {
      "text/plain": [
       "[6, 7, 12, 10, 15, 17]"
      ]
     },
     "execution_count": 13,
     "metadata": {},
     "output_type": "execute_result"
    }
   ],
   "source": [
    "alist"
   ]
  },
  {
   "cell_type": "code",
   "execution_count": 15,
   "metadata": {
    "ExecuteTime": {
     "end_time": "2018-12-21T19:04:27.551715Z",
     "start_time": "2018-12-21T19:04:27.545928Z"
    }
   },
   "outputs": [],
   "source": [
    "alist.insert(0,1)"
   ]
  },
  {
   "cell_type": "code",
   "execution_count": 16,
   "metadata": {
    "ExecuteTime": {
     "end_time": "2018-12-21T19:04:30.289075Z",
     "start_time": "2018-12-21T19:04:30.285088Z"
    }
   },
   "outputs": [
    {
     "data": {
      "text/plain": [
       "[1, 6, 7, 12, 10, 15, 17]"
      ]
     },
     "execution_count": 16,
     "metadata": {},
     "output_type": "execute_result"
    }
   ],
   "source": [
    "alist"
   ]
  },
  {
   "cell_type": "code",
   "execution_count": 17,
   "metadata": {
    "ExecuteTime": {
     "end_time": "2018-12-21T19:09:04.883204Z",
     "start_time": "2018-12-21T19:09:04.880494Z"
    }
   },
   "outputs": [],
   "source": [
    "alist = [6,7,12,10,15,17]"
   ]
  },
  {
   "cell_type": "code",
   "execution_count": 18,
   "metadata": {
    "ExecuteTime": {
     "end_time": "2018-12-21T19:09:08.017484Z",
     "start_time": "2018-12-21T19:09:08.001042Z"
    }
   },
   "outputs": [],
   "source": [
    "def Insert(alist,val):\n",
    "    alist.append(val)\n",
    "    alist.insert(0,0)\n",
    "    done = False\n",
    "    while not done:\n",
    "        index = alist.index(val)\n",
    "        p_index = index//2\n",
    "        if alist[p_index] < alist[index]:\n",
    "            done = True\n",
    "        else:\n",
    "            alist[p_index],alist[index] = alist[index],alist[p_index]\n",
    "            \n",
    "    \n",
    "    alist.pop(0)\n",
    "    return alist\n",
    "            \n",
    "        "
   ]
  },
  {
   "cell_type": "code",
   "execution_count": 19,
   "metadata": {
    "ExecuteTime": {
     "end_time": "2018-12-21T19:09:16.507498Z",
     "start_time": "2018-12-21T19:09:16.502392Z"
    }
   },
   "outputs": [
    {
     "data": {
      "text/plain": [
       "[5, 7, 6, 10, 15, 17, 12]"
      ]
     },
     "execution_count": 19,
     "metadata": {},
     "output_type": "execute_result"
    }
   ],
   "source": [
    "Insert(alist,5)"
   ]
  },
  {
   "cell_type": "code",
   "execution_count": 23,
   "metadata": {
    "ExecuteTime": {
     "end_time": "2018-12-21T19:16:34.691686Z",
     "start_time": "2018-12-21T19:16:34.688066Z"
    }
   },
   "outputs": [],
   "source": [
    "alist = [5,14,23,32,41,87,90,50,64,53]"
   ]
  },
  {
   "cell_type": "code",
   "execution_count": 24,
   "metadata": {
    "ExecuteTime": {
     "end_time": "2018-12-21T19:16:35.729583Z",
     "start_time": "2018-12-21T19:16:35.725283Z"
    }
   },
   "outputs": [
    {
     "data": {
      "text/plain": [
       "[5, 14, 23, 32, 41, 87, 90, 50, 64, 53, 43]"
      ]
     },
     "execution_count": 24,
     "metadata": {},
     "output_type": "execute_result"
    }
   ],
   "source": [
    "Insert(alist,43)"
   ]
  },
  {
   "cell_type": "code",
   "execution_count": 25,
   "metadata": {
    "ExecuteTime": {
     "end_time": "2018-12-21T19:16:38.116378Z",
     "start_time": "2018-12-21T19:16:38.110218Z"
    }
   },
   "outputs": [
    {
     "data": {
      "text/plain": [
       "[5, 14, 18, 32, 41, 23, 90, 50, 64, 53, 43, 87]"
      ]
     },
     "execution_count": 25,
     "metadata": {},
     "output_type": "execute_result"
    }
   ],
   "source": [
    "#alist = [5,14,23,32,41,87,90,50,64,53]\n",
    "Insert(alist,18)"
   ]
  },
  {
   "cell_type": "code",
   "execution_count": 26,
   "metadata": {
    "ExecuteTime": {
     "end_time": "2018-12-21T19:17:41.162195Z",
     "start_time": "2018-12-21T19:17:41.156817Z"
    }
   },
   "outputs": [
    {
     "data": {
      "text/plain": [
       "[2, 14, 5, 32, 41, 18, 90, 50, 64, 53, 43, 87, 23]"
      ]
     },
     "execution_count": 26,
     "metadata": {},
     "output_type": "execute_result"
    }
   ],
   "source": [
    "Insert(alist,2)"
   ]
  },
  {
   "cell_type": "code",
   "execution_count": null,
   "metadata": {},
   "outputs": [],
   "source": []
  }
 ],
 "metadata": {
  "kernelspec": {
   "display_name": "Python 3",
   "language": "python",
   "name": "python3"
  },
  "language_info": {
   "codemirror_mode": {
    "name": "ipython",
    "version": 3
   },
   "file_extension": ".py",
   "mimetype": "text/x-python",
   "name": "python",
   "nbconvert_exporter": "python",
   "pygments_lexer": "ipython3",
   "version": "3.6.5"
  },
  "toc": {
   "base_numbering": 1,
   "nav_menu": {
    "height": "4px",
    "width": "254px"
   },
   "number_sections": true,
   "sideBar": true,
   "skip_h1_title": false,
   "title_cell": "Table of Contents",
   "title_sidebar": "Contents",
   "toc_cell": false,
   "toc_position": {},
   "toc_section_display": "block",
   "toc_window_display": false
  }
 },
 "nbformat": 4,
 "nbformat_minor": 2
}
