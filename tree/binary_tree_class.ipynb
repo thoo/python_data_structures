{
 "cells": [
  {
   "cell_type": "code",
   "execution_count": 1,
   "metadata": {
    "ExecuteTime": {
     "end_time": "2018-12-12T19:46:55.461373Z",
     "start_time": "2018-12-12T19:46:55.455749Z"
    }
   },
   "outputs": [],
   "source": [
    "class binarytree:\n",
    "    def __init__(self, root):\n",
    "        self.key = root\n",
    "        self.leftChild = None\n",
    "        self.rightChild = None\n",
    "    \n",
    "    def insertLeft(self, node):\n",
    "        if self.leftChild == None:\n",
    "            self.leftChild = binarytree(node)\n",
    "        \n",
    "        else:\n",
    "            t = binarytree(node)\n",
    "            t.leftChild = self.leftChild\n",
    "            self.leftChild = t\n",
    "    \n",
    "    def insertRight(self,node):\n",
    "        if self.rightChild == None:\n",
    "            self.rightChild = binarytree(node)\n",
    "        else:\n",
    "            t = binarytree(node)\n",
    "            t.rightChild = self.rightChild\n",
    "            self.rightChild = t\n",
    "    def getLeft(self):\n",
    "        return self.leftChild\n",
    "    \n",
    "    def getRight(self):\n",
    "        return self.rightChild\n",
    "    \n",
    "    def getkey(self):\n",
    "        return self.key\n",
    "    \n",
    "    \n",
    "            "
   ]
  },
  {
   "cell_type": "code",
   "execution_count": 2,
   "metadata": {
    "ExecuteTime": {
     "end_time": "2018-12-12T19:46:57.062738Z",
     "start_time": "2018-12-12T19:46:57.059570Z"
    }
   },
   "outputs": [],
   "source": [
    "atree = binarytree(10)"
   ]
  },
  {
   "cell_type": "code",
   "execution_count": 38,
   "metadata": {
    "ExecuteTime": {
     "end_time": "2018-12-09T14:08:41.443167Z",
     "start_time": "2018-12-09T14:08:41.440283Z"
    }
   },
   "outputs": [],
   "source": [
    "atree.leftChild = 4\n",
    "atree.rightChild = 15"
   ]
  },
  {
   "cell_type": "markdown",
   "metadata": {},
   "source": [
    "## Depth First Traversal\n",
    "### Inorder ( Left, Root, Right)"
   ]
  },
  {
   "cell_type": "code",
   "execution_count": 3,
   "metadata": {
    "ExecuteTime": {
     "end_time": "2018-12-12T19:47:04.463036Z",
     "start_time": "2018-12-12T19:47:04.460170Z"
    }
   },
   "outputs": [],
   "source": [
    "atree = binarytree(4)"
   ]
  },
  {
   "cell_type": "code",
   "execution_count": 4,
   "metadata": {
    "ExecuteTime": {
     "end_time": "2018-12-12T19:47:04.876030Z",
     "start_time": "2018-12-12T19:47:04.873259Z"
    }
   },
   "outputs": [],
   "source": [
    "atree.insertLeft(2)"
   ]
  },
  {
   "cell_type": "code",
   "execution_count": 5,
   "metadata": {
    "ExecuteTime": {
     "end_time": "2018-12-12T19:47:05.260113Z",
     "start_time": "2018-12-12T19:47:05.257298Z"
    }
   },
   "outputs": [],
   "source": [
    "atree.insertRight(6)"
   ]
  },
  {
   "cell_type": "code",
   "execution_count": 6,
   "metadata": {
    "ExecuteTime": {
     "end_time": "2018-12-12T19:47:05.870158Z",
     "start_time": "2018-12-12T19:47:05.867330Z"
    }
   },
   "outputs": [],
   "source": [
    "atree.leftChild.insertLeft(1)"
   ]
  },
  {
   "cell_type": "code",
   "execution_count": 7,
   "metadata": {
    "ExecuteTime": {
     "end_time": "2018-12-12T19:47:06.228871Z",
     "start_time": "2018-12-12T19:47:06.226389Z"
    }
   },
   "outputs": [],
   "source": [
    "atree.leftChild.insertRight(3)"
   ]
  },
  {
   "cell_type": "code",
   "execution_count": 8,
   "metadata": {
    "ExecuteTime": {
     "end_time": "2018-12-12T19:47:06.587913Z",
     "start_time": "2018-12-12T19:47:06.585427Z"
    }
   },
   "outputs": [],
   "source": [
    "atree.rightChild.insertRight(7)"
   ]
  },
  {
   "cell_type": "code",
   "execution_count": 9,
   "metadata": {
    "ExecuteTime": {
     "end_time": "2018-12-12T19:47:08.581945Z",
     "start_time": "2018-12-12T19:47:08.578893Z"
    }
   },
   "outputs": [],
   "source": [
    "atree.rightChild.insertLeft(5)"
   ]
  },
  {
   "cell_type": "code",
   "execution_count": 91,
   "metadata": {
    "ExecuteTime": {
     "end_time": "2018-12-09T17:05:58.067869Z",
     "start_time": "2018-12-09T17:05:58.059967Z"
    }
   },
   "outputs": [
    {
     "data": {
      "text/plain": [
       "4"
      ]
     },
     "execution_count": 91,
     "metadata": {},
     "output_type": "execute_result"
    }
   ],
   "source": [
    "atree.key"
   ]
  },
  {
   "cell_type": "code",
   "execution_count": 10,
   "metadata": {
    "ExecuteTime": {
     "end_time": "2018-12-12T19:47:10.927878Z",
     "start_time": "2018-12-12T19:47:10.923890Z"
    }
   },
   "outputs": [],
   "source": [
    "def InOrder(root):\n",
    "    if root:\n",
    "        InOrder(root.leftChild)\n",
    "        print(root.key,sep=\" \",end=\"-\")\n",
    "        InOrder(root.rightChild)"
   ]
  },
  {
   "cell_type": "code",
   "execution_count": 11,
   "metadata": {
    "ExecuteTime": {
     "end_time": "2018-12-12T19:47:11.703525Z",
     "start_time": "2018-12-12T19:47:11.699190Z"
    }
   },
   "outputs": [
    {
     "name": "stdout",
     "output_type": "stream",
     "text": [
      "1-2-3-4-5-6-7-"
     ]
    }
   ],
   "source": [
    "InOrder(atree)"
   ]
  },
  {
   "cell_type": "markdown",
   "metadata": {},
   "source": [
    "### PreOrder ( Root, Left, Right)"
   ]
  },
  {
   "cell_type": "code",
   "execution_count": 56,
   "metadata": {
    "ExecuteTime": {
     "end_time": "2018-12-09T14:16:19.929380Z",
     "start_time": "2018-12-09T14:16:19.923415Z"
    }
   },
   "outputs": [],
   "source": [
    "def PreOrder(root):\n",
    "    if root:\n",
    "        print(root.key,end=\"-\")\n",
    "        PreOrder(root.leftChild)\n",
    "        PreOrder(root.rightChild)"
   ]
  },
  {
   "cell_type": "code",
   "execution_count": 96,
   "metadata": {
    "ExecuteTime": {
     "end_time": "2018-12-09T17:17:06.919130Z",
     "start_time": "2018-12-09T17:17:06.901545Z"
    }
   },
   "outputs": [
    {
     "name": "stdout",
     "output_type": "stream",
     "text": [
      "4-2-1-3-6-5-7-"
     ]
    }
   ],
   "source": [
    "PreOrder(atree)"
   ]
  },
  {
   "cell_type": "markdown",
   "metadata": {},
   "source": [
    "### PostOrder ( Left, Right, Root)"
   ]
  },
  {
   "cell_type": "code",
   "execution_count": 61,
   "metadata": {
    "ExecuteTime": {
     "end_time": "2018-12-09T14:33:52.335612Z",
     "start_time": "2018-12-09T14:33:52.323234Z"
    }
   },
   "outputs": [],
   "source": [
    "def PostOrder(root):\n",
    "    if root:\n",
    "        PostOrder(root.leftChild)\n",
    "        PostOrder(root.rightChild)\n",
    "        print(root.key, end=\" \")"
   ]
  },
  {
   "cell_type": "code",
   "execution_count": 105,
   "metadata": {
    "ExecuteTime": {
     "end_time": "2018-12-09T19:10:49.784981Z",
     "start_time": "2018-12-09T19:10:49.763308Z"
    }
   },
   "outputs": [
    {
     "name": "stdout",
     "output_type": "stream",
     "text": [
      "1 3 2 5 7 6 4 "
     ]
    }
   ],
   "source": [
    "PostOrder(atree)"
   ]
  },
  {
   "cell_type": "code",
   "execution_count": 101,
   "metadata": {
    "ExecuteTime": {
     "end_time": "2018-12-09T18:47:10.381668Z",
     "start_time": "2018-12-09T18:47:10.372800Z"
    }
   },
   "outputs": [],
   "source": [
    "def inOrder(root):\n",
    "    \"\"\"\n",
    "    1) Create an empty stack S.\n",
    "    2) Initialize current node as root\n",
    "    3) Push the current node to S and \n",
    "       set current = current->left \n",
    "       until current is NULL\n",
    "    4) If current is NULL and stack is not empty then \n",
    "         a) Pop the top item from stack.\n",
    "         b) Print the popped item, set current = popped_item->right \n",
    "         c) Go to step 3.\n",
    "    5) If current is NULL and stack is empty then we are done.\n",
    "    \"\"\"\n",
    "    current = root\n",
    "    s = []\n",
    "    done = False\n",
    "    \n",
    "    while not done:\n",
    "        if current:\n",
    "            s.append(current)\n",
    "            current = current.leftChild\n",
    "        \n",
    "        if not current and not s:\n",
    "            done = True\n",
    "        \n",
    "        if not current and s:\n",
    "            current = s.pop()\n",
    "            print(current.key,end=\"-\")\n",
    "            current = current.rightChild"
   ]
  },
  {
   "cell_type": "code",
   "execution_count": 102,
   "metadata": {
    "ExecuteTime": {
     "end_time": "2018-12-09T18:47:10.850006Z",
     "start_time": "2018-12-09T18:47:10.844484Z"
    }
   },
   "outputs": [
    {
     "name": "stdout",
     "output_type": "stream",
     "text": [
      "1-2-3-4-5-6-7-"
     ]
    }
   ],
   "source": [
    "inOrder(atree)"
   ]
  },
  {
   "cell_type": "code",
   "execution_count": 106,
   "metadata": {
    "ExecuteTime": {
     "end_time": "2018-12-09T20:31:09.968554Z",
     "start_time": "2018-12-09T20:31:09.930934Z"
    }
   },
   "outputs": [],
   "source": [
    "def preOrder(root):\n",
    "    \"\"\"\n",
    "    1) Create an empty stack nodeStack and push \n",
    "       root node to stack.\n",
    "    2) Do following while nodeStack is not empty.\n",
    "        a) Pop an item from stack and print it.\n",
    "        b) Push right child of popped item to stack\n",
    "        c) Push left child of popped item to stack\n",
    "    \"\"\"\n",
    "    s = []\n",
    "    current = root\n",
    "    s.append(current)\n",
    "    done = False\n",
    "    while not done:\n",
    "        if s:\n",
    "            current = s.pop()\n",
    "            print(current.key, end=\"-\")\n",
    "            if current.rightChild:\n",
    "                s.append(current.rightChild)\n",
    "            \n",
    "            if current.leftChild:\n",
    "                s.append(current.leftChild)\n",
    "              \n",
    "        \n",
    "        if not s:\n",
    "            done = True\n",
    "        \n",
    "        "
   ]
  },
  {
   "cell_type": "code",
   "execution_count": 104,
   "metadata": {
    "ExecuteTime": {
     "end_time": "2018-12-09T18:47:13.111112Z",
     "start_time": "2018-12-09T18:47:13.106607Z"
    }
   },
   "outputs": [
    {
     "name": "stdout",
     "output_type": "stream",
     "text": [
      "4-2-1-3-6-5-7-"
     ]
    }
   ],
   "source": [
    "preOrder(atree)"
   ]
  },
  {
   "cell_type": "code",
   "execution_count": 113,
   "metadata": {
    "ExecuteTime": {
     "end_time": "2018-12-09T20:45:21.093723Z",
     "start_time": "2018-12-09T20:45:21.087829Z"
    }
   },
   "outputs": [],
   "source": [
    "def postOrder(root):\n",
    "    \"\"\"\n",
    "    1. Push root to first stack.\n",
    "    2. Loop while first stack is not empty\n",
    "        2.1 Pop a node from first stack and push\n",
    "            it to second stack\n",
    "        2.2 Push left and right children of the\n",
    "            popped node to first stack\n",
    "    3. Print contents of second stack\n",
    "    \"\"\"\n",
    "    current = root\n",
    "    s1 = []\n",
    "    s2 = []\n",
    "    s1.append(current)\n",
    "    \n",
    "    \n",
    "    while s1:\n",
    "        temp = s1.pop()\n",
    "\n",
    "        if temp.leftChild:\n",
    "            s1.append(temp.leftChild)\n",
    "\n",
    "        if temp.rightChild:\n",
    "            s1.append(temp.rightChild)\n",
    "        \n",
    "        s2.append(temp)\n",
    "    \n",
    "    print(\"Printing\")\n",
    "    for i in s2[::-1]:\n",
    "        print(i.key,end=\"-\")\n",
    "\n",
    "            "
   ]
  },
  {
   "cell_type": "code",
   "execution_count": 114,
   "metadata": {
    "ExecuteTime": {
     "end_time": "2018-12-09T20:45:22.190903Z",
     "start_time": "2018-12-09T20:45:22.185529Z"
    }
   },
   "outputs": [
    {
     "name": "stdout",
     "output_type": "stream",
     "text": [
      "Printing\n",
      "1-3-2-5-7-6-4-"
     ]
    }
   ],
   "source": [
    "postOrder(atree)"
   ]
  },
  {
   "cell_type": "markdown",
   "metadata": {
    "ExecuteTime": {
     "end_time": "2018-12-10T16:05:11.132984Z",
     "start_time": "2018-12-10T16:05:11.086415Z"
    }
   },
   "source": [
    "## Breadth First "
   ]
  },
  {
   "cell_type": "code",
   "execution_count": 12,
   "metadata": {
    "ExecuteTime": {
     "end_time": "2018-12-12T19:52:40.598769Z",
     "start_time": "2018-12-12T19:52:40.592449Z"
    }
   },
   "outputs": [],
   "source": [
    "def treeLevel(root):\n",
    "    \"\"\"\n",
    "    1. queue= []\n",
    "    2. add root to queue.\n",
    "    3. enqueue queue\n",
    "        while queue:\n",
    "            . add left\n",
    "            . add right\n",
    "    \"\"\"\n",
    "    s =[]\n",
    "    current = root\n",
    "    s.append(root)\n",
    "    while s:\n",
    "        current = s.pop(0)\n",
    "        print(current.key, end=\"-\")\n",
    "        if current.leftChild:\n",
    "            s.append(current.leftChild)\n",
    "        if current.rightChild:\n",
    "            s.append(current.rightChild)\n",
    "    "
   ]
  },
  {
   "cell_type": "code",
   "execution_count": null,
   "metadata": {},
   "outputs": [],
   "source": [
    "tr"
   ]
  }
 ],
 "metadata": {
  "kernelspec": {
   "display_name": "Python 3",
   "language": "python",
   "name": "python3"
  },
  "language_info": {
   "codemirror_mode": {
    "name": "ipython",
    "version": 3
   },
   "file_extension": ".py",
   "mimetype": "text/x-python",
   "name": "python",
   "nbconvert_exporter": "python",
   "pygments_lexer": "ipython3",
   "version": "3.6.5"
  },
  "toc": {
   "base_numbering": 1,
   "nav_menu": {
    "height": "85px",
    "width": "254px"
   },
   "number_sections": true,
   "sideBar": true,
   "skip_h1_title": false,
   "title_cell": "Table of Contents",
   "title_sidebar": "Contents",
   "toc_cell": false,
   "toc_position": {},
   "toc_section_display": "block",
   "toc_window_display": false
  }
 },
 "nbformat": 4,
 "nbformat_minor": 2
}
