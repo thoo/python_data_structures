{
 "cells": [
  {
   "cell_type": "code",
   "execution_count": 36,
   "metadata": {
    "ExecuteTime": {
     "end_time": "2018-12-09T14:08:38.984759Z",
     "start_time": "2018-12-09T14:08:38.978249Z"
    }
   },
   "outputs": [],
   "source": [
    "class binarytree:\n",
    "    def __init__(self, root):\n",
    "        self.key = root\n",
    "        self.leftChild = None\n",
    "        self.rightChild = None\n",
    "    \n",
    "    def insertLeft(self, node):\n",
    "        if self.leftChild == None:\n",
    "            self.leftChild = binarytree(node)\n",
    "        \n",
    "        else:\n",
    "            t = binarytree(node)\n",
    "            t.leftChild = self.leftChild\n",
    "            self.leftChild = t\n",
    "    \n",
    "    def insertRight(self,node):\n",
    "        if self.rightChild == None:\n",
    "            self.rightChild = binarytree(node)\n",
    "        else:\n",
    "            t = binarytree(node)\n",
    "            t.rightChild = self.rightChild\n",
    "            self.rightChild = t\n",
    "    def getLeft(self):\n",
    "        return self.leftChild\n",
    "    \n",
    "    def getRight(self):\n",
    "        return self.rightChild\n",
    "    \n",
    "    def getkey(self):\n",
    "        return self.key\n",
    "    \n",
    "    \n",
    "            "
   ]
  },
  {
   "cell_type": "code",
   "execution_count": 37,
   "metadata": {
    "ExecuteTime": {
     "end_time": "2018-12-09T14:08:40.187023Z",
     "start_time": "2018-12-09T14:08:40.183956Z"
    }
   },
   "outputs": [],
   "source": [
    "atree = binarytree(10)"
   ]
  },
  {
   "cell_type": "code",
   "execution_count": 38,
   "metadata": {
    "ExecuteTime": {
     "end_time": "2018-12-09T14:08:41.443167Z",
     "start_time": "2018-12-09T14:08:41.440283Z"
    }
   },
   "outputs": [],
   "source": [
    "atree.leftChild = 4\n",
    "atree.rightChild = 15"
   ]
  },
  {
   "cell_type": "markdown",
   "metadata": {},
   "source": [
    "## Depth First Traversal\n",
    "### Inorder ( Left, Root, Right)"
   ]
  },
  {
   "cell_type": "code",
   "execution_count": 39,
   "metadata": {
    "ExecuteTime": {
     "end_time": "2018-12-09T14:08:44.770590Z",
     "start_time": "2018-12-09T14:08:44.767886Z"
    }
   },
   "outputs": [],
   "source": [
    "atree = binarytree(1)"
   ]
  },
  {
   "cell_type": "code",
   "execution_count": 40,
   "metadata": {
    "ExecuteTime": {
     "end_time": "2018-12-09T14:08:45.218792Z",
     "start_time": "2018-12-09T14:08:45.216420Z"
    }
   },
   "outputs": [],
   "source": [
    "atree.insertLeft(2)"
   ]
  },
  {
   "cell_type": "code",
   "execution_count": 41,
   "metadata": {
    "ExecuteTime": {
     "end_time": "2018-12-09T14:08:45.794864Z",
     "start_time": "2018-12-09T14:08:45.792192Z"
    }
   },
   "outputs": [],
   "source": [
    "atree.insertRight(3)"
   ]
  },
  {
   "cell_type": "code",
   "execution_count": 42,
   "metadata": {
    "ExecuteTime": {
     "end_time": "2018-12-09T14:08:46.195096Z",
     "start_time": "2018-12-09T14:08:46.192047Z"
    }
   },
   "outputs": [],
   "source": [
    "atree.leftChild.insertLeft(4)"
   ]
  },
  {
   "cell_type": "code",
   "execution_count": 43,
   "metadata": {
    "ExecuteTime": {
     "end_time": "2018-12-09T14:08:46.619839Z",
     "start_time": "2018-12-09T14:08:46.616124Z"
    }
   },
   "outputs": [],
   "source": [
    "atree.leftChild.insertRight(5)"
   ]
  },
  {
   "cell_type": "code",
   "execution_count": 44,
   "metadata": {
    "ExecuteTime": {
     "end_time": "2018-12-09T14:08:47.745605Z",
     "start_time": "2018-12-09T14:08:47.740542Z"
    }
   },
   "outputs": [
    {
     "data": {
      "text/plain": [
       "1"
      ]
     },
     "execution_count": 44,
     "metadata": {},
     "output_type": "execute_result"
    }
   ],
   "source": [
    "atree.key"
   ]
  },
  {
   "cell_type": "code",
   "execution_count": 45,
   "metadata": {
    "ExecuteTime": {
     "end_time": "2018-12-09T14:08:49.254068Z",
     "start_time": "2018-12-09T14:08:49.249896Z"
    }
   },
   "outputs": [
    {
     "data": {
      "text/plain": [
       "3"
      ]
     },
     "execution_count": 45,
     "metadata": {},
     "output_type": "execute_result"
    }
   ],
   "source": [
    "atree.rightChild.key"
   ]
  },
  {
   "cell_type": "code",
   "execution_count": 52,
   "metadata": {
    "ExecuteTime": {
     "end_time": "2018-12-09T14:12:21.190581Z",
     "start_time": "2018-12-09T14:12:21.186761Z"
    }
   },
   "outputs": [],
   "source": [
    "def InOrder(root):\n",
    "    if root:\n",
    "        InOrder(root.leftChild)\n",
    "        print(root.key,sep=\" \",end=\"-\")\n",
    "        InOrder(root.rightChild)"
   ]
  },
  {
   "cell_type": "code",
   "execution_count": 53,
   "metadata": {
    "ExecuteTime": {
     "end_time": "2018-12-09T14:12:21.908553Z",
     "start_time": "2018-12-09T14:12:21.905179Z"
    }
   },
   "outputs": [
    {
     "name": "stdout",
     "output_type": "stream",
     "text": [
      "4-2-5-1-3-"
     ]
    }
   ],
   "source": [
    "InOrder(atree)"
   ]
  },
  {
   "cell_type": "markdown",
   "metadata": {},
   "source": [
    "### PreOrder ( Root, Left, Right)"
   ]
  },
  {
   "cell_type": "code",
   "execution_count": 56,
   "metadata": {
    "ExecuteTime": {
     "end_time": "2018-12-09T14:16:19.929380Z",
     "start_time": "2018-12-09T14:16:19.923415Z"
    }
   },
   "outputs": [],
   "source": [
    "def PreOrder(root):\n",
    "    if root:\n",
    "        print(root.key,end=\"-\")\n",
    "        PreOrder(root.leftChild)\n",
    "        PreOrder(root.rightChild)"
   ]
  },
  {
   "cell_type": "code",
   "execution_count": 57,
   "metadata": {
    "ExecuteTime": {
     "end_time": "2018-12-09T14:16:20.741452Z",
     "start_time": "2018-12-09T14:16:20.737895Z"
    }
   },
   "outputs": [
    {
     "name": "stdout",
     "output_type": "stream",
     "text": [
      "1-2-4-5-3-"
     ]
    }
   ],
   "source": [
    "PreOrder(atree)"
   ]
  },
  {
   "cell_type": "code",
   "execution_count": null,
   "metadata": {},
   "outputs": [],
   "source": []
  }
 ],
 "metadata": {
  "kernelspec": {
   "display_name": "Python 3",
   "language": "python",
   "name": "python3"
  },
  "language_info": {
   "codemirror_mode": {
    "name": "ipython",
    "version": 3
   },
   "file_extension": ".py",
   "mimetype": "text/x-python",
   "name": "python",
   "nbconvert_exporter": "python",
   "pygments_lexer": "ipython3",
   "version": "3.6.5"
  },
  "toc": {
   "base_numbering": 1,
   "nav_menu": {
    "height": "67px",
    "width": "254px"
   },
   "number_sections": true,
   "sideBar": true,
   "skip_h1_title": false,
   "title_cell": "Table of Contents",
   "title_sidebar": "Contents",
   "toc_cell": false,
   "toc_position": {},
   "toc_section_display": "block",
   "toc_window_display": false
  }
 },
 "nbformat": 4,
 "nbformat_minor": 2
}
