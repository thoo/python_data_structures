{
 "cells": [
  {
   "cell_type": "code",
   "execution_count": 1,
   "metadata": {
    "ExecuteTime": {
     "end_time": "2018-12-12T19:46:55.461373Z",
     "start_time": "2018-12-12T19:46:55.455749Z"
    }
   },
   "outputs": [],
   "source": [
    "class binarytree:\n",
    "    def __init__(self, root):\n",
    "        self.key = root\n",
    "        self.leftChild = None\n",
    "        self.rightChild = None\n",
    "    \n",
    "    def insertLeft(self, node):\n",
    "        if self.leftChild == None:\n",
    "            self.leftChild = binarytree(node)\n",
    "        \n",
    "        else:\n",
    "            t = binarytree(node)\n",
    "            t.leftChild = self.leftChild\n",
    "            self.leftChild = t\n",
    "    \n",
    "    def insertRight(self,node):\n",
    "        if self.rightChild == None:\n",
    "            self.rightChild = binarytree(node)\n",
    "        else:\n",
    "            t = binarytree(node)\n",
    "            t.rightChild = self.rightChild\n",
    "            self.rightChild = t\n",
    "    def getLeft(self):\n",
    "        return self.leftChild\n",
    "    \n",
    "    def getRight(self):\n",
    "        return self.rightChild\n",
    "    \n",
    "    def getkey(self):\n",
    "        return self.key\n",
    "    \n",
    "    \n",
    "            "
   ]
  },
  {
   "cell_type": "code",
   "execution_count": 2,
   "metadata": {
    "ExecuteTime": {
     "end_time": "2018-12-12T19:46:57.062738Z",
     "start_time": "2018-12-12T19:46:57.059570Z"
    }
   },
   "outputs": [],
   "source": [
    "atree = binarytree(10)"
   ]
  },
  {
   "cell_type": "code",
   "execution_count": 38,
   "metadata": {
    "ExecuteTime": {
     "end_time": "2018-12-09T14:08:41.443167Z",
     "start_time": "2018-12-09T14:08:41.440283Z"
    }
   },
   "outputs": [],
   "source": [
    "atree.leftChild = 4\n",
    "atree.rightChild = 15"
   ]
  },
  {
   "cell_type": "markdown",
   "metadata": {},
   "source": [
    "## Depth First Traversal\n",
    "### Inorder ( Left, Root, Right)"
   ]
  },
  {
   "cell_type": "code",
   "execution_count": 3,
   "metadata": {
    "ExecuteTime": {
     "end_time": "2018-12-12T19:47:04.463036Z",
     "start_time": "2018-12-12T19:47:04.460170Z"
    }
   },
   "outputs": [],
   "source": [
    "atree = binarytree(4)"
   ]
  },
  {
   "cell_type": "code",
   "execution_count": 4,
   "metadata": {
    "ExecuteTime": {
     "end_time": "2018-12-12T19:47:04.876030Z",
     "start_time": "2018-12-12T19:47:04.873259Z"
    }
   },
   "outputs": [],
   "source": [
    "atree.insertLeft(2)"
   ]
  },
  {
   "cell_type": "code",
   "execution_count": 5,
   "metadata": {
    "ExecuteTime": {
     "end_time": "2018-12-12T19:47:05.260113Z",
     "start_time": "2018-12-12T19:47:05.257298Z"
    }
   },
   "outputs": [],
   "source": [
    "atree.insertRight(6)"
   ]
  },
  {
   "cell_type": "code",
   "execution_count": 6,
   "metadata": {
    "ExecuteTime": {
     "end_time": "2018-12-12T19:47:05.870158Z",
     "start_time": "2018-12-12T19:47:05.867330Z"
    }
   },
   "outputs": [],
   "source": [
    "atree.leftChild.insertLeft(1)"
   ]
  },
  {
   "cell_type": "code",
   "execution_count": 7,
   "metadata": {
    "ExecuteTime": {
     "end_time": "2018-12-12T19:47:06.228871Z",
     "start_time": "2018-12-12T19:47:06.226389Z"
    }
   },
   "outputs": [],
   "source": [
    "atree.leftChild.insertRight(3)"
   ]
  },
  {
   "cell_type": "code",
   "execution_count": 8,
   "metadata": {
    "ExecuteTime": {
     "end_time": "2018-12-12T19:47:06.587913Z",
     "start_time": "2018-12-12T19:47:06.585427Z"
    }
   },
   "outputs": [],
   "source": [
    "atree.rightChild.insertRight(7)"
   ]
  },
  {
   "cell_type": "code",
   "execution_count": 9,
   "metadata": {
    "ExecuteTime": {
     "end_time": "2018-12-12T19:47:08.581945Z",
     "start_time": "2018-12-12T19:47:08.578893Z"
    }
   },
   "outputs": [],
   "source": [
    "atree.rightChild.insertLeft(5)"
   ]
  },
  {
   "cell_type": "code",
   "execution_count": 91,
   "metadata": {
    "ExecuteTime": {
     "end_time": "2018-12-09T17:05:58.067869Z",
     "start_time": "2018-12-09T17:05:58.059967Z"
    }
   },
   "outputs": [
    {
     "data": {
      "text/plain": [
       "4"
      ]
     },
     "execution_count": 91,
     "metadata": {},
     "output_type": "execute_result"
    }
   ],
   "source": [
    "atree.key"
   ]
  },
  {
   "cell_type": "code",
   "execution_count": 10,
   "metadata": {
    "ExecuteTime": {
     "end_time": "2018-12-12T19:47:10.927878Z",
     "start_time": "2018-12-12T19:47:10.923890Z"
    }
   },
   "outputs": [],
   "source": [
    "def InOrder(root):\n",
    "    if root:\n",
    "        InOrder(root.leftChild)\n",
    "        print(root.key,sep=\" \",end=\"-\")\n",
    "        InOrder(root.rightChild)"
   ]
  },
  {
   "cell_type": "code",
   "execution_count": 11,
   "metadata": {
    "ExecuteTime": {
     "end_time": "2018-12-12T19:47:11.703525Z",
     "start_time": "2018-12-12T19:47:11.699190Z"
    }
   },
   "outputs": [
    {
     "name": "stdout",
     "output_type": "stream",
     "text": [
      "1-2-3-4-5-6-7-"
     ]
    }
   ],
   "source": [
    "InOrder(atree)"
   ]
  },
  {
   "cell_type": "markdown",
   "metadata": {},
   "source": [
    "### PreOrder ( Root, Left, Right)"
   ]
  },
  {
   "cell_type": "code",
   "execution_count": 56,
   "metadata": {
    "ExecuteTime": {
     "end_time": "2018-12-09T14:16:19.929380Z",
     "start_time": "2018-12-09T14:16:19.923415Z"
    }
   },
   "outputs": [],
   "source": [
    "def PreOrder(root):\n",
    "    if root:\n",
    "        print(root.key,end=\"-\")\n",
    "        PreOrder(root.leftChild)\n",
    "        PreOrder(root.rightChild)"
   ]
  },
  {
   "cell_type": "code",
   "execution_count": 96,
   "metadata": {
    "ExecuteTime": {
     "end_time": "2018-12-09T17:17:06.919130Z",
     "start_time": "2018-12-09T17:17:06.901545Z"
    }
   },
   "outputs": [
    {
     "name": "stdout",
     "output_type": "stream",
     "text": [
      "4-2-1-3-6-5-7-"
     ]
    }
   ],
   "source": [
    "PreOrder(atree)"
   ]
  },
  {
   "cell_type": "markdown",
   "metadata": {},
   "source": [
    "### PostOrder ( Left, Right, Root)"
   ]
  },
  {
   "cell_type": "code",
   "execution_count": 61,
   "metadata": {
    "ExecuteTime": {
     "end_time": "2018-12-09T14:33:52.335612Z",
     "start_time": "2018-12-09T14:33:52.323234Z"
    }
   },
   "outputs": [],
   "source": [
    "def PostOrder(root):\n",
    "    if root:\n",
    "        PostOrder(root.leftChild)\n",
    "        PostOrder(root.rightChild)\n",
    "        print(root.key, end=\" \")"
   ]
  },
  {
   "cell_type": "code",
   "execution_count": 105,
   "metadata": {
    "ExecuteTime": {
     "end_time": "2018-12-09T19:10:49.784981Z",
     "start_time": "2018-12-09T19:10:49.763308Z"
    }
   },
   "outputs": [
    {
     "name": "stdout",
     "output_type": "stream",
     "text": [
      "1 3 2 5 7 6 4 "
     ]
    }
   ],
   "source": [
    "PostOrder(atree)"
   ]
  },
  {
   "cell_type": "code",
   "execution_count": 101,
   "metadata": {
    "ExecuteTime": {
     "end_time": "2018-12-09T18:47:10.381668Z",
     "start_time": "2018-12-09T18:47:10.372800Z"
    }
   },
   "outputs": [],
   "source": [
    "def inOrder(root):\n",
    "    \"\"\"\n",
    "    1) Create an empty stack S.\n",
    "    2) Initialize current node as root\n",
    "    3) Push the current node to S and \n",
    "       set current = current->left \n",
    "       until current is NULL\n",
    "    4) If current is NULL and stack is not empty then \n",
    "         a) Pop the top item from stack.\n",
    "         b) Print the popped item, set current = popped_item->right \n",
    "         c) Go to step 3.\n",
    "    5) If current is NULL and stack is empty then we are done.\n",
    "    \"\"\"\n",
    "    current = root\n",
    "    s = []\n",
    "    done = False\n",
    "    \n",
    "    while not done:\n",
    "        if current:\n",
    "            s.append(current)\n",
    "            current = current.leftChild\n",
    "        \n",
    "        if not current and not s:\n",
    "            done = True\n",
    "        \n",
    "        if not current and s:\n",
    "            current = s.pop()\n",
    "            print(current.key,end=\"-\")\n",
    "            current = current.rightChild"
   ]
  },
  {
   "cell_type": "code",
   "execution_count": 102,
   "metadata": {
    "ExecuteTime": {
     "end_time": "2018-12-09T18:47:10.850006Z",
     "start_time": "2018-12-09T18:47:10.844484Z"
    }
   },
   "outputs": [
    {
     "name": "stdout",
     "output_type": "stream",
     "text": [
      "1-2-3-4-5-6-7-"
     ]
    }
   ],
   "source": [
    "inOrder(atree)"
   ]
  },
  {
   "cell_type": "code",
   "execution_count": 106,
   "metadata": {
    "ExecuteTime": {
     "end_time": "2018-12-09T20:31:09.968554Z",
     "start_time": "2018-12-09T20:31:09.930934Z"
    }
   },
   "outputs": [],
   "source": [
    "def preOrder(root):\n",
    "    \"\"\"\n",
    "    1) Create an empty stack nodeStack and push \n",
    "       root node to stack.\n",
    "    2) Do following while nodeStack is not empty.\n",
    "        a) Pop an item from stack and print it.\n",
    "        b) Push right child of popped item to stack\n",
    "        c) Push left child of popped item to stack\n",
    "    \"\"\"\n",
    "    s = []\n",
    "    current = root\n",
    "    s.append(current)\n",
    "    done = False\n",
    "    while not done:\n",
    "        if s:\n",
    "            current = s.pop()\n",
    "            print(current.key, end=\"-\")\n",
    "            if current.rightChild:\n",
    "                s.append(current.rightChild)\n",
    "            \n",
    "            if current.leftChild:\n",
    "                s.append(current.leftChild)\n",
    "              \n",
    "        \n",
    "        if not s:\n",
    "            done = True\n",
    "        \n",
    "        "
   ]
  },
  {
   "cell_type": "code",
   "execution_count": 104,
   "metadata": {
    "ExecuteTime": {
     "end_time": "2018-12-09T18:47:13.111112Z",
     "start_time": "2018-12-09T18:47:13.106607Z"
    }
   },
   "outputs": [
    {
     "name": "stdout",
     "output_type": "stream",
     "text": [
      "4-2-1-3-6-5-7-"
     ]
    }
   ],
   "source": [
    "preOrder(atree)"
   ]
  },
  {
   "cell_type": "code",
   "execution_count": 113,
   "metadata": {
    "ExecuteTime": {
     "end_time": "2018-12-09T20:45:21.093723Z",
     "start_time": "2018-12-09T20:45:21.087829Z"
    }
   },
   "outputs": [],
   "source": [
    "def postOrder(root):\n",
    "    \"\"\"\n",
    "    1. Push root to first stack.\n",
    "    2. Loop while first stack is not empty\n",
    "        2.1 Pop a node from first stack and push\n",
    "            it to second stack\n",
    "        2.2 Push left and right children of the\n",
    "            popped node to first stack\n",
    "    3. Print contents of second stack\n",
    "    \"\"\"\n",
    "    current = root\n",
    "    s1 = []\n",
    "    s2 = []\n",
    "    s1.append(current)\n",
    "    \n",
    "    \n",
    "    while s1:\n",
    "        temp = s1.pop()\n",
    "\n",
    "        if temp.leftChild:\n",
    "            s1.append(temp.leftChild)\n",
    "\n",
    "        if temp.rightChild:\n",
    "            s1.append(temp.rightChild)\n",
    "        \n",
    "        s2.append(temp)\n",
    "    \n",
    "    print(\"Printing\")\n",
    "    for i in s2[::-1]:\n",
    "        print(i.key,end=\"-\")\n",
    "\n",
    "            "
   ]
  },
  {
   "cell_type": "code",
   "execution_count": 114,
   "metadata": {
    "ExecuteTime": {
     "end_time": "2018-12-09T20:45:22.190903Z",
     "start_time": "2018-12-09T20:45:22.185529Z"
    }
   },
   "outputs": [
    {
     "name": "stdout",
     "output_type": "stream",
     "text": [
      "Printing\n",
      "1-3-2-5-7-6-4-"
     ]
    }
   ],
   "source": [
    "postOrder(atree)"
   ]
  },
  {
   "cell_type": "markdown",
   "metadata": {
    "ExecuteTime": {
     "end_time": "2018-12-10T16:05:11.132984Z",
     "start_time": "2018-12-10T16:05:11.086415Z"
    }
   },
   "source": [
    "## Breadth First "
   ]
  },
  {
   "cell_type": "code",
   "execution_count": 12,
   "metadata": {
    "ExecuteTime": {
     "end_time": "2018-12-12T19:52:40.598769Z",
     "start_time": "2018-12-12T19:52:40.592449Z"
    }
   },
   "outputs": [],
   "source": [
    "def treeLevel(root):\n",
    "    \"\"\"\n",
    "    1. queue= []\n",
    "    2. add root to queue.\n",
    "    3. enqueue queue\n",
    "        while queue:\n",
    "            . add left\n",
    "            . add right\n",
    "    \"\"\"\n",
    "    s =[]\n",
    "    current = root\n",
    "    s.append(root)\n",
    "    while s:\n",
    "        current = s.pop(0)\n",
    "        print(current.key, end=\"-\")\n",
    "        if current.leftChild:\n",
    "            s.append(current.leftChild)\n",
    "        if current.rightChild:\n",
    "            s.append(current.rightChild)\n",
    "    "
   ]
  },
  {
   "cell_type": "code",
   "execution_count": 13,
   "metadata": {
    "ExecuteTime": {
     "end_time": "2018-12-12T19:52:54.436432Z",
     "start_time": "2018-12-12T19:52:54.431981Z"
    }
   },
   "outputs": [
    {
     "name": "stdout",
     "output_type": "stream",
     "text": [
      "4-2-6-1-3-5-7-"
     ]
    }
   ],
   "source": [
    "treeLevel(atree)"
   ]
  },
  {
   "cell_type": "code",
   "execution_count": 14,
   "metadata": {
    "ExecuteTime": {
     "end_time": "2018-12-13T19:19:32.736031Z",
     "start_time": "2018-12-13T19:19:24.848175Z"
    }
   },
   "outputs": [
    {
     "name": "stdout",
     "output_type": "stream",
     "text": [
      "Collecting jax\n",
      "  Using cached https://files.pythonhosted.org/packages/03/41/d274d9753f861ac7ee7cf7eca16883b3af9b245203803cd877df8cbc1cb8/jax-0.1.9.tar.gz\n",
      "Collecting jaxlib\n",
      "  Using cached https://files.pythonhosted.org/packages/30/7c/41e4c74147828988d256090d462721314c823ff5e7d32fe686cb4c132fe3/jaxlib-0.1-py3-none-macosx_10_9_x86_64.whl\n",
      "Requirement already satisfied: numpy>=1.12 in /Users/thein/anaconda3/lib/python3.6/site-packages (from jax) (1.14.3)\n",
      "Requirement already satisfied: six in /Users/thein/anaconda3/lib/python3.6/site-packages (from jax) (1.11.0)\n",
      "Requirement already satisfied: protobuf>=3.6.0 in /Users/thein/anaconda3/lib/python3.6/site-packages (from jax) (3.6.1)\n",
      "Requirement already satisfied: absl-py in /Users/thein/anaconda3/lib/python3.6/site-packages (from jax) (0.5.0)\n",
      "Collecting opt_einsum (from jax)\n",
      "  Using cached https://files.pythonhosted.org/packages/f6/d6/44792ec668bcda7d91913c75237314e688f70415ab2acd7172c845f0b24f/opt_einsum-2.3.2.tar.gz\n",
      "Requirement already satisfied: setuptools in /Users/thein/anaconda3/lib/python3.6/site-packages (from protobuf>=3.6.0->jax) (39.1.0)\n",
      "Building wheels for collected packages: jax, opt-einsum\n",
      "  Running setup.py bdist_wheel for jax ... \u001b[?25ldone\n",
      "\u001b[?25h  Stored in directory: /Users/thein/Library/Caches/pip/wheels/4c/ea/d3/c5d3767c8e5a4ff842891223db21d5dc2a4fbc4d463a656265\n",
      "  Running setup.py bdist_wheel for opt-einsum ... \u001b[?25ldone\n",
      "\u001b[?25h  Stored in directory: /Users/thein/Library/Caches/pip/wheels/51/3e/a3/b351fae0cbf15373c2136a54a70f43fea5fe91d8168a5faaa4\n",
      "Successfully built jax opt-einsum\n",
      "Installing collected packages: opt-einsum, jax, jaxlib\n",
      "Successfully installed jax-0.1.9 jaxlib-0.1 opt-einsum-2.3.2\n",
      "\u001b[33mYou are using pip version 18.0, however version 18.1 is available.\n",
      "You should consider upgrading via the 'pip install --upgrade pip' command.\u001b[0m\n"
     ]
    }
   ],
   "source": [
    "!pip install jax jaxlib\n"
   ]
  },
  {
   "cell_type": "code",
   "execution_count": 15,
   "metadata": {
    "ExecuteTime": {
     "end_time": "2018-12-13T19:20:00.628247Z",
     "start_time": "2018-12-13T19:19:54.285404Z"
    }
   },
   "outputs": [
    {
     "name": "stderr",
     "output_type": "stream",
     "text": [
      "/Users/thein/anaconda3/lib/python3.6/site-packages/jax/lib/xla_bridge.py:138: UserWarning: No GPU found, falling back to CPU.\n",
      "  warnings.warn('No GPU found, falling back to CPU.')\n"
     ]
    },
    {
     "name": "stdout",
     "output_type": "stream",
     "text": [
      "112 ms ± 11.3 ms per loop (mean ± std. dev. of 3 runs, 10 loops each)\n",
      "86.9 ms ± 15.2 ms per loop (mean ± std. dev. of 3 runs, 10 loops each)\n"
     ]
    }
   ],
   "source": [
    "import jax.numpy as np\n",
    "from jax import jit\n",
    "\n",
    "def slow_f(x):\n",
    "  # Element-wise ops see a large benefit from fusion\n",
    "  return x * x + x * 2.0\n",
    "\n",
    "x = np.ones((5000, 5000))\n",
    "fast_f = jit(slow_f)\n",
    "%timeit -n10 -r3 fast_f(x)  # ~ 4.5 ms / loop on Titan X\n",
    "%timeit -n10 -r3 slow_f(x)  # ~ 14.5 ms / loop (also on GPU via JAX)"
   ]
  },
  {
   "cell_type": "code",
   "execution_count": 16,
   "metadata": {
    "ExecuteTime": {
     "end_time": "2018-12-13T19:22:09.161458Z",
     "start_time": "2018-12-13T19:22:09.157336Z"
    }
   },
   "outputs": [],
   "source": [
    "@jit\n",
    "def fast_f(x):\n",
    "    return x * x + x * 2.0"
   ]
  },
  {
   "cell_type": "code",
   "execution_count": 17,
   "metadata": {
    "ExecuteTime": {
     "end_time": "2018-12-13T19:22:15.157215Z",
     "start_time": "2018-12-13T19:22:15.015112Z"
    }
   },
   "outputs": [
    {
     "data": {
      "text/plain": [
       "DeviceArray{float32[5000,5000]}"
      ]
     },
     "execution_count": 17,
     "metadata": {},
     "output_type": "execute_result"
    }
   ],
   "source": [
    "fast_f(x)"
   ]
  },
  {
   "cell_type": "code",
   "execution_count": 21,
   "metadata": {
    "ExecuteTime": {
     "end_time": "2018-12-13T19:22:56.871070Z",
     "start_time": "2018-12-13T19:22:50.825899Z"
    }
   },
   "outputs": [
    {
     "name": "stdout",
     "output_type": "stream",
     "text": [
      "101 ms ± 316 µs per loop (mean ± std. dev. of 3 runs, 20 loops each)\n"
     ]
    }
   ],
   "source": [
    "%timeit -n20 -r3 fast_f(x)"
   ]
  },
  {
   "cell_type": "code",
   "execution_count": 20,
   "metadata": {
    "ExecuteTime": {
     "end_time": "2018-12-13T19:22:49.991989Z",
     "start_time": "2018-12-13T19:22:45.241007Z"
    }
   },
   "outputs": [
    {
     "name": "stdout",
     "output_type": "stream",
     "text": [
      "79.1 ms ± 3.8 ms per loop (mean ± std. dev. of 3 runs, 20 loops each)\n"
     ]
    }
   ],
   "source": [
    "%timeit -n20 -r3 slow_f(x)"
   ]
  },
  {
   "cell_type": "code",
   "execution_count": 66,
   "metadata": {
    "ExecuteTime": {
     "end_time": "2018-12-17T16:36:02.059614Z",
     "start_time": "2018-12-17T16:36:02.053256Z"
    }
   },
   "outputs": [],
   "source": [
    "class binarytree:\n",
    "    def __init__(self,key):\n",
    "        self.key = key\n",
    "        self.rightChild = None\n",
    "        self.leftChild = None\n",
    "    \n",
    "    def insert(self,child,atree):\n",
    "        current = atree\n",
    "        self._insert(current,child)\n",
    "        \n",
    "    def _insert(self,current,child):\n",
    "        \n",
    "        done = False\n",
    "        while not done:\n",
    "            if not current:\n",
    "                current = binarytree(child)\n",
    "                done = True\n",
    "\n",
    "            if child < current.key:\n",
    "                if current.leftChild:\n",
    "                    current = current.leftChild\n",
    "                else:\n",
    "                    current.leftChild = binarytree(child)\n",
    "                    done = True\n",
    "\n",
    "            if child > current.key:\n",
    "                if current.rightChild:\n",
    "                    current = current.rightChild\n",
    "                else:\n",
    "                    current.rightChild = binarytree(child)\n",
    "                    done = True\n",
    "            \n",
    "        \n",
    "    "
   ]
  },
  {
   "cell_type": "code",
   "execution_count": 71,
   "metadata": {
    "ExecuteTime": {
     "end_time": "2018-12-17T16:38:14.509727Z",
     "start_time": "2018-12-17T16:38:14.506327Z"
    }
   },
   "outputs": [],
   "source": [
    "atree = binarytree(5)"
   ]
  },
  {
   "cell_type": "code",
   "execution_count": 72,
   "metadata": {
    "ExecuteTime": {
     "end_time": "2018-12-17T16:38:15.066364Z",
     "start_time": "2018-12-17T16:38:15.063898Z"
    }
   },
   "outputs": [],
   "source": [
    "atree.leftChild = binarytree(3)"
   ]
  },
  {
   "cell_type": "code",
   "execution_count": 73,
   "metadata": {
    "ExecuteTime": {
     "end_time": "2018-12-17T16:38:15.650429Z",
     "start_time": "2018-12-17T16:38:15.647672Z"
    }
   },
   "outputs": [],
   "source": [
    "atree.rightChild = binarytree(7)"
   ]
  },
  {
   "cell_type": "code",
   "execution_count": 78,
   "metadata": {
    "ExecuteTime": {
     "end_time": "2018-12-17T16:46:44.808432Z",
     "start_time": "2018-12-17T16:46:44.793724Z"
    }
   },
   "outputs": [],
   "source": [
    "atree.insert(8,atree)"
   ]
  },
  {
   "cell_type": "code",
   "execution_count": 81,
   "metadata": {
    "ExecuteTime": {
     "end_time": "2018-12-20T19:13:26.763976Z",
     "start_time": "2018-12-20T19:13:26.580291Z"
    }
   },
   "outputs": [
    {
     "data": {
      "text/plain": [
       "8"
      ]
     },
     "execution_count": 81,
     "metadata": {},
     "output_type": "execute_result"
    }
   ],
   "source": [
    "atree.rightChild.rightChild.key"
   ]
  },
  {
   "cell_type": "markdown",
   "metadata": {},
   "source": [
    "## Breadth First Search: Shortest Reach\n",
    "https://www.hackerrank.com/challenges/bfsshortreach/problem\n",
    "\n",
    "http://thedataincubator.github.io/coding-challenges/challenges/bfsshortreach.html"
   ]
  },
  {
   "cell_type": "code",
   "execution_count": 90,
   "metadata": {
    "ExecuteTime": {
     "end_time": "2018-12-20T19:26:47.704051Z",
     "start_time": "2018-12-20T19:26:47.700571Z"
    }
   },
   "outputs": [],
   "source": [
    "from collections import defaultdict\n"
   ]
  },
  {
   "cell_type": "code",
   "execution_count": 101,
   "metadata": {
    "ExecuteTime": {
     "end_time": "2018-12-20T20:25:54.613775Z",
     "start_time": "2018-12-20T20:25:54.605144Z"
    }
   },
   "outputs": [],
   "source": [
    "def bfs(n, m, edges, s):\n",
    "    graph = defaultdict(list)\n",
    "    for node1, node2 in edges:\n",
    "        graph[node1].append(node2)\n",
    "        graph[node2].append(node1)\n",
    "        \n",
    "    dists = defaultdict(lambda: -1)\n",
    "    dists[s] = 0\n",
    "    queue = [s]\n",
    "    while queue:\n",
    "        v = queue.pop(0)\n",
    "        for neighbor in graph[v]:\n",
    "            if dists[neighbor] < 0:\n",
    "                queue.append(neighbor)\n",
    "                dists[neighbor] = dists[v] + 6\n",
    "    return [dists[i] for i in range(1, n+1) if i != s]"
   ]
  },
  {
   "cell_type": "code",
   "execution_count": 96,
   "metadata": {
    "ExecuteTime": {
     "end_time": "2018-12-20T19:31:04.366389Z",
     "start_time": "2018-12-20T19:30:21.206450Z"
    }
   },
   "outputs": [
    {
     "name": "stdout",
     "output_type": "stream",
     "text": [
      "2\n",
      "4 2\n",
      "1 2\n",
      "1 3\n",
      "1\n",
      "4 2 [[1, 2], [1, 3]] 1\n",
      "3 1\n",
      "2 3\n",
      "2\n",
      "3 1 [[2, 3]] 2\n"
     ]
    }
   ],
   "source": [
    "q = int(input())\n",
    "\n",
    "for q_itr in range(q):\n",
    "    nm = input().split()\n",
    "\n",
    "    n = int(nm[0])\n",
    "\n",
    "    m = int(nm[1])\n",
    "\n",
    "    edges = []\n",
    "\n",
    "    for _ in range(m):\n",
    "        edges.append(list(map(int, input().rstrip().split())))\n",
    "\n",
    "    s = int(input())\n",
    "    print(n, m, edges, s)\n",
    "#     result = bfs(n, m, edges, s)\n",
    "#     print(result)"
   ]
  },
  {
   "cell_type": "code",
   "execution_count": 93,
   "metadata": {
    "ExecuteTime": {
     "end_time": "2018-12-20T19:26:57.487518Z",
     "start_time": "2018-12-20T19:26:57.373106Z"
    }
   },
   "outputs": [
    {
     "data": {
      "text/plain": [
       "[-1, 6]"
      ]
     },
     "execution_count": 93,
     "metadata": {},
     "output_type": "execute_result"
    }
   ],
   "source": [
    "bfs(3,1,[[3,2]],2)"
   ]
  },
  {
   "cell_type": "code",
   "execution_count": 97,
   "metadata": {
    "ExecuteTime": {
     "end_time": "2018-12-20T19:31:56.088417Z",
     "start_time": "2018-12-20T19:31:56.083593Z"
    }
   },
   "outputs": [
    {
     "data": {
      "text/plain": [
       "[6, 6, -1]"
      ]
     },
     "execution_count": 97,
     "metadata": {},
     "output_type": "execute_result"
    }
   ],
   "source": [
    "bfs(4,2,[[1,2],[1,3]],1)"
   ]
  },
  {
   "cell_type": "code",
   "execution_count": 109,
   "metadata": {
    "ExecuteTime": {
     "end_time": "2018-12-21T00:50:06.107866Z",
     "start_time": "2018-12-21T00:50:06.104239Z"
    }
   },
   "outputs": [],
   "source": [
    "dists = defaultdict(lambda: -1)"
   ]
  },
  {
   "cell_type": "code",
   "execution_count": 102,
   "metadata": {
    "ExecuteTime": {
     "end_time": "2018-12-20T20:36:08.541202Z",
     "start_time": "2018-12-20T20:36:08.537241Z"
    }
   },
   "outputs": [],
   "source": [
    "graph = defaultdict(list)\n",
    "edges = [[1,2],[2,3]]\n",
    "for node1, node2 in edges:\n",
    "    graph[node1].append(node2)\n",
    "    graph[node2].append(node1)"
   ]
  },
  {
   "cell_type": "code",
   "execution_count": 103,
   "metadata": {
    "ExecuteTime": {
     "end_time": "2018-12-20T20:36:14.119527Z",
     "start_time": "2018-12-20T20:36:14.111687Z"
    }
   },
   "outputs": [
    {
     "data": {
      "text/plain": [
       "defaultdict(list, {1: [2], 2: [1, 3], 3: [2]})"
      ]
     },
     "execution_count": 103,
     "metadata": {},
     "output_type": "execute_result"
    }
   ],
   "source": [
    "graph"
   ]
  },
  {
   "cell_type": "code",
   "execution_count": 110,
   "metadata": {
    "ExecuteTime": {
     "end_time": "2018-12-21T00:50:08.699642Z",
     "start_time": "2018-12-21T00:50:08.696834Z"
    }
   },
   "outputs": [],
   "source": [
    "dists[1]=0"
   ]
  },
  {
   "cell_type": "code",
   "execution_count": 111,
   "metadata": {
    "ExecuteTime": {
     "end_time": "2018-12-21T00:50:09.174944Z",
     "start_time": "2018-12-21T00:50:09.168016Z"
    }
   },
   "outputs": [
    {
     "data": {
      "text/plain": [
       "defaultdict(<function __main__.<lambda>()>, {1: 0})"
      ]
     },
     "execution_count": 111,
     "metadata": {},
     "output_type": "execute_result"
    }
   ],
   "source": [
    "dists"
   ]
  },
  {
   "cell_type": "code",
   "execution_count": 112,
   "metadata": {
    "ExecuteTime": {
     "end_time": "2018-12-21T00:50:24.804062Z",
     "start_time": "2018-12-21T00:50:24.800546Z"
    }
   },
   "outputs": [
    {
     "data": {
      "text/plain": [
       "[2]"
      ]
     },
     "execution_count": 112,
     "metadata": {},
     "output_type": "execute_result"
    }
   ],
   "source": [
    "graph[1]"
   ]
  },
  {
   "cell_type": "code",
   "execution_count": 115,
   "metadata": {
    "ExecuteTime": {
     "end_time": "2018-12-21T00:52:20.143932Z",
     "start_time": "2018-12-21T00:52:20.139250Z"
    }
   },
   "outputs": [
    {
     "name": "stdout",
     "output_type": "stream",
     "text": [
      "0 1\n",
      "-1 3\n"
     ]
    }
   ],
   "source": [
    "for neighbor in graph[2]:\n",
    "    print(dists[neighbor],neighbor)"
   ]
  },
  {
   "cell_type": "code",
   "execution_count": null,
   "metadata": {},
   "outputs": [],
   "source": []
  }
 ],
 "metadata": {
  "kernelspec": {
   "display_name": "Python 3",
   "language": "python",
   "name": "python3"
  },
  "language_info": {
   "codemirror_mode": {
    "name": "ipython",
    "version": 3
   },
   "file_extension": ".py",
   "mimetype": "text/x-python",
   "name": "python",
   "nbconvert_exporter": "python",
   "pygments_lexer": "ipython3",
   "version": "3.6.5"
  },
  "toc": {
   "base_numbering": 1,
   "nav_menu": {
    "height": "85px",
    "width": "254px"
   },
   "number_sections": true,
   "sideBar": true,
   "skip_h1_title": false,
   "title_cell": "Table of Contents",
   "title_sidebar": "Contents",
   "toc_cell": false,
   "toc_position": {},
   "toc_section_display": "block",
   "toc_window_display": false
  }
 },
 "nbformat": 4,
 "nbformat_minor": 2
}
