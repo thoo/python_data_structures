{
 "cells": [
  {
   "cell_type": "code",
   "execution_count": 1,
   "metadata": {
    "ExecuteTime": {
     "end_time": "2018-09-10T16:21:31.409688Z",
     "start_time": "2018-09-10T16:21:31.406324Z"
    }
   },
   "outputs": [],
   "source": [
    "from enum import Enum"
   ]
  },
  {
   "cell_type": "code",
   "execution_count": 2,
   "metadata": {
    "ExecuteTime": {
     "end_time": "2018-09-10T18:37:02.302719Z",
     "start_time": "2018-09-10T18:37:02.298608Z"
    }
   },
   "outputs": [],
   "source": [
    "class state(Enum):\n",
    "    unvisited=0\n",
    "    visiting=1\n",
    "    visited=2\n",
    "    \n",
    "class Node:\n",
    "    def __init__(self,data):\n",
    "        self.data=data\n",
    "        self.visit_state=state.unvisited\n",
    "        self.incoming_edges=0\n",
    "        self.adj_nodes={}\n",
    "        self.adf_weight={}\n",
    "        \n",
    "    def __repr__(self):\n",
    "        return str(self.data)\n",
    "    \n",
    "    "
   ]
  },
  {
   "cell_type": "code",
   "execution_count": 3,
   "metadata": {
    "ExecuteTime": {
     "end_time": "2018-09-10T18:37:08.395749Z",
     "start_time": "2018-09-10T18:37:08.393691Z"
    }
   },
   "outputs": [],
   "source": [
    "a=[1,2]"
   ]
  },
  {
   "cell_type": "code",
   "execution_count": 4,
   "metadata": {
    "ExecuteTime": {
     "end_time": "2018-09-10T18:37:12.374927Z",
     "start_time": "2018-09-10T18:37:12.370231Z"
    }
   },
   "outputs": [
    {
     "data": {
      "text/plain": [
       "86227024840"
      ]
     },
     "execution_count": 4,
     "metadata": {},
     "output_type": "execute_result"
    }
   ],
   "source": [
    "id(a)"
   ]
  },
  {
   "cell_type": "code",
   "execution_count": 5,
   "metadata": {
    "ExecuteTime": {
     "end_time": "2018-09-10T18:37:17.011445Z",
     "start_time": "2018-09-10T18:37:17.009112Z"
    }
   },
   "outputs": [],
   "source": [
    "b=a"
   ]
  },
  {
   "cell_type": "code",
   "execution_count": null,
   "metadata": {},
   "outputs": [],
   "source": []
  },
  {
   "cell_type": "code",
   "execution_count": 6,
   "metadata": {
    "ExecuteTime": {
     "end_time": "2018-09-10T18:37:19.296173Z",
     "start_time": "2018-09-10T18:37:19.292978Z"
    }
   },
   "outputs": [
    {
     "data": {
      "text/plain": [
       "[1, 2]"
      ]
     },
     "execution_count": 6,
     "metadata": {},
     "output_type": "execute_result"
    }
   ],
   "source": [
    "b"
   ]
  },
  {
   "cell_type": "code",
   "execution_count": 7,
   "metadata": {
    "ExecuteTime": {
     "end_time": "2018-09-10T18:37:23.575626Z",
     "start_time": "2018-09-10T18:37:23.572274Z"
    }
   },
   "outputs": [
    {
     "data": {
      "text/plain": [
       "86227024840"
      ]
     },
     "execution_count": 7,
     "metadata": {},
     "output_type": "execute_result"
    }
   ],
   "source": [
    "id(b)"
   ]
  },
  {
   "cell_type": "code",
   "execution_count": 8,
   "metadata": {
    "ExecuteTime": {
     "end_time": "2018-09-10T18:37:40.895351Z",
     "start_time": "2018-09-10T18:37:40.893012Z"
    }
   },
   "outputs": [],
   "source": [
    "c=b[:1]"
   ]
  },
  {
   "cell_type": "code",
   "execution_count": 9,
   "metadata": {
    "ExecuteTime": {
     "end_time": "2018-09-10T18:37:42.328346Z",
     "start_time": "2018-09-10T18:37:42.325204Z"
    }
   },
   "outputs": [
    {
     "data": {
      "text/plain": [
       "[1]"
      ]
     },
     "execution_count": 9,
     "metadata": {},
     "output_type": "execute_result"
    }
   ],
   "source": [
    "c"
   ]
  },
  {
   "cell_type": "code",
   "execution_count": 10,
   "metadata": {
    "ExecuteTime": {
     "end_time": "2018-09-10T18:37:47.200918Z",
     "start_time": "2018-09-10T18:37:47.197729Z"
    }
   },
   "outputs": [
    {
     "data": {
      "text/plain": [
       "90522390024"
      ]
     },
     "execution_count": 10,
     "metadata": {},
     "output_type": "execute_result"
    }
   ],
   "source": [
    "id(c)"
   ]
  },
  {
   "cell_type": "code",
   "execution_count": 11,
   "metadata": {
    "ExecuteTime": {
     "end_time": "2018-09-10T18:38:00.002368Z",
     "start_time": "2018-09-10T18:37:59.998949Z"
    }
   },
   "outputs": [
    {
     "data": {
      "text/plain": [
       "[1]"
      ]
     },
     "execution_count": 11,
     "metadata": {},
     "output_type": "execute_result"
    }
   ],
   "source": [
    "c"
   ]
  },
  {
   "cell_type": "code",
   "execution_count": 13,
   "metadata": {
    "ExecuteTime": {
     "end_time": "2018-09-10T18:38:15.857710Z",
     "start_time": "2018-09-10T18:38:15.855488Z"
    }
   },
   "outputs": [],
   "source": [
    "c[0]=1000"
   ]
  },
  {
   "cell_type": "code",
   "execution_count": 14,
   "metadata": {
    "ExecuteTime": {
     "end_time": "2018-09-10T18:38:17.960835Z",
     "start_time": "2018-09-10T18:38:17.957409Z"
    }
   },
   "outputs": [
    {
     "data": {
      "text/plain": [
       "[1000]"
      ]
     },
     "execution_count": 14,
     "metadata": {},
     "output_type": "execute_result"
    }
   ],
   "source": [
    "c"
   ]
  },
  {
   "cell_type": "code",
   "execution_count": 15,
   "metadata": {
    "ExecuteTime": {
     "end_time": "2018-09-10T18:38:23.305864Z",
     "start_time": "2018-09-10T18:38:23.302529Z"
    }
   },
   "outputs": [
    {
     "data": {
      "text/plain": [
       "[1, 2]"
      ]
     },
     "execution_count": 15,
     "metadata": {},
     "output_type": "execute_result"
    }
   ],
   "source": [
    "a"
   ]
  },
  {
   "cell_type": "code",
   "execution_count": 16,
   "metadata": {
    "ExecuteTime": {
     "end_time": "2018-09-10T18:38:26.423715Z",
     "start_time": "2018-09-10T18:38:26.420237Z"
    }
   },
   "outputs": [
    {
     "data": {
      "text/plain": [
       "[1, 2]"
      ]
     },
     "execution_count": 16,
     "metadata": {},
     "output_type": "execute_result"
    }
   ],
   "source": [
    "b"
   ]
  },
  {
   "cell_type": "code",
   "execution_count": 17,
   "metadata": {
    "ExecuteTime": {
     "end_time": "2018-09-10T18:38:56.313712Z",
     "start_time": "2018-09-10T18:38:56.310440Z"
    }
   },
   "outputs": [
    {
     "data": {
      "text/plain": [
       "[1000]"
      ]
     },
     "execution_count": 17,
     "metadata": {},
     "output_type": "execute_result"
    }
   ],
   "source": [
    "c"
   ]
  },
  {
   "cell_type": "code",
   "execution_count": 18,
   "metadata": {
    "ExecuteTime": {
     "end_time": "2018-09-10T18:38:59.252306Z",
     "start_time": "2018-09-10T18:38:59.248965Z"
    }
   },
   "outputs": [
    {
     "data": {
      "text/plain": [
       "[1, 2]"
      ]
     },
     "execution_count": 18,
     "metadata": {},
     "output_type": "execute_result"
    }
   ],
   "source": [
    "b"
   ]
  },
  {
   "cell_type": "code",
   "execution_count": 20,
   "metadata": {
    "ExecuteTime": {
     "end_time": "2018-09-10T18:39:39.314853Z",
     "start_time": "2018-09-10T18:39:39.311336Z"
    }
   },
   "outputs": [
    {
     "name": "stdout",
     "output_type": "stream",
     "text": [
      "90522441352\n",
      "90522556104\n"
     ]
    }
   ],
   "source": [
    "\n",
    "a=[1,2,3,4]\n",
    "a=b\n",
    "print(id(a))\n",
    "print(id(b))\n",
    "print(id(a))\n",
    "print(id(a[:2]))"
   ]
  },
  {
   "cell_type": "code",
   "execution_count": 21,
   "metadata": {
    "ExecuteTime": {
     "end_time": "2018-09-11T13:38:12.511126Z",
     "start_time": "2018-09-11T13:38:12.456570Z"
    }
   },
   "outputs": [],
   "source": [
    "alist=['abc','abc','d','e']"
   ]
  },
  {
   "cell_type": "code",
   "execution_count": null,
   "metadata": {},
   "outputs": [],
   "source": [
    "{i:}"
   ]
  },
  {
   "cell_type": "code",
   "execution_count": 22,
   "metadata": {
    "ExecuteTime": {
     "end_time": "2018-09-11T13:39:04.620004Z",
     "start_time": "2018-09-11T13:39:04.551986Z"
    }
   },
   "outputs": [
    {
     "data": {
      "text/plain": [
       "'abc'"
      ]
     },
     "execution_count": 22,
     "metadata": {},
     "output_type": "execute_result"
    }
   ],
   "source": [
    "alist[1].count"
   ]
  },
  {
   "cell_type": "code",
   "execution_count": 23,
   "metadata": {
    "ExecuteTime": {
     "end_time": "2018-09-11T13:39:43.825201Z",
     "start_time": "2018-09-11T13:39:43.811985Z"
    }
   },
   "outputs": [
    {
     "data": {
      "text/plain": [
       "{'abc', 'd', 'e'}"
      ]
     },
     "execution_count": 23,
     "metadata": {},
     "output_type": "execute_result"
    }
   ],
   "source": [
    "set(alist)"
   ]
  },
  {
   "cell_type": "code",
   "execution_count": 24,
   "metadata": {
    "ExecuteTime": {
     "end_time": "2018-09-11T13:40:18.491951Z",
     "start_time": "2018-09-11T13:40:18.482586Z"
    }
   },
   "outputs": [
    {
     "data": {
      "text/plain": [
       "2"
      ]
     },
     "execution_count": 24,
     "metadata": {},
     "output_type": "execute_result"
    }
   ],
   "source": [
    "alist.count('abc')"
   ]
  },
  {
   "cell_type": "code",
   "execution_count": 50,
   "metadata": {
    "ExecuteTime": {
     "end_time": "2018-09-12T13:49:35.275427Z",
     "start_time": "2018-09-12T13:49:35.273040Z"
    }
   },
   "outputs": [],
   "source": [
    "s='aabbbbccde'"
   ]
  },
  {
   "cell_type": "code",
   "execution_count": 51,
   "metadata": {
    "ExecuteTime": {
     "end_time": "2018-09-12T13:49:36.809405Z",
     "start_time": "2018-09-12T13:49:36.805762Z"
    }
   },
   "outputs": [
    {
     "data": {
      "text/plain": [
       "['a', 'a', 'b', 'b', 'b', 'b', 'c', 'c', 'd', 'e']"
      ]
     },
     "execution_count": 51,
     "metadata": {},
     "output_type": "execute_result"
    }
   ],
   "source": [
    "alist=list(s)\n",
    "alist"
   ]
  },
  {
   "cell_type": "code",
   "execution_count": 40,
   "metadata": {
    "ExecuteTime": {
     "end_time": "2018-09-12T13:40:53.992625Z",
     "start_time": "2018-09-12T13:40:53.988968Z"
    }
   },
   "outputs": [],
   "source": [
    "\n",
    "result=[[i,alist.count(i)] for i in set(alist) if alist.count(i)>1]"
   ]
  },
  {
   "cell_type": "code",
   "execution_count": 41,
   "metadata": {
    "ExecuteTime": {
     "end_time": "2018-09-12T13:41:09.523640Z",
     "start_time": "2018-09-12T13:41:09.517081Z"
    }
   },
   "outputs": [],
   "source": [
    "R1=sorted(result,key=lambda x:(x[1]),reverse=True)"
   ]
  },
  {
   "cell_type": "code",
   "execution_count": 42,
   "metadata": {
    "ExecuteTime": {
     "end_time": "2018-09-12T13:41:13.645845Z",
     "start_time": "2018-09-12T13:41:13.642090Z"
    }
   },
   "outputs": [
    {
     "data": {
      "text/plain": [
       "[['b', 4], ['a', 2], ['c', 2]]"
      ]
     },
     "execution_count": 42,
     "metadata": {},
     "output_type": "execute_result"
    }
   ],
   "source": [
    "R1"
   ]
  },
  {
   "cell_type": "code",
   "execution_count": 38,
   "metadata": {
    "ExecuteTime": {
     "end_time": "2018-09-12T13:38:34.535008Z",
     "start_time": "2018-09-12T13:38:34.531945Z"
    }
   },
   "outputs": [],
   "source": [
    "result.sort(key=lambda x:(x[0]))"
   ]
  },
  {
   "cell_type": "code",
   "execution_count": 39,
   "metadata": {
    "ExecuteTime": {
     "end_time": "2018-09-12T13:38:37.525514Z",
     "start_time": "2018-09-12T13:38:37.522266Z"
    }
   },
   "outputs": [
    {
     "data": {
      "text/plain": [
       "[['a', 2], ['b', 4], ['c', 2]]"
      ]
     },
     "execution_count": 39,
     "metadata": {},
     "output_type": "execute_result"
    }
   ],
   "source": [
    "result"
   ]
  },
  {
   "cell_type": "code",
   "execution_count": 43,
   "metadata": {
    "ExecuteTime": {
     "end_time": "2018-09-12T13:45:10.682068Z",
     "start_time": "2018-09-12T13:45:10.679023Z"
    }
   },
   "outputs": [
    {
     "data": {
      "text/plain": [
       "'a'"
      ]
     },
     "execution_count": 43,
     "metadata": {},
     "output_type": "execute_result"
    }
   ],
   "source": [
    "result[0][0]"
   ]
  },
  {
   "cell_type": "code",
   "execution_count": 53,
   "metadata": {
    "ExecuteTime": {
     "end_time": "2018-09-12T13:51:46.869452Z",
     "start_time": "2018-09-12T13:51:46.864814Z"
    }
   },
   "outputs": [
    {
     "name": "stdout",
     "output_type": "stream",
     "text": [
      "b 4\n",
      "a 2\n",
      "c 2\n"
     ]
    }
   ],
   "source": [
    "alist=list(s)\n",
    "R=[[i,alist.count(i)] for i in set(alist) ]\n",
    "R2=sorted(R,key=lambda x:x[0])\n",
    "R3=sorted(R2,key=lambda x: x[1],reverse=True)\n",
    "\n",
    "for i in range(3):\n",
    "   print(R3[i][0],R3[i][1])"
   ]
  },
  {
   "cell_type": "code",
   "execution_count": 44,
   "metadata": {
    "ExecuteTime": {
     "end_time": "2018-09-12T13:48:07.465516Z",
     "start_time": "2018-09-12T13:48:07.460165Z"
    }
   },
   "outputs": [],
   "source": [
    "s='qwertyuiopasdfghjklzxcvbnm'"
   ]
  },
  {
   "cell_type": "code",
   "execution_count": 47,
   "metadata": {
    "ExecuteTime": {
     "end_time": "2018-09-12T13:48:59.777048Z",
     "start_time": "2018-09-12T13:48:59.769256Z"
    }
   },
   "outputs": [],
   "source": [
    "R3=sorted(R2,key=lambda x:x[0])"
   ]
  },
  {
   "cell_type": "code",
   "execution_count": 48,
   "metadata": {
    "ExecuteTime": {
     "end_time": "2018-09-12T13:49:03.081573Z",
     "start_time": "2018-09-12T13:49:03.075022Z"
    }
   },
   "outputs": [
    {
     "data": {
      "text/plain": [
       "[['a', 1],\n",
       " ['b', 1],\n",
       " ['c', 1],\n",
       " ['d', 1],\n",
       " ['e', 1],\n",
       " ['f', 1],\n",
       " ['g', 1],\n",
       " ['h', 1],\n",
       " ['i', 1],\n",
       " ['j', 1],\n",
       " ['k', 1],\n",
       " ['l', 1],\n",
       " ['m', 1],\n",
       " ['n', 1],\n",
       " ['o', 1],\n",
       " ['p', 1],\n",
       " ['q', 1],\n",
       " ['r', 1],\n",
       " ['s', 1],\n",
       " ['t', 1],\n",
       " ['u', 1],\n",
       " ['v', 1],\n",
       " ['w', 1],\n",
       " ['x', 1],\n",
       " ['y', 1],\n",
       " ['z', 1]]"
      ]
     },
     "execution_count": 48,
     "metadata": {},
     "output_type": "execute_result"
    }
   ],
   "source": [
    "R3"
   ]
  },
  {
   "cell_type": "code",
   "execution_count": 88,
   "metadata": {
    "ExecuteTime": {
     "end_time": "2018-09-13T05:52:13.650580Z",
     "start_time": "2018-09-13T05:52:13.648133Z"
    }
   },
   "outputs": [],
   "source": [
    "edges=list(itertools.combinations(['a','f','c','e'], 2))"
   ]
  },
  {
   "cell_type": "code",
   "execution_count": 55,
   "metadata": {
    "ExecuteTime": {
     "end_time": "2018-09-12T14:27:41.721482Z",
     "start_time": "2018-09-12T14:27:40.571048Z"
    }
   },
   "outputs": [],
   "source": [
    "import networkx as nx"
   ]
  },
  {
   "cell_type": "code",
   "execution_count": 86,
   "metadata": {
    "ExecuteTime": {
     "end_time": "2018-09-13T05:52:09.690989Z",
     "start_time": "2018-09-13T05:52:09.680262Z"
    }
   },
   "outputs": [],
   "source": [
    "edges=list(itertools.combinations(['a','b','c','d'], 2))"
   ]
  },
  {
   "cell_type": "code",
   "execution_count": 85,
   "metadata": {
    "ExecuteTime": {
     "end_time": "2018-09-13T05:52:05.414666Z",
     "start_time": "2018-09-13T05:52:05.392734Z"
    }
   },
   "outputs": [],
   "source": [
    "G = nx.Graph()"
   ]
  },
  {
   "cell_type": "code",
   "execution_count": 89,
   "metadata": {
    "ExecuteTime": {
     "end_time": "2018-09-13T05:52:16.058722Z",
     "start_time": "2018-09-13T05:52:16.056383Z"
    }
   },
   "outputs": [],
   "source": [
    "G.add_edges_from(edges)"
   ]
  },
  {
   "cell_type": "code",
   "execution_count": 58,
   "metadata": {
    "ExecuteTime": {
     "end_time": "2018-09-12T14:28:25.687330Z",
     "start_time": "2018-09-12T14:28:25.683581Z"
    }
   },
   "outputs": [
    {
     "data": {
      "text/plain": [
       "<networkx.classes.graph.Graph at 0x1513c39da0>"
      ]
     },
     "execution_count": 58,
     "metadata": {},
     "output_type": "execute_result"
    }
   ],
   "source": [
    "G"
   ]
  },
  {
   "cell_type": "code",
   "execution_count": 90,
   "metadata": {
    "ExecuteTime": {
     "end_time": "2018-09-13T05:52:20.037685Z",
     "start_time": "2018-09-13T05:52:19.760314Z"
    }
   },
   "outputs": [
    {
     "data": {
      "application/javascript": [
       "/* Put everything inside the global mpl namespace */\n",
       "window.mpl = {};\n",
       "\n",
       "\n",
       "mpl.get_websocket_type = function() {\n",
       "    if (typeof(WebSocket) !== 'undefined') {\n",
       "        return WebSocket;\n",
       "    } else if (typeof(MozWebSocket) !== 'undefined') {\n",
       "        return MozWebSocket;\n",
       "    } else {\n",
       "        alert('Your browser does not have WebSocket support.' +\n",
       "              'Please try Chrome, Safari or Firefox ≥ 6. ' +\n",
       "              'Firefox 4 and 5 are also supported but you ' +\n",
       "              'have to enable WebSockets in about:config.');\n",
       "    };\n",
       "}\n",
       "\n",
       "mpl.figure = function(figure_id, websocket, ondownload, parent_element) {\n",
       "    this.id = figure_id;\n",
       "\n",
       "    this.ws = websocket;\n",
       "\n",
       "    this.supports_binary = (this.ws.binaryType != undefined);\n",
       "\n",
       "    if (!this.supports_binary) {\n",
       "        var warnings = document.getElementById(\"mpl-warnings\");\n",
       "        if (warnings) {\n",
       "            warnings.style.display = 'block';\n",
       "            warnings.textContent = (\n",
       "                \"This browser does not support binary websocket messages. \" +\n",
       "                    \"Performance may be slow.\");\n",
       "        }\n",
       "    }\n",
       "\n",
       "    this.imageObj = new Image();\n",
       "\n",
       "    this.context = undefined;\n",
       "    this.message = undefined;\n",
       "    this.canvas = undefined;\n",
       "    this.rubberband_canvas = undefined;\n",
       "    this.rubberband_context = undefined;\n",
       "    this.format_dropdown = undefined;\n",
       "\n",
       "    this.image_mode = 'full';\n",
       "\n",
       "    this.root = $('<div/>');\n",
       "    this._root_extra_style(this.root)\n",
       "    this.root.attr('style', 'display: inline-block');\n",
       "\n",
       "    $(parent_element).append(this.root);\n",
       "\n",
       "    this._init_header(this);\n",
       "    this._init_canvas(this);\n",
       "    this._init_toolbar(this);\n",
       "\n",
       "    var fig = this;\n",
       "\n",
       "    this.waiting = false;\n",
       "\n",
       "    this.ws.onopen =  function () {\n",
       "            fig.send_message(\"supports_binary\", {value: fig.supports_binary});\n",
       "            fig.send_message(\"send_image_mode\", {});\n",
       "            if (mpl.ratio != 1) {\n",
       "                fig.send_message(\"set_dpi_ratio\", {'dpi_ratio': mpl.ratio});\n",
       "            }\n",
       "            fig.send_message(\"refresh\", {});\n",
       "        }\n",
       "\n",
       "    this.imageObj.onload = function() {\n",
       "            if (fig.image_mode == 'full') {\n",
       "                // Full images could contain transparency (where diff images\n",
       "                // almost always do), so we need to clear the canvas so that\n",
       "                // there is no ghosting.\n",
       "                fig.context.clearRect(0, 0, fig.canvas.width, fig.canvas.height);\n",
       "            }\n",
       "            fig.context.drawImage(fig.imageObj, 0, 0);\n",
       "        };\n",
       "\n",
       "    this.imageObj.onunload = function() {\n",
       "        fig.ws.close();\n",
       "    }\n",
       "\n",
       "    this.ws.onmessage = this._make_on_message_function(this);\n",
       "\n",
       "    this.ondownload = ondownload;\n",
       "}\n",
       "\n",
       "mpl.figure.prototype._init_header = function() {\n",
       "    var titlebar = $(\n",
       "        '<div class=\"ui-dialog-titlebar ui-widget-header ui-corner-all ' +\n",
       "        'ui-helper-clearfix\"/>');\n",
       "    var titletext = $(\n",
       "        '<div class=\"ui-dialog-title\" style=\"width: 100%; ' +\n",
       "        'text-align: center; padding: 3px;\"/>');\n",
       "    titlebar.append(titletext)\n",
       "    this.root.append(titlebar);\n",
       "    this.header = titletext[0];\n",
       "}\n",
       "\n",
       "\n",
       "\n",
       "mpl.figure.prototype._canvas_extra_style = function(canvas_div) {\n",
       "\n",
       "}\n",
       "\n",
       "\n",
       "mpl.figure.prototype._root_extra_style = function(canvas_div) {\n",
       "\n",
       "}\n",
       "\n",
       "mpl.figure.prototype._init_canvas = function() {\n",
       "    var fig = this;\n",
       "\n",
       "    var canvas_div = $('<div/>');\n",
       "\n",
       "    canvas_div.attr('style', 'position: relative; clear: both; outline: 0');\n",
       "\n",
       "    function canvas_keyboard_event(event) {\n",
       "        return fig.key_event(event, event['data']);\n",
       "    }\n",
       "\n",
       "    canvas_div.keydown('key_press', canvas_keyboard_event);\n",
       "    canvas_div.keyup('key_release', canvas_keyboard_event);\n",
       "    this.canvas_div = canvas_div\n",
       "    this._canvas_extra_style(canvas_div)\n",
       "    this.root.append(canvas_div);\n",
       "\n",
       "    var canvas = $('<canvas/>');\n",
       "    canvas.addClass('mpl-canvas');\n",
       "    canvas.attr('style', \"left: 0; top: 0; z-index: 0; outline: 0\")\n",
       "\n",
       "    this.canvas = canvas[0];\n",
       "    this.context = canvas[0].getContext(\"2d\");\n",
       "\n",
       "    var backingStore = this.context.backingStorePixelRatio ||\n",
       "\tthis.context.webkitBackingStorePixelRatio ||\n",
       "\tthis.context.mozBackingStorePixelRatio ||\n",
       "\tthis.context.msBackingStorePixelRatio ||\n",
       "\tthis.context.oBackingStorePixelRatio ||\n",
       "\tthis.context.backingStorePixelRatio || 1;\n",
       "\n",
       "    mpl.ratio = (window.devicePixelRatio || 1) / backingStore;\n",
       "\n",
       "    var rubberband = $('<canvas/>');\n",
       "    rubberband.attr('style', \"position: absolute; left: 0; top: 0; z-index: 1;\")\n",
       "\n",
       "    var pass_mouse_events = true;\n",
       "\n",
       "    canvas_div.resizable({\n",
       "        start: function(event, ui) {\n",
       "            pass_mouse_events = false;\n",
       "        },\n",
       "        resize: function(event, ui) {\n",
       "            fig.request_resize(ui.size.width, ui.size.height);\n",
       "        },\n",
       "        stop: function(event, ui) {\n",
       "            pass_mouse_events = true;\n",
       "            fig.request_resize(ui.size.width, ui.size.height);\n",
       "        },\n",
       "    });\n",
       "\n",
       "    function mouse_event_fn(event) {\n",
       "        if (pass_mouse_events)\n",
       "            return fig.mouse_event(event, event['data']);\n",
       "    }\n",
       "\n",
       "    rubberband.mousedown('button_press', mouse_event_fn);\n",
       "    rubberband.mouseup('button_release', mouse_event_fn);\n",
       "    // Throttle sequential mouse events to 1 every 20ms.\n",
       "    rubberband.mousemove('motion_notify', mouse_event_fn);\n",
       "\n",
       "    rubberband.mouseenter('figure_enter', mouse_event_fn);\n",
       "    rubberband.mouseleave('figure_leave', mouse_event_fn);\n",
       "\n",
       "    canvas_div.on(\"wheel\", function (event) {\n",
       "        event = event.originalEvent;\n",
       "        event['data'] = 'scroll'\n",
       "        if (event.deltaY < 0) {\n",
       "            event.step = 1;\n",
       "        } else {\n",
       "            event.step = -1;\n",
       "        }\n",
       "        mouse_event_fn(event);\n",
       "    });\n",
       "\n",
       "    canvas_div.append(canvas);\n",
       "    canvas_div.append(rubberband);\n",
       "\n",
       "    this.rubberband = rubberband;\n",
       "    this.rubberband_canvas = rubberband[0];\n",
       "    this.rubberband_context = rubberband[0].getContext(\"2d\");\n",
       "    this.rubberband_context.strokeStyle = \"#000000\";\n",
       "\n",
       "    this._resize_canvas = function(width, height) {\n",
       "        // Keep the size of the canvas, canvas container, and rubber band\n",
       "        // canvas in synch.\n",
       "        canvas_div.css('width', width)\n",
       "        canvas_div.css('height', height)\n",
       "\n",
       "        canvas.attr('width', width * mpl.ratio);\n",
       "        canvas.attr('height', height * mpl.ratio);\n",
       "        canvas.attr('style', 'width: ' + width + 'px; height: ' + height + 'px;');\n",
       "\n",
       "        rubberband.attr('width', width);\n",
       "        rubberband.attr('height', height);\n",
       "    }\n",
       "\n",
       "    // Set the figure to an initial 600x600px, this will subsequently be updated\n",
       "    // upon first draw.\n",
       "    this._resize_canvas(600, 600);\n",
       "\n",
       "    // Disable right mouse context menu.\n",
       "    $(this.rubberband_canvas).bind(\"contextmenu\",function(e){\n",
       "        return false;\n",
       "    });\n",
       "\n",
       "    function set_focus () {\n",
       "        canvas.focus();\n",
       "        canvas_div.focus();\n",
       "    }\n",
       "\n",
       "    window.setTimeout(set_focus, 100);\n",
       "}\n",
       "\n",
       "mpl.figure.prototype._init_toolbar = function() {\n",
       "    var fig = this;\n",
       "\n",
       "    var nav_element = $('<div/>')\n",
       "    nav_element.attr('style', 'width: 100%');\n",
       "    this.root.append(nav_element);\n",
       "\n",
       "    // Define a callback function for later on.\n",
       "    function toolbar_event(event) {\n",
       "        return fig.toolbar_button_onclick(event['data']);\n",
       "    }\n",
       "    function toolbar_mouse_event(event) {\n",
       "        return fig.toolbar_button_onmouseover(event['data']);\n",
       "    }\n",
       "\n",
       "    for(var toolbar_ind in mpl.toolbar_items) {\n",
       "        var name = mpl.toolbar_items[toolbar_ind][0];\n",
       "        var tooltip = mpl.toolbar_items[toolbar_ind][1];\n",
       "        var image = mpl.toolbar_items[toolbar_ind][2];\n",
       "        var method_name = mpl.toolbar_items[toolbar_ind][3];\n",
       "\n",
       "        if (!name) {\n",
       "            // put a spacer in here.\n",
       "            continue;\n",
       "        }\n",
       "        var button = $('<button/>');\n",
       "        button.addClass('ui-button ui-widget ui-state-default ui-corner-all ' +\n",
       "                        'ui-button-icon-only');\n",
       "        button.attr('role', 'button');\n",
       "        button.attr('aria-disabled', 'false');\n",
       "        button.click(method_name, toolbar_event);\n",
       "        button.mouseover(tooltip, toolbar_mouse_event);\n",
       "\n",
       "        var icon_img = $('<span/>');\n",
       "        icon_img.addClass('ui-button-icon-primary ui-icon');\n",
       "        icon_img.addClass(image);\n",
       "        icon_img.addClass('ui-corner-all');\n",
       "\n",
       "        var tooltip_span = $('<span/>');\n",
       "        tooltip_span.addClass('ui-button-text');\n",
       "        tooltip_span.html(tooltip);\n",
       "\n",
       "        button.append(icon_img);\n",
       "        button.append(tooltip_span);\n",
       "\n",
       "        nav_element.append(button);\n",
       "    }\n",
       "\n",
       "    var fmt_picker_span = $('<span/>');\n",
       "\n",
       "    var fmt_picker = $('<select/>');\n",
       "    fmt_picker.addClass('mpl-toolbar-option ui-widget ui-widget-content');\n",
       "    fmt_picker_span.append(fmt_picker);\n",
       "    nav_element.append(fmt_picker_span);\n",
       "    this.format_dropdown = fmt_picker[0];\n",
       "\n",
       "    for (var ind in mpl.extensions) {\n",
       "        var fmt = mpl.extensions[ind];\n",
       "        var option = $(\n",
       "            '<option/>', {selected: fmt === mpl.default_extension}).html(fmt);\n",
       "        fmt_picker.append(option)\n",
       "    }\n",
       "\n",
       "    // Add hover states to the ui-buttons\n",
       "    $( \".ui-button\" ).hover(\n",
       "        function() { $(this).addClass(\"ui-state-hover\");},\n",
       "        function() { $(this).removeClass(\"ui-state-hover\");}\n",
       "    );\n",
       "\n",
       "    var status_bar = $('<span class=\"mpl-message\"/>');\n",
       "    nav_element.append(status_bar);\n",
       "    this.message = status_bar[0];\n",
       "}\n",
       "\n",
       "mpl.figure.prototype.request_resize = function(x_pixels, y_pixels) {\n",
       "    // Request matplotlib to resize the figure. Matplotlib will then trigger a resize in the client,\n",
       "    // which will in turn request a refresh of the image.\n",
       "    this.send_message('resize', {'width': x_pixels, 'height': y_pixels});\n",
       "}\n",
       "\n",
       "mpl.figure.prototype.send_message = function(type, properties) {\n",
       "    properties['type'] = type;\n",
       "    properties['figure_id'] = this.id;\n",
       "    this.ws.send(JSON.stringify(properties));\n",
       "}\n",
       "\n",
       "mpl.figure.prototype.send_draw_message = function() {\n",
       "    if (!this.waiting) {\n",
       "        this.waiting = true;\n",
       "        this.ws.send(JSON.stringify({type: \"draw\", figure_id: this.id}));\n",
       "    }\n",
       "}\n",
       "\n",
       "\n",
       "mpl.figure.prototype.handle_save = function(fig, msg) {\n",
       "    var format_dropdown = fig.format_dropdown;\n",
       "    var format = format_dropdown.options[format_dropdown.selectedIndex].value;\n",
       "    fig.ondownload(fig, format);\n",
       "}\n",
       "\n",
       "\n",
       "mpl.figure.prototype.handle_resize = function(fig, msg) {\n",
       "    var size = msg['size'];\n",
       "    if (size[0] != fig.canvas.width || size[1] != fig.canvas.height) {\n",
       "        fig._resize_canvas(size[0], size[1]);\n",
       "        fig.send_message(\"refresh\", {});\n",
       "    };\n",
       "}\n",
       "\n",
       "mpl.figure.prototype.handle_rubberband = function(fig, msg) {\n",
       "    var x0 = msg['x0'] / mpl.ratio;\n",
       "    var y0 = (fig.canvas.height - msg['y0']) / mpl.ratio;\n",
       "    var x1 = msg['x1'] / mpl.ratio;\n",
       "    var y1 = (fig.canvas.height - msg['y1']) / mpl.ratio;\n",
       "    x0 = Math.floor(x0) + 0.5;\n",
       "    y0 = Math.floor(y0) + 0.5;\n",
       "    x1 = Math.floor(x1) + 0.5;\n",
       "    y1 = Math.floor(y1) + 0.5;\n",
       "    var min_x = Math.min(x0, x1);\n",
       "    var min_y = Math.min(y0, y1);\n",
       "    var width = Math.abs(x1 - x0);\n",
       "    var height = Math.abs(y1 - y0);\n",
       "\n",
       "    fig.rubberband_context.clearRect(\n",
       "        0, 0, fig.canvas.width, fig.canvas.height);\n",
       "\n",
       "    fig.rubberband_context.strokeRect(min_x, min_y, width, height);\n",
       "}\n",
       "\n",
       "mpl.figure.prototype.handle_figure_label = function(fig, msg) {\n",
       "    // Updates the figure title.\n",
       "    fig.header.textContent = msg['label'];\n",
       "}\n",
       "\n",
       "mpl.figure.prototype.handle_cursor = function(fig, msg) {\n",
       "    var cursor = msg['cursor'];\n",
       "    switch(cursor)\n",
       "    {\n",
       "    case 0:\n",
       "        cursor = 'pointer';\n",
       "        break;\n",
       "    case 1:\n",
       "        cursor = 'default';\n",
       "        break;\n",
       "    case 2:\n",
       "        cursor = 'crosshair';\n",
       "        break;\n",
       "    case 3:\n",
       "        cursor = 'move';\n",
       "        break;\n",
       "    }\n",
       "    fig.rubberband_canvas.style.cursor = cursor;\n",
       "}\n",
       "\n",
       "mpl.figure.prototype.handle_message = function(fig, msg) {\n",
       "    fig.message.textContent = msg['message'];\n",
       "}\n",
       "\n",
       "mpl.figure.prototype.handle_draw = function(fig, msg) {\n",
       "    // Request the server to send over a new figure.\n",
       "    fig.send_draw_message();\n",
       "}\n",
       "\n",
       "mpl.figure.prototype.handle_image_mode = function(fig, msg) {\n",
       "    fig.image_mode = msg['mode'];\n",
       "}\n",
       "\n",
       "mpl.figure.prototype.updated_canvas_event = function() {\n",
       "    // Called whenever the canvas gets updated.\n",
       "    this.send_message(\"ack\", {});\n",
       "}\n",
       "\n",
       "// A function to construct a web socket function for onmessage handling.\n",
       "// Called in the figure constructor.\n",
       "mpl.figure.prototype._make_on_message_function = function(fig) {\n",
       "    return function socket_on_message(evt) {\n",
       "        if (evt.data instanceof Blob) {\n",
       "            /* FIXME: We get \"Resource interpreted as Image but\n",
       "             * transferred with MIME type text/plain:\" errors on\n",
       "             * Chrome.  But how to set the MIME type?  It doesn't seem\n",
       "             * to be part of the websocket stream */\n",
       "            evt.data.type = \"image/png\";\n",
       "\n",
       "            /* Free the memory for the previous frames */\n",
       "            if (fig.imageObj.src) {\n",
       "                (window.URL || window.webkitURL).revokeObjectURL(\n",
       "                    fig.imageObj.src);\n",
       "            }\n",
       "\n",
       "            fig.imageObj.src = (window.URL || window.webkitURL).createObjectURL(\n",
       "                evt.data);\n",
       "            fig.updated_canvas_event();\n",
       "            fig.waiting = false;\n",
       "            return;\n",
       "        }\n",
       "        else if (typeof evt.data === 'string' && evt.data.slice(0, 21) == \"data:image/png;base64\") {\n",
       "            fig.imageObj.src = evt.data;\n",
       "            fig.updated_canvas_event();\n",
       "            fig.waiting = false;\n",
       "            return;\n",
       "        }\n",
       "\n",
       "        var msg = JSON.parse(evt.data);\n",
       "        var msg_type = msg['type'];\n",
       "\n",
       "        // Call the  \"handle_{type}\" callback, which takes\n",
       "        // the figure and JSON message as its only arguments.\n",
       "        try {\n",
       "            var callback = fig[\"handle_\" + msg_type];\n",
       "        } catch (e) {\n",
       "            console.log(\"No handler for the '\" + msg_type + \"' message type: \", msg);\n",
       "            return;\n",
       "        }\n",
       "\n",
       "        if (callback) {\n",
       "            try {\n",
       "                // console.log(\"Handling '\" + msg_type + \"' message: \", msg);\n",
       "                callback(fig, msg);\n",
       "            } catch (e) {\n",
       "                console.log(\"Exception inside the 'handler_\" + msg_type + \"' callback:\", e, e.stack, msg);\n",
       "            }\n",
       "        }\n",
       "    };\n",
       "}\n",
       "\n",
       "// from http://stackoverflow.com/questions/1114465/getting-mouse-location-in-canvas\n",
       "mpl.findpos = function(e) {\n",
       "    //this section is from http://www.quirksmode.org/js/events_properties.html\n",
       "    var targ;\n",
       "    if (!e)\n",
       "        e = window.event;\n",
       "    if (e.target)\n",
       "        targ = e.target;\n",
       "    else if (e.srcElement)\n",
       "        targ = e.srcElement;\n",
       "    if (targ.nodeType == 3) // defeat Safari bug\n",
       "        targ = targ.parentNode;\n",
       "\n",
       "    // jQuery normalizes the pageX and pageY\n",
       "    // pageX,Y are the mouse positions relative to the document\n",
       "    // offset() returns the position of the element relative to the document\n",
       "    var x = e.pageX - $(targ).offset().left;\n",
       "    var y = e.pageY - $(targ).offset().top;\n",
       "\n",
       "    return {\"x\": x, \"y\": y};\n",
       "};\n",
       "\n",
       "/*\n",
       " * return a copy of an object with only non-object keys\n",
       " * we need this to avoid circular references\n",
       " * http://stackoverflow.com/a/24161582/3208463\n",
       " */\n",
       "function simpleKeys (original) {\n",
       "  return Object.keys(original).reduce(function (obj, key) {\n",
       "    if (typeof original[key] !== 'object')\n",
       "        obj[key] = original[key]\n",
       "    return obj;\n",
       "  }, {});\n",
       "}\n",
       "\n",
       "mpl.figure.prototype.mouse_event = function(event, name) {\n",
       "    var canvas_pos = mpl.findpos(event)\n",
       "\n",
       "    if (name === 'button_press')\n",
       "    {\n",
       "        this.canvas.focus();\n",
       "        this.canvas_div.focus();\n",
       "    }\n",
       "\n",
       "    var x = canvas_pos.x * mpl.ratio;\n",
       "    var y = canvas_pos.y * mpl.ratio;\n",
       "\n",
       "    this.send_message(name, {x: x, y: y, button: event.button,\n",
       "                             step: event.step,\n",
       "                             guiEvent: simpleKeys(event)});\n",
       "\n",
       "    /* This prevents the web browser from automatically changing to\n",
       "     * the text insertion cursor when the button is pressed.  We want\n",
       "     * to control all of the cursor setting manually through the\n",
       "     * 'cursor' event from matplotlib */\n",
       "    event.preventDefault();\n",
       "    return false;\n",
       "}\n",
       "\n",
       "mpl.figure.prototype._key_event_extra = function(event, name) {\n",
       "    // Handle any extra behaviour associated with a key event\n",
       "}\n",
       "\n",
       "mpl.figure.prototype.key_event = function(event, name) {\n",
       "\n",
       "    // Prevent repeat events\n",
       "    if (name == 'key_press')\n",
       "    {\n",
       "        if (event.which === this._key)\n",
       "            return;\n",
       "        else\n",
       "            this._key = event.which;\n",
       "    }\n",
       "    if (name == 'key_release')\n",
       "        this._key = null;\n",
       "\n",
       "    var value = '';\n",
       "    if (event.ctrlKey && event.which != 17)\n",
       "        value += \"ctrl+\";\n",
       "    if (event.altKey && event.which != 18)\n",
       "        value += \"alt+\";\n",
       "    if (event.shiftKey && event.which != 16)\n",
       "        value += \"shift+\";\n",
       "\n",
       "    value += 'k';\n",
       "    value += event.which.toString();\n",
       "\n",
       "    this._key_event_extra(event, name);\n",
       "\n",
       "    this.send_message(name, {key: value,\n",
       "                             guiEvent: simpleKeys(event)});\n",
       "    return false;\n",
       "}\n",
       "\n",
       "mpl.figure.prototype.toolbar_button_onclick = function(name) {\n",
       "    if (name == 'download') {\n",
       "        this.handle_save(this, null);\n",
       "    } else {\n",
       "        this.send_message(\"toolbar_button\", {name: name});\n",
       "    }\n",
       "};\n",
       "\n",
       "mpl.figure.prototype.toolbar_button_onmouseover = function(tooltip) {\n",
       "    this.message.textContent = tooltip;\n",
       "};\n",
       "mpl.toolbar_items = [[\"Home\", \"Reset original view\", \"fa fa-home icon-home\", \"home\"], [\"Back\", \"Back to  previous view\", \"fa fa-arrow-left icon-arrow-left\", \"back\"], [\"Forward\", \"Forward to next view\", \"fa fa-arrow-right icon-arrow-right\", \"forward\"], [\"\", \"\", \"\", \"\"], [\"Pan\", \"Pan axes with left mouse, zoom with right\", \"fa fa-arrows icon-move\", \"pan\"], [\"Zoom\", \"Zoom to rectangle\", \"fa fa-square-o icon-check-empty\", \"zoom\"], [\"\", \"\", \"\", \"\"], [\"Download\", \"Download plot\", \"fa fa-floppy-o icon-save\", \"download\"]];\n",
       "\n",
       "mpl.extensions = [\"eps\", \"jpeg\", \"pdf\", \"png\", \"ps\", \"raw\", \"svg\", \"tif\"];\n",
       "\n",
       "mpl.default_extension = \"png\";var comm_websocket_adapter = function(comm) {\n",
       "    // Create a \"websocket\"-like object which calls the given IPython comm\n",
       "    // object with the appropriate methods. Currently this is a non binary\n",
       "    // socket, so there is still some room for performance tuning.\n",
       "    var ws = {};\n",
       "\n",
       "    ws.close = function() {\n",
       "        comm.close()\n",
       "    };\n",
       "    ws.send = function(m) {\n",
       "        //console.log('sending', m);\n",
       "        comm.send(m);\n",
       "    };\n",
       "    // Register the callback with on_msg.\n",
       "    comm.on_msg(function(msg) {\n",
       "        //console.log('receiving', msg['content']['data'], msg);\n",
       "        // Pass the mpl event to the overriden (by mpl) onmessage function.\n",
       "        ws.onmessage(msg['content']['data'])\n",
       "    });\n",
       "    return ws;\n",
       "}\n",
       "\n",
       "mpl.mpl_figure_comm = function(comm, msg) {\n",
       "    // This is the function which gets called when the mpl process\n",
       "    // starts-up an IPython Comm through the \"matplotlib\" channel.\n",
       "\n",
       "    var id = msg.content.data.id;\n",
       "    // Get hold of the div created by the display call when the Comm\n",
       "    // socket was opened in Python.\n",
       "    var element = $(\"#\" + id);\n",
       "    var ws_proxy = comm_websocket_adapter(comm)\n",
       "\n",
       "    function ondownload(figure, format) {\n",
       "        window.open(figure.imageObj.src);\n",
       "    }\n",
       "\n",
       "    var fig = new mpl.figure(id, ws_proxy,\n",
       "                           ondownload,\n",
       "                           element.get(0));\n",
       "\n",
       "    // Call onopen now - mpl needs it, as it is assuming we've passed it a real\n",
       "    // web socket which is closed, not our websocket->open comm proxy.\n",
       "    ws_proxy.onopen();\n",
       "\n",
       "    fig.parent_element = element.get(0);\n",
       "    fig.cell_info = mpl.find_output_cell(\"<div id='\" + id + \"'></div>\");\n",
       "    if (!fig.cell_info) {\n",
       "        console.error(\"Failed to find cell for figure\", id, fig);\n",
       "        return;\n",
       "    }\n",
       "\n",
       "    var output_index = fig.cell_info[2]\n",
       "    var cell = fig.cell_info[0];\n",
       "\n",
       "};\n",
       "\n",
       "mpl.figure.prototype.handle_close = function(fig, msg) {\n",
       "    var width = fig.canvas.width/mpl.ratio\n",
       "    fig.root.unbind('remove')\n",
       "\n",
       "    // Update the output cell to use the data from the current canvas.\n",
       "    fig.push_to_output();\n",
       "    var dataURL = fig.canvas.toDataURL();\n",
       "    // Re-enable the keyboard manager in IPython - without this line, in FF,\n",
       "    // the notebook keyboard shortcuts fail.\n",
       "    IPython.keyboard_manager.enable()\n",
       "    $(fig.parent_element).html('<img src=\"' + dataURL + '\" width=\"' + width + '\">');\n",
       "    fig.close_ws(fig, msg);\n",
       "}\n",
       "\n",
       "mpl.figure.prototype.close_ws = function(fig, msg){\n",
       "    fig.send_message('closing', msg);\n",
       "    // fig.ws.close()\n",
       "}\n",
       "\n",
       "mpl.figure.prototype.push_to_output = function(remove_interactive) {\n",
       "    // Turn the data on the canvas into data in the output cell.\n",
       "    var width = this.canvas.width/mpl.ratio\n",
       "    var dataURL = this.canvas.toDataURL();\n",
       "    this.cell_info[1]['text/html'] = '<img src=\"' + dataURL + '\" width=\"' + width + '\">';\n",
       "}\n",
       "\n",
       "mpl.figure.prototype.updated_canvas_event = function() {\n",
       "    // Tell IPython that the notebook contents must change.\n",
       "    IPython.notebook.set_dirty(true);\n",
       "    this.send_message(\"ack\", {});\n",
       "    var fig = this;\n",
       "    // Wait a second, then push the new image to the DOM so\n",
       "    // that it is saved nicely (might be nice to debounce this).\n",
       "    setTimeout(function () { fig.push_to_output() }, 1000);\n",
       "}\n",
       "\n",
       "mpl.figure.prototype._init_toolbar = function() {\n",
       "    var fig = this;\n",
       "\n",
       "    var nav_element = $('<div/>')\n",
       "    nav_element.attr('style', 'width: 100%');\n",
       "    this.root.append(nav_element);\n",
       "\n",
       "    // Define a callback function for later on.\n",
       "    function toolbar_event(event) {\n",
       "        return fig.toolbar_button_onclick(event['data']);\n",
       "    }\n",
       "    function toolbar_mouse_event(event) {\n",
       "        return fig.toolbar_button_onmouseover(event['data']);\n",
       "    }\n",
       "\n",
       "    for(var toolbar_ind in mpl.toolbar_items){\n",
       "        var name = mpl.toolbar_items[toolbar_ind][0];\n",
       "        var tooltip = mpl.toolbar_items[toolbar_ind][1];\n",
       "        var image = mpl.toolbar_items[toolbar_ind][2];\n",
       "        var method_name = mpl.toolbar_items[toolbar_ind][3];\n",
       "\n",
       "        if (!name) { continue; };\n",
       "\n",
       "        var button = $('<button class=\"btn btn-default\" href=\"#\" title=\"' + name + '\"><i class=\"fa ' + image + ' fa-lg\"></i></button>');\n",
       "        button.click(method_name, toolbar_event);\n",
       "        button.mouseover(tooltip, toolbar_mouse_event);\n",
       "        nav_element.append(button);\n",
       "    }\n",
       "\n",
       "    // Add the status bar.\n",
       "    var status_bar = $('<span class=\"mpl-message\" style=\"text-align:right; float: right;\"/>');\n",
       "    nav_element.append(status_bar);\n",
       "    this.message = status_bar[0];\n",
       "\n",
       "    // Add the close button to the window.\n",
       "    var buttongrp = $('<div class=\"btn-group inline pull-right\"></div>');\n",
       "    var button = $('<button class=\"btn btn-mini btn-primary\" href=\"#\" title=\"Stop Interaction\"><i class=\"fa fa-power-off icon-remove icon-large\"></i></button>');\n",
       "    button.click(function (evt) { fig.handle_close(fig, {}); } );\n",
       "    button.mouseover('Stop Interaction', toolbar_mouse_event);\n",
       "    buttongrp.append(button);\n",
       "    var titlebar = this.root.find($('.ui-dialog-titlebar'));\n",
       "    titlebar.prepend(buttongrp);\n",
       "}\n",
       "\n",
       "mpl.figure.prototype._root_extra_style = function(el){\n",
       "    var fig = this\n",
       "    el.on(\"remove\", function(){\n",
       "\tfig.close_ws(fig, {});\n",
       "    });\n",
       "}\n",
       "\n",
       "mpl.figure.prototype._canvas_extra_style = function(el){\n",
       "    // this is important to make the div 'focusable\n",
       "    el.attr('tabindex', 0)\n",
       "    // reach out to IPython and tell the keyboard manager to turn it's self\n",
       "    // off when our div gets focus\n",
       "\n",
       "    // location in version 3\n",
       "    if (IPython.notebook.keyboard_manager) {\n",
       "        IPython.notebook.keyboard_manager.register_events(el);\n",
       "    }\n",
       "    else {\n",
       "        // location in version 2\n",
       "        IPython.keyboard_manager.register_events(el);\n",
       "    }\n",
       "\n",
       "}\n",
       "\n",
       "mpl.figure.prototype._key_event_extra = function(event, name) {\n",
       "    var manager = IPython.notebook.keyboard_manager;\n",
       "    if (!manager)\n",
       "        manager = IPython.keyboard_manager;\n",
       "\n",
       "    // Check for shift+enter\n",
       "    if (event.shiftKey && event.which == 13) {\n",
       "        this.canvas_div.blur();\n",
       "        event.shiftKey = false;\n",
       "        // Send a \"J\" for go to next cell\n",
       "        event.which = 74;\n",
       "        event.keyCode = 74;\n",
       "        manager.command_mode();\n",
       "        manager.handle_keydown(event);\n",
       "    }\n",
       "}\n",
       "\n",
       "mpl.figure.prototype.handle_save = function(fig, msg) {\n",
       "    fig.ondownload(fig, null);\n",
       "}\n",
       "\n",
       "\n",
       "mpl.find_output_cell = function(html_output) {\n",
       "    // Return the cell and output element which can be found *uniquely* in the notebook.\n",
       "    // Note - this is a bit hacky, but it is done because the \"notebook_saving.Notebook\"\n",
       "    // IPython event is triggered only after the cells have been serialised, which for\n",
       "    // our purposes (turning an active figure into a static one), is too late.\n",
       "    var cells = IPython.notebook.get_cells();\n",
       "    var ncells = cells.length;\n",
       "    for (var i=0; i<ncells; i++) {\n",
       "        var cell = cells[i];\n",
       "        if (cell.cell_type === 'code'){\n",
       "            for (var j=0; j<cell.output_area.outputs.length; j++) {\n",
       "                var data = cell.output_area.outputs[j];\n",
       "                if (data.data) {\n",
       "                    // IPython >= 3 moved mimebundle to data attribute of output\n",
       "                    data = data.data;\n",
       "                }\n",
       "                if (data['text/html'] == html_output) {\n",
       "                    return [cell, data, j];\n",
       "                }\n",
       "            }\n",
       "        }\n",
       "    }\n",
       "}\n",
       "\n",
       "// Register the function which deals with the matplotlib target/channel.\n",
       "// The kernel may be null if the page has been refreshed.\n",
       "if (IPython.notebook.kernel != null) {\n",
       "    IPython.notebook.kernel.comm_manager.register_target('matplotlib', mpl.mpl_figure_comm);\n",
       "}\n"
      ],
      "text/plain": [
       "<IPython.core.display.Javascript object>"
      ]
     },
     "metadata": {},
     "output_type": "display_data"
    },
    {
     "data": {
      "text/html": [
       "<img src=\"data:image/png;base64,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\" width=\"640\">"
      ],
      "text/plain": [
       "<IPython.core.display.HTML object>"
      ]
     },
     "metadata": {},
     "output_type": "display_data"
    },
    {
     "name": "stderr",
     "output_type": "stream",
     "text": [
      "/Users/thein/anaconda3/lib/python3.6/site-packages/networkx/drawing/nx_pylab.py:126: MatplotlibDeprecationWarning: pyplot.hold is deprecated.\n",
      "    Future behavior will be consistent with the long-time default:\n",
      "    plot commands add elements without first clearing the\n",
      "    Axes and/or Figure.\n",
      "  b = plt.ishold()\n",
      "/Users/thein/anaconda3/lib/python3.6/site-packages/networkx/drawing/nx_pylab.py:522: MatplotlibDeprecationWarning: The is_string_like function was deprecated in version 2.1.\n",
      "  if not cb.is_string_like(edge_color) \\\n",
      "/Users/thein/anaconda3/lib/python3.6/site-packages/networkx/drawing/nx_pylab.py:543: MatplotlibDeprecationWarning: The is_string_like function was deprecated in version 2.1.\n",
      "  if cb.is_string_like(edge_color) or len(edge_color) == 1:\n",
      "/Users/thein/anaconda3/lib/python3.6/site-packages/networkx/drawing/nx_pylab.py:724: MatplotlibDeprecationWarning: The is_string_like function was deprecated in version 2.1.\n",
      "  if not cb.is_string_like(label):\n",
      "/Users/thein/anaconda3/lib/python3.6/site-packages/networkx/drawing/nx_pylab.py:138: MatplotlibDeprecationWarning: pyplot.hold is deprecated.\n",
      "    Future behavior will be consistent with the long-time default:\n",
      "    plot commands add elements without first clearing the\n",
      "    Axes and/or Figure.\n",
      "  plt.hold(b)\n",
      "/Users/thein/anaconda3/lib/python3.6/site-packages/matplotlib/__init__.py:805: MatplotlibDeprecationWarning: axes.hold is deprecated. Please remove it from your matplotlibrc and/or style files.\n",
      "  mplDeprecation)\n",
      "/Users/thein/anaconda3/lib/python3.6/site-packages/matplotlib/rcsetup.py:155: MatplotlibDeprecationWarning: axes.hold is deprecated, will be removed in 3.0\n",
      "  mplDeprecation)\n"
     ]
    }
   ],
   "source": [
    "nx.draw(G, with_labels=True, font_weight='bold')"
   ]
  },
  {
   "cell_type": "code",
   "execution_count": 63,
   "metadata": {
    "ExecuteTime": {
     "end_time": "2018-09-12T14:46:58.184164Z",
     "start_time": "2018-09-12T14:46:58.180602Z"
    }
   },
   "outputs": [
    {
     "data": {
      "text/plain": [
       "<networkx.classes.graph.Graph at 0x1513d1b908>"
      ]
     },
     "execution_count": 63,
     "metadata": {},
     "output_type": "execute_result"
    }
   ],
   "source": [
    "Gcc"
   ]
  },
  {
   "cell_type": "code",
   "execution_count": 98,
   "metadata": {
    "ExecuteTime": {
     "end_time": "2018-09-13T05:55:13.181155Z",
     "start_time": "2018-09-13T05:55:13.178467Z"
    }
   },
   "outputs": [],
   "source": [
    "a=G.degree()"
   ]
  },
  {
   "cell_type": "code",
   "execution_count": 100,
   "metadata": {
    "ExecuteTime": {
     "end_time": "2018-09-13T05:56:33.254241Z",
     "start_time": "2018-09-13T05:56:33.250932Z"
    }
   },
   "outputs": [
    {
     "data": {
      "text/plain": [
       "'1.11'"
      ]
     },
     "execution_count": 100,
     "metadata": {},
     "output_type": "execute_result"
    }
   ],
   "source": [
    "nx.__version__"
   ]
  },
  {
   "cell_type": "code",
   "execution_count": 99,
   "metadata": {
    "ExecuteTime": {
     "end_time": "2018-09-13T05:55:23.014263Z",
     "start_time": "2018-09-13T05:55:23.010340Z"
    }
   },
   "outputs": [
    {
     "data": {
      "text/plain": [
       "[('a', 5), ('c', 5), ('b', 3), ('d', 3), ('e', 3), ('f', 3)]"
      ]
     },
     "execution_count": 99,
     "metadata": {},
     "output_type": "execute_result"
    }
   ],
   "source": [
    "sorted(a.items(),key=lambda x: (-x[1],x[0]))"
   ]
  },
  {
   "cell_type": "code",
   "execution_count": 95,
   "metadata": {
    "ExecuteTime": {
     "end_time": "2018-09-13T05:53:02.164684Z",
     "start_time": "2018-09-13T05:53:02.151510Z"
    }
   },
   "outputs": [
    {
     "ename": "IndexError",
     "evalue": "string index out of range",
     "output_type": "error",
     "traceback": [
      "\u001b[0;31m---------------------------------------------------------------------------\u001b[0m",
      "\u001b[0;31mIndexError\u001b[0m                                Traceback (most recent call last)",
      "\u001b[0;32m<ipython-input-95-0b221f1fbabb>\u001b[0m in \u001b[0;36m<module>\u001b[0;34m()\u001b[0m\n\u001b[0;32m----> 1\u001b[0;31m \u001b[0msorted\u001b[0m\u001b[0;34m(\u001b[0m\u001b[0ma\u001b[0m\u001b[0;34m,\u001b[0m\u001b[0mkey\u001b[0m\u001b[0;34m=\u001b[0m\u001b[0;32mlambda\u001b[0m \u001b[0mx\u001b[0m\u001b[0;34m:\u001b[0m \u001b[0;34m(\u001b[0m\u001b[0;34m-\u001b[0m\u001b[0mx\u001b[0m\u001b[0;34m[\u001b[0m\u001b[0;36m1\u001b[0m\u001b[0;34m]\u001b[0m\u001b[0;34m,\u001b[0m\u001b[0mx\u001b[0m\u001b[0;34m[\u001b[0m\u001b[0;36m0\u001b[0m\u001b[0;34m]\u001b[0m\u001b[0;34m)\u001b[0m\u001b[0;34m)\u001b[0m\u001b[0;34m\u001b[0m\u001b[0m\n\u001b[0m",
      "\u001b[0;32m<ipython-input-95-0b221f1fbabb>\u001b[0m in \u001b[0;36m<lambda>\u001b[0;34m(x)\u001b[0m\n\u001b[0;32m----> 1\u001b[0;31m \u001b[0msorted\u001b[0m\u001b[0;34m(\u001b[0m\u001b[0ma\u001b[0m\u001b[0;34m,\u001b[0m\u001b[0mkey\u001b[0m\u001b[0;34m=\u001b[0m\u001b[0;32mlambda\u001b[0m \u001b[0mx\u001b[0m\u001b[0;34m:\u001b[0m \u001b[0;34m(\u001b[0m\u001b[0;34m-\u001b[0m\u001b[0mx\u001b[0m\u001b[0;34m[\u001b[0m\u001b[0;36m1\u001b[0m\u001b[0;34m]\u001b[0m\u001b[0;34m,\u001b[0m\u001b[0mx\u001b[0m\u001b[0;34m[\u001b[0m\u001b[0;36m0\u001b[0m\u001b[0;34m]\u001b[0m\u001b[0;34m)\u001b[0m\u001b[0;34m)\u001b[0m\u001b[0;34m\u001b[0m\u001b[0m\n\u001b[0m",
      "\u001b[0;31mIndexError\u001b[0m: string index out of range"
     ]
    }
   ],
   "source": [
    "sorted(a,key=lambda x: (-x[1],x[0]))"
   ]
  },
  {
   "cell_type": "code",
   "execution_count": 75,
   "metadata": {
    "ExecuteTime": {
     "end_time": "2018-09-12T14:53:58.571254Z",
     "start_time": "2018-09-12T14:53:58.566836Z"
    }
   },
   "outputs": [],
   "source": [
    "x = {1: 2, 3: 4, 4: 3, 2: 1, 0: 0}\n",
    "sorted_by_value = sorted(x.items(), key=lambda kv: kv[1])"
   ]
  },
  {
   "cell_type": "code",
   "execution_count": 76,
   "metadata": {
    "ExecuteTime": {
     "end_time": "2018-09-12T14:54:03.478207Z",
     "start_time": "2018-09-12T14:54:03.474814Z"
    }
   },
   "outputs": [
    {
     "data": {
      "text/plain": [
       "[(0, 0), (2, 1), (1, 2), (4, 3), (3, 4)]"
      ]
     },
     "execution_count": 76,
     "metadata": {},
     "output_type": "execute_result"
    }
   ],
   "source": [
    "sorted_by_value"
   ]
  },
  {
   "cell_type": "code",
   "execution_count": 83,
   "metadata": {
    "ExecuteTime": {
     "end_time": "2018-09-12T23:47:19.881322Z",
     "start_time": "2018-09-12T23:47:19.877824Z"
    }
   },
   "outputs": [
    {
     "data": {
      "text/plain": [
       "{'a': 5, 'f': 3, 'c': 5, 'e': 3, 'b': 3, 'd': 3}"
      ]
     },
     "execution_count": 83,
     "metadata": {},
     "output_type": "execute_result"
    }
   ],
   "source": [
    "a"
   ]
  },
  {
   "cell_type": "code",
   "execution_count": 84,
   "metadata": {
    "ExecuteTime": {
     "end_time": "2018-09-13T00:57:48.749413Z",
     "start_time": "2018-09-13T00:57:48.732738Z"
    }
   },
   "outputs": [
    {
     "data": {
      "text/plain": [
       "8"
      ]
     },
     "execution_count": 84,
     "metadata": {},
     "output_type": "execute_result"
    }
   ],
   "source": [
    "import multiprocessing\n",
    "\n",
    "multiprocessing.cpu_count()"
   ]
  },
  {
   "cell_type": "code",
   "execution_count": 101,
   "metadata": {
    "ExecuteTime": {
     "end_time": "2018-09-14T13:44:56.823232Z",
     "start_time": "2018-09-14T13:44:56.731260Z"
    }
   },
   "outputs": [],
   "source": [
    "import sys\n",
    "data = sys.stdin.readlines()"
   ]
  },
  {
   "cell_type": "code",
   "execution_count": 104,
   "metadata": {
    "ExecuteTime": {
     "end_time": "2018-09-14T14:23:48.287977Z",
     "start_time": "2018-09-14T14:23:27.892634Z"
    }
   },
   "outputs": [
    {
     "name": "stdout",
     "output_type": "stream",
     "text": [
      "49 <div class=\"portal\" role=\"navigation\" id='p-lang'> <h3>Languages</h3> <div class=\"body\"> <ul> <li class=\"interwiki-simple\"><a href=\"//simple.wikipedia.org/wiki/\" title=\"\" lang=\"simple\" hreflang=\"simple\">Simple English</a></li> <li class=\"interwiki-ar\"><a href=\"//ar.wikipedia.org/wiki/\" title=\"\" lang=\"ar\" hreflang=\"ar\"></a></li> <li class=\"interwiki-id\"><a href=\"//id.wikipedia.org/wiki/\" title=\"\" lang=\"id\" hreflang=\"id\">Bahasa Indonesia</a></li> <li class=\"interwiki-ms\"><a href=\"//ms.wikipedia.org/wiki/\" title=\"\" lang=\"ms\" hreflang=\"ms\">Bahasa Melayu</a></li> <li class=\"interwiki-bg\"><a href=\"//bg.wikipedia.org/wiki/\" title=\"\" lang=\"bg\" hreflang=\"bg\"></a></li> <li class=\"interwiki-ca\"><a href=\"//ca.wikipedia.org/wiki/\" title=\"\" lang=\"ca\" hreflang=\"ca\">Catal</a></li> <li class=\"interwiki-cs\"><a href=\"//cs.wikipedia.org/wiki/\" title=\"\" lang=\"cs\" hreflang=\"cs\">esky</a></li> <li class=\"interwiki-da\"><a href=\"//da.wikipedia.org/wiki/\" title=\"\" lang=\"da\" hreflang=\"da\"><b>Dansk</b></a></li> <li class=\"interwiki-de\"><a href=\"//de.wikipedia.org/wiki/\" title=\"\" lang=\"de\" hreflang=\"de\">Deutsch</a></li> <li class=\"interwiki-et\"><a href=\"//et.wikipedia.org/wiki/\" title=\"\" lang=\"et\" hreflang=\"et\">Eesti</a></li> <li class=\"interwiki-el\"><a href=\"//el.wikipedia.org/wiki/\" title=\"\" lang=\"el\" hreflang=\"el\"></a></li> <li class=\"interwiki-es\"><a href=\"//es.wikipedia.org/wiki/\" title=\"\" lang=\"es\" hreflang=\"es\">Espaol</a></li> <li class=\"interwiki-eo\"><a href=\"//eo.wikipedia.org/wiki/\" title=\"\" lang=\"eo\" hreflang=\"eo\">Esperanto</a></li> <li class=\"interwiki-eu\"><a href=\"//eu.wikipedia.org/wiki/\" title=\"\" lang=\"eu\" hreflang=\"eu\">Euskara</a></li> <li class=\"interwiki-fa\"><a href=\"//fa.wikipedia.org/wiki/\" title=\"\" lang=\"fa\" hreflang=\"fa\"></a></li> <li class=\"interwiki-fr\"><a href=\"//fr.wikipedia.org/wiki/\" title=\"\" lang=\"fr\" hreflang=\"fr\">Franais</a></li> <li class=\"interwiki-gl\"><a href=\"//gl.wikipedia.org/wiki/\" title=\"\" lang=\"gl\" hreflang=\"gl\">Galego</a></li> <li class=\"interwiki-ko\"><a href=\"//ko.wikipedia.org/wiki/\" title=\"\" lang=\"ko\" hreflang=\"ko\"></a></li> <li class=\"interwiki-he\"><a href=\"//he.wikipedia.org/wiki/\" title=\"\" lang=\"he\" hreflang=\"he\"></a></li> <li class=\"interwiki-hr\"><a href=\"//hr.wikipedia.org/wiki/\" title=\"\" lang=\"hr\" hreflang=\"hr\">Hrvatski</a></li> <li class=\"interwiki-it\"><a href=\"//it.wikipedia.org/wiki/\" title=\"\" lang=\"it\" hreflang=\"it\">Italiano</a></li> <li class=\"interwiki-lt\"><a href=\"//lt.wikipedia.org/wiki/\" title=\"\" lang=\"lt\" hreflang=\"lt\">Lietuvi</a></li> <li class=\"interwiki-hu\"><a href=\"//hu.wikipedia.org/wiki/\" title=\"\" lang=\"hu\" hreflang=\"hu\">Magyar</a></li> <li class=\"interwiki-nl\"><a href=\"//nl.wikipedia.org/wiki/\" title=\"\" lang=\"nl\" hreflang=\"nl\">Nederlands</a></li> <li class=\"interwiki-ja\"><a href=\"//ja.wikipedia.org/wiki/\" title=\"\" lang=\"ja\" hreflang=\"ja\"></a></li> <li class=\"interwiki-no\"><a href=\"//no.wikipedia.org/wiki/\" title=\"\" lang=\"no\" hreflang=\"no\">Norsk bokml</a></li> <li class=\"interwiki-nn\"><a href=\"//nn.wikipedia.org/wiki/\" title=\"\" lang=\"nn\" hreflang=\"nn\">Norsk nynorsk</a></li> <li class=\"interwiki-pl\"><a href=\"//pl.wikipedia.org/wiki/\" title=\"\" lang=\"pl\" hreflang=\"pl\">Polski</a></li> <li class=\"interwiki-pt\"><a href=\"//pt.wikipedia.org/wiki/\" title=\"\" lang=\"pt\" hreflang=\"pt\">Portugus</a></li> <li class=\"interwiki-ro\"><a href=\"//ro.wikipedia.org/wiki/\" title=\"\" lang=\"ro\" hreflang=\"ro\">Romn</a></li> <li class=\"interwiki-ru\"><a href=\"//ru.wikipedia.org/wiki/\" title=\"\" lang=\"ru\" hreflang=\"ru\"></a></li> <li class=\"interwiki-sk\"><a href=\"//sk.wikipedia.org/wiki/\" title=\"\" lang=\"sk\" hreflang=\"sk\">Slovenina</a></li> <li class=\"interwiki-sl\"><a href=\"//sl.wikipedia.org/wiki/\" title=\"\" lang=\"sl\" hreflang=\"sl\">Slovenina</a></li> <li class=\"interwiki-sr\"><a href=\"//sr.wikipedia.org/wiki/\" title=\"\" lang=\"sr\" hreflang=\"sr\"> / srpski</a></li> <li class=\"interwiki-sh\"><a href=\"//sh.wikipedia.org/wiki/\" title=\"\" lang=\"sh\" hreflang=\"sh\">Srpskohrvatski / </a></li> <li class=\"interwiki-fi\"><a href=\"//fi.wikipedia.org/wiki/\" title=\"\" lang=\"fi\" hreflang=\"fi\">Suomi</a></li> <li class=\"interwiki-sv\"><a href=\"//sv.wikipedia.org/wiki/\" title=\"\" lang=\"sv\" hreflang=\"sv\">Svenska</a></li> <li class=\"interwiki-th\"><a href=\"//th.wikipedia.org/wiki/\" title=\"\" lang=\"th\" hreflang=\"th\"></a></li> <li class=\"interwiki-vi\"><a href=\"//vi.wikipedia.org/wiki/\" title=\"\" lang=\"vi\" hreflang=\"vi\">Ting Vit</a></li> <li class=\"interwiki-tr\"><a href=\"//tr.wikipedia.org/wiki/\" title=\"\" lang=\"tr\" hreflang=\"tr\">Trke</a></li> <li class=\"interwiki-uk\"><a href=\"//uk.wikipedia.org/wiki/\" title=\"\" lang=\"uk\" hreflang=\"uk\"></a></li> <li class=\"interwiki-zh\"><a href=\"//zh.wikipedia.org/wiki/\" title=\"\" lang=\"zh\" hreflang=\"zh\"></a></li> </ul> </div> </div>\n"
     ]
    }
   ],
   "source": [
    "import sys\n",
    "from bs4 import BeautifulSoup\n",
    "from xml.sax.saxutils import escape\n",
    "\n",
    "data=\n",
    "soup=BeautifulSoup(\" \".join(data[1:]),'html.parser')\n",
    "\n",
    "for a in soup.findAll('a'):\n",
    "    print ( escape(a['href'])+','+a.text)"
   ]
  },
  {
   "cell_type": "code",
   "execution_count": 105,
   "metadata": {
    "ExecuteTime": {
     "end_time": "2018-09-14T14:24:28.294399Z",
     "start_time": "2018-09-14T14:24:28.270715Z"
    }
   },
   "outputs": [
    {
     "ename": "SyntaxError",
     "evalue": "EOL while scanning string literal (<ipython-input-105-b4735a35958b>, line 1)",
     "output_type": "error",
     "traceback": [
      "\u001b[0;36m  File \u001b[0;32m\"<ipython-input-105-b4735a35958b>\"\u001b[0;36m, line \u001b[0;32m1\u001b[0m\n\u001b[0;31m    a='49\u001b[0m\n\u001b[0m         ^\u001b[0m\n\u001b[0;31mSyntaxError\u001b[0m\u001b[0;31m:\u001b[0m EOL while scanning string literal\n"
     ]
    }
   ],
   "source": [
    "a=\"49 <div class=\"portal\" role=\"navigation\" id='p-lang'> <h3>Languages</h3> <div class=\"body\"> <ul> <li class=\"interwiki-simple\"><a href=\"//simple.wikipedia.org/wiki/\" title=\"\" lang=\"simple\" hreflang=\"simple\">Simple English</a></li> <li class=\"interwiki-ar\"><a href=\"//ar.wikipedia.org/wiki/\" title=\"\" lang=\"ar\" hreflang=\"ar\"></a></li> <li class=\"interwiki-id\"><a href=\"//id.wikipedia.org/wiki/\" title=\"\" lang=\"id\" hreflang=\"id\">Bahasa Indonesia</a></li> <li class=\"interwiki-ms\"><a href=\"//ms.wikipedia.org/wiki/\" title=\"\" lang=\"ms\" hreflang=\"ms\">Bahasa Melayu</a></li> <li class=\"interwiki-bg\"><a href=\"//bg.wikipedia.org/wiki/\" title=\"\" lang=\"bg\" hreflang=\"bg\"></a></li> <li class=\"interwiki-ca\"><a href=\"//ca.wikipedia.org/wiki/\" title=\"\" lang=\"ca\" hreflang=\"ca\">Catal</a></li> <li class=\"interwiki-cs\"><a href=\"//cs.wikipedia.org/wiki/\" title=\"\" lang=\"cs\" hreflang=\"cs\">esky</a></li> <li class=\"interwiki-da\"><a href=\"//da.wikipedia.org/wiki/\" title=\"\" lang=\"da\" hreflang=\"da\"><b>Dansk</b></a></li> <li class=\"interwiki-de\"><a href=\"//de.wikipedia.org/wiki/\" title=\"\" lang=\"de\" hreflang=\"de\">Deutsch</a></li> <li class=\"interwiki-et\"><a href=\"//et.wikipedia.org/wiki/\" title=\"\" lang=\"et\" hreflang=\"et\">Eesti</a></li> <li class=\"interwiki-el\"><a href=\"//el.wikipedia.org/wiki/\" title=\"\" lang=\"el\" hreflang=\"el\"></a></li> <li class=\"interwiki-es\"><a href=\"//es.wikipedia.org/wiki/\" title=\"\" lang=\"es\" hreflang=\"es\">Espaol</a></li> <li class=\"interwiki-eo\"><a href=\"//eo.wikipedia.org/wiki/\" title=\"\" lang=\"eo\" hreflang=\"eo\">Esperanto</a></li> <li class=\"interwiki-eu\"><a href=\"//eu.wikipedia.org/wiki/\" title=\"\" lang=\"eu\" hreflang=\"eu\">Euskara</a></li> <li class=\"interwiki-fa\"><a href=\"//fa.wikipedia.org/wiki/\" title=\"\" lang=\"fa\" hreflang=\"fa\"></a></li> <li class=\"interwiki-fr\"><a href=\"//fr.wikipedia.org/wiki/\" title=\"\" lang=\"fr\" hreflang=\"fr\">Franais</a></li> <li class=\"interwiki-gl\"><a href=\"//gl.wikipedia.org/wiki/\" title=\"\" lang=\"gl\" hreflang=\"gl\">Galego</a></li> <li class=\"interwiki-ko\"><a href=\"//ko.wikipedia.org/wiki/\" title=\"\" lang=\"ko\" hreflang=\"ko\"></a></li> <li class=\"interwiki-he\"><a href=\"//he.wikipedia.org/wiki/\" title=\"\" lang=\"he\" hreflang=\"he\"></a></li> <li class=\"interwiki-hr\"><a href=\"//hr.wikipedia.org/wiki/\" title=\"\" lang=\"hr\" hreflang=\"hr\">Hrvatski</a></li> <li class=\"interwiki-it\"><a href=\"//it.wikipedia.org/wiki/\" title=\"\" lang=\"it\" hreflang=\"it\">Italiano</a></li> <li class=\"interwiki-lt\"><a href=\"//lt.wikipedia.org/wiki/\" title=\"\" lang=\"lt\" hreflang=\"lt\">Lietuvi</a></li> <li class=\"interwiki-hu\"><a href=\"//hu.wikipedia.org/wiki/\" title=\"\" lang=\"hu\" hreflang=\"hu\">Magyar</a></li> <li class=\"interwiki-nl\"><a href=\"//nl.wikipedia.org/wiki/\" title=\"\" lang=\"nl\" hreflang=\"nl\">Nederlands</a></li> <li class=\"interwiki-ja\"><a href=\"//ja.wikipedia.org/wiki/\" title=\"\" lang=\"ja\" hreflang=\"ja\"></a></li> <li class=\"interwiki-no\"><a href=\"//no.wikipedia.org/wiki/\" title=\"\" lang=\"no\" hreflang=\"no\">Norsk bokml</a></li> <li class=\"interwiki-nn\"><a href=\"//nn.wikipedia.org/wiki/\" title=\"\" lang=\"nn\" hreflang=\"nn\">Norsk nynorsk</a></li> <li class=\"interwiki-pl\"><a href=\"//pl.wikipedia.org/wiki/\" title=\"\" lang=\"pl\" hreflang=\"pl\">Polski</a></li> <li class=\"interwiki-pt\"><a href=\"//pt.wikipedia.org/wiki/\" title=\"\" lang=\"pt\" hreflang=\"pt\">Portugus</a></li> <li class=\"interwiki-ro\"><a href=\"//ro.wikipedia.org/wiki/\" title=\"\" lang=\"ro\" hreflang=\"ro\">Romn</a></li> <li class=\"interwiki-ru\"><a href=\"//ru.wikipedia.org/wiki/\" title=\"\" lang=\"ru\" hreflang=\"ru\"></a></li> <li class=\"interwiki-sk\"><a href=\"//sk.wikipedia.org/wiki/\" title=\"\" lang=\"sk\" hreflang=\"sk\">Slovenina</a></li> <li class=\"interwiki-sl\"><a href=\"//sl.wikipedia.org/wiki/\" title=\"\" lang=\"sl\" hreflang=\"sl\">Slovenina</a></li> <li class=\"interwiki-sr\"><a href=\"//sr.wikipedia.org/wiki/\" title=\"\" lang=\"sr\" hreflang=\"sr\"> / srpski</a></li> <li class=\"interwiki-sh\"><a href=\"//sh.wikipedia.org/wiki/\" title=\"\" lang=\"sh\" hreflang=\"sh\">Srpskohrvatski / </a></li> <li class=\"interwiki-fi\"><a href=\"//fi.wikipedia.org/wiki/\" title=\"\" lang=\"fi\" hreflang=\"fi\">Suomi</a></li> <li class=\"interwiki-sv\"><a href=\"//sv.wikipedia.org/wiki/\" title=\"\" lang=\"sv\" hreflang=\"sv\">Svenska</a></li> <li class=\"interwiki-th\"><a href=\"//th.wikipedia.org/wiki/\" title=\"\" lang=\"th\" hreflang=\"th\"></a></li> <li class=\"interwiki-vi\"><a href=\"//vi.wikipedia.org/wiki/\" title=\"\" lang=\"vi\" hreflang=\"vi\">Ting Vit</a></li> <li class=\"interwiki-tr\"><a href=\"//tr.wikipedia.org/wiki/\" title=\"\" lang=\"tr\" hreflang=\"tr\">Trke</a></li> <li class=\"interwiki-uk\"><a href=\"//uk.wikipedia.org/wiki/\" title=\"\" lang=\"uk\" hreflang=\"uk\"></a></li> <li class=\"interwiki-zh\"><a href=\"//zh.wikipedia.org/wiki/\" title=\"\" lang=\"zh\" hreflang=\"zh\"></a></li> </ul> </div> </div>\""
   ]
  },
  {
   "cell_type": "code",
   "execution_count": 109,
   "metadata": {
    "ExecuteTime": {
     "end_time": "2018-09-17T14:23:16.541642Z",
     "start_time": "2018-09-17T14:23:16.535154Z"
    }
   },
   "outputs": [
    {
     "data": {
      "text/plain": [
       "[((1, 4),), ((2, 5),), ((3, 6),)]"
      ]
     },
     "execution_count": 109,
     "metadata": {},
     "output_type": "execute_result"
    }
   ],
   "source": [
    "list(zip(list(zip([1,2,3],[4,5,6]))))"
   ]
  },
  {
   "cell_type": "code",
   "execution_count": 114,
   "metadata": {
    "ExecuteTime": {
     "end_time": "2018-09-17T14:26:56.171868Z",
     "start_time": "2018-09-17T14:26:56.168230Z"
    }
   },
   "outputs": [
    {
     "data": {
      "text/plain": [
       "[(1, 2, 3), (4, 5, 6)]"
      ]
     },
     "execution_count": 114,
     "metadata": {},
     "output_type": "execute_result"
    }
   ],
   "source": [
    "list(zip(*list(zip([1,2,3],[4,5,6]))))"
   ]
  },
  {
   "cell_type": "code",
   "execution_count": 117,
   "metadata": {
    "ExecuteTime": {
     "end_time": "2018-09-17T14:27:19.794483Z",
     "start_time": "2018-09-17T14:27:19.789953Z"
    }
   },
   "outputs": [
    {
     "data": {
      "text/plain": [
       "[(1, 4), (2, 5), (3, 6)]"
      ]
     },
     "execution_count": 117,
     "metadata": {},
     "output_type": "execute_result"
    }
   ],
   "source": [
    "list(zip([1,2,3],[4,5,6]))"
   ]
  },
  {
   "cell_type": "code",
   "execution_count": null,
   "metadata": {},
   "outputs": [],
   "source": []
  }
 ],
 "metadata": {
  "kernelspec": {
   "display_name": "Python 3",
   "language": "python",
   "name": "python3"
  },
  "language_info": {
   "codemirror_mode": {
    "name": "ipython",
    "version": 3
   },
   "file_extension": ".py",
   "mimetype": "text/x-python",
   "name": "python",
   "nbconvert_exporter": "python",
   "pygments_lexer": "ipython3",
   "version": "3.6.4"
  },
  "toc": {
   "colors": {
    "hover_highlight": "#DAA520",
    "navigate_num": "#000000",
    "navigate_text": "#333333",
    "running_highlight": "#FF0000",
    "selected_highlight": "#FFD700",
    "sidebar_border": "#EEEEEE",
    "wrapper_background": "#FFFFFF"
   },
   "moveMenuLeft": true,
   "nav_menu": {
    "height": "4px",
    "width": "254px"
   },
   "navigate_menu": true,
   "number_sections": true,
   "sideBar": true,
   "threshold": 4,
   "toc_cell": false,
   "toc_section_display": "block",
   "toc_window_display": false,
   "widenNotebook": false
  }
 },
 "nbformat": 4,
 "nbformat_minor": 2
}
