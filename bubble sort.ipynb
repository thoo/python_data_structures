{
 "cells": [
  {
   "cell_type": "code",
   "execution_count": 3,
   "metadata": {
    "ExecuteTime": {
     "end_time": "2018-09-21T15:06:22.940218Z",
     "start_time": "2018-09-21T15:06:22.937003Z"
    }
   },
   "outputs": [],
   "source": [
    "import random as rd"
   ]
  },
  {
   "cell_type": "code",
   "execution_count": 66,
   "metadata": {
    "ExecuteTime": {
     "end_time": "2018-09-20T15:08:32.539656Z",
     "start_time": "2018-09-20T15:08:32.536580Z"
    }
   },
   "outputs": [],
   "source": [
    "alist=rd.sample(range(100),10)"
   ]
  },
  {
   "cell_type": "code",
   "execution_count": 67,
   "metadata": {
    "ExecuteTime": {
     "end_time": "2018-09-20T15:08:32.877299Z",
     "start_time": "2018-09-20T15:08:32.874066Z"
    }
   },
   "outputs": [
    {
     "data": {
      "text/plain": [
       "[80, 34, 68, 47, 20, 89, 2, 31, 7, 69]"
      ]
     },
     "execution_count": 67,
     "metadata": {},
     "output_type": "execute_result"
    }
   ],
   "source": [
    "alist"
   ]
  },
  {
   "cell_type": "code",
   "execution_count": 29,
   "metadata": {
    "ExecuteTime": {
     "end_time": "2018-09-20T14:40:19.794134Z",
     "start_time": "2018-09-20T14:40:19.791042Z"
    }
   },
   "outputs": [],
   "source": [
    "def bubble_sort(alist):\n",
    "    n=0\n",
    "    for i in range(len(alist),-1,-1):\n",
    "        for j in range(i-1):\n",
    "            n +=1\n",
    "            if alist[j+1] > alist[j]:\n",
    "                alist[j],alist[j+1]=alist[j+1],alist[j]\n",
    "    \n",
    "    return alist,n\n",
    "        "
   ]
  },
  {
   "cell_type": "code",
   "execution_count": 39,
   "metadata": {
    "ExecuteTime": {
     "end_time": "2018-09-20T14:51:32.981098Z",
     "start_time": "2018-09-20T14:51:32.977922Z"
    }
   },
   "outputs": [
    {
     "data": {
      "text/plain": [
       "([89, 82, 48, 41, 28, 20, 18, 7, 6, 0], 45)"
      ]
     },
     "execution_count": 39,
     "metadata": {},
     "output_type": "execute_result"
    }
   ],
   "source": [
    "bubble_sort(alist)"
   ]
  },
  {
   "cell_type": "code",
   "execution_count": 64,
   "metadata": {
    "ExecuteTime": {
     "end_time": "2018-09-20T15:08:17.475853Z",
     "start_time": "2018-09-20T15:08:17.472275Z"
    }
   },
   "outputs": [],
   "source": [
    "def selection_sort(alist):\n",
    "    n=0\n",
    "    \n",
    "    for i in range(len(alist)-1,-1,-1):\n",
    "        min_pos=i\n",
    "        for j in range(i):\n",
    "            n +=1\n",
    "            if alist[j] < alist[min_pos]:\n",
    "                min_pos=j\n",
    "        print(alist[min_pos])\n",
    "        alist[i],alist[min_pos]=alist[min_pos],alist[i]\n",
    "    return alist,n\n",
    "            "
   ]
  },
  {
   "cell_type": "code",
   "execution_count": 68,
   "metadata": {
    "ExecuteTime": {
     "end_time": "2018-09-20T15:08:44.967972Z",
     "start_time": "2018-09-20T15:08:44.963310Z"
    }
   },
   "outputs": [
    {
     "name": "stdout",
     "output_type": "stream",
     "text": [
      "2\n",
      "7\n",
      "20\n",
      "31\n",
      "34\n",
      "47\n",
      "68\n",
      "69\n",
      "80\n",
      "89\n"
     ]
    },
    {
     "data": {
      "text/plain": [
       "([89, 80, 69, 68, 47, 34, 31, 20, 7, 2], 45)"
      ]
     },
     "execution_count": 68,
     "metadata": {},
     "output_type": "execute_result"
    }
   ],
   "source": [
    "selection_sort(alist)"
   ]
  },
  {
   "cell_type": "code",
   "execution_count": 1,
   "metadata": {
    "ExecuteTime": {
     "end_time": "2018-09-21T14:51:13.445231Z",
     "start_time": "2018-09-21T14:51:13.439816Z"
    }
   },
   "outputs": [
    {
     "name": "stdout",
     "output_type": "stream",
     "text": [
      "1\n",
      "2\n",
      "3\n",
      "4\n",
      "5\n",
      "6\n",
      "7\n",
      "8\n",
      "9\n"
     ]
    }
   ],
   "source": [
    "for i in range(1,10):\n",
    "    print(i)"
   ]
  },
  {
   "cell_type": "code",
   "execution_count": 11,
   "metadata": {
    "ExecuteTime": {
     "end_time": "2018-09-21T15:11:36.374754Z",
     "start_time": "2018-09-21T15:11:36.370472Z"
    }
   },
   "outputs": [
    {
     "name": "stdout",
     "output_type": "stream",
     "text": [
      "[41, 31, 60, 56, 95, 8, 36, 2, 24, 64]\n"
     ]
    }
   ],
   "source": [
    "alist=rd.sample(range(100),10)\n",
    "print(alist)\n",
    "def insertion_sort(alist):\n",
    "    n=0\n",
    "    for i in range(1,len(alist)):\n",
    "        temp=alist[i]\n",
    "        for j in range(i-1,-1,-1):\n",
    "            n +=1\n",
    "            if temp<alist[j]:\n",
    "                alist[j+1]=alist[j]\n",
    "                if j==0:\n",
    "                    alist[0]=temp\n",
    "                \n",
    "            elif temp > alist[j]:\n",
    "                alist[j+1]=temp\n",
    "                \n",
    "                break\n",
    "                \n",
    "    return alist,n\n",
    "                    "
   ]
  },
  {
   "cell_type": "code",
   "execution_count": 12,
   "metadata": {
    "ExecuteTime": {
     "end_time": "2018-09-21T15:11:37.829831Z",
     "start_time": "2018-09-21T15:11:37.826540Z"
    }
   },
   "outputs": [
    {
     "data": {
      "text/plain": [
       "([2, 8, 24, 31, 36, 41, 56, 60, 64, 95], 31)"
      ]
     },
     "execution_count": 12,
     "metadata": {},
     "output_type": "execute_result"
    }
   ],
   "source": [
    "insertion_sort(alist)"
   ]
  },
  {
   "cell_type": "code",
   "execution_count": 13,
   "metadata": {
    "ExecuteTime": {
     "end_time": "2018-09-21T15:11:54.649035Z",
     "start_time": "2018-09-21T15:11:54.645791Z"
    }
   },
   "outputs": [
    {
     "data": {
      "text/plain": [
       "[2, 8, 24, 31, 36, 41, 56, 60, 64, 95]"
      ]
     },
     "execution_count": 13,
     "metadata": {},
     "output_type": "execute_result"
    }
   ],
   "source": [
    "alist"
   ]
  },
  {
   "cell_type": "code",
   "execution_count": 15,
   "metadata": {
    "ExecuteTime": {
     "end_time": "2018-09-21T16:20:18.866263Z",
     "start_time": "2018-09-21T16:20:18.863213Z"
    }
   },
   "outputs": [],
   "source": [
    "numWays = [[1] + 9 * [0] for j in range(len(alist) + 1)]"
   ]
  },
  {
   "cell_type": "code",
   "execution_count": 16,
   "metadata": {
    "ExecuteTime": {
     "end_time": "2018-09-21T16:20:24.169688Z",
     "start_time": "2018-09-21T16:20:24.164457Z"
    },
    "scrolled": true
   },
   "outputs": [
    {
     "data": {
      "text/plain": [
       "[[1, 0, 0, 0, 0, 0, 0, 0, 0, 0],\n",
       " [1, 0, 0, 0, 0, 0, 0, 0, 0, 0],\n",
       " [1, 0, 0, 0, 0, 0, 0, 0, 0, 0],\n",
       " [1, 0, 0, 0, 0, 0, 0, 0, 0, 0],\n",
       " [1, 0, 0, 0, 0, 0, 0, 0, 0, 0],\n",
       " [1, 0, 0, 0, 0, 0, 0, 0, 0, 0],\n",
       " [1, 0, 0, 0, 0, 0, 0, 0, 0, 0],\n",
       " [1, 0, 0, 0, 0, 0, 0, 0, 0, 0],\n",
       " [1, 0, 0, 0, 0, 0, 0, 0, 0, 0],\n",
       " [1, 0, 0, 0, 0, 0, 0, 0, 0, 0],\n",
       " [1, 0, 0, 0, 0, 0, 0, 0, 0, 0]]"
      ]
     },
     "execution_count": 16,
     "metadata": {},
     "output_type": "execute_result"
    }
   ],
   "source": [
    "numWays"
   ]
  },
  {
   "cell_type": "code",
   "execution_count": 20,
   "metadata": {
    "ExecuteTime": {
     "end_time": "2018-09-21T16:23:25.574990Z",
     "start_time": "2018-09-21T16:23:25.568300Z"
    }
   },
   "outputs": [
    {
     "data": {
      "text/plain": [
       "array([[0., 0., 0., 0., 0., 0., 0., 0., 0., 0.],\n",
       "       [0., 0., 0., 0., 0., 0., 0., 0., 0., 0.],\n",
       "       [0., 0., 0., 0., 0., 0., 0., 0., 0., 0.],\n",
       "       [0., 0., 0., 0., 0., 0., 0., 0., 0., 0.],\n",
       "       [0., 0., 0., 0., 0., 0., 0., 0., 0., 0.],\n",
       "       [0., 0., 0., 0., 0., 0., 0., 0., 0., 0.],\n",
       "       [0., 0., 0., 0., 0., 0., 0., 0., 0., 0.],\n",
       "       [0., 0., 0., 0., 0., 0., 0., 0., 0., 0.],\n",
       "       [0., 0., 0., 0., 0., 0., 0., 0., 0., 0.],\n",
       "       [0., 0., 0., 0., 0., 0., 0., 0., 0., 0.],\n",
       "       [0., 0., 0., 0., 0., 0., 0., 0., 0., 0.]])"
      ]
     },
     "execution_count": 20,
     "metadata": {},
     "output_type": "execute_result"
    }
   ],
   "source": [
    "np.zeros((11,10))"
   ]
  },
  {
   "cell_type": "code",
   "execution_count": 39,
   "metadata": {
    "ExecuteTime": {
     "end_time": "2018-09-21T16:52:14.982298Z",
     "start_time": "2018-09-21T16:52:14.979740Z"
    }
   },
   "outputs": [],
   "source": [
    "a=[1,2,3,4,5]"
   ]
  },
  {
   "cell_type": "code",
   "execution_count": null,
   "metadata": {},
   "outputs": [],
   "source": [
    "def getWays(n, c):\n",
    "    numWays = [[1] + n * [0] for j in range(len(c) + 1)]\n",
    "    for i in range(1, len(c) + 1):\n",
    "        for j in range(1, n + 1):\n",
    "            numWays[i][j] = numWays[i-1][j] + (numWays[i][j - c[i-1]]\n",
    "                                               if c[i-1] <= j else 0)\n",
    "    return numWays[-1][-1]"
   ]
  },
  {
   "cell_type": "code",
   "execution_count": 86,
   "metadata": {
    "ExecuteTime": {
     "end_time": "2018-09-22T00:43:09.434533Z",
     "start_time": "2018-09-22T00:43:09.431327Z"
    }
   },
   "outputs": [],
   "source": [
    "def bs(a,k):\n",
    "    n=len(a)-1\n",
    "    st= 0\n",
    "    e=n\n",
    "    stop=0\n",
    "    while st<=e:\n",
    "        mid=(st+e)//2\n",
    "        print(n,st,e)\n",
    "        if a[mid] == k:\n",
    "            return mid \n",
    "        elif k in a[st:mid]:\n",
    "            e=mid-1\n",
    "        else:\n",
    "            st=mid+1\n",
    "         \n",
    "    return False "
   ]
  },
  {
   "cell_type": "code",
   "execution_count": 94,
   "metadata": {
    "ExecuteTime": {
     "end_time": "2018-09-22T00:58:27.875808Z",
     "start_time": "2018-09-22T00:58:27.872810Z"
    }
   },
   "outputs": [
    {
     "name": "stdout",
     "output_type": "stream",
     "text": [
      "[9, 2, 6, 5, 8]\n"
     ]
    }
   ],
   "source": [
    "a=rd.sample(range(10),5)\n",
    "print(a)"
   ]
  },
  {
   "cell_type": "code",
   "execution_count": 92,
   "metadata": {
    "ExecuteTime": {
     "end_time": "2018-09-22T00:58:19.004730Z",
     "start_time": "2018-09-22T00:58:19.001937Z"
    }
   },
   "outputs": [],
   "source": [
    "def max_profit(s_price):\n",
    "    max_profit,min_price=0,s_price[0]\n",
    "    for price in s_price:\n",
    "        min_price=min(price,min_price)\n",
    "        max_profit=max(max_profit,price-min_price)\n",
    "    return max_profit\n",
    "    "
   ]
  },
  {
   "cell_type": "code",
   "execution_count": 95,
   "metadata": {
    "ExecuteTime": {
     "end_time": "2018-09-22T00:58:31.763437Z",
     "start_time": "2018-09-22T00:58:31.760275Z"
    }
   },
   "outputs": [
    {
     "data": {
      "text/plain": [
       "6"
      ]
     },
     "execution_count": 95,
     "metadata": {},
     "output_type": "execute_result"
    }
   ],
   "source": [
    "max_profit(a)"
   ]
  },
  {
   "cell_type": "code",
   "execution_count": 30,
   "metadata": {
    "ExecuteTime": {
     "end_time": "2018-09-21T16:49:09.514807Z",
     "start_time": "2018-09-21T16:49:09.512197Z"
    }
   },
   "outputs": [],
   "source": [
    "\n",
    "a=str(123)"
   ]
  },
  {
   "cell_type": "code",
   "execution_count": 31,
   "metadata": {
    "ExecuteTime": {
     "end_time": "2018-09-21T16:49:10.867610Z",
     "start_time": "2018-09-21T16:49:10.864260Z"
    }
   },
   "outputs": [
    {
     "data": {
      "text/plain": [
       "'123'"
      ]
     },
     "execution_count": 31,
     "metadata": {},
     "output_type": "execute_result"
    }
   ],
   "source": [
    "a"
   ]
  },
  {
   "cell_type": "code",
   "execution_count": 32,
   "metadata": {
    "ExecuteTime": {
     "end_time": "2018-09-21T16:49:16.233731Z",
     "start_time": "2018-09-21T16:49:16.229836Z"
    }
   },
   "outputs": [
    {
     "data": {
      "text/plain": [
       "'321'"
      ]
     },
     "execution_count": 32,
     "metadata": {},
     "output_type": "execute_result"
    }
   ],
   "source": [
    "a[::-1]"
   ]
  },
  {
   "cell_type": "code",
   "execution_count": null,
   "metadata": {},
   "outputs": [],
   "source": []
  }
 ],
 "metadata": {
  "kernelspec": {
   "display_name": "Python 3",
   "language": "python",
   "name": "python3"
  },
  "language_info": {
   "codemirror_mode": {
    "name": "ipython",
    "version": 3
   },
   "file_extension": ".py",
   "mimetype": "text/x-python",
   "name": "python",
   "nbconvert_exporter": "python",
   "pygments_lexer": "ipython3",
   "version": "3.6.5"
  },
  "toc": {
   "colors": {
    "hover_highlight": "#DAA520",
    "navigate_num": "#000000",
    "navigate_text": "#333333",
    "running_highlight": "#FF0000",
    "selected_highlight": "#FFD700",
    "sidebar_border": "#EEEEEE",
    "wrapper_background": "#FFFFFF"
   },
   "moveMenuLeft": true,
   "nav_menu": {
    "height": "4px",
    "width": "254px"
   },
   "navigate_menu": true,
   "number_sections": true,
   "sideBar": true,
   "threshold": 4,
   "toc_cell": false,
   "toc_section_display": "block",
   "toc_window_display": false,
   "widenNotebook": false
  }
 },
 "nbformat": 4,
 "nbformat_minor": 2
}
